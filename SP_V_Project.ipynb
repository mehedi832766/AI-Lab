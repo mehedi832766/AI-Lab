{
  "nbformat": 4,
  "nbformat_minor": 0,
  "metadata": {
    "colab": {
      "name": "SP-V Project.ipynb",
      "provenance": [],
      "collapsed_sections": [],
      "include_colab_link": true
    },
    "kernelspec": {
      "name": "python3",
      "display_name": "Python 3"
    },
    "language_info": {
      "name": "python"
    }
  },
  "cells": [
    {
      "cell_type": "markdown",
      "metadata": {
        "id": "view-in-github",
        "colab_type": "text"
      },
      "source": [
        "<a href=\"https://colab.research.google.com/github/mehedi832766/AI-Lab/blob/main/SP_V_Project.ipynb\" target=\"_parent\"><img src=\"https://colab.research.google.com/assets/colab-badge.svg\" alt=\"Open In Colab\"/></a>"
      ]
    },
    {
      "cell_type": "markdown",
      "metadata": {
        "id": "97e4tST9GDQM"
      },
      "source": [
        "#**Pandas**"
      ]
    },
    {
      "cell_type": "code",
      "metadata": {
        "colab": {
          "resources": {
            "http://localhost:8080/nbextensions/google.colab/files.js": {
              "data": "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",
              "ok": true,
              "headers": [
                [
                  "content-type",
                  "application/javascript"
                ]
              ],
              "status": 200,
              "status_text": ""
            }
          },
          "base_uri": "https://localhost:8080/",
          "height": 71
        },
        "id": "sdpbxLzGQWVR",
        "outputId": "5ec9a290-e1ed-48aa-830e-20a9c3a1e179"
      },
      "source": [
        "import pandas as pd\n",
        "from google.colab import files\n",
        "uploaded = files.upload()"
      ],
      "execution_count": 2,
      "outputs": [
        {
          "output_type": "display_data",
          "data": {
            "text/html": [
              "\n",
              "     <input type=\"file\" id=\"files-f96efa76-a113-4647-9938-0db45be62889\" name=\"files[]\" multiple disabled\n",
              "        style=\"border:none\" />\n",
              "     <output id=\"result-f96efa76-a113-4647-9938-0db45be62889\">\n",
              "      Upload widget is only available when the cell has been executed in the\n",
              "      current browser session. Please rerun this cell to enable.\n",
              "      </output>\n",
              "      <script src=\"/nbextensions/google.colab/files.js\"></script> "
            ],
            "text/plain": [
              "<IPython.core.display.HTML object>"
            ]
          },
          "metadata": {
            "tags": []
          }
        },
        {
          "output_type": "stream",
          "text": [
            "Saving Movies_OTT_1.csv to Movies_OTT_1.csv\n"
          ],
          "name": "stdout"
        }
      ]
    },
    {
      "cell_type": "code",
      "metadata": {
        "id": "0m3xfcZZQg5x"
      },
      "source": [
        "#Loading and importing the data\n",
        "df=pd.read_csv('Movies_OTT_1.csv')"
      ],
      "execution_count": 3,
      "outputs": []
    },
    {
      "cell_type": "code",
      "metadata": {
        "colab": {
          "base_uri": "https://localhost:8080/",
          "height": 513
        },
        "id": "fUIZr5tlQia2",
        "outputId": "b10d83ce-ae5f-4646-f4b2-8dcea888389f"
      },
      "source": [
        "#Viewing the data\n",
        "df"
      ],
      "execution_count": 4,
      "outputs": [
        {
          "output_type": "execute_result",
          "data": {
            "text/html": [
              "<div>\n",
              "<style scoped>\n",
              "    .dataframe tbody tr th:only-of-type {\n",
              "        vertical-align: middle;\n",
              "    }\n",
              "\n",
              "    .dataframe tbody tr th {\n",
              "        vertical-align: top;\n",
              "    }\n",
              "\n",
              "    .dataframe thead th {\n",
              "        text-align: right;\n",
              "    }\n",
              "</style>\n",
              "<table border=\"1\" class=\"dataframe\">\n",
              "  <thead>\n",
              "    <tr style=\"text-align: right;\">\n",
              "      <th></th>\n",
              "      <th>Name</th>\n",
              "      <th>Year</th>\n",
              "      <th>Age</th>\n",
              "      <th>Imdb</th>\n",
              "      <th>Rotten Tomatoes(%)</th>\n",
              "      <th>Geners</th>\n",
              "      <th>Action</th>\n",
              "      <th>Drama</th>\n",
              "      <th>Comedy</th>\n",
              "      <th>Fantasy</th>\n",
              "      <th>Biography</th>\n",
              "      <th>Thriller</th>\n",
              "      <th>Sci-Fi</th>\n",
              "      <th>Animation</th>\n",
              "      <th>Horror</th>\n",
              "      <th>Platform</th>\n",
              "      <th>Runtime</th>\n",
              "      <th>Language</th>\n",
              "      <th>Country</th>\n",
              "    </tr>\n",
              "  </thead>\n",
              "  <tbody>\n",
              "    <tr>\n",
              "      <th>0</th>\n",
              "      <td>The Speed Kings</td>\n",
              "      <td>1913</td>\n",
              "      <td>NaN</td>\n",
              "      <td>5.0</td>\n",
              "      <td>NaN</td>\n",
              "      <td>Short</td>\n",
              "      <td>Action</td>\n",
              "      <td>0</td>\n",
              "      <td>Comedy</td>\n",
              "      <td>0</td>\n",
              "      <td>0</td>\n",
              "      <td>0</td>\n",
              "      <td>0</td>\n",
              "      <td>0</td>\n",
              "      <td>0</td>\n",
              "      <td>Netflix</td>\n",
              "      <td>97.0</td>\n",
              "      <td>English</td>\n",
              "      <td>United States of America</td>\n",
              "    </tr>\n",
              "    <tr>\n",
              "      <th>1</th>\n",
              "      <td>Mabel, Fatty and the Law</td>\n",
              "      <td>1915</td>\n",
              "      <td>NaN</td>\n",
              "      <td>5.3</td>\n",
              "      <td>NaN</td>\n",
              "      <td>Comedy</td>\n",
              "      <td>0</td>\n",
              "      <td>0</td>\n",
              "      <td>Comedy</td>\n",
              "      <td>0</td>\n",
              "      <td>0</td>\n",
              "      <td>0</td>\n",
              "      <td>0</td>\n",
              "      <td>0</td>\n",
              "      <td>0</td>\n",
              "      <td>Netflix</td>\n",
              "      <td>95.0</td>\n",
              "      <td>English</td>\n",
              "      <td>United States of America</td>\n",
              "    </tr>\n",
              "    <tr>\n",
              "      <th>2</th>\n",
              "      <td>Her Painted Hero</td>\n",
              "      <td>1915</td>\n",
              "      <td>NaN</td>\n",
              "      <td>4.7</td>\n",
              "      <td>NaN</td>\n",
              "      <td>Comedy</td>\n",
              "      <td>0</td>\n",
              "      <td>0</td>\n",
              "      <td>Comedy</td>\n",
              "      <td>0</td>\n",
              "      <td>0</td>\n",
              "      <td>0</td>\n",
              "      <td>0</td>\n",
              "      <td>0</td>\n",
              "      <td>0</td>\n",
              "      <td>Netflix</td>\n",
              "      <td>94.0</td>\n",
              "      <td>Cantonese</td>\n",
              "      <td>Hong Kong</td>\n",
              "    </tr>\n",
              "    <tr>\n",
              "      <th>3</th>\n",
              "      <td>A Society Sensation</td>\n",
              "      <td>1918</td>\n",
              "      <td>NaN</td>\n",
              "      <td>5.5</td>\n",
              "      <td>NaN</td>\n",
              "      <td>Comedy</td>\n",
              "      <td>0</td>\n",
              "      <td>Drama</td>\n",
              "      <td>Comedy</td>\n",
              "      <td>0</td>\n",
              "      <td>0</td>\n",
              "      <td>0</td>\n",
              "      <td>0</td>\n",
              "      <td>0</td>\n",
              "      <td>0</td>\n",
              "      <td>Netflix</td>\n",
              "      <td>89.0</td>\n",
              "      <td>English</td>\n",
              "      <td>United States of America</td>\n",
              "    </tr>\n",
              "    <tr>\n",
              "      <th>4</th>\n",
              "      <td>Mud and Sand</td>\n",
              "      <td>1922</td>\n",
              "      <td>NaN</td>\n",
              "      <td>5.8</td>\n",
              "      <td>NaN</td>\n",
              "      <td>Comedy</td>\n",
              "      <td>0</td>\n",
              "      <td>0</td>\n",
              "      <td>Comedy</td>\n",
              "      <td>0</td>\n",
              "      <td>0</td>\n",
              "      <td>0</td>\n",
              "      <td>0</td>\n",
              "      <td>0</td>\n",
              "      <td>0</td>\n",
              "      <td>Netflix</td>\n",
              "      <td>155.0</td>\n",
              "      <td>Hindi</td>\n",
              "      <td>India</td>\n",
              "    </tr>\n",
              "    <tr>\n",
              "      <th>...</th>\n",
              "      <td>...</td>\n",
              "      <td>...</td>\n",
              "      <td>...</td>\n",
              "      <td>...</td>\n",
              "      <td>...</td>\n",
              "      <td>...</td>\n",
              "      <td>...</td>\n",
              "      <td>...</td>\n",
              "      <td>...</td>\n",
              "      <td>...</td>\n",
              "      <td>...</td>\n",
              "      <td>...</td>\n",
              "      <td>...</td>\n",
              "      <td>...</td>\n",
              "      <td>...</td>\n",
              "      <td>...</td>\n",
              "      <td>...</td>\n",
              "      <td>...</td>\n",
              "      <td>...</td>\n",
              "    </tr>\n",
              "    <tr>\n",
              "      <th>3483</th>\n",
              "      <td>Jezebel</td>\n",
              "      <td>2020</td>\n",
              "      <td>NaN</td>\n",
              "      <td>6.4</td>\n",
              "      <td>0.89</td>\n",
              "      <td>Drama</td>\n",
              "      <td>0</td>\n",
              "      <td>Drama</td>\n",
              "      <td>0</td>\n",
              "      <td>0</td>\n",
              "      <td>0</td>\n",
              "      <td>0</td>\n",
              "      <td>0</td>\n",
              "      <td>0</td>\n",
              "      <td>0</td>\n",
              "      <td>Prime Video</td>\n",
              "      <td>91.0</td>\n",
              "      <td>English</td>\n",
              "      <td>United States of America</td>\n",
              "    </tr>\n",
              "    <tr>\n",
              "      <th>3484</th>\n",
              "      <td>Jerry Seinfeld: 23 Hours To Kill</td>\n",
              "      <td>2020</td>\n",
              "      <td>NaN</td>\n",
              "      <td>6.7</td>\n",
              "      <td>NaN</td>\n",
              "      <td>Comedy</td>\n",
              "      <td>0</td>\n",
              "      <td>0</td>\n",
              "      <td>Comedy</td>\n",
              "      <td>0</td>\n",
              "      <td>0</td>\n",
              "      <td>0</td>\n",
              "      <td>0</td>\n",
              "      <td>0</td>\n",
              "      <td>0</td>\n",
              "      <td>Prime Video</td>\n",
              "      <td>122.0</td>\n",
              "      <td>Spanish</td>\n",
              "      <td>Argentina</td>\n",
              "    </tr>\n",
              "    <tr>\n",
              "      <th>3485</th>\n",
              "      <td>Time to Hunt</td>\n",
              "      <td>2020</td>\n",
              "      <td>NaN</td>\n",
              "      <td>6.2</td>\n",
              "      <td>0.83</td>\n",
              "      <td>Action</td>\n",
              "      <td>Action</td>\n",
              "      <td>Drama</td>\n",
              "      <td>0</td>\n",
              "      <td>0</td>\n",
              "      <td>0</td>\n",
              "      <td>0</td>\n",
              "      <td>0</td>\n",
              "      <td>0</td>\n",
              "      <td>0</td>\n",
              "      <td>Disney+</td>\n",
              "      <td>91.0</td>\n",
              "      <td>Afrikaans</td>\n",
              "      <td>South Africa</td>\n",
              "    </tr>\n",
              "    <tr>\n",
              "      <th>3486</th>\n",
              "      <td>Taylor Tomlinson: Quarter-Life Crisis</td>\n",
              "      <td>2020</td>\n",
              "      <td>NaN</td>\n",
              "      <td>7.4</td>\n",
              "      <td>NaN</td>\n",
              "      <td>Comedy</td>\n",
              "      <td>0</td>\n",
              "      <td>0</td>\n",
              "      <td>Comedy</td>\n",
              "      <td>0</td>\n",
              "      <td>0</td>\n",
              "      <td>0</td>\n",
              "      <td>0</td>\n",
              "      <td>0</td>\n",
              "      <td>0</td>\n",
              "      <td>Disney+</td>\n",
              "      <td>91.0</td>\n",
              "      <td>Malayalam</td>\n",
              "      <td>India</td>\n",
              "    </tr>\n",
              "    <tr>\n",
              "      <th>3487</th>\n",
              "      <td>Coffee &amp; Kareem</td>\n",
              "      <td>2020</td>\n",
              "      <td>NaN</td>\n",
              "      <td>5.1</td>\n",
              "      <td>0.22</td>\n",
              "      <td>Action</td>\n",
              "      <td>Action</td>\n",
              "      <td>0</td>\n",
              "      <td>Comedy</td>\n",
              "      <td>0</td>\n",
              "      <td>0</td>\n",
              "      <td>0</td>\n",
              "      <td>0</td>\n",
              "      <td>0</td>\n",
              "      <td>0</td>\n",
              "      <td>Disney+</td>\n",
              "      <td>136.0</td>\n",
              "      <td>Punjabi</td>\n",
              "      <td>India</td>\n",
              "    </tr>\n",
              "  </tbody>\n",
              "</table>\n",
              "<p>3488 rows × 19 columns</p>\n",
              "</div>"
            ],
            "text/plain": [
              "                                       Name  ...                   Country\n",
              "0                           The Speed Kings  ...  United States of America\n",
              "1                  Mabel, Fatty and the Law  ...  United States of America\n",
              "2                          Her Painted Hero  ...                 Hong Kong\n",
              "3                       A Society Sensation  ...  United States of America\n",
              "4                              Mud and Sand  ...                     India\n",
              "...                                     ...  ...                       ...\n",
              "3483                                Jezebel  ...  United States of America\n",
              "3484       Jerry Seinfeld: 23 Hours To Kill  ...                 Argentina\n",
              "3485                           Time to Hunt  ...              South Africa\n",
              "3486  Taylor Tomlinson: Quarter-Life Crisis  ...                     India\n",
              "3487                        Coffee & Kareem  ...                     India\n",
              "\n",
              "[3488 rows x 19 columns]"
            ]
          },
          "metadata": {
            "tags": []
          },
          "execution_count": 4
        }
      ]
    },
    {
      "cell_type": "code",
      "metadata": {
        "colab": {
          "base_uri": "https://localhost:8080/"
        },
        "id": "Lv3sV1MbQuIn",
        "outputId": "1f2c1c0f-82b6-4312-b9f3-247d2b5bbed9"
      },
      "source": [
        "#We will show the type of each column\n",
        "df.dtypes"
      ],
      "execution_count": 5,
      "outputs": [
        {
          "output_type": "execute_result",
          "data": {
            "text/plain": [
              "Name                   object\n",
              "Year                    int64\n",
              "Age                   float64\n",
              "Imdb                  float64\n",
              "Rotten Tomatoes(%)    float64\n",
              "Geners                 object\n",
              "Action                 object\n",
              "Drama                  object\n",
              "Comedy                 object\n",
              "Fantasy                object\n",
              "Biography              object\n",
              "Thriller               object\n",
              "Sci-Fi                 object\n",
              "Animation              object\n",
              "Horror                 object\n",
              "Platform               object\n",
              "Runtime               float64\n",
              "Language               object\n",
              "Country                object\n",
              "dtype: object"
            ]
          },
          "metadata": {
            "tags": []
          },
          "execution_count": 5
        }
      ]
    },
    {
      "cell_type": "code",
      "metadata": {
        "colab": {
          "base_uri": "https://localhost:8080/"
        },
        "id": "aviIC7JMQxdf",
        "outputId": "214b02f6-85d0-4c1c-f855-a736c4e18310"
      },
      "source": [
        "#It will show the name of the columns\n",
        "df.columns "
      ],
      "execution_count": 6,
      "outputs": [
        {
          "output_type": "execute_result",
          "data": {
            "text/plain": [
              "Index(['Name', 'Year', 'Age', 'Imdb', 'Rotten Tomatoes(%)', 'Geners', 'Action',\n",
              "       'Drama', 'Comedy', 'Fantasy', 'Biography', 'Thriller', 'Sci-Fi',\n",
              "       'Animation', 'Horror', 'Platform', 'Runtime', 'Language', 'Country'],\n",
              "      dtype='object')"
            ]
          },
          "metadata": {
            "tags": []
          },
          "execution_count": 6
        }
      ]
    },
    {
      "cell_type": "code",
      "metadata": {
        "colab": {
          "base_uri": "https://localhost:8080/"
        },
        "id": "Hj2tci7wQ0Cf",
        "outputId": "f562eae7-c110-48ee-901b-77f6b692e958"
      },
      "source": [
        "# We will show the index range\n",
        "df.index "
      ],
      "execution_count": 7,
      "outputs": [
        {
          "output_type": "execute_result",
          "data": {
            "text/plain": [
              "RangeIndex(start=0, stop=3488, step=1)"
            ]
          },
          "metadata": {
            "tags": []
          },
          "execution_count": 7
        }
      ]
    },
    {
      "cell_type": "code",
      "metadata": {
        "colab": {
          "base_uri": "https://localhost:8080/",
          "height": 279
        },
        "id": "OURXhxIYQ3ky",
        "outputId": "712cb4be-10a8-4a0d-c3a8-f5555800849e"
      },
      "source": [
        "#It will show the statistic information and numeric analysis,,,Describe only works with numeric datas(numbers)\n",
        "df.describe() "
      ],
      "execution_count": 8,
      "outputs": [
        {
          "output_type": "execute_result",
          "data": {
            "text/html": [
              "<div>\n",
              "<style scoped>\n",
              "    .dataframe tbody tr th:only-of-type {\n",
              "        vertical-align: middle;\n",
              "    }\n",
              "\n",
              "    .dataframe tbody tr th {\n",
              "        vertical-align: top;\n",
              "    }\n",
              "\n",
              "    .dataframe thead th {\n",
              "        text-align: right;\n",
              "    }\n",
              "</style>\n",
              "<table border=\"1\" class=\"dataframe\">\n",
              "  <thead>\n",
              "    <tr style=\"text-align: right;\">\n",
              "      <th></th>\n",
              "      <th>Year</th>\n",
              "      <th>Age</th>\n",
              "      <th>Imdb</th>\n",
              "      <th>Rotten Tomatoes(%)</th>\n",
              "      <th>Runtime</th>\n",
              "    </tr>\n",
              "  </thead>\n",
              "  <tbody>\n",
              "    <tr>\n",
              "      <th>count</th>\n",
              "      <td>3488.000000</td>\n",
              "      <td>1213.000000</td>\n",
              "      <td>3446.000000</td>\n",
              "      <td>314.000000</td>\n",
              "      <td>3314.000000</td>\n",
              "    </tr>\n",
              "    <tr>\n",
              "      <th>mean</th>\n",
              "      <td>1998.485665</td>\n",
              "      <td>13.676834</td>\n",
              "      <td>5.671706</td>\n",
              "      <td>0.516752</td>\n",
              "      <td>98.955341</td>\n",
              "    </tr>\n",
              "    <tr>\n",
              "      <th>std</th>\n",
              "      <td>23.755912</td>\n",
              "      <td>5.079347</td>\n",
              "      <td>1.300674</td>\n",
              "      <td>0.274033</td>\n",
              "      <td>28.348737</td>\n",
              "    </tr>\n",
              "    <tr>\n",
              "      <th>min</th>\n",
              "      <td>1913.000000</td>\n",
              "      <td>5.000000</td>\n",
              "      <td>0.000000</td>\n",
              "      <td>0.050000</td>\n",
              "      <td>1.000000</td>\n",
              "    </tr>\n",
              "    <tr>\n",
              "      <th>25%</th>\n",
              "      <td>1988.000000</td>\n",
              "      <td>7.000000</td>\n",
              "      <td>4.800000</td>\n",
              "      <td>0.290000</td>\n",
              "      <td>86.000000</td>\n",
              "    </tr>\n",
              "    <tr>\n",
              "      <th>50%</th>\n",
              "      <td>2010.000000</td>\n",
              "      <td>16.000000</td>\n",
              "      <td>5.700000</td>\n",
              "      <td>0.500000</td>\n",
              "      <td>98.000000</td>\n",
              "    </tr>\n",
              "    <tr>\n",
              "      <th>75%</th>\n",
              "      <td>2015.000000</td>\n",
              "      <td>18.000000</td>\n",
              "      <td>6.600000</td>\n",
              "      <td>0.750000</td>\n",
              "      <td>114.000000</td>\n",
              "    </tr>\n",
              "    <tr>\n",
              "      <th>max</th>\n",
              "      <td>2020.000000</td>\n",
              "      <td>18.000000</td>\n",
              "      <td>9.300000</td>\n",
              "      <td>1.000000</td>\n",
              "      <td>224.000000</td>\n",
              "    </tr>\n",
              "  </tbody>\n",
              "</table>\n",
              "</div>"
            ],
            "text/plain": [
              "              Year          Age         Imdb  Rotten Tomatoes(%)      Runtime\n",
              "count  3488.000000  1213.000000  3446.000000          314.000000  3314.000000\n",
              "mean   1998.485665    13.676834     5.671706            0.516752    98.955341\n",
              "std      23.755912     5.079347     1.300674            0.274033    28.348737\n",
              "min    1913.000000     5.000000     0.000000            0.050000     1.000000\n",
              "25%    1988.000000     7.000000     4.800000            0.290000    86.000000\n",
              "50%    2010.000000    16.000000     5.700000            0.500000    98.000000\n",
              "75%    2015.000000    18.000000     6.600000            0.750000   114.000000\n",
              "max    2020.000000    18.000000     9.300000            1.000000   224.000000"
            ]
          },
          "metadata": {
            "tags": []
          },
          "execution_count": 8
        }
      ]
    },
    {
      "cell_type": "code",
      "metadata": {
        "colab": {
          "base_uri": "https://localhost:8080/"
        },
        "id": "qWEdNs7pQ7AZ",
        "outputId": "43b8208a-fe2b-4727-a7aa-a6e46292729f"
      },
      "source": [
        "# We will show the info of each column\n",
        "df.info() "
      ],
      "execution_count": 9,
      "outputs": [
        {
          "output_type": "stream",
          "text": [
            "<class 'pandas.core.frame.DataFrame'>\n",
            "RangeIndex: 3488 entries, 0 to 3487\n",
            "Data columns (total 19 columns):\n",
            " #   Column              Non-Null Count  Dtype  \n",
            "---  ------              --------------  -----  \n",
            " 0   Name                3488 non-null   object \n",
            " 1   Year                3488 non-null   int64  \n",
            " 2   Age                 1213 non-null   float64\n",
            " 3   Imdb                3446 non-null   float64\n",
            " 4   Rotten Tomatoes(%)  314 non-null    float64\n",
            " 5   Geners              3456 non-null   object \n",
            " 6   Action              3488 non-null   object \n",
            " 7   Drama               3488 non-null   object \n",
            " 8   Comedy              3488 non-null   object \n",
            " 9   Fantasy             3488 non-null   object \n",
            " 10  Biography           3488 non-null   object \n",
            " 11  Thriller            3488 non-null   object \n",
            " 12  Sci-Fi              3488 non-null   object \n",
            " 13  Animation           3488 non-null   object \n",
            " 14  Horror              3488 non-null   object \n",
            " 15  Platform            3488 non-null   object \n",
            " 16  Runtime             3314 non-null   float64\n",
            " 17  Language            3346 non-null   object \n",
            " 18  Country             3371 non-null   object \n",
            "dtypes: float64(4), int64(1), object(14)\n",
            "memory usage: 517.9+ KB\n"
          ],
          "name": "stdout"
        }
      ]
    },
    {
      "cell_type": "code",
      "metadata": {
        "colab": {
          "base_uri": "https://localhost:8080/"
        },
        "id": "8SOPgW4TRAOO",
        "outputId": "23d0cc7c-d7fe-4ed9-bddf-db8291fa56e1"
      },
      "source": [
        "# Mean function give the average of numerical columns:\n",
        "df.mean() "
      ],
      "execution_count": 10,
      "outputs": [
        {
          "output_type": "execute_result",
          "data": {
            "text/plain": [
              "Year                  1998.485665\n",
              "Age                     13.676834\n",
              "Imdb                     5.671706\n",
              "Rotten Tomatoes(%)       0.516752\n",
              "Runtime                 98.955341\n",
              "dtype: float64"
            ]
          },
          "metadata": {
            "tags": []
          },
          "execution_count": 10
        }
      ]
    },
    {
      "cell_type": "code",
      "metadata": {
        "colab": {
          "base_uri": "https://localhost:8080/",
          "height": 282
        },
        "id": "A7NXtPhVRDdA",
        "outputId": "9ae5285d-6d67-4767-bbb4-5c5ed01a6db7"
      },
      "source": [
        "####  Plotting data ####\n",
        "df[\"Runtime\"].plot()"
      ],
      "execution_count": 11,
      "outputs": [
        {
          "output_type": "execute_result",
          "data": {
            "text/plain": [
              "<matplotlib.axes._subplots.AxesSubplot at 0x7f234dc3bf10>"
            ]
          },
          "metadata": {
            "tags": []
          },
          "execution_count": 11
        },
        {
          "output_type": "display_data",
          "data": {
            "image/png": "[encoded data removed]",
            "text/plain": [
              "<Figure size 432x288 with 1 Axes>"
            ]
          },
          "metadata": {
            "tags": [],
            "needs_background": "light"
          }
        }
      ]
    },
    {
      "cell_type": "code",
      "metadata": {
        "colab": {
          "base_uri": "https://localhost:8080/",
          "height": 282
        },
        "id": "AnprBAj0RGjI",
        "outputId": "14286c9c-396b-4919-b675-e9e8d714c8d6"
      },
      "source": [
        "df[\"Runtime\"].hist()"
      ],
      "execution_count": 12,
      "outputs": [
        {
          "output_type": "execute_result",
          "data": {
            "text/plain": [
              "<matplotlib.axes._subplots.AxesSubplot at 0x7f2347daee10>"
            ]
          },
          "metadata": {
            "tags": []
          },
          "execution_count": 12
        },
        {
          "output_type": "display_data",
          "data": {
            "image/png": "[encoded data removed]",
            "text/plain": [
              "<Figure size 432x288 with 1 Axes>"
            ]
          },
          "metadata": {
            "tags": [],
            "needs_background": "light"
          }
        }
      ]
    },
    {
      "cell_type": "code",
      "metadata": {
        "colab": {
          "base_uri": "https://localhost:8080/",
          "height": 513
        },
        "id": "3ZAeNHcTRK0_",
        "outputId": "f1d17ff2-5fdd-40c0-c05a-13ec99f1f216"
      },
      "source": [
        "#Filling the missing data\n",
        "df[\"Rotten Tomatoes(%)\"].fillna(df[\"Rotten Tomatoes(%)\"].mean(),inplace=True)\n",
        "df"
      ],
      "execution_count": 13,
      "outputs": [
        {
          "output_type": "execute_result",
          "data": {
            "text/html": [
              "<div>\n",
              "<style scoped>\n",
              "    .dataframe tbody tr th:only-of-type {\n",
              "        vertical-align: middle;\n",
              "    }\n",
              "\n",
              "    .dataframe tbody tr th {\n",
              "        vertical-align: top;\n",
              "    }\n",
              "\n",
              "    .dataframe thead th {\n",
              "        text-align: right;\n",
              "    }\n",
              "</style>\n",
              "<table border=\"1\" class=\"dataframe\">\n",
              "  <thead>\n",
              "    <tr style=\"text-align: right;\">\n",
              "      <th></th>\n",
              "      <th>Name</th>\n",
              "      <th>Year</th>\n",
              "      <th>Age</th>\n",
              "      <th>Imdb</th>\n",
              "      <th>Rotten Tomatoes(%)</th>\n",
              "      <th>Geners</th>\n",
              "      <th>Action</th>\n",
              "      <th>Drama</th>\n",
              "      <th>Comedy</th>\n",
              "      <th>Fantasy</th>\n",
              "      <th>Biography</th>\n",
              "      <th>Thriller</th>\n",
              "      <th>Sci-Fi</th>\n",
              "      <th>Animation</th>\n",
              "      <th>Horror</th>\n",
              "      <th>Platform</th>\n",
              "      <th>Runtime</th>\n",
              "      <th>Language</th>\n",
              "      <th>Country</th>\n",
              "    </tr>\n",
              "  </thead>\n",
              "  <tbody>\n",
              "    <tr>\n",
              "      <th>0</th>\n",
              "      <td>The Speed Kings</td>\n",
              "      <td>1913</td>\n",
              "      <td>NaN</td>\n",
              "      <td>5.0</td>\n",
              "      <td>0.516752</td>\n",
              "      <td>Short</td>\n",
              "      <td>Action</td>\n",
              "      <td>0</td>\n",
              "      <td>Comedy</td>\n",
              "      <td>0</td>\n",
              "      <td>0</td>\n",
              "      <td>0</td>\n",
              "      <td>0</td>\n",
              "      <td>0</td>\n",
              "      <td>0</td>\n",
              "      <td>Netflix</td>\n",
              "      <td>97.0</td>\n",
              "      <td>English</td>\n",
              "      <td>United States of America</td>\n",
              "    </tr>\n",
              "    <tr>\n",
              "      <th>1</th>\n",
              "      <td>Mabel, Fatty and the Law</td>\n",
              "      <td>1915</td>\n",
              "      <td>NaN</td>\n",
              "      <td>5.3</td>\n",
              "      <td>0.516752</td>\n",
              "      <td>Comedy</td>\n",
              "      <td>0</td>\n",
              "      <td>0</td>\n",
              "      <td>Comedy</td>\n",
              "      <td>0</td>\n",
              "      <td>0</td>\n",
              "      <td>0</td>\n",
              "      <td>0</td>\n",
              "      <td>0</td>\n",
              "      <td>0</td>\n",
              "      <td>Netflix</td>\n",
              "      <td>95.0</td>\n",
              "      <td>English</td>\n",
              "      <td>United States of America</td>\n",
              "    </tr>\n",
              "    <tr>\n",
              "      <th>2</th>\n",
              "      <td>Her Painted Hero</td>\n",
              "      <td>1915</td>\n",
              "      <td>NaN</td>\n",
              "      <td>4.7</td>\n",
              "      <td>0.516752</td>\n",
              "      <td>Comedy</td>\n",
              "      <td>0</td>\n",
              "      <td>0</td>\n",
              "      <td>Comedy</td>\n",
              "      <td>0</td>\n",
              "      <td>0</td>\n",
              "      <td>0</td>\n",
              "      <td>0</td>\n",
              "      <td>0</td>\n",
              "      <td>0</td>\n",
              "      <td>Netflix</td>\n",
              "      <td>94.0</td>\n",
              "      <td>Cantonese</td>\n",
              "      <td>Hong Kong</td>\n",
              "    </tr>\n",
              "    <tr>\n",
              "      <th>3</th>\n",
              "      <td>A Society Sensation</td>\n",
              "      <td>1918</td>\n",
              "      <td>NaN</td>\n",
              "      <td>5.5</td>\n",
              "      <td>0.516752</td>\n",
              "      <td>Comedy</td>\n",
              "      <td>0</td>\n",
              "      <td>Drama</td>\n",
              "      <td>Comedy</td>\n",
              "      <td>0</td>\n",
              "      <td>0</td>\n",
              "      <td>0</td>\n",
              "      <td>0</td>\n",
              "      <td>0</td>\n",
              "      <td>0</td>\n",
              "      <td>Netflix</td>\n",
              "      <td>89.0</td>\n",
              "      <td>English</td>\n",
              "      <td>United States of America</td>\n",
              "    </tr>\n",
              "    <tr>\n",
              "      <th>4</th>\n",
              "      <td>Mud and Sand</td>\n",
              "      <td>1922</td>\n",
              "      <td>NaN</td>\n",
              "      <td>5.8</td>\n",
              "      <td>0.516752</td>\n",
              "      <td>Comedy</td>\n",
              "      <td>0</td>\n",
              "      <td>0</td>\n",
              "      <td>Comedy</td>\n",
              "      <td>0</td>\n",
              "      <td>0</td>\n",
              "      <td>0</td>\n",
              "      <td>0</td>\n",
              "      <td>0</td>\n",
              "      <td>0</td>\n",
              "      <td>Netflix</td>\n",
              "      <td>155.0</td>\n",
              "      <td>Hindi</td>\n",
              "      <td>India</td>\n",
              "    </tr>\n",
              "    <tr>\n",
              "      <th>...</th>\n",
              "      <td>...</td>\n",
              "      <td>...</td>\n",
              "      <td>...</td>\n",
              "      <td>...</td>\n",
              "      <td>...</td>\n",
              "      <td>...</td>\n",
              "      <td>...</td>\n",
              "      <td>...</td>\n",
              "      <td>...</td>\n",
              "      <td>...</td>\n",
              "      <td>...</td>\n",
              "      <td>...</td>\n",
              "      <td>...</td>\n",
              "      <td>...</td>\n",
              "      <td>...</td>\n",
              "      <td>...</td>\n",
              "      <td>...</td>\n",
              "      <td>...</td>\n",
              "      <td>...</td>\n",
              "    </tr>\n",
              "    <tr>\n",
              "      <th>3483</th>\n",
              "      <td>Jezebel</td>\n",
              "      <td>2020</td>\n",
              "      <td>NaN</td>\n",
              "      <td>6.4</td>\n",
              "      <td>0.890000</td>\n",
              "      <td>Drama</td>\n",
              "      <td>0</td>\n",
              "      <td>Drama</td>\n",
              "      <td>0</td>\n",
              "      <td>0</td>\n",
              "      <td>0</td>\n",
              "      <td>0</td>\n",
              "      <td>0</td>\n",
              "      <td>0</td>\n",
              "      <td>0</td>\n",
              "      <td>Prime Video</td>\n",
              "      <td>91.0</td>\n",
              "      <td>English</td>\n",
              "      <td>United States of America</td>\n",
              "    </tr>\n",
              "    <tr>\n",
              "      <th>3484</th>\n",
              "      <td>Jerry Seinfeld: 23 Hours To Kill</td>\n",
              "      <td>2020</td>\n",
              "      <td>NaN</td>\n",
              "      <td>6.7</td>\n",
              "      <td>0.516752</td>\n",
              "      <td>Comedy</td>\n",
              "      <td>0</td>\n",
              "      <td>0</td>\n",
              "      <td>Comedy</td>\n",
              "      <td>0</td>\n",
              "      <td>0</td>\n",
              "      <td>0</td>\n",
              "      <td>0</td>\n",
              "      <td>0</td>\n",
              "      <td>0</td>\n",
              "      <td>Prime Video</td>\n",
              "      <td>122.0</td>\n",
              "      <td>Spanish</td>\n",
              "      <td>Argentina</td>\n",
              "    </tr>\n",
              "    <tr>\n",
              "      <th>3485</th>\n",
              "      <td>Time to Hunt</td>\n",
              "      <td>2020</td>\n",
              "      <td>NaN</td>\n",
              "      <td>6.2</td>\n",
              "      <td>0.830000</td>\n",
              "      <td>Action</td>\n",
              "      <td>Action</td>\n",
              "      <td>Drama</td>\n",
              "      <td>0</td>\n",
              "      <td>0</td>\n",
              "      <td>0</td>\n",
              "      <td>0</td>\n",
              "      <td>0</td>\n",
              "      <td>0</td>\n",
              "      <td>0</td>\n",
              "      <td>Disney+</td>\n",
              "      <td>91.0</td>\n",
              "      <td>Afrikaans</td>\n",
              "      <td>South Africa</td>\n",
              "    </tr>\n",
              "    <tr>\n",
              "      <th>3486</th>\n",
              "      <td>Taylor Tomlinson: Quarter-Life Crisis</td>\n",
              "      <td>2020</td>\n",
              "      <td>NaN</td>\n",
              "      <td>7.4</td>\n",
              "      <td>0.516752</td>\n",
              "      <td>Comedy</td>\n",
              "      <td>0</td>\n",
              "      <td>0</td>\n",
              "      <td>Comedy</td>\n",
              "      <td>0</td>\n",
              "      <td>0</td>\n",
              "      <td>0</td>\n",
              "      <td>0</td>\n",
              "      <td>0</td>\n",
              "      <td>0</td>\n",
              "      <td>Disney+</td>\n",
              "      <td>91.0</td>\n",
              "      <td>Malayalam</td>\n",
              "      <td>India</td>\n",
              "    </tr>\n",
              "    <tr>\n",
              "      <th>3487</th>\n",
              "      <td>Coffee &amp; Kareem</td>\n",
              "      <td>2020</td>\n",
              "      <td>NaN</td>\n",
              "      <td>5.1</td>\n",
              "      <td>0.220000</td>\n",
              "      <td>Action</td>\n",
              "      <td>Action</td>\n",
              "      <td>0</td>\n",
              "      <td>Comedy</td>\n",
              "      <td>0</td>\n",
              "      <td>0</td>\n",
              "      <td>0</td>\n",
              "      <td>0</td>\n",
              "      <td>0</td>\n",
              "      <td>0</td>\n",
              "      <td>Disney+</td>\n",
              "      <td>136.0</td>\n",
              "      <td>Punjabi</td>\n",
              "      <td>India</td>\n",
              "    </tr>\n",
              "  </tbody>\n",
              "</table>\n",
              "<p>3488 rows × 19 columns</p>\n",
              "</div>"
            ],
            "text/plain": [
              "                                       Name  ...                   Country\n",
              "0                           The Speed Kings  ...  United States of America\n",
              "1                  Mabel, Fatty and the Law  ...  United States of America\n",
              "2                          Her Painted Hero  ...                 Hong Kong\n",
              "3                       A Society Sensation  ...  United States of America\n",
              "4                              Mud and Sand  ...                     India\n",
              "...                                     ...  ...                       ...\n",
              "3483                                Jezebel  ...  United States of America\n",
              "3484       Jerry Seinfeld: 23 Hours To Kill  ...                 Argentina\n",
              "3485                           Time to Hunt  ...              South Africa\n",
              "3486  Taylor Tomlinson: Quarter-Life Crisis  ...                     India\n",
              "3487                        Coffee & Kareem  ...                     India\n",
              "\n",
              "[3488 rows x 19 columns]"
            ]
          },
          "metadata": {
            "tags": []
          },
          "execution_count": 13
        }
      ]
    },
    {
      "cell_type": "code",
      "metadata": {
        "colab": {
          "base_uri": "https://localhost:8080/",
          "height": 529
        },
        "id": "FeMYxCLeRgCK",
        "outputId": "087066b8-58a3-4c0e-c2da-24f7a131b7bf"
      },
      "source": [
        "#Removing missing value\n",
        "df.dropna(inplace=True)\n",
        "df"
      ],
      "execution_count": 14,
      "outputs": [
        {
          "output_type": "execute_result",
          "data": {
            "text/html": [
              "<div>\n",
              "<style scoped>\n",
              "    .dataframe tbody tr th:only-of-type {\n",
              "        vertical-align: middle;\n",
              "    }\n",
              "\n",
              "    .dataframe tbody tr th {\n",
              "        vertical-align: top;\n",
              "    }\n",
              "\n",
              "    .dataframe thead th {\n",
              "        text-align: right;\n",
              "    }\n",
              "</style>\n",
              "<table border=\"1\" class=\"dataframe\">\n",
              "  <thead>\n",
              "    <tr style=\"text-align: right;\">\n",
              "      <th></th>\n",
              "      <th>Name</th>\n",
              "      <th>Year</th>\n",
              "      <th>Age</th>\n",
              "      <th>Imdb</th>\n",
              "      <th>Rotten Tomatoes(%)</th>\n",
              "      <th>Geners</th>\n",
              "      <th>Action</th>\n",
              "      <th>Drama</th>\n",
              "      <th>Comedy</th>\n",
              "      <th>Fantasy</th>\n",
              "      <th>Biography</th>\n",
              "      <th>Thriller</th>\n",
              "      <th>Sci-Fi</th>\n",
              "      <th>Animation</th>\n",
              "      <th>Horror</th>\n",
              "      <th>Platform</th>\n",
              "      <th>Runtime</th>\n",
              "      <th>Language</th>\n",
              "      <th>Country</th>\n",
              "    </tr>\n",
              "  </thead>\n",
              "  <tbody>\n",
              "    <tr>\n",
              "      <th>29</th>\n",
              "      <td>Broadway to Cheyenne</td>\n",
              "      <td>1932</td>\n",
              "      <td>5.0</td>\n",
              "      <td>5.0</td>\n",
              "      <td>0.516752</td>\n",
              "      <td>Action</td>\n",
              "      <td>Action</td>\n",
              "      <td>0</td>\n",
              "      <td>0</td>\n",
              "      <td>0</td>\n",
              "      <td>0</td>\n",
              "      <td>0</td>\n",
              "      <td>0</td>\n",
              "      <td>0</td>\n",
              "      <td>0</td>\n",
              "      <td>Prime Video</td>\n",
              "      <td>95.0</td>\n",
              "      <td>English</td>\n",
              "      <td>United States of America</td>\n",
              "    </tr>\n",
              "    <tr>\n",
              "      <th>40</th>\n",
              "      <td>A Study in Scarlet</td>\n",
              "      <td>1933</td>\n",
              "      <td>5.0</td>\n",
              "      <td>5.7</td>\n",
              "      <td>0.516752</td>\n",
              "      <td>Mystery</td>\n",
              "      <td>0</td>\n",
              "      <td>0</td>\n",
              "      <td>0</td>\n",
              "      <td>0</td>\n",
              "      <td>0</td>\n",
              "      <td>Thriller</td>\n",
              "      <td>0</td>\n",
              "      <td>0</td>\n",
              "      <td>0</td>\n",
              "      <td>Netflix</td>\n",
              "      <td>118.0</td>\n",
              "      <td>Hindi</td>\n",
              "      <td>India</td>\n",
              "    </tr>\n",
              "    <tr>\n",
              "      <th>45</th>\n",
              "      <td>The Man From Utah</td>\n",
              "      <td>1934</td>\n",
              "      <td>5.0</td>\n",
              "      <td>5.2</td>\n",
              "      <td>0.516752</td>\n",
              "      <td>Adventure</td>\n",
              "      <td>0</td>\n",
              "      <td>0</td>\n",
              "      <td>0</td>\n",
              "      <td>0</td>\n",
              "      <td>0</td>\n",
              "      <td>0</td>\n",
              "      <td>0</td>\n",
              "      <td>0</td>\n",
              "      <td>0</td>\n",
              "      <td>Multi Platform</td>\n",
              "      <td>174.0</td>\n",
              "      <td>Hindi</td>\n",
              "      <td>India</td>\n",
              "    </tr>\n",
              "    <tr>\n",
              "      <th>47</th>\n",
              "      <td>Blue Steel</td>\n",
              "      <td>1934</td>\n",
              "      <td>5.0</td>\n",
              "      <td>5.4</td>\n",
              "      <td>0.516752</td>\n",
              "      <td>Action</td>\n",
              "      <td>Action</td>\n",
              "      <td>0</td>\n",
              "      <td>0</td>\n",
              "      <td>0</td>\n",
              "      <td>0</td>\n",
              "      <td>Thriller</td>\n",
              "      <td>Sci-Fi</td>\n",
              "      <td>0</td>\n",
              "      <td>0</td>\n",
              "      <td>Netflix</td>\n",
              "      <td>60.0</td>\n",
              "      <td>English</td>\n",
              "      <td>United States of America</td>\n",
              "    </tr>\n",
              "    <tr>\n",
              "      <th>61</th>\n",
              "      <td>The Clairvoyant</td>\n",
              "      <td>1935</td>\n",
              "      <td>5.0</td>\n",
              "      <td>6.7</td>\n",
              "      <td>0.516752</td>\n",
              "      <td>Horror</td>\n",
              "      <td>0</td>\n",
              "      <td>0</td>\n",
              "      <td>0</td>\n",
              "      <td>0</td>\n",
              "      <td>0</td>\n",
              "      <td>Thriller</td>\n",
              "      <td>0</td>\n",
              "      <td>0</td>\n",
              "      <td>Horror</td>\n",
              "      <td>Netflix</td>\n",
              "      <td>100.0</td>\n",
              "      <td>German</td>\n",
              "      <td>Germany</td>\n",
              "    </tr>\n",
              "    <tr>\n",
              "      <th>...</th>\n",
              "      <td>...</td>\n",
              "      <td>...</td>\n",
              "      <td>...</td>\n",
              "      <td>...</td>\n",
              "      <td>...</td>\n",
              "      <td>...</td>\n",
              "      <td>...</td>\n",
              "      <td>...</td>\n",
              "      <td>...</td>\n",
              "      <td>...</td>\n",
              "      <td>...</td>\n",
              "      <td>...</td>\n",
              "      <td>...</td>\n",
              "      <td>...</td>\n",
              "      <td>...</td>\n",
              "      <td>...</td>\n",
              "      <td>...</td>\n",
              "      <td>...</td>\n",
              "      <td>...</td>\n",
              "    </tr>\n",
              "    <tr>\n",
              "      <th>3470</th>\n",
              "      <td>Extraction</td>\n",
              "      <td>2020</td>\n",
              "      <td>18.0</td>\n",
              "      <td>6.8</td>\n",
              "      <td>0.680000</td>\n",
              "      <td>Action</td>\n",
              "      <td>Action</td>\n",
              "      <td>0</td>\n",
              "      <td>0</td>\n",
              "      <td>0</td>\n",
              "      <td>0</td>\n",
              "      <td>Thriller</td>\n",
              "      <td>0</td>\n",
              "      <td>0</td>\n",
              "      <td>0</td>\n",
              "      <td>Netflix</td>\n",
              "      <td>102.0</td>\n",
              "      <td>English</td>\n",
              "      <td>Poland</td>\n",
              "    </tr>\n",
              "    <tr>\n",
              "      <th>3471</th>\n",
              "      <td>Isi &amp; Ossi</td>\n",
              "      <td>2020</td>\n",
              "      <td>18.0</td>\n",
              "      <td>6.4</td>\n",
              "      <td>0.516752</td>\n",
              "      <td>Comedy</td>\n",
              "      <td>0</td>\n",
              "      <td>0</td>\n",
              "      <td>Comedy</td>\n",
              "      <td>0</td>\n",
              "      <td>0</td>\n",
              "      <td>0</td>\n",
              "      <td>0</td>\n",
              "      <td>0</td>\n",
              "      <td>0</td>\n",
              "      <td>Netflix</td>\n",
              "      <td>82.0</td>\n",
              "      <td>English</td>\n",
              "      <td>United States of America</td>\n",
              "    </tr>\n",
              "    <tr>\n",
              "      <th>3472</th>\n",
              "      <td>Pete Davidson: Alive from New York</td>\n",
              "      <td>2020</td>\n",
              "      <td>18.0</td>\n",
              "      <td>5.9</td>\n",
              "      <td>0.400000</td>\n",
              "      <td>Comedy</td>\n",
              "      <td>0</td>\n",
              "      <td>0</td>\n",
              "      <td>Comedy</td>\n",
              "      <td>0</td>\n",
              "      <td>0</td>\n",
              "      <td>0</td>\n",
              "      <td>0</td>\n",
              "      <td>0</td>\n",
              "      <td>0</td>\n",
              "      <td>Netflix</td>\n",
              "      <td>91.0</td>\n",
              "      <td>English</td>\n",
              "      <td>United States of America</td>\n",
              "    </tr>\n",
              "    <tr>\n",
              "      <th>3473</th>\n",
              "      <td>A F5 From Grace</td>\n",
              "      <td>2020</td>\n",
              "      <td>18.0</td>\n",
              "      <td>5.8</td>\n",
              "      <td>0.516752</td>\n",
              "      <td>Drama</td>\n",
              "      <td>0</td>\n",
              "      <td>Drama</td>\n",
              "      <td>0</td>\n",
              "      <td>0</td>\n",
              "      <td>0</td>\n",
              "      <td>Thriller</td>\n",
              "      <td>0</td>\n",
              "      <td>0</td>\n",
              "      <td>0</td>\n",
              "      <td>Multi Platform</td>\n",
              "      <td>116.0</td>\n",
              "      <td>Spanish</td>\n",
              "      <td>Spain</td>\n",
              "    </tr>\n",
              "    <tr>\n",
              "      <th>3474</th>\n",
              "      <td>Becoming</td>\n",
              "      <td>2020</td>\n",
              "      <td>7.0</td>\n",
              "      <td>6.6</td>\n",
              "      <td>0.516752</td>\n",
              "      <td>Documentary</td>\n",
              "      <td>0</td>\n",
              "      <td>0</td>\n",
              "      <td>0</td>\n",
              "      <td>0</td>\n",
              "      <td>0</td>\n",
              "      <td>0</td>\n",
              "      <td>0</td>\n",
              "      <td>0</td>\n",
              "      <td>0</td>\n",
              "      <td>Netflix</td>\n",
              "      <td>62.0</td>\n",
              "      <td>English</td>\n",
              "      <td>United States of America</td>\n",
              "    </tr>\n",
              "  </tbody>\n",
              "</table>\n",
              "<p>1114 rows × 19 columns</p>\n",
              "</div>"
            ],
            "text/plain": [
              "                                    Name  ...                   Country\n",
              "29                  Broadway to Cheyenne  ...  United States of America\n",
              "40                    A Study in Scarlet  ...                     India\n",
              "45                     The Man From Utah  ...                     India\n",
              "47                            Blue Steel  ...  United States of America\n",
              "61                       The Clairvoyant  ...                   Germany\n",
              "...                                  ...  ...                       ...\n",
              "3470                          Extraction  ...                    Poland\n",
              "3471                          Isi & Ossi  ...  United States of America\n",
              "3472  Pete Davidson: Alive from New York  ...  United States of America\n",
              "3473                     A F5 From Grace  ...                     Spain\n",
              "3474                            Becoming  ...  United States of America\n",
              "\n",
              "[1114 rows x 19 columns]"
            ]
          },
          "metadata": {
            "tags": []
          },
          "execution_count": 14
        }
      ]
    },
    {
      "cell_type": "code",
      "metadata": {
        "colab": {
          "base_uri": "https://localhost:8080/",
          "height": 613
        },
        "id": "10iYFQ9KRl7I",
        "outputId": "cccf1b10-81f6-4bab-98d0-afcab80a13f0"
      },
      "source": [
        "#Creating a new column using the existing data\n",
        "profits_column=pd.Series([60,80,100,50,90])\n",
        "df[\"Profits(Cr.)\"]=profits_column\n",
        "df"
      ],
      "execution_count": 15,
      "outputs": [
        {
          "output_type": "execute_result",
          "data": {
            "text/html": [
              "<div>\n",
              "<style scoped>\n",
              "    .dataframe tbody tr th:only-of-type {\n",
              "        vertical-align: middle;\n",
              "    }\n",
              "\n",
              "    .dataframe tbody tr th {\n",
              "        vertical-align: top;\n",
              "    }\n",
              "\n",
              "    .dataframe thead th {\n",
              "        text-align: right;\n",
              "    }\n",
              "</style>\n",
              "<table border=\"1\" class=\"dataframe\">\n",
              "  <thead>\n",
              "    <tr style=\"text-align: right;\">\n",
              "      <th></th>\n",
              "      <th>Name</th>\n",
              "      <th>Year</th>\n",
              "      <th>Age</th>\n",
              "      <th>Imdb</th>\n",
              "      <th>Rotten Tomatoes(%)</th>\n",
              "      <th>Geners</th>\n",
              "      <th>Action</th>\n",
              "      <th>Drama</th>\n",
              "      <th>Comedy</th>\n",
              "      <th>Fantasy</th>\n",
              "      <th>Biography</th>\n",
              "      <th>Thriller</th>\n",
              "      <th>Sci-Fi</th>\n",
              "      <th>Animation</th>\n",
              "      <th>Horror</th>\n",
              "      <th>Platform</th>\n",
              "      <th>Runtime</th>\n",
              "      <th>Language</th>\n",
              "      <th>Country</th>\n",
              "      <th>Profits(Cr.)</th>\n",
              "    </tr>\n",
              "  </thead>\n",
              "  <tbody>\n",
              "    <tr>\n",
              "      <th>29</th>\n",
              "      <td>Broadway to Cheyenne</td>\n",
              "      <td>1932</td>\n",
              "      <td>5.0</td>\n",
              "      <td>5.0</td>\n",
              "      <td>0.516752</td>\n",
              "      <td>Action</td>\n",
              "      <td>Action</td>\n",
              "      <td>0</td>\n",
              "      <td>0</td>\n",
              "      <td>0</td>\n",
              "      <td>0</td>\n",
              "      <td>0</td>\n",
              "      <td>0</td>\n",
              "      <td>0</td>\n",
              "      <td>0</td>\n",
              "      <td>Prime Video</td>\n",
              "      <td>95.0</td>\n",
              "      <td>English</td>\n",
              "      <td>United States of America</td>\n",
              "      <td>NaN</td>\n",
              "    </tr>\n",
              "    <tr>\n",
              "      <th>40</th>\n",
              "      <td>A Study in Scarlet</td>\n",
              "      <td>1933</td>\n",
              "      <td>5.0</td>\n",
              "      <td>5.7</td>\n",
              "      <td>0.516752</td>\n",
              "      <td>Mystery</td>\n",
              "      <td>0</td>\n",
              "      <td>0</td>\n",
              "      <td>0</td>\n",
              "      <td>0</td>\n",
              "      <td>0</td>\n",
              "      <td>Thriller</td>\n",
              "      <td>0</td>\n",
              "      <td>0</td>\n",
              "      <td>0</td>\n",
              "      <td>Netflix</td>\n",
              "      <td>118.0</td>\n",
              "      <td>Hindi</td>\n",
              "      <td>India</td>\n",
              "      <td>NaN</td>\n",
              "    </tr>\n",
              "    <tr>\n",
              "      <th>45</th>\n",
              "      <td>The Man From Utah</td>\n",
              "      <td>1934</td>\n",
              "      <td>5.0</td>\n",
              "      <td>5.2</td>\n",
              "      <td>0.516752</td>\n",
              "      <td>Adventure</td>\n",
              "      <td>0</td>\n",
              "      <td>0</td>\n",
              "      <td>0</td>\n",
              "      <td>0</td>\n",
              "      <td>0</td>\n",
              "      <td>0</td>\n",
              "      <td>0</td>\n",
              "      <td>0</td>\n",
              "      <td>0</td>\n",
              "      <td>Multi Platform</td>\n",
              "      <td>174.0</td>\n",
              "      <td>Hindi</td>\n",
              "      <td>India</td>\n",
              "      <td>NaN</td>\n",
              "    </tr>\n",
              "    <tr>\n",
              "      <th>47</th>\n",
              "      <td>Blue Steel</td>\n",
              "      <td>1934</td>\n",
              "      <td>5.0</td>\n",
              "      <td>5.4</td>\n",
              "      <td>0.516752</td>\n",
              "      <td>Action</td>\n",
              "      <td>Action</td>\n",
              "      <td>0</td>\n",
              "      <td>0</td>\n",
              "      <td>0</td>\n",
              "      <td>0</td>\n",
              "      <td>Thriller</td>\n",
              "      <td>Sci-Fi</td>\n",
              "      <td>0</td>\n",
              "      <td>0</td>\n",
              "      <td>Netflix</td>\n",
              "      <td>60.0</td>\n",
              "      <td>English</td>\n",
              "      <td>United States of America</td>\n",
              "      <td>NaN</td>\n",
              "    </tr>\n",
              "    <tr>\n",
              "      <th>61</th>\n",
              "      <td>The Clairvoyant</td>\n",
              "      <td>1935</td>\n",
              "      <td>5.0</td>\n",
              "      <td>6.7</td>\n",
              "      <td>0.516752</td>\n",
              "      <td>Horror</td>\n",
              "      <td>0</td>\n",
              "      <td>0</td>\n",
              "      <td>0</td>\n",
              "      <td>0</td>\n",
              "      <td>0</td>\n",
              "      <td>Thriller</td>\n",
              "      <td>0</td>\n",
              "      <td>0</td>\n",
              "      <td>Horror</td>\n",
              "      <td>Netflix</td>\n",
              "      <td>100.0</td>\n",
              "      <td>German</td>\n",
              "      <td>Germany</td>\n",
              "      <td>NaN</td>\n",
              "    </tr>\n",
              "    <tr>\n",
              "      <th>...</th>\n",
              "      <td>...</td>\n",
              "      <td>...</td>\n",
              "      <td>...</td>\n",
              "      <td>...</td>\n",
              "      <td>...</td>\n",
              "      <td>...</td>\n",
              "      <td>...</td>\n",
              "      <td>...</td>\n",
              "      <td>...</td>\n",
              "      <td>...</td>\n",
              "      <td>...</td>\n",
              "      <td>...</td>\n",
              "      <td>...</td>\n",
              "      <td>...</td>\n",
              "      <td>...</td>\n",
              "      <td>...</td>\n",
              "      <td>...</td>\n",
              "      <td>...</td>\n",
              "      <td>...</td>\n",
              "      <td>...</td>\n",
              "    </tr>\n",
              "    <tr>\n",
              "      <th>3470</th>\n",
              "      <td>Extraction</td>\n",
              "      <td>2020</td>\n",
              "      <td>18.0</td>\n",
              "      <td>6.8</td>\n",
              "      <td>0.680000</td>\n",
              "      <td>Action</td>\n",
              "      <td>Action</td>\n",
              "      <td>0</td>\n",
              "      <td>0</td>\n",
              "      <td>0</td>\n",
              "      <td>0</td>\n",
              "      <td>Thriller</td>\n",
              "      <td>0</td>\n",
              "      <td>0</td>\n",
              "      <td>0</td>\n",
              "      <td>Netflix</td>\n",
              "      <td>102.0</td>\n",
              "      <td>English</td>\n",
              "      <td>Poland</td>\n",
              "      <td>NaN</td>\n",
              "    </tr>\n",
              "    <tr>\n",
              "      <th>3471</th>\n",
              "      <td>Isi &amp; Ossi</td>\n",
              "      <td>2020</td>\n",
              "      <td>18.0</td>\n",
              "      <td>6.4</td>\n",
              "      <td>0.516752</td>\n",
              "      <td>Comedy</td>\n",
              "      <td>0</td>\n",
              "      <td>0</td>\n",
              "      <td>Comedy</td>\n",
              "      <td>0</td>\n",
              "      <td>0</td>\n",
              "      <td>0</td>\n",
              "      <td>0</td>\n",
              "      <td>0</td>\n",
              "      <td>0</td>\n",
              "      <td>Netflix</td>\n",
              "      <td>82.0</td>\n",
              "      <td>English</td>\n",
              "      <td>United States of America</td>\n",
              "      <td>NaN</td>\n",
              "    </tr>\n",
              "    <tr>\n",
              "      <th>3472</th>\n",
              "      <td>Pete Davidson: Alive from New York</td>\n",
              "      <td>2020</td>\n",
              "      <td>18.0</td>\n",
              "      <td>5.9</td>\n",
              "      <td>0.400000</td>\n",
              "      <td>Comedy</td>\n",
              "      <td>0</td>\n",
              "      <td>0</td>\n",
              "      <td>Comedy</td>\n",
              "      <td>0</td>\n",
              "      <td>0</td>\n",
              "      <td>0</td>\n",
              "      <td>0</td>\n",
              "      <td>0</td>\n",
              "      <td>0</td>\n",
              "      <td>Netflix</td>\n",
              "      <td>91.0</td>\n",
              "      <td>English</td>\n",
              "      <td>United States of America</td>\n",
              "      <td>NaN</td>\n",
              "    </tr>\n",
              "    <tr>\n",
              "      <th>3473</th>\n",
              "      <td>A F5 From Grace</td>\n",
              "      <td>2020</td>\n",
              "      <td>18.0</td>\n",
              "      <td>5.8</td>\n",
              "      <td>0.516752</td>\n",
              "      <td>Drama</td>\n",
              "      <td>0</td>\n",
              "      <td>Drama</td>\n",
              "      <td>0</td>\n",
              "      <td>0</td>\n",
              "      <td>0</td>\n",
              "      <td>Thriller</td>\n",
              "      <td>0</td>\n",
              "      <td>0</td>\n",
              "      <td>0</td>\n",
              "      <td>Multi Platform</td>\n",
              "      <td>116.0</td>\n",
              "      <td>Spanish</td>\n",
              "      <td>Spain</td>\n",
              "      <td>NaN</td>\n",
              "    </tr>\n",
              "    <tr>\n",
              "      <th>3474</th>\n",
              "      <td>Becoming</td>\n",
              "      <td>2020</td>\n",
              "      <td>7.0</td>\n",
              "      <td>6.6</td>\n",
              "      <td>0.516752</td>\n",
              "      <td>Documentary</td>\n",
              "      <td>0</td>\n",
              "      <td>0</td>\n",
              "      <td>0</td>\n",
              "      <td>0</td>\n",
              "      <td>0</td>\n",
              "      <td>0</td>\n",
              "      <td>0</td>\n",
              "      <td>0</td>\n",
              "      <td>0</td>\n",
              "      <td>Netflix</td>\n",
              "      <td>62.0</td>\n",
              "      <td>English</td>\n",
              "      <td>United States of America</td>\n",
              "      <td>NaN</td>\n",
              "    </tr>\n",
              "  </tbody>\n",
              "</table>\n",
              "<p>1114 rows × 20 columns</p>\n",
              "</div>"
            ],
            "text/plain": [
              "                                    Name  ...  Profits(Cr.)\n",
              "29                  Broadway to Cheyenne  ...           NaN\n",
              "40                    A Study in Scarlet  ...           NaN\n",
              "45                     The Man From Utah  ...           NaN\n",
              "47                            Blue Steel  ...           NaN\n",
              "61                       The Clairvoyant  ...           NaN\n",
              "...                                  ...  ...           ...\n",
              "3470                          Extraction  ...           NaN\n",
              "3471                          Isi & Ossi  ...           NaN\n",
              "3472  Pete Davidson: Alive from New York  ...           NaN\n",
              "3473                     A F5 From Grace  ...           NaN\n",
              "3474                            Becoming  ...           NaN\n",
              "\n",
              "[1114 rows x 20 columns]"
            ]
          },
          "metadata": {
            "tags": []
          },
          "execution_count": 15
        }
      ]
    },
    {
      "cell_type": "code",
      "metadata": {
        "colab": {
          "base_uri": "https://localhost:8080/",
          "height": 613
        },
        "id": "PsAd8q9jRroJ",
        "outputId": "3e3e72e8-6442-4058-b9cf-5e1bd453cc0b"
      },
      "source": [
        "df[\"Profits(Cr.)\"].fillna(76,inplace=True)\n",
        "df"
      ],
      "execution_count": 16,
      "outputs": [
        {
          "output_type": "execute_result",
          "data": {
            "text/html": [
              "<div>\n",
              "<style scoped>\n",
              "    .dataframe tbody tr th:only-of-type {\n",
              "        vertical-align: middle;\n",
              "    }\n",
              "\n",
              "    .dataframe tbody tr th {\n",
              "        vertical-align: top;\n",
              "    }\n",
              "\n",
              "    .dataframe thead th {\n",
              "        text-align: right;\n",
              "    }\n",
              "</style>\n",
              "<table border=\"1\" class=\"dataframe\">\n",
              "  <thead>\n",
              "    <tr style=\"text-align: right;\">\n",
              "      <th></th>\n",
              "      <th>Name</th>\n",
              "      <th>Year</th>\n",
              "      <th>Age</th>\n",
              "      <th>Imdb</th>\n",
              "      <th>Rotten Tomatoes(%)</th>\n",
              "      <th>Geners</th>\n",
              "      <th>Action</th>\n",
              "      <th>Drama</th>\n",
              "      <th>Comedy</th>\n",
              "      <th>Fantasy</th>\n",
              "      <th>Biography</th>\n",
              "      <th>Thriller</th>\n",
              "      <th>Sci-Fi</th>\n",
              "      <th>Animation</th>\n",
              "      <th>Horror</th>\n",
              "      <th>Platform</th>\n",
              "      <th>Runtime</th>\n",
              "      <th>Language</th>\n",
              "      <th>Country</th>\n",
              "      <th>Profits(Cr.)</th>\n",
              "    </tr>\n",
              "  </thead>\n",
              "  <tbody>\n",
              "    <tr>\n",
              "      <th>29</th>\n",
              "      <td>Broadway to Cheyenne</td>\n",
              "      <td>1932</td>\n",
              "      <td>5.0</td>\n",
              "      <td>5.0</td>\n",
              "      <td>0.516752</td>\n",
              "      <td>Action</td>\n",
              "      <td>Action</td>\n",
              "      <td>0</td>\n",
              "      <td>0</td>\n",
              "      <td>0</td>\n",
              "      <td>0</td>\n",
              "      <td>0</td>\n",
              "      <td>0</td>\n",
              "      <td>0</td>\n",
              "      <td>0</td>\n",
              "      <td>Prime Video</td>\n",
              "      <td>95.0</td>\n",
              "      <td>English</td>\n",
              "      <td>United States of America</td>\n",
              "      <td>76.0</td>\n",
              "    </tr>\n",
              "    <tr>\n",
              "      <th>40</th>\n",
              "      <td>A Study in Scarlet</td>\n",
              "      <td>1933</td>\n",
              "      <td>5.0</td>\n",
              "      <td>5.7</td>\n",
              "      <td>0.516752</td>\n",
              "      <td>Mystery</td>\n",
              "      <td>0</td>\n",
              "      <td>0</td>\n",
              "      <td>0</td>\n",
              "      <td>0</td>\n",
              "      <td>0</td>\n",
              "      <td>Thriller</td>\n",
              "      <td>0</td>\n",
              "      <td>0</td>\n",
              "      <td>0</td>\n",
              "      <td>Netflix</td>\n",
              "      <td>118.0</td>\n",
              "      <td>Hindi</td>\n",
              "      <td>India</td>\n",
              "      <td>76.0</td>\n",
              "    </tr>\n",
              "    <tr>\n",
              "      <th>45</th>\n",
              "      <td>The Man From Utah</td>\n",
              "      <td>1934</td>\n",
              "      <td>5.0</td>\n",
              "      <td>5.2</td>\n",
              "      <td>0.516752</td>\n",
              "      <td>Adventure</td>\n",
              "      <td>0</td>\n",
              "      <td>0</td>\n",
              "      <td>0</td>\n",
              "      <td>0</td>\n",
              "      <td>0</td>\n",
              "      <td>0</td>\n",
              "      <td>0</td>\n",
              "      <td>0</td>\n",
              "      <td>0</td>\n",
              "      <td>Multi Platform</td>\n",
              "      <td>174.0</td>\n",
              "      <td>Hindi</td>\n",
              "      <td>India</td>\n",
              "      <td>76.0</td>\n",
              "    </tr>\n",
              "    <tr>\n",
              "      <th>47</th>\n",
              "      <td>Blue Steel</td>\n",
              "      <td>1934</td>\n",
              "      <td>5.0</td>\n",
              "      <td>5.4</td>\n",
              "      <td>0.516752</td>\n",
              "      <td>Action</td>\n",
              "      <td>Action</td>\n",
              "      <td>0</td>\n",
              "      <td>0</td>\n",
              "      <td>0</td>\n",
              "      <td>0</td>\n",
              "      <td>Thriller</td>\n",
              "      <td>Sci-Fi</td>\n",
              "      <td>0</td>\n",
              "      <td>0</td>\n",
              "      <td>Netflix</td>\n",
              "      <td>60.0</td>\n",
              "      <td>English</td>\n",
              "      <td>United States of America</td>\n",
              "      <td>76.0</td>\n",
              "    </tr>\n",
              "    <tr>\n",
              "      <th>61</th>\n",
              "      <td>The Clairvoyant</td>\n",
              "      <td>1935</td>\n",
              "      <td>5.0</td>\n",
              "      <td>6.7</td>\n",
              "      <td>0.516752</td>\n",
              "      <td>Horror</td>\n",
              "      <td>0</td>\n",
              "      <td>0</td>\n",
              "      <td>0</td>\n",
              "      <td>0</td>\n",
              "      <td>0</td>\n",
              "      <td>Thriller</td>\n",
              "      <td>0</td>\n",
              "      <td>0</td>\n",
              "      <td>Horror</td>\n",
              "      <td>Netflix</td>\n",
              "      <td>100.0</td>\n",
              "      <td>German</td>\n",
              "      <td>Germany</td>\n",
              "      <td>76.0</td>\n",
              "    </tr>\n",
              "    <tr>\n",
              "      <th>...</th>\n",
              "      <td>...</td>\n",
              "      <td>...</td>\n",
              "      <td>...</td>\n",
              "      <td>...</td>\n",
              "      <td>...</td>\n",
              "      <td>...</td>\n",
              "      <td>...</td>\n",
              "      <td>...</td>\n",
              "      <td>...</td>\n",
              "      <td>...</td>\n",
              "      <td>...</td>\n",
              "      <td>...</td>\n",
              "      <td>...</td>\n",
              "      <td>...</td>\n",
              "      <td>...</td>\n",
              "      <td>...</td>\n",
              "      <td>...</td>\n",
              "      <td>...</td>\n",
              "      <td>...</td>\n",
              "      <td>...</td>\n",
              "    </tr>\n",
              "    <tr>\n",
              "      <th>3470</th>\n",
              "      <td>Extraction</td>\n",
              "      <td>2020</td>\n",
              "      <td>18.0</td>\n",
              "      <td>6.8</td>\n",
              "      <td>0.680000</td>\n",
              "      <td>Action</td>\n",
              "      <td>Action</td>\n",
              "      <td>0</td>\n",
              "      <td>0</td>\n",
              "      <td>0</td>\n",
              "      <td>0</td>\n",
              "      <td>Thriller</td>\n",
              "      <td>0</td>\n",
              "      <td>0</td>\n",
              "      <td>0</td>\n",
              "      <td>Netflix</td>\n",
              "      <td>102.0</td>\n",
              "      <td>English</td>\n",
              "      <td>Poland</td>\n",
              "      <td>76.0</td>\n",
              "    </tr>\n",
              "    <tr>\n",
              "      <th>3471</th>\n",
              "      <td>Isi &amp; Ossi</td>\n",
              "      <td>2020</td>\n",
              "      <td>18.0</td>\n",
              "      <td>6.4</td>\n",
              "      <td>0.516752</td>\n",
              "      <td>Comedy</td>\n",
              "      <td>0</td>\n",
              "      <td>0</td>\n",
              "      <td>Comedy</td>\n",
              "      <td>0</td>\n",
              "      <td>0</td>\n",
              "      <td>0</td>\n",
              "      <td>0</td>\n",
              "      <td>0</td>\n",
              "      <td>0</td>\n",
              "      <td>Netflix</td>\n",
              "      <td>82.0</td>\n",
              "      <td>English</td>\n",
              "      <td>United States of America</td>\n",
              "      <td>76.0</td>\n",
              "    </tr>\n",
              "    <tr>\n",
              "      <th>3472</th>\n",
              "      <td>Pete Davidson: Alive from New York</td>\n",
              "      <td>2020</td>\n",
              "      <td>18.0</td>\n",
              "      <td>5.9</td>\n",
              "      <td>0.400000</td>\n",
              "      <td>Comedy</td>\n",
              "      <td>0</td>\n",
              "      <td>0</td>\n",
              "      <td>Comedy</td>\n",
              "      <td>0</td>\n",
              "      <td>0</td>\n",
              "      <td>0</td>\n",
              "      <td>0</td>\n",
              "      <td>0</td>\n",
              "      <td>0</td>\n",
              "      <td>Netflix</td>\n",
              "      <td>91.0</td>\n",
              "      <td>English</td>\n",
              "      <td>United States of America</td>\n",
              "      <td>76.0</td>\n",
              "    </tr>\n",
              "    <tr>\n",
              "      <th>3473</th>\n",
              "      <td>A F5 From Grace</td>\n",
              "      <td>2020</td>\n",
              "      <td>18.0</td>\n",
              "      <td>5.8</td>\n",
              "      <td>0.516752</td>\n",
              "      <td>Drama</td>\n",
              "      <td>0</td>\n",
              "      <td>Drama</td>\n",
              "      <td>0</td>\n",
              "      <td>0</td>\n",
              "      <td>0</td>\n",
              "      <td>Thriller</td>\n",
              "      <td>0</td>\n",
              "      <td>0</td>\n",
              "      <td>0</td>\n",
              "      <td>Multi Platform</td>\n",
              "      <td>116.0</td>\n",
              "      <td>Spanish</td>\n",
              "      <td>Spain</td>\n",
              "      <td>76.0</td>\n",
              "    </tr>\n",
              "    <tr>\n",
              "      <th>3474</th>\n",
              "      <td>Becoming</td>\n",
              "      <td>2020</td>\n",
              "      <td>7.0</td>\n",
              "      <td>6.6</td>\n",
              "      <td>0.516752</td>\n",
              "      <td>Documentary</td>\n",
              "      <td>0</td>\n",
              "      <td>0</td>\n",
              "      <td>0</td>\n",
              "      <td>0</td>\n",
              "      <td>0</td>\n",
              "      <td>0</td>\n",
              "      <td>0</td>\n",
              "      <td>0</td>\n",
              "      <td>0</td>\n",
              "      <td>Netflix</td>\n",
              "      <td>62.0</td>\n",
              "      <td>English</td>\n",
              "      <td>United States of America</td>\n",
              "      <td>76.0</td>\n",
              "    </tr>\n",
              "  </tbody>\n",
              "</table>\n",
              "<p>1114 rows × 20 columns</p>\n",
              "</div>"
            ],
            "text/plain": [
              "                                    Name  ...  Profits(Cr.)\n",
              "29                  Broadway to Cheyenne  ...          76.0\n",
              "40                    A Study in Scarlet  ...          76.0\n",
              "45                     The Man From Utah  ...          76.0\n",
              "47                            Blue Steel  ...          76.0\n",
              "61                       The Clairvoyant  ...          76.0\n",
              "...                                  ...  ...           ...\n",
              "3470                          Extraction  ...          76.0\n",
              "3471                          Isi & Ossi  ...          76.0\n",
              "3472  Pete Davidson: Alive from New York  ...          76.0\n",
              "3473                     A F5 From Grace  ...          76.0\n",
              "3474                            Becoming  ...          76.0\n",
              "\n",
              "[1114 rows x 20 columns]"
            ]
          },
          "metadata": {
            "tags": []
          },
          "execution_count": 16
        }
      ]
    },
    {
      "cell_type": "markdown",
      "metadata": {
        "id": "inxnztf4TxW6"
      },
      "source": [
        "#**Matplotlib**"
      ]
    },
    {
      "cell_type": "code",
      "metadata": {
        "id": "gg-sBuILT8xv"
      },
      "source": [
        "# Import matplotlib and get it ready for plotting in Colab\n",
        "%matplotlib inline\n",
        "import matplotlib.pyplot as plt"
      ],
      "execution_count": 17,
      "outputs": []
    },
    {
      "cell_type": "code",
      "metadata": {
        "colab": {
          "base_uri": "https://localhost:8080/",
          "height": 248
        },
        "id": "eeaNf0qGUBFf",
        "outputId": "5058a020-dbb6-420c-86be-4705c0f7f8f0"
      },
      "source": [
        "df['Platform'].value_counts().plot.pie()\n",
        "\n",
        "plt.show()"
      ],
      "execution_count": 18,
      "outputs": [
        {
          "output_type": "display_data",
          "data": {
            "image/png": "[encoded data removed]",
            "text/plain": [
              "<Figure size 432x288 with 1 Axes>"
            ]
          },
          "metadata": {
            "tags": []
          }
        }
      ]
    },
    {
      "cell_type": "code",
      "metadata": {
        "colab": {
          "resources": {
            "http://localhost:8080/nbextensions/google.colab/files.js": {
              "data": "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",
              "ok": true,
              "headers": [
                [
                  "content-type",
                  "application/javascript"
                ]
              ],
              "status": 200,
              "status_text": ""
            }
          },
          "base_uri": "https://localhost:8080/",
          "height": 71
        },
        "id": "QvjgnBl9RNy8",
        "outputId": "1a5078d3-021c-4aa7-eccf-310334da0d8c"
      },
      "source": [
        "import pandas as pd\n",
        "from google.colab import files\n",
        "uploaded = files.upload()"
      ],
      "execution_count": 20,
      "outputs": [
        {
          "output_type": "display_data",
          "data": {
            "text/html": [
              "\n",
              "     <input type=\"file\" id=\"files-7ddd13b6-c4cd-4029-87f7-b5295336fbdd\" name=\"files[]\" multiple disabled\n",
              "        style=\"border:none\" />\n",
              "     <output id=\"result-7ddd13b6-c4cd-4029-87f7-b5295336fbdd\">\n",
              "      Upload widget is only available when the cell has been executed in the\n",
              "      current browser session. Please rerun this cell to enable.\n",
              "      </output>\n",
              "      <script src=\"/nbextensions/google.colab/files.js\"></script> "
            ],
            "text/plain": [
              "<IPython.core.display.HTML object>"
            ]
          },
          "metadata": {
            "tags": []
          }
        },
        {
          "output_type": "stream",
          "text": [
            "Saving Movies_OTT_1 - Copy.csv to Movies_OTT_1 - Copy.csv\n"
          ],
          "name": "stdout"
        }
      ]
    },
    {
      "cell_type": "code",
      "metadata": {
        "id": "QyWehe9tRh5a"
      },
      "source": [
        "df=pd.read_csv('Movies_OTT_1 - Copy.csv')"
      ],
      "execution_count": 22,
      "outputs": []
    },
    {
      "cell_type": "code",
      "metadata": {
        "colab": {
          "base_uri": "https://localhost:8080/"
        },
        "id": "QDE6Uot6pp9m",
        "outputId": "7ac2caba-4bf0-486e-9fcf-23bdffb862f8"
      },
      "source": [
        "df['Country'].isnull().sum()\n"
      ],
      "execution_count": 23,
      "outputs": [
        {
          "output_type": "execute_result",
          "data": {
            "text/plain": [
              "117"
            ]
          },
          "metadata": {
            "tags": []
          },
          "execution_count": 23
        }
      ]
    },
    {
      "cell_type": "code",
      "metadata": {
        "colab": {
          "base_uri": "https://localhost:8080/"
        },
        "id": "sDxu3RaVpvyc",
        "outputId": "0e6176de-8acc-4c2b-c797-900d4307c8d8"
      },
      "source": [
        "countriesData = df['Country'].dropna()\n",
        "countriesData\n"
      ],
      "execution_count": 24,
      "outputs": [
        {
          "output_type": "execute_result",
          "data": {
            "text/plain": [
              "0       United States of America\n",
              "1       United States of America\n",
              "2                      Hong Kong\n",
              "3       United States of America\n",
              "4                          India\n",
              "                  ...           \n",
              "3483    United States of America\n",
              "3484                   Argentina\n",
              "3485                South Africa\n",
              "3486                       India\n",
              "3487                       India\n",
              "Name: Country, Length: 3371, dtype: object"
            ]
          },
          "metadata": {
            "tags": []
          },
          "execution_count": 24
        }
      ]
    },
    {
      "cell_type": "code",
      "metadata": {
        "colab": {
          "base_uri": "https://localhost:8080/"
        },
        "id": "ciCdzluRQOB2",
        "outputId": "57d81aca-35ca-406a-9cb6-184414ed518b"
      },
      "source": [
        "countriesData"
      ],
      "execution_count": 25,
      "outputs": [
        {
          "output_type": "execute_result",
          "data": {
            "text/plain": [
              "0       United States of America\n",
              "1       United States of America\n",
              "2                      Hong Kong\n",
              "3       United States of America\n",
              "4                          India\n",
              "                  ...           \n",
              "3483    United States of America\n",
              "3484                   Argentina\n",
              "3485                South Africa\n",
              "3486                       India\n",
              "3487                       India\n",
              "Name: Country, Length: 3371, dtype: object"
            ]
          },
          "metadata": {
            "tags": []
          },
          "execution_count": 25
        }
      ]
    },
    {
      "cell_type": "code",
      "metadata": {
        "colab": {
          "base_uri": "https://localhost:8080/"
        },
        "id": "2uBkFk7Bpxzj",
        "outputId": "b1f96f9c-9027-4f40-e347-58505674801a"
      },
      "source": [
        "countriesData.unique()"
      ],
      "execution_count": 26,
      "outputs": [
        {
          "output_type": "execute_result",
          "data": {
            "text/plain": [
              "array(['United States of America', 'Hong Kong', 'India', 'Spain',\n",
              "       'Singapore', 'Germany', 'Turkey', 'West Germany', 'Austria',\n",
              "       'Taiwan', 'Australia', 'Egypt', 'South Africa', 'Canada',\n",
              "       'New Zealand', 'South Korea', 'Indonesia', 'Romania', 'Mexico',\n",
              "       'United Kingdom', 'Italy', 'Colombia', 'France', 'Lebanon',\n",
              "       'Netherlands', 'Nigeria', 'Malaysia', 'Brazil', 'Peru',\n",
              "       'Philippines', 'Uruguay', 'Japan', 'Norway', 'Iraq', 'Thailand',\n",
              "       'Ireland', 'Argentina', 'Israel', 'United Arab Emirates', 'Ghana',\n",
              "       'Pakistan', 'China', 'Slovenia', 'Sweden', 'Hungary', 'Bulgaria',\n",
              "       'Saudi Arabia', 'Chile', 'Poland', 'Croatia', 'Soviet Union',\n",
              "       'Switzerland', 'Belgium', 'Cambodia', 'Denmark', 'Russia',\n",
              "       'Serbia', 'Bangladesh', 'Iceland', 'Portugal', 'Finland',\n",
              "       'Czech Republic', 'Korea', 'Georgia', 'Kenya', 'Jamaica', 'Greece',\n",
              "       'Kuwait', 'Qatar', 'Paraguay'], dtype=object)"
            ]
          },
          "metadata": {
            "tags": []
          },
          "execution_count": 26
        }
      ]
    },
    {
      "cell_type": "code",
      "metadata": {
        "colab": {
          "base_uri": "https://localhost:8080/"
        },
        "id": "cGtxSwbBp33g",
        "outputId": "73f725c8-4116-417b-e46d-d268613b4ed0"
      },
      "source": [
        "pip install iso3166"
      ],
      "execution_count": 27,
      "outputs": [
        {
          "output_type": "stream",
          "text": [
            "Collecting iso3166\n",
            "  Downloading https://files.pythonhosted.org/packages/a0/42/15d2ef2211ddb26deb810a21b084ee6f3d1bc7248e884dcabb5edc04b649/iso3166-1.0.1-py2.py3-none-any.whl\n",
            "Installing collected packages: iso3166\n",
            "Successfully installed iso3166-1.0.1\n"
          ],
          "name": "stdout"
        }
      ]
    },
    {
      "cell_type": "code",
      "metadata": {
        "id": "JJb4fxglp84E"
      },
      "source": [
        "from iso3166 import countries"
      ],
      "execution_count": 28,
      "outputs": []
    },
    {
      "cell_type": "code",
      "metadata": {
        "id": "dQQWcCmPqFDb"
      },
      "source": [
        "def rename(country):\n",
        "    try:\n",
        "        return countries.get(country).alpha3\n",
        "    except:\n",
        "        return (np.nan)"
      ],
      "execution_count": 29,
      "outputs": []
    },
    {
      "cell_type": "code",
      "metadata": {
        "id": "JqB3gBzeqHPB"
      },
      "source": [
        "import numpy as np"
      ],
      "execution_count": 30,
      "outputs": []
    },
    {
      "cell_type": "code",
      "metadata": {
        "colab": {
          "base_uri": "https://localhost:8080/"
        },
        "id": "EZD7jzFTqpn-",
        "outputId": "d83a238f-ade5-4a37-eb70-692db9473538"
      },
      "source": [
        "old_sample_number = countriesData.shape[0]\n",
        "\n",
        "countriesData = countriesData.apply(rename)\n",
        "countriesData = countriesData.dropna()\n",
        "\n",
        "new_sample_number = countriesData.shape[0]\n",
        "print('we lost', old_sample_number-new_sample_number, 'samples after converting')"
      ],
      "execution_count": 31,
      "outputs": [
        {
          "output_type": "stream",
          "text": [
            "we lost 264 samples after converting\n"
          ],
          "name": "stdout"
        }
      ]
    },
    {
      "cell_type": "code",
      "metadata": {
        "colab": {
          "base_uri": "https://localhost:8080/"
        },
        "id": "ceBVop8wq6hV",
        "outputId": "a60e752f-b11c-4bbb-c1c1-a203dbe8223f"
      },
      "source": [
        "countriesData\n"
      ],
      "execution_count": 32,
      "outputs": [
        {
          "output_type": "execute_result",
          "data": {
            "text/plain": [
              "0       USA\n",
              "1       USA\n",
              "2       HKG\n",
              "3       USA\n",
              "4       IND\n",
              "       ... \n",
              "3483    USA\n",
              "3484    ARG\n",
              "3485    ZAF\n",
              "3486    IND\n",
              "3487    IND\n",
              "Name: Country, Length: 3107, dtype: object"
            ]
          },
          "metadata": {
            "tags": []
          },
          "execution_count": 32
        }
      ]
    },
    {
      "cell_type": "code",
      "metadata": {
        "colab": {
          "base_uri": "https://localhost:8080/",
          "height": 444
        },
        "id": "nLlvNzv3q9e4",
        "outputId": "7eedfb31-cd63-47c8-df9a-5c8cade3181c"
      },
      "source": [
        "import matplotlib.pyplot as plt\n",
        "import seaborn as sns \n",
        "plt.figure(figsize=(24, 6))\n",
        "sns.barplot(countriesData.value_counts()[countriesData.value_counts()>150].index, countriesData.value_counts()[countriesData.value_counts()>150].values)"
      ],
      "execution_count": 33,
      "outputs": [
        {
          "output_type": "stream",
          "text": [
            "/usr/local/lib/python3.7/dist-packages/seaborn/_decorators.py:43: FutureWarning: Pass the following variables as keyword args: x, y. From version 0.12, the only valid positional argument will be `data`, and passing other arguments without an explicit keyword will result in an error or misinterpretation.\n",
            "  FutureWarning\n"
          ],
          "name": "stderr"
        },
        {
          "output_type": "execute_result",
          "data": {
            "text/plain": [
              "<matplotlib.axes._subplots.AxesSubplot at 0x7f2338b342d0>"
            ]
          },
          "metadata": {
            "tags": []
          },
          "execution_count": 33
        },
        {
          "output_type": "display_data",
          "data": {
            "image/png": "[encoded data removed]",
            "text/plain": [
              "<Figure size 1728x432 with 1 Axes>"
            ]
          },
          "metadata": {
            "tags": [],
            "needs_background": "light"
          }
        }
      ]
    },
    {
      "cell_type": "code",
      "metadata": {
        "id": "wSebxfHKrBgk"
      },
      "source": [
        "country_df = pd.DataFrame(data=[countriesData.value_counts().index, countriesData.value_counts().values],index=['country','count']).T"
      ],
      "execution_count": 34,
      "outputs": []
    },
    {
      "cell_type": "code",
      "metadata": {
        "id": "1EYOjXBsrLT0"
      },
      "source": [
        "country_df['count']=pd.to_numeric(country_df['count'])"
      ],
      "execution_count": 35,
      "outputs": []
    },
    {
      "cell_type": "code",
      "metadata": {
        "colab": {
          "base_uri": "https://localhost:8080/",
          "height": 192
        },
        "id": "ArNNSYJArOok",
        "outputId": "a870e002-b429-4e3c-c81f-9bdbbe48a150"
      },
      "source": [
        "country_df.head()"
      ],
      "execution_count": 36,
      "outputs": [
        {
          "output_type": "execute_result",
          "data": {
            "text/html": [
              "<div>\n",
              "<style scoped>\n",
              "    .dataframe tbody tr th:only-of-type {\n",
              "        vertical-align: middle;\n",
              "    }\n",
              "\n",
              "    .dataframe tbody tr th {\n",
              "        vertical-align: top;\n",
              "    }\n",
              "\n",
              "    .dataframe thead th {\n",
              "        text-align: right;\n",
              "    }\n",
              "</style>\n",
              "<table border=\"1\" class=\"dataframe\">\n",
              "  <thead>\n",
              "    <tr style=\"text-align: right;\">\n",
              "      <th></th>\n",
              "      <th>country</th>\n",
              "      <th>count</th>\n",
              "    </tr>\n",
              "  </thead>\n",
              "  <tbody>\n",
              "    <tr>\n",
              "      <th>0</th>\n",
              "      <td>USA</td>\n",
              "      <td>1456</td>\n",
              "    </tr>\n",
              "    <tr>\n",
              "      <th>1</th>\n",
              "      <td>IND</td>\n",
              "      <td>542</td>\n",
              "    </tr>\n",
              "    <tr>\n",
              "      <th>2</th>\n",
              "      <td>CAN</td>\n",
              "      <td>122</td>\n",
              "    </tr>\n",
              "    <tr>\n",
              "      <th>3</th>\n",
              "      <td>ESP</td>\n",
              "      <td>94</td>\n",
              "    </tr>\n",
              "    <tr>\n",
              "      <th>4</th>\n",
              "      <td>FRA</td>\n",
              "      <td>92</td>\n",
              "    </tr>\n",
              "  </tbody>\n",
              "</table>\n",
              "</div>"
            ],
            "text/plain": [
              "  country  count\n",
              "0     USA   1456\n",
              "1     IND    542\n",
              "2     CAN    122\n",
              "3     ESP     94\n",
              "4     FRA     92"
            ]
          },
          "metadata": {
            "tags": []
          },
          "execution_count": 36
        }
      ]
    },
    {
      "cell_type": "code",
      "metadata": {
        "colab": {
          "base_uri": "https://localhost:8080/",
          "height": 542
        },
        "id": "GJujUKMAriJ-",
        "outputId": "e795eee6-e107-4934-94e8-61f5762bed99"
      },
      "source": [
        "import plotly.express as px\n",
        "fig = px.scatter_geo(country_df, locations=\"country\", size='count',\n",
        "                     hover_name=\"country\", color='country',\n",
        "                     projection=\"orthographic\")\n",
        "fig.show()"
      ],
      "execution_count": 37,
      "outputs": [
        {
          "output_type": "display_data",
          "data": {
            "text/html": [
              "<html>\n",
              "<head><meta charset=\"utf-8\" /></head>\n",
              "<body>\n",
              "    <div>\n",
              "            <script src=\"https://cdnjs.cloudflare.com/ajax/libs/mathjax/2.7.5/MathJax.js?config=TeX-AMS-MML_SVG\"></script><script type=\"text/javascript\">if (window.MathJax) {MathJax.Hub.Config({SVG: {font: \"STIX-Web\"}});}</script>\n",
              "                <script type=\"text/javascript\">window.PlotlyConfig = {MathJaxConfig: 'local'};</script>\n",
              "        <script src=\"https://cdn.plot.ly/plotly-latest.min.js\"></script>    \n",
              "            <div id=\"499c43fb-e7ea-4420-8430-1c9a1f793422\" class=\"plotly-graph-div\" style=\"height:525px; width:100%;\"></div>\n",
              "            <script type=\"text/javascript\">\n",
              "                \n",
              "                    window.PLOTLYENV=window.PLOTLYENV || {};\n",
              "                    \n",
              "                if (document.getElementById(\"499c43fb-e7ea-4420-8430-1c9a1f793422\")) {\n",
              "                    Plotly.newPlot(\n",
              "                        '499c43fb-e7ea-4420-8430-1c9a1f793422',\n",
              "                        [{\"geo\": \"geo\", \"hoverlabel\": {\"namelength\": 0}, \"hovertemplate\": \"<b>%{hovertext}</b><br><br>country=%{location}<br>count=%{marker.size}\", \"hovertext\": [\"USA\"], \"legendgroup\": \"country=USA\", \"locations\": [\"USA\"], \"marker\": {\"color\": \"#636efa\", \"size\": [1456], \"sizemode\": \"area\", \"sizeref\": 3.64}, \"name\": \"country=USA\", \"showlegend\": true, \"type\": \"scattergeo\"}, {\"geo\": \"geo\", \"hoverlabel\": {\"namelength\": 0}, \"hovertemplate\": \"<b>%{hovertext}</b><br><br>country=%{location}<br>count=%{marker.size}\", \"hovertext\": [\"IND\"], \"legendgroup\": \"country=IND\", \"locations\": [\"IND\"], \"marker\": {\"color\": \"#EF553B\", \"size\": [542], \"sizemode\": \"area\", \"sizeref\": 3.64}, \"name\": \"country=IND\", \"showlegend\": true, \"type\": \"scattergeo\"}, {\"geo\": \"geo\", \"hoverlabel\": {\"namelength\": 0}, \"hovertemplate\": \"<b>%{hovertext}</b><br><br>country=%{location}<br>count=%{marker.size}\", \"hovertext\": [\"CAN\"], \"legendgroup\": \"country=CAN\", \"locations\": [\"CAN\"], \"marker\": {\"color\": \"#00cc96\", \"size\": [122], \"sizemode\": \"area\", \"sizeref\": 3.64}, \"name\": \"country=CAN\", \"showlegend\": true, \"type\": \"scattergeo\"}, {\"geo\": \"geo\", \"hoverlabel\": {\"namelength\": 0}, \"hovertemplate\": \"<b>%{hovertext}</b><br><br>country=%{location}<br>count=%{marker.size}\", \"hovertext\": [\"ESP\"], \"legendgroup\": \"country=ESP\", \"locations\": [\"ESP\"], \"marker\": {\"color\": \"#ab63fa\", \"size\": [94], \"sizemode\": \"area\", \"sizeref\": 3.64}, \"name\": \"country=ESP\", \"showlegend\": true, \"type\": \"scattergeo\"}, {\"geo\": \"geo\", \"hoverlabel\": {\"namelength\": 0}, \"hovertemplate\": \"<b>%{hovertext}</b><br><br>country=%{location}<br>count=%{marker.size}\", \"hovertext\": [\"FRA\"], \"legendgroup\": \"country=FRA\", \"locations\": [\"FRA\"], \"marker\": {\"color\": \"#FFA15A\", \"size\": [92], \"sizemode\": \"area\", \"sizeref\": 3.64}, \"name\": \"country=FRA\", \"showlegend\": true, \"type\": \"scattergeo\"}, {\"geo\": \"geo\", \"hoverlabel\": {\"namelength\": 0}, \"hovertemplate\": \"<b>%{hovertext}</b><br><br>country=%{location}<br>count=%{marker.size}\", \"hovertext\": [\"DEU\"], \"legendgroup\": \"country=DEU\", \"locations\": [\"DEU\"], \"marker\": {\"color\": \"#19d3f3\", \"size\": [58], \"sizemode\": \"area\", \"sizeref\": 3.64}, \"name\": \"country=DEU\", \"showlegend\": true, \"type\": \"scattergeo\"}, {\"geo\": \"geo\", \"hoverlabel\": {\"namelength\": 0}, \"hovertemplate\": \"<b>%{hovertext}</b><br><br>country=%{location}<br>count=%{marker.size}\", \"hovertext\": [\"JPN\"], \"legendgroup\": \"country=JPN\", \"locations\": [\"JPN\"], \"marker\": {\"color\": \"#FF6692\", \"size\": [56], \"sizemode\": \"area\", \"sizeref\": 3.64}, \"name\": \"country=JPN\", \"showlegend\": true, \"type\": \"scattergeo\"}, {\"geo\": \"geo\", \"hoverlabel\": {\"namelength\": 0}, \"hovertemplate\": \"<b>%{hovertext}</b><br><br>country=%{location}<br>count=%{marker.size}\", \"hovertext\": [\"HKG\"], \"legendgroup\": \"country=HKG\", \"locations\": [\"HKG\"], \"marker\": {\"color\": \"#B6E880\", \"size\": [56], \"sizemode\": \"area\", \"sizeref\": 3.64}, \"name\": \"country=HKG\", \"showlegend\": true, \"type\": \"scattergeo\"}, {\"geo\": \"geo\", \"hoverlabel\": {\"namelength\": 0}, \"hovertemplate\": \"<b>%{hovertext}</b><br><br>country=%{location}<br>count=%{marker.size}\", \"hovertext\": [\"TUR\"], \"legendgroup\": \"country=TUR\", \"locations\": [\"TUR\"], \"marker\": {\"color\": \"#FF97FF\", \"size\": [52], \"sizemode\": \"area\", \"sizeref\": 3.64}, \"name\": \"country=TUR\", \"showlegend\": true, \"type\": \"scattergeo\"}, {\"geo\": \"geo\", \"hoverlabel\": {\"namelength\": 0}, \"hovertemplate\": \"<b>%{hovertext}</b><br><br>country=%{location}<br>count=%{marker.size}\", \"hovertext\": [\"MEX\"], \"legendgroup\": \"country=MEX\", \"locations\": [\"MEX\"], \"marker\": {\"color\": \"#FECB52\", \"size\": [48], \"sizemode\": \"area\", \"sizeref\": 3.64}, \"name\": \"country=MEX\", \"showlegend\": true, \"type\": \"scattergeo\"}, {\"geo\": \"geo\", \"hoverlabel\": {\"namelength\": 0}, \"hovertemplate\": \"<b>%{hovertext}</b><br><br>country=%{location}<br>count=%{marker.size}\", \"hovertext\": [\"AUS\"], \"legendgroup\": \"country=AUS\", \"locations\": [\"AUS\"], \"marker\": {\"color\": \"#636efa\", \"size\": [38], \"sizemode\": \"area\", \"sizeref\": 3.64}, \"name\": \"country=AUS\", \"showlegend\": true, \"type\": \"scattergeo\"}, {\"geo\": \"geo\", \"hoverlabel\": {\"namelength\": 0}, \"hovertemplate\": \"<b>%{hovertext}</b><br><br>country=%{location}<br>count=%{marker.size}\", \"hovertext\": [\"PHL\"], \"legendgroup\": \"country=PHL\", \"locations\": [\"PHL\"], \"marker\": {\"color\": \"#EF553B\", \"size\": [38], \"sizemode\": \"area\", \"sizeref\": 3.64}, \"name\": \"country=PHL\", \"showlegend\": true, \"type\": \"scattergeo\"}, {\"geo\": \"geo\", \"hoverlabel\": {\"namelength\": 0}, \"hovertemplate\": \"<b>%{hovertext}</b><br><br>country=%{location}<br>count=%{marker.size}\", \"hovertext\": [\"IDN\"], \"legendgroup\": \"country=IDN\", \"locations\": [\"IDN\"], \"marker\": {\"color\": \"#00cc96\", \"size\": [38], \"sizemode\": \"area\", \"sizeref\": 3.64}, \"name\": \"country=IDN\", \"showlegend\": true, \"type\": \"scattergeo\"}, {\"geo\": \"geo\", \"hoverlabel\": {\"namelength\": 0}, \"hovertemplate\": \"<b>%{hovertext}</b><br><br>country=%{location}<br>count=%{marker.size}\", \"hovertext\": [\"ARG\"], \"legendgroup\": \"country=ARG\", \"locations\": [\"ARG\"], \"marker\": {\"color\": \"#ab63fa\", \"size\": [34], \"sizemode\": \"area\", \"sizeref\": 3.64}, \"name\": \"country=ARG\", \"showlegend\": true, \"type\": \"scattergeo\"}, {\"geo\": \"geo\", \"hoverlabel\": {\"namelength\": 0}, \"hovertemplate\": \"<b>%{hovertext}</b><br><br>country=%{location}<br>count=%{marker.size}\", \"hovertext\": [\"EGY\"], \"legendgroup\": \"country=EGY\", \"locations\": [\"EGY\"], \"marker\": {\"color\": \"#FFA15A\", \"size\": [34], \"sizemode\": \"area\", \"sizeref\": 3.64}, \"name\": \"country=EGY\", \"showlegend\": true, \"type\": \"scattergeo\"}, {\"geo\": \"geo\", \"hoverlabel\": {\"namelength\": 0}, \"hovertemplate\": \"<b>%{hovertext}</b><br><br>country=%{location}<br>count=%{marker.size}\", \"hovertext\": [\"ITA\"], \"legendgroup\": \"country=ITA\", \"locations\": [\"ITA\"], \"marker\": {\"color\": \"#19d3f3\", \"size\": [30], \"sizemode\": \"area\", \"sizeref\": 3.64}, \"name\": \"country=ITA\", \"showlegend\": true, \"type\": \"scattergeo\"}, {\"geo\": \"geo\", \"hoverlabel\": {\"namelength\": 0}, \"hovertemplate\": \"<b>%{hovertext}</b><br><br>country=%{location}<br>count=%{marker.size}\", \"hovertext\": [\"THA\"], \"legendgroup\": \"country=THA\", \"locations\": [\"THA\"], \"marker\": {\"color\": \"#FF6692\", \"size\": [30], \"sizemode\": \"area\", \"sizeref\": 3.64}, \"name\": \"country=THA\", \"showlegend\": true, \"type\": \"scattergeo\"}, {\"geo\": \"geo\", \"hoverlabel\": {\"namelength\": 0}, \"hovertemplate\": \"<b>%{hovertext}</b><br><br>country=%{location}<br>count=%{marker.size}\", \"hovertext\": [\"CHN\"], \"legendgroup\": \"country=CHN\", \"locations\": [\"CHN\"], \"marker\": {\"color\": \"#B6E880\", \"size\": [27], \"sizemode\": \"area\", \"sizeref\": 3.64}, \"name\": \"country=CHN\", \"showlegend\": true, \"type\": \"scattergeo\"}, {\"geo\": \"geo\", \"hoverlabel\": {\"namelength\": 0}, \"hovertemplate\": \"<b>%{hovertext}</b><br><br>country=%{location}<br>count=%{marker.size}\", \"hovertext\": [\"BRA\"], \"legendgroup\": \"country=BRA\", \"locations\": [\"BRA\"], \"marker\": {\"color\": \"#FF97FF\", \"size\": [25], \"sizemode\": \"area\", \"sizeref\": 3.64}, \"name\": \"country=BRA\", \"showlegend\": true, \"type\": \"scattergeo\"}, {\"geo\": \"geo\", \"hoverlabel\": {\"namelength\": 0}, \"hovertemplate\": \"<b>%{hovertext}</b><br><br>country=%{location}<br>count=%{marker.size}\", \"hovertext\": [\"NGA\"], \"legendgroup\": \"country=NGA\", \"locations\": [\"NGA\"], \"marker\": {\"color\": \"#FECB52\", \"size\": [18], \"sizemode\": \"area\", \"sizeref\": 3.64}, \"name\": \"country=NGA\", \"showlegend\": true, \"type\": \"scattergeo\"}, {\"geo\": \"geo\", \"hoverlabel\": {\"namelength\": 0}, \"hovertemplate\": \"<b>%{hovertext}</b><br><br>country=%{location}<br>count=%{marker.size}\", \"hovertext\": [\"PAK\"], \"legendgroup\": \"country=PAK\", \"locations\": [\"PAK\"], \"marker\": {\"color\": \"#636efa\", \"size\": [16], \"sizemode\": \"area\", \"sizeref\": 3.64}, \"name\": \"country=PAK\", \"showlegend\": true, \"type\": \"scattergeo\"}, {\"geo\": \"geo\", \"hoverlabel\": {\"namelength\": 0}, \"hovertemplate\": \"<b>%{hovertext}</b><br><br>country=%{location}<br>count=%{marker.size}\", \"hovertext\": [\"ZAF\"], \"legendgroup\": \"country=ZAF\", \"locations\": [\"ZAF\"], \"marker\": {\"color\": \"#EF553B\", \"size\": [13], \"sizemode\": \"area\", \"sizeref\": 3.64}, \"name\": \"country=ZAF\", \"showlegend\": true, \"type\": \"scattergeo\"}, {\"geo\": \"geo\", \"hoverlabel\": {\"namelength\": 0}, \"hovertemplate\": \"<b>%{hovertext}</b><br><br>country=%{location}<br>count=%{marker.size}\", \"hovertext\": [\"IRL\"], \"legendgroup\": \"country=IRL\", \"locations\": [\"IRL\"], \"marker\": {\"color\": \"#00cc96\", \"size\": [13], \"sizemode\": \"area\", \"sizeref\": 3.64}, \"name\": \"country=IRL\", \"showlegend\": true, \"type\": \"scattergeo\"}, {\"geo\": \"geo\", \"hoverlabel\": {\"namelength\": 0}, \"hovertemplate\": \"<b>%{hovertext}</b><br><br>country=%{location}<br>count=%{marker.size}\", \"hovertext\": [\"COL\"], \"legendgroup\": \"country=COL\", \"locations\": [\"COL\"], \"marker\": {\"color\": \"#ab63fa\", \"size\": [11], \"sizemode\": \"area\", \"sizeref\": 3.64}, \"name\": \"country=COL\", \"showlegend\": true, \"type\": \"scattergeo\"}, {\"geo\": \"geo\", \"hoverlabel\": {\"namelength\": 0}, \"hovertemplate\": \"<b>%{hovertext}</b><br><br>country=%{location}<br>count=%{marker.size}\", \"hovertext\": [\"MYS\"], \"legendgroup\": \"country=MYS\", \"locations\": [\"MYS\"], \"marker\": {\"color\": \"#FFA15A\", \"size\": [10], \"sizemode\": \"area\", \"sizeref\": 3.64}, \"name\": \"country=MYS\", \"showlegend\": true, \"type\": \"scattergeo\"}, {\"geo\": \"geo\", \"hoverlabel\": {\"namelength\": 0}, \"hovertemplate\": \"<b>%{hovertext}</b><br><br>country=%{location}<br>count=%{marker.size}\", \"hovertext\": [\"DNK\"], \"legendgroup\": \"country=DNK\", \"locations\": [\"DNK\"], \"marker\": {\"color\": \"#19d3f3\", \"size\": [10], \"sizemode\": \"area\", \"sizeref\": 3.64}, \"name\": \"country=DNK\", \"showlegend\": true, \"type\": \"scattergeo\"}, {\"geo\": \"geo\", \"hoverlabel\": {\"namelength\": 0}, \"hovertemplate\": \"<b>%{hovertext}</b><br><br>country=%{location}<br>count=%{marker.size}\", \"hovertext\": [\"CHL\"], \"legendgroup\": \"country=CHL\", \"locations\": [\"CHL\"], \"marker\": {\"color\": \"#FF6692\", \"size\": [9], \"sizemode\": \"area\", \"sizeref\": 3.64}, \"name\": \"country=CHL\", \"showlegend\": true, \"type\": \"scattergeo\"}, {\"geo\": \"geo\", \"hoverlabel\": {\"namelength\": 0}, \"hovertemplate\": \"<b>%{hovertext}</b><br><br>country=%{location}<br>count=%{marker.size}\", \"hovertext\": [\"ISR\"], \"legendgroup\": \"country=ISR\", \"locations\": [\"ISR\"], \"marker\": {\"color\": \"#B6E880\", \"size\": [9], \"sizemode\": \"area\", \"sizeref\": 3.64}, \"name\": \"country=ISR\", \"showlegend\": true, \"type\": \"scattergeo\"}, {\"geo\": \"geo\", \"hoverlabel\": {\"namelength\": 0}, \"hovertemplate\": \"<b>%{hovertext}</b><br><br>country=%{location}<br>count=%{marker.size}\", \"hovertext\": [\"ARE\"], \"legendgroup\": \"country=ARE\", \"locations\": [\"ARE\"], \"marker\": {\"color\": \"#FF97FF\", \"size\": [9], \"sizemode\": \"area\", \"sizeref\": 3.64}, \"name\": \"country=ARE\", \"showlegend\": true, \"type\": \"scattergeo\"}, {\"geo\": \"geo\", \"hoverlabel\": {\"namelength\": 0}, \"hovertemplate\": \"<b>%{hovertext}</b><br><br>country=%{location}<br>count=%{marker.size}\", \"hovertext\": [\"NZL\"], \"legendgroup\": \"country=NZL\", \"locations\": [\"NZL\"], \"marker\": {\"color\": \"#FECB52\", \"size\": [8], \"sizemode\": \"area\", \"sizeref\": 3.64}, \"name\": \"country=NZL\", \"showlegend\": true, \"type\": \"scattergeo\"}, {\"geo\": \"geo\", \"hoverlabel\": {\"namelength\": 0}, \"hovertemplate\": \"<b>%{hovertext}</b><br><br>country=%{location}<br>count=%{marker.size}\", \"hovertext\": [\"POL\"], \"legendgroup\": \"country=POL\", \"locations\": [\"POL\"], \"marker\": {\"color\": \"#636efa\", \"size\": [8], \"sizemode\": \"area\", \"sizeref\": 3.64}, \"name\": \"country=POL\", \"showlegend\": true, \"type\": \"scattergeo\"}, {\"geo\": \"geo\", \"hoverlabel\": {\"namelength\": 0}, \"hovertemplate\": \"<b>%{hovertext}</b><br><br>country=%{location}<br>count=%{marker.size}\", \"hovertext\": [\"NLD\"], \"legendgroup\": \"country=NLD\", \"locations\": [\"NLD\"], \"marker\": {\"color\": \"#EF553B\", \"size\": [8], \"sizemode\": \"area\", \"sizeref\": 3.64}, \"name\": \"country=NLD\", \"showlegend\": true, \"type\": \"scattergeo\"}, {\"geo\": \"geo\", \"hoverlabel\": {\"namelength\": 0}, \"hovertemplate\": \"<b>%{hovertext}</b><br><br>country=%{location}<br>count=%{marker.size}\", \"hovertext\": [\"SGP\"], \"legendgroup\": \"country=SGP\", \"locations\": [\"SGP\"], \"marker\": {\"color\": \"#00cc96\", \"size\": [7], \"sizemode\": \"area\", \"sizeref\": 3.64}, \"name\": \"country=SGP\", \"showlegend\": true, \"type\": \"scattergeo\"}, {\"geo\": \"geo\", \"hoverlabel\": {\"namelength\": 0}, \"hovertemplate\": \"<b>%{hovertext}</b><br><br>country=%{location}<br>count=%{marker.size}\", \"hovertext\": [\"ROU\"], \"legendgroup\": \"country=ROU\", \"locations\": [\"ROU\"], \"marker\": {\"color\": \"#ab63fa\", \"size\": [7], \"sizemode\": \"area\", \"sizeref\": 3.64}, \"name\": \"country=ROU\", \"showlegend\": true, \"type\": \"scattergeo\"}, {\"geo\": \"geo\", \"hoverlabel\": {\"namelength\": 0}, \"hovertemplate\": \"<b>%{hovertext}</b><br><br>country=%{location}<br>count=%{marker.size}\", \"hovertext\": [\"SWE\"], \"legendgroup\": \"country=SWE\", \"locations\": [\"SWE\"], \"marker\": {\"color\": \"#FFA15A\", \"size\": [7], \"sizemode\": \"area\", \"sizeref\": 3.64}, \"name\": \"country=SWE\", \"showlegend\": true, \"type\": \"scattergeo\"}, {\"geo\": \"geo\", \"hoverlabel\": {\"namelength\": 0}, \"hovertemplate\": \"<b>%{hovertext}</b><br><br>country=%{location}<br>count=%{marker.size}\", \"hovertext\": [\"BEL\"], \"legendgroup\": \"country=BEL\", \"locations\": [\"BEL\"], \"marker\": {\"color\": \"#19d3f3\", \"size\": [6], \"sizemode\": \"area\", \"sizeref\": 3.64}, \"name\": \"country=BEL\", \"showlegend\": true, \"type\": \"scattergeo\"}, {\"geo\": \"geo\", \"hoverlabel\": {\"namelength\": 0}, \"hovertemplate\": \"<b>%{hovertext}</b><br><br>country=%{location}<br>count=%{marker.size}\", \"hovertext\": [\"NOR\"], \"legendgroup\": \"country=NOR\", \"locations\": [\"NOR\"], \"marker\": {\"color\": \"#FF6692\", \"size\": [6], \"sizemode\": \"area\", \"sizeref\": 3.64}, \"name\": \"country=NOR\", \"showlegend\": true, \"type\": \"scattergeo\"}, {\"geo\": \"geo\", \"hoverlabel\": {\"namelength\": 0}, \"hovertemplate\": \"<b>%{hovertext}</b><br><br>country=%{location}<br>count=%{marker.size}\", \"hovertext\": [\"TWN\"], \"legendgroup\": \"country=TWN\", \"locations\": [\"TWN\"], \"marker\": {\"color\": \"#B6E880\", \"size\": [6], \"sizemode\": \"area\", \"sizeref\": 3.64}, \"name\": \"country=TWN\", \"showlegend\": true, \"type\": \"scattergeo\"}, {\"geo\": \"geo\", \"hoverlabel\": {\"namelength\": 0}, \"hovertemplate\": \"<b>%{hovertext}</b><br><br>country=%{location}<br>count=%{marker.size}\", \"hovertext\": [\"PER\"], \"legendgroup\": \"country=PER\", \"locations\": [\"PER\"], \"marker\": {\"color\": \"#FF97FF\", \"size\": [6], \"sizemode\": \"area\", \"sizeref\": 3.64}, \"name\": \"country=PER\", \"showlegend\": true, \"type\": \"scattergeo\"}, {\"geo\": \"geo\", \"hoverlabel\": {\"namelength\": 0}, \"hovertemplate\": \"<b>%{hovertext}</b><br><br>country=%{location}<br>count=%{marker.size}\", \"hovertext\": [\"FIN\"], \"legendgroup\": \"country=FIN\", \"locations\": [\"FIN\"], \"marker\": {\"color\": \"#FECB52\", \"size\": [5], \"sizemode\": \"area\", \"sizeref\": 3.64}, \"name\": \"country=FIN\", \"showlegend\": true, \"type\": \"scattergeo\"}, {\"geo\": \"geo\", \"hoverlabel\": {\"namelength\": 0}, \"hovertemplate\": \"<b>%{hovertext}</b><br><br>country=%{location}<br>count=%{marker.size}\", \"hovertext\": [\"CHE\"], \"legendgroup\": \"country=CHE\", \"locations\": [\"CHE\"], \"marker\": {\"color\": \"#636efa\", \"size\": [5], \"sizemode\": \"area\", \"sizeref\": 3.64}, \"name\": \"country=CHE\", \"showlegend\": true, \"type\": \"scattergeo\"}, {\"geo\": \"geo\", \"hoverlabel\": {\"namelength\": 0}, \"hovertemplate\": \"<b>%{hovertext}</b><br><br>country=%{location}<br>count=%{marker.size}\", \"hovertext\": [\"URY\"], \"legendgroup\": \"country=URY\", \"locations\": [\"URY\"], \"marker\": {\"color\": \"#EF553B\", \"size\": [5], \"sizemode\": \"area\", \"sizeref\": 3.64}, \"name\": \"country=URY\", \"showlegend\": true, \"type\": \"scattergeo\"}, {\"geo\": \"geo\", \"hoverlabel\": {\"namelength\": 0}, \"hovertemplate\": \"<b>%{hovertext}</b><br><br>country=%{location}<br>count=%{marker.size}\", \"hovertext\": [\"BGR\"], \"legendgroup\": \"country=BGR\", \"locations\": [\"BGR\"], \"marker\": {\"color\": \"#00cc96\", \"size\": [4], \"sizemode\": \"area\", \"sizeref\": 3.64}, \"name\": \"country=BGR\", \"showlegend\": true, \"type\": \"scattergeo\"}, {\"geo\": \"geo\", \"hoverlabel\": {\"namelength\": 0}, \"hovertemplate\": \"<b>%{hovertext}</b><br><br>country=%{location}<br>count=%{marker.size}\", \"hovertext\": [\"SAU\"], \"legendgroup\": \"country=SAU\", \"locations\": [\"SAU\"], \"marker\": {\"color\": \"#ab63fa\", \"size\": [3], \"sizemode\": \"area\", \"sizeref\": 3.64}, \"name\": \"country=SAU\", \"showlegend\": true, \"type\": \"scattergeo\"}, {\"geo\": \"geo\", \"hoverlabel\": {\"namelength\": 0}, \"hovertemplate\": \"<b>%{hovertext}</b><br><br>country=%{location}<br>count=%{marker.size}\", \"hovertext\": [\"AUT\"], \"legendgroup\": \"country=AUT\", \"locations\": [\"AUT\"], \"marker\": {\"color\": \"#FFA15A\", \"size\": [3], \"sizemode\": \"area\", \"sizeref\": 3.64}, \"name\": \"country=AUT\", \"showlegend\": true, \"type\": \"scattergeo\"}, {\"geo\": \"geo\", \"hoverlabel\": {\"namelength\": 0}, \"hovertemplate\": \"<b>%{hovertext}</b><br><br>country=%{location}<br>count=%{marker.size}\", \"hovertext\": [\"HUN\"], \"legendgroup\": \"country=HUN\", \"locations\": [\"HUN\"], \"marker\": {\"color\": \"#19d3f3\", \"size\": [3], \"sizemode\": \"area\", \"sizeref\": 3.64}, \"name\": \"country=HUN\", \"showlegend\": true, \"type\": \"scattergeo\"}, {\"geo\": \"geo\", \"hoverlabel\": {\"namelength\": 0}, \"hovertemplate\": \"<b>%{hovertext}</b><br><br>country=%{location}<br>count=%{marker.size}\", \"hovertext\": [\"GHA\"], \"legendgroup\": \"country=GHA\", \"locations\": [\"GHA\"], \"marker\": {\"color\": \"#FF6692\", \"size\": [2], \"sizemode\": \"area\", \"sizeref\": 3.64}, \"name\": \"country=GHA\", \"showlegend\": true, \"type\": \"scattergeo\"}, {\"geo\": \"geo\", \"hoverlabel\": {\"namelength\": 0}, \"hovertemplate\": \"<b>%{hovertext}</b><br><br>country=%{location}<br>count=%{marker.size}\", \"hovertext\": [\"GEO\"], \"legendgroup\": \"country=GEO\", \"locations\": [\"GEO\"], \"marker\": {\"color\": \"#B6E880\", \"size\": [2], \"sizemode\": \"area\", \"sizeref\": 3.64}, \"name\": \"country=GEO\", \"showlegend\": true, \"type\": \"scattergeo\"}, {\"geo\": \"geo\", \"hoverlabel\": {\"namelength\": 0}, \"hovertemplate\": \"<b>%{hovertext}</b><br><br>country=%{location}<br>count=%{marker.size}\", \"hovertext\": [\"SVN\"], \"legendgroup\": \"country=SVN\", \"locations\": [\"SVN\"], \"marker\": {\"color\": \"#FF97FF\", \"size\": [2], \"sizemode\": \"area\", \"sizeref\": 3.64}, \"name\": \"country=SVN\", \"showlegend\": true, \"type\": \"scattergeo\"}, {\"geo\": \"geo\", \"hoverlabel\": {\"namelength\": 0}, \"hovertemplate\": \"<b>%{hovertext}</b><br><br>country=%{location}<br>count=%{marker.size}\", \"hovertext\": [\"KHM\"], \"legendgroup\": \"country=KHM\", \"locations\": [\"KHM\"], \"marker\": {\"color\": \"#FECB52\", \"size\": [2], \"sizemode\": \"area\", \"sizeref\": 3.64}, \"name\": \"country=KHM\", \"showlegend\": true, \"type\": \"scattergeo\"}, {\"geo\": \"geo\", \"hoverlabel\": {\"namelength\": 0}, \"hovertemplate\": \"<b>%{hovertext}</b><br><br>country=%{location}<br>count=%{marker.size}\", \"hovertext\": [\"LBN\"], \"legendgroup\": \"country=LBN\", \"locations\": [\"LBN\"], \"marker\": {\"color\": \"#636efa\", \"size\": [2], \"sizemode\": \"area\", \"sizeref\": 3.64}, \"name\": \"country=LBN\", \"showlegend\": true, \"type\": \"scattergeo\"}, {\"geo\": \"geo\", \"hoverlabel\": {\"namelength\": 0}, \"hovertemplate\": \"<b>%{hovertext}</b><br><br>country=%{location}<br>count=%{marker.size}\", \"hovertext\": [\"BGD\"], \"legendgroup\": \"country=BGD\", \"locations\": [\"BGD\"], \"marker\": {\"color\": \"#EF553B\", \"size\": [1], \"sizemode\": \"area\", \"sizeref\": 3.64}, \"name\": \"country=BGD\", \"showlegend\": true, \"type\": \"scattergeo\"}, {\"geo\": \"geo\", \"hoverlabel\": {\"namelength\": 0}, \"hovertemplate\": \"<b>%{hovertext}</b><br><br>country=%{location}<br>count=%{marker.size}\", \"hovertext\": [\"HRV\"], \"legendgroup\": \"country=HRV\", \"locations\": [\"HRV\"], \"marker\": {\"color\": \"#00cc96\", \"size\": [1], \"sizemode\": \"area\", \"sizeref\": 3.64}, \"name\": \"country=HRV\", \"showlegend\": true, \"type\": \"scattergeo\"}, {\"geo\": \"geo\", \"hoverlabel\": {\"namelength\": 0}, \"hovertemplate\": \"<b>%{hovertext}</b><br><br>country=%{location}<br>count=%{marker.size}\", \"hovertext\": [\"IRQ\"], \"legendgroup\": \"country=IRQ\", \"locations\": [\"IRQ\"], \"marker\": {\"color\": \"#ab63fa\", \"size\": [1], \"sizemode\": \"area\", \"sizeref\": 3.64}, \"name\": \"country=IRQ\", \"showlegend\": true, \"type\": \"scattergeo\"}, {\"geo\": \"geo\", \"hoverlabel\": {\"namelength\": 0}, \"hovertemplate\": \"<b>%{hovertext}</b><br><br>country=%{location}<br>count=%{marker.size}\", \"hovertext\": [\"PRY\"], \"legendgroup\": \"country=PRY\", \"locations\": [\"PRY\"], \"marker\": {\"color\": \"#FFA15A\", \"size\": [1], \"sizemode\": \"area\", \"sizeref\": 3.64}, \"name\": \"country=PRY\", \"showlegend\": true, \"type\": \"scattergeo\"}, {\"geo\": \"geo\", \"hoverlabel\": {\"namelength\": 0}, \"hovertemplate\": \"<b>%{hovertext}</b><br><br>country=%{location}<br>count=%{marker.size}\", \"hovertext\": [\"JAM\"], \"legendgroup\": \"country=JAM\", \"locations\": [\"JAM\"], \"marker\": {\"color\": \"#19d3f3\", \"size\": [1], \"sizemode\": \"area\", \"sizeref\": 3.64}, \"name\": \"country=JAM\", \"showlegend\": true, \"type\": \"scattergeo\"}, {\"geo\": \"geo\", \"hoverlabel\": {\"namelength\": 0}, \"hovertemplate\": \"<b>%{hovertext}</b><br><br>country=%{location}<br>count=%{marker.size}\", \"hovertext\": [\"SRB\"], \"legendgroup\": \"country=SRB\", \"locations\": [\"SRB\"], \"marker\": {\"color\": \"#FF6692\", \"size\": [1], \"sizemode\": \"area\", \"sizeref\": 3.64}, \"name\": \"country=SRB\", \"showlegend\": true, \"type\": \"scattergeo\"}, {\"geo\": \"geo\", \"hoverlabel\": {\"namelength\": 0}, \"hovertemplate\": \"<b>%{hovertext}</b><br><br>country=%{location}<br>count=%{marker.size}\", \"hovertext\": [\"KEN\"], \"legendgroup\": \"country=KEN\", \"locations\": [\"KEN\"], \"marker\": {\"color\": \"#B6E880\", \"size\": [1], \"sizemode\": \"area\", \"sizeref\": 3.64}, \"name\": \"country=KEN\", \"showlegend\": true, \"type\": \"scattergeo\"}, {\"geo\": \"geo\", \"hoverlabel\": {\"namelength\": 0}, \"hovertemplate\": \"<b>%{hovertext}</b><br><br>country=%{location}<br>count=%{marker.size}\", \"hovertext\": [\"QAT\"], \"legendgroup\": \"country=QAT\", \"locations\": [\"QAT\"], \"marker\": {\"color\": \"#FF97FF\", \"size\": [1], \"sizemode\": \"area\", \"sizeref\": 3.64}, \"name\": \"country=QAT\", \"showlegend\": true, \"type\": \"scattergeo\"}, {\"geo\": \"geo\", \"hoverlabel\": {\"namelength\": 0}, \"hovertemplate\": \"<b>%{hovertext}</b><br><br>country=%{location}<br>count=%{marker.size}\", \"hovertext\": [\"PRT\"], \"legendgroup\": \"country=PRT\", \"locations\": [\"PRT\"], \"marker\": {\"color\": \"#FECB52\", \"size\": [1], \"sizemode\": \"area\", \"sizeref\": 3.64}, \"name\": \"country=PRT\", \"showlegend\": true, \"type\": \"scattergeo\"}, {\"geo\": \"geo\", \"hoverlabel\": {\"namelength\": 0}, \"hovertemplate\": \"<b>%{hovertext}</b><br><br>country=%{location}<br>count=%{marker.size}\", \"hovertext\": [\"ISL\"], \"legendgroup\": \"country=ISL\", \"locations\": [\"ISL\"], \"marker\": {\"color\": \"#636efa\", \"size\": [1], \"sizemode\": \"area\", \"sizeref\": 3.64}, \"name\": \"country=ISL\", \"showlegend\": true, \"type\": \"scattergeo\"}, {\"geo\": \"geo\", \"hoverlabel\": {\"namelength\": 0}, \"hovertemplate\": \"<b>%{hovertext}</b><br><br>country=%{location}<br>count=%{marker.size}\", \"hovertext\": [\"KWT\"], \"legendgroup\": \"country=KWT\", \"locations\": [\"KWT\"], \"marker\": {\"color\": \"#EF553B\", \"size\": [1], \"sizemode\": \"area\", \"sizeref\": 3.64}, \"name\": \"country=KWT\", \"showlegend\": true, \"type\": \"scattergeo\"}, {\"geo\": \"geo\", \"hoverlabel\": {\"namelength\": 0}, \"hovertemplate\": \"<b>%{hovertext}</b><br><br>country=%{location}<br>count=%{marker.size}\", \"hovertext\": [\"GRC\"], \"legendgroup\": \"country=GRC\", \"locations\": [\"GRC\"], \"marker\": {\"color\": \"#00cc96\", \"size\": [1], \"sizemode\": \"area\", \"sizeref\": 3.64}, \"name\": \"country=GRC\", \"showlegend\": true, \"type\": \"scattergeo\"}],\n",
              "                        {\"geo\": {\"center\": {}, \"domain\": {\"x\": [0.0, 1.0], \"y\": [0.0, 1.0]}, \"projection\": {\"type\": \"orthographic\"}}, \"legend\": {\"itemsizing\": \"constant\", \"tracegroupgap\": 0}, \"margin\": {\"t\": 60}, \"template\": {\"data\": {\"bar\": [{\"error_x\": {\"color\": \"#2a3f5f\"}, \"error_y\": {\"color\": \"#2a3f5f\"}, \"marker\": {\"line\": {\"color\": \"#E5ECF6\", \"width\": 0.5}}, \"type\": \"bar\"}], \"barpolar\": [{\"marker\": {\"line\": {\"color\": \"#E5ECF6\", \"width\": 0.5}}, \"type\": \"barpolar\"}], \"carpet\": [{\"aaxis\": {\"endlinecolor\": \"#2a3f5f\", \"gridcolor\": \"white\", \"linecolor\": \"white\", \"minorgridcolor\": \"white\", \"startlinecolor\": \"#2a3f5f\"}, \"baxis\": {\"endlinecolor\": \"#2a3f5f\", \"gridcolor\": \"white\", \"linecolor\": \"white\", \"minorgridcolor\": \"white\", \"startlinecolor\": \"#2a3f5f\"}, \"type\": \"carpet\"}], \"choropleth\": [{\"colorbar\": {\"outlinewidth\": 0, \"ticks\": \"\"}, \"type\": \"choropleth\"}], \"contour\": [{\"colorbar\": {\"outlinewidth\": 0, \"ticks\": \"\"}, \"colorscale\": [[0.0, \"#0d0887\"], [0.1111111111111111, \"#46039f\"], [0.2222222222222222, \"#7201a8\"], [0.3333333333333333, \"#9c179e\"], [0.4444444444444444, \"#bd3786\"], [0.5555555555555556, \"#d8576b\"], [0.6666666666666666, \"#ed7953\"], [0.7777777777777778, \"#fb9f3a\"], [0.8888888888888888, \"#fdca26\"], [1.0, \"#f0f921\"]], \"type\": \"contour\"}], \"contourcarpet\": [{\"colorbar\": {\"outlinewidth\": 0, \"ticks\": \"\"}, \"type\": \"contourcarpet\"}], \"heatmap\": [{\"colorbar\": {\"outlinewidth\": 0, \"ticks\": \"\"}, \"colorscale\": [[0.0, \"#0d0887\"], [0.1111111111111111, \"#46039f\"], [0.2222222222222222, \"#7201a8\"], [0.3333333333333333, \"#9c179e\"], [0.4444444444444444, \"#bd3786\"], [0.5555555555555556, \"#d8576b\"], [0.6666666666666666, \"#ed7953\"], [0.7777777777777778, \"#fb9f3a\"], [0.8888888888888888, \"#fdca26\"], [1.0, \"#f0f921\"]], \"type\": \"heatmap\"}], \"heatmapgl\": [{\"colorbar\": {\"outlinewidth\": 0, \"ticks\": \"\"}, \"colorscale\": [[0.0, \"#0d0887\"], [0.1111111111111111, \"#46039f\"], [0.2222222222222222, \"#7201a8\"], [0.3333333333333333, \"#9c179e\"], [0.4444444444444444, \"#bd3786\"], [0.5555555555555556, \"#d8576b\"], [0.6666666666666666, \"#ed7953\"], [0.7777777777777778, \"#fb9f3a\"], [0.8888888888888888, \"#fdca26\"], [1.0, \"#f0f921\"]], \"type\": \"heatmapgl\"}], \"histogram\": [{\"marker\": {\"colorbar\": {\"outlinewidth\": 0, \"ticks\": \"\"}}, \"type\": \"histogram\"}], \"histogram2d\": [{\"colorbar\": {\"outlinewidth\": 0, \"ticks\": \"\"}, \"colorscale\": [[0.0, \"#0d0887\"], [0.1111111111111111, \"#46039f\"], [0.2222222222222222, \"#7201a8\"], [0.3333333333333333, \"#9c179e\"], [0.4444444444444444, \"#bd3786\"], [0.5555555555555556, \"#d8576b\"], [0.6666666666666666, \"#ed7953\"], [0.7777777777777778, \"#fb9f3a\"], [0.8888888888888888, \"#fdca26\"], [1.0, \"#f0f921\"]], \"type\": \"histogram2d\"}], \"histogram2dcontour\": [{\"colorbar\": {\"outlinewidth\": 0, \"ticks\": \"\"}, \"colorscale\": [[0.0, \"#0d0887\"], [0.1111111111111111, \"#46039f\"], [0.2222222222222222, \"#7201a8\"], [0.3333333333333333, \"#9c179e\"], [0.4444444444444444, \"#bd3786\"], [0.5555555555555556, \"#d8576b\"], [0.6666666666666666, \"#ed7953\"], [0.7777777777777778, \"#fb9f3a\"], [0.8888888888888888, \"#fdca26\"], [1.0, \"#f0f921\"]], \"type\": \"histogram2dcontour\"}], \"mesh3d\": [{\"colorbar\": {\"outlinewidth\": 0, \"ticks\": \"\"}, \"type\": \"mesh3d\"}], \"parcoords\": [{\"line\": {\"colorbar\": {\"outlinewidth\": 0, \"ticks\": \"\"}}, \"type\": \"parcoords\"}], \"pie\": [{\"automargin\": true, \"type\": \"pie\"}], \"scatter\": [{\"marker\": {\"colorbar\": {\"outlinewidth\": 0, \"ticks\": \"\"}}, \"type\": \"scatter\"}], \"scatter3d\": [{\"line\": {\"colorbar\": {\"outlinewidth\": 0, \"ticks\": \"\"}}, \"marker\": {\"colorbar\": {\"outlinewidth\": 0, \"ticks\": \"\"}}, \"type\": \"scatter3d\"}], \"scattercarpet\": [{\"marker\": {\"colorbar\": {\"outlinewidth\": 0, \"ticks\": \"\"}}, \"type\": \"scattercarpet\"}], \"scattergeo\": [{\"marker\": {\"colorbar\": {\"outlinewidth\": 0, \"ticks\": \"\"}}, \"type\": \"scattergeo\"}], \"scattergl\": [{\"marker\": {\"colorbar\": {\"outlinewidth\": 0, \"ticks\": \"\"}}, \"type\": \"scattergl\"}], \"scattermapbox\": [{\"marker\": {\"colorbar\": {\"outlinewidth\": 0, \"ticks\": \"\"}}, \"type\": \"scattermapbox\"}], \"scatterpolar\": [{\"marker\": {\"colorbar\": {\"outlinewidth\": 0, \"ticks\": \"\"}}, \"type\": \"scatterpolar\"}], \"scatterpolargl\": [{\"marker\": {\"colorbar\": {\"outlinewidth\": 0, \"ticks\": \"\"}}, \"type\": \"scatterpolargl\"}], \"scatterternary\": [{\"marker\": {\"colorbar\": {\"outlinewidth\": 0, \"ticks\": \"\"}}, \"type\": \"scatterternary\"}], \"surface\": [{\"colorbar\": {\"outlinewidth\": 0, \"ticks\": \"\"}, \"colorscale\": [[0.0, \"#0d0887\"], [0.1111111111111111, \"#46039f\"], [0.2222222222222222, \"#7201a8\"], [0.3333333333333333, \"#9c179e\"], [0.4444444444444444, \"#bd3786\"], [0.5555555555555556, \"#d8576b\"], [0.6666666666666666, \"#ed7953\"], [0.7777777777777778, \"#fb9f3a\"], [0.8888888888888888, \"#fdca26\"], [1.0, \"#f0f921\"]], \"type\": \"surface\"}], \"table\": [{\"cells\": {\"fill\": {\"color\": \"#EBF0F8\"}, \"line\": {\"color\": \"white\"}}, \"header\": {\"fill\": {\"color\": \"#C8D4E3\"}, \"line\": {\"color\": \"white\"}}, \"type\": \"table\"}]}, \"layout\": {\"annotationdefaults\": {\"arrowcolor\": \"#2a3f5f\", \"arrowhead\": 0, \"arrowwidth\": 1}, \"coloraxis\": {\"colorbar\": {\"outlinewidth\": 0, \"ticks\": \"\"}}, \"colorscale\": {\"diverging\": [[0, \"#8e0152\"], [0.1, \"#c51b7d\"], [0.2, \"#de77ae\"], [0.3, \"#f1b6da\"], [0.4, \"#fde0ef\"], [0.5, \"#f7f7f7\"], [0.6, \"#e6f5d0\"], [0.7, \"#b8e186\"], [0.8, \"#7fbc41\"], [0.9, \"#4d9221\"], [1, \"#276419\"]], \"sequential\": [[0.0, \"#0d0887\"], [0.1111111111111111, \"#46039f\"], [0.2222222222222222, \"#7201a8\"], [0.3333333333333333, \"#9c179e\"], [0.4444444444444444, \"#bd3786\"], [0.5555555555555556, \"#d8576b\"], [0.6666666666666666, \"#ed7953\"], [0.7777777777777778, \"#fb9f3a\"], [0.8888888888888888, \"#fdca26\"], [1.0, \"#f0f921\"]], \"sequentialminus\": [[0.0, \"#0d0887\"], [0.1111111111111111, \"#46039f\"], [0.2222222222222222, \"#7201a8\"], [0.3333333333333333, \"#9c179e\"], [0.4444444444444444, \"#bd3786\"], [0.5555555555555556, \"#d8576b\"], [0.6666666666666666, \"#ed7953\"], [0.7777777777777778, \"#fb9f3a\"], [0.8888888888888888, \"#fdca26\"], [1.0, \"#f0f921\"]]}, \"colorway\": [\"#636efa\", \"#EF553B\", \"#00cc96\", \"#ab63fa\", \"#FFA15A\", \"#19d3f3\", \"#FF6692\", \"#B6E880\", \"#FF97FF\", \"#FECB52\"], \"font\": {\"color\": \"#2a3f5f\"}, \"geo\": {\"bgcolor\": \"white\", \"lakecolor\": \"white\", \"landcolor\": \"#E5ECF6\", \"showlakes\": true, \"showland\": true, \"subunitcolor\": \"white\"}, \"hoverlabel\": {\"align\": \"left\"}, \"hovermode\": \"closest\", \"mapbox\": {\"style\": \"light\"}, \"paper_bgcolor\": \"white\", \"plot_bgcolor\": \"#E5ECF6\", \"polar\": {\"angularaxis\": {\"gridcolor\": \"white\", \"linecolor\": \"white\", \"ticks\": \"\"}, \"bgcolor\": \"#E5ECF6\", \"radialaxis\": {\"gridcolor\": \"white\", \"linecolor\": \"white\", \"ticks\": \"\"}}, \"scene\": {\"xaxis\": {\"backgroundcolor\": \"#E5ECF6\", \"gridcolor\": \"white\", \"gridwidth\": 2, \"linecolor\": \"white\", \"showbackground\": true, \"ticks\": \"\", \"zerolinecolor\": \"white\"}, \"yaxis\": {\"backgroundcolor\": \"#E5ECF6\", \"gridcolor\": \"white\", \"gridwidth\": 2, \"linecolor\": \"white\", \"showbackground\": true, \"ticks\": \"\", \"zerolinecolor\": \"white\"}, \"zaxis\": {\"backgroundcolor\": \"#E5ECF6\", \"gridcolor\": \"white\", \"gridwidth\": 2, \"linecolor\": \"white\", \"showbackground\": true, \"ticks\": \"\", \"zerolinecolor\": \"white\"}}, \"shapedefaults\": {\"line\": {\"color\": \"#2a3f5f\"}}, \"ternary\": {\"aaxis\": {\"gridcolor\": \"white\", \"linecolor\": \"white\", \"ticks\": \"\"}, \"baxis\": {\"gridcolor\": \"white\", \"linecolor\": \"white\", \"ticks\": \"\"}, \"bgcolor\": \"#E5ECF6\", \"caxis\": {\"gridcolor\": \"white\", \"linecolor\": \"white\", \"ticks\": \"\"}}, \"title\": {\"x\": 0.05}, \"xaxis\": {\"automargin\": true, \"gridcolor\": \"white\", \"linecolor\": \"white\", \"ticks\": \"\", \"title\": {\"standoff\": 15}, \"zerolinecolor\": \"white\", \"zerolinewidth\": 2}, \"yaxis\": {\"automargin\": true, \"gridcolor\": \"white\", \"linecolor\": \"white\", \"ticks\": \"\", \"title\": {\"standoff\": 15}, \"zerolinecolor\": \"white\", \"zerolinewidth\": 2}}}},\n",
              "                        {\"responsive\": true}\n",
              "                    ).then(function(){\n",
              "                            \n",
              "var gd = document.getElementById('499c43fb-e7ea-4420-8430-1c9a1f793422');\n",
              "var x = new MutationObserver(function (mutations, observer) {{\n",
              "        var display = window.getComputedStyle(gd).display;\n",
              "        if (!display || display === 'none') {{\n",
              "            console.log([gd, 'removed!']);\n",
              "            Plotly.purge(gd);\n",
              "            observer.disconnect();\n",
              "        }}\n",
              "}});\n",
              "\n",
              "// Listen for the removal of the full notebook cells\n",
              "var notebookContainer = gd.closest('#notebook-container');\n",
              "if (notebookContainer) {{\n",
              "    x.observe(notebookContainer, {childList: true});\n",
              "}}\n",
              "\n",
              "// Listen for the clearing of the current output cell\n",
              "var outputEl = gd.closest('.output');\n",
              "if (outputEl) {{\n",
              "    x.observe(outputEl, {childList: true});\n",
              "}}\n",
              "\n",
              "                        })\n",
              "                };\n",
              "                \n",
              "            </script>\n",
              "        </div>\n",
              "</body>\n",
              "</html>"
            ]
          },
          "metadata": {
            "tags": []
          }
        }
      ]
    },
    {
      "cell_type": "code",
      "metadata": {
        "colab": {
          "base_uri": "https://localhost:8080/",
          "height": 542
        },
        "id": "beW2u0-AtH3D",
        "outputId": "7baaa178-9083-4aaf-e343-22d7f1c34a80"
      },
      "source": [
        "import plotly.express as px\n",
        "fig = px.scatter_geo(country_df, locations=\"country\", size='count',\n",
        "                     hover_name=\"country\", color='country',\n",
        "                     projection=\"natural earth\")\n",
        "fig.show()"
      ],
      "execution_count": 38,
      "outputs": [
        {
          "output_type": "display_data",
          "data": {
            "text/html": [
              "<html>\n",
              "<head><meta charset=\"utf-8\" /></head>\n",
              "<body>\n",
              "    <div>\n",
              "            <script src=\"https://cdnjs.cloudflare.com/ajax/libs/mathjax/2.7.5/MathJax.js?config=TeX-AMS-MML_SVG\"></script><script type=\"text/javascript\">if (window.MathJax) {MathJax.Hub.Config({SVG: {font: \"STIX-Web\"}});}</script>\n",
              "                <script type=\"text/javascript\">window.PlotlyConfig = {MathJaxConfig: 'local'};</script>\n",
              "        <script src=\"https://cdn.plot.ly/plotly-latest.min.js\"></script>    \n",
              "            <div id=\"08ab542a-32e9-440e-a562-6e6719c10097\" class=\"plotly-graph-div\" style=\"height:525px; width:100%;\"></div>\n",
              "            <script type=\"text/javascript\">\n",
              "                \n",
              "                    window.PLOTLYENV=window.PLOTLYENV || {};\n",
              "                    \n",
              "                if (document.getElementById(\"08ab542a-32e9-440e-a562-6e6719c10097\")) {\n",
              "                    Plotly.newPlot(\n",
              "                        '08ab542a-32e9-440e-a562-6e6719c10097',\n",
              "                        [{\"geo\": \"geo\", \"hoverlabel\": {\"namelength\": 0}, \"hovertemplate\": \"<b>%{hovertext}</b><br><br>country=%{location}<br>count=%{marker.size}\", \"hovertext\": [\"USA\"], \"legendgroup\": \"country=USA\", \"locations\": [\"USA\"], \"marker\": {\"color\": \"#636efa\", \"size\": [1456], \"sizemode\": \"area\", \"sizeref\": 3.64}, \"name\": \"country=USA\", \"showlegend\": true, \"type\": \"scattergeo\"}, {\"geo\": \"geo\", \"hoverlabel\": {\"namelength\": 0}, \"hovertemplate\": \"<b>%{hovertext}</b><br><br>country=%{location}<br>count=%{marker.size}\", \"hovertext\": [\"IND\"], \"legendgroup\": \"country=IND\", \"locations\": [\"IND\"], \"marker\": {\"color\": \"#EF553B\", \"size\": [542], \"sizemode\": \"area\", \"sizeref\": 3.64}, \"name\": \"country=IND\", \"showlegend\": true, \"type\": \"scattergeo\"}, {\"geo\": \"geo\", \"hoverlabel\": {\"namelength\": 0}, \"hovertemplate\": \"<b>%{hovertext}</b><br><br>country=%{location}<br>count=%{marker.size}\", \"hovertext\": [\"CAN\"], \"legendgroup\": \"country=CAN\", \"locations\": [\"CAN\"], \"marker\": {\"color\": \"#00cc96\", \"size\": [122], \"sizemode\": \"area\", \"sizeref\": 3.64}, \"name\": \"country=CAN\", \"showlegend\": true, \"type\": \"scattergeo\"}, {\"geo\": \"geo\", \"hoverlabel\": {\"namelength\": 0}, \"hovertemplate\": \"<b>%{hovertext}</b><br><br>country=%{location}<br>count=%{marker.size}\", \"hovertext\": [\"ESP\"], \"legendgroup\": \"country=ESP\", \"locations\": [\"ESP\"], \"marker\": {\"color\": \"#ab63fa\", \"size\": [94], \"sizemode\": \"area\", \"sizeref\": 3.64}, \"name\": \"country=ESP\", \"showlegend\": true, \"type\": \"scattergeo\"}, {\"geo\": \"geo\", \"hoverlabel\": {\"namelength\": 0}, \"hovertemplate\": \"<b>%{hovertext}</b><br><br>country=%{location}<br>count=%{marker.size}\", \"hovertext\": [\"FRA\"], \"legendgroup\": \"country=FRA\", \"locations\": [\"FRA\"], \"marker\": {\"color\": \"#FFA15A\", \"size\": [92], \"sizemode\": \"area\", \"sizeref\": 3.64}, \"name\": \"country=FRA\", \"showlegend\": true, \"type\": \"scattergeo\"}, {\"geo\": \"geo\", \"hoverlabel\": {\"namelength\": 0}, \"hovertemplate\": \"<b>%{hovertext}</b><br><br>country=%{location}<br>count=%{marker.size}\", \"hovertext\": [\"DEU\"], \"legendgroup\": \"country=DEU\", \"locations\": [\"DEU\"], \"marker\": {\"color\": \"#19d3f3\", \"size\": [58], \"sizemode\": \"area\", \"sizeref\": 3.64}, \"name\": \"country=DEU\", \"showlegend\": true, \"type\": \"scattergeo\"}, {\"geo\": \"geo\", \"hoverlabel\": {\"namelength\": 0}, \"hovertemplate\": \"<b>%{hovertext}</b><br><br>country=%{location}<br>count=%{marker.size}\", \"hovertext\": [\"JPN\"], \"legendgroup\": \"country=JPN\", \"locations\": [\"JPN\"], \"marker\": {\"color\": \"#FF6692\", \"size\": [56], \"sizemode\": \"area\", \"sizeref\": 3.64}, \"name\": \"country=JPN\", \"showlegend\": true, \"type\": \"scattergeo\"}, {\"geo\": \"geo\", \"hoverlabel\": {\"namelength\": 0}, \"hovertemplate\": \"<b>%{hovertext}</b><br><br>country=%{location}<br>count=%{marker.size}\", \"hovertext\": [\"HKG\"], \"legendgroup\": \"country=HKG\", \"locations\": [\"HKG\"], \"marker\": {\"color\": \"#B6E880\", \"size\": [56], \"sizemode\": \"area\", \"sizeref\": 3.64}, \"name\": \"country=HKG\", \"showlegend\": true, \"type\": \"scattergeo\"}, {\"geo\": \"geo\", \"hoverlabel\": {\"namelength\": 0}, \"hovertemplate\": \"<b>%{hovertext}</b><br><br>country=%{location}<br>count=%{marker.size}\", \"hovertext\": [\"TUR\"], \"legendgroup\": \"country=TUR\", \"locations\": [\"TUR\"], \"marker\": {\"color\": \"#FF97FF\", \"size\": [52], \"sizemode\": \"area\", \"sizeref\": 3.64}, \"name\": \"country=TUR\", \"showlegend\": true, \"type\": \"scattergeo\"}, {\"geo\": \"geo\", \"hoverlabel\": {\"namelength\": 0}, \"hovertemplate\": \"<b>%{hovertext}</b><br><br>country=%{location}<br>count=%{marker.size}\", \"hovertext\": [\"MEX\"], \"legendgroup\": \"country=MEX\", \"locations\": [\"MEX\"], \"marker\": {\"color\": \"#FECB52\", \"size\": [48], \"sizemode\": \"area\", \"sizeref\": 3.64}, \"name\": \"country=MEX\", \"showlegend\": true, \"type\": \"scattergeo\"}, {\"geo\": \"geo\", \"hoverlabel\": {\"namelength\": 0}, \"hovertemplate\": \"<b>%{hovertext}</b><br><br>country=%{location}<br>count=%{marker.size}\", \"hovertext\": [\"AUS\"], \"legendgroup\": \"country=AUS\", \"locations\": [\"AUS\"], \"marker\": {\"color\": \"#636efa\", \"size\": [38], \"sizemode\": \"area\", \"sizeref\": 3.64}, \"name\": \"country=AUS\", \"showlegend\": true, \"type\": \"scattergeo\"}, {\"geo\": \"geo\", \"hoverlabel\": {\"namelength\": 0}, \"hovertemplate\": \"<b>%{hovertext}</b><br><br>country=%{location}<br>count=%{marker.size}\", \"hovertext\": [\"PHL\"], \"legendgroup\": \"country=PHL\", \"locations\": [\"PHL\"], \"marker\": {\"color\": \"#EF553B\", \"size\": [38], \"sizemode\": \"area\", \"sizeref\": 3.64}, \"name\": \"country=PHL\", \"showlegend\": true, \"type\": \"scattergeo\"}, {\"geo\": \"geo\", \"hoverlabel\": {\"namelength\": 0}, \"hovertemplate\": \"<b>%{hovertext}</b><br><br>country=%{location}<br>count=%{marker.size}\", \"hovertext\": [\"IDN\"], \"legendgroup\": \"country=IDN\", \"locations\": [\"IDN\"], \"marker\": {\"color\": \"#00cc96\", \"size\": [38], \"sizemode\": \"area\", \"sizeref\": 3.64}, \"name\": \"country=IDN\", \"showlegend\": true, \"type\": \"scattergeo\"}, {\"geo\": \"geo\", \"hoverlabel\": {\"namelength\": 0}, \"hovertemplate\": \"<b>%{hovertext}</b><br><br>country=%{location}<br>count=%{marker.size}\", \"hovertext\": [\"ARG\"], \"legendgroup\": \"country=ARG\", \"locations\": [\"ARG\"], \"marker\": {\"color\": \"#ab63fa\", \"size\": [34], \"sizemode\": \"area\", \"sizeref\": 3.64}, \"name\": \"country=ARG\", \"showlegend\": true, \"type\": \"scattergeo\"}, {\"geo\": \"geo\", \"hoverlabel\": {\"namelength\": 0}, \"hovertemplate\": \"<b>%{hovertext}</b><br><br>country=%{location}<br>count=%{marker.size}\", \"hovertext\": [\"EGY\"], \"legendgroup\": \"country=EGY\", \"locations\": [\"EGY\"], \"marker\": {\"color\": \"#FFA15A\", \"size\": [34], \"sizemode\": \"area\", \"sizeref\": 3.64}, \"name\": \"country=EGY\", \"showlegend\": true, \"type\": \"scattergeo\"}, {\"geo\": \"geo\", \"hoverlabel\": {\"namelength\": 0}, \"hovertemplate\": \"<b>%{hovertext}</b><br><br>country=%{location}<br>count=%{marker.size}\", \"hovertext\": [\"ITA\"], \"legendgroup\": \"country=ITA\", \"locations\": [\"ITA\"], \"marker\": {\"color\": \"#19d3f3\", \"size\": [30], \"sizemode\": \"area\", \"sizeref\": 3.64}, \"name\": \"country=ITA\", \"showlegend\": true, \"type\": \"scattergeo\"}, {\"geo\": \"geo\", \"hoverlabel\": {\"namelength\": 0}, \"hovertemplate\": \"<b>%{hovertext}</b><br><br>country=%{location}<br>count=%{marker.size}\", \"hovertext\": [\"THA\"], \"legendgroup\": \"country=THA\", \"locations\": [\"THA\"], \"marker\": {\"color\": \"#FF6692\", \"size\": [30], \"sizemode\": \"area\", \"sizeref\": 3.64}, \"name\": \"country=THA\", \"showlegend\": true, \"type\": \"scattergeo\"}, {\"geo\": \"geo\", \"hoverlabel\": {\"namelength\": 0}, \"hovertemplate\": \"<b>%{hovertext}</b><br><br>country=%{location}<br>count=%{marker.size}\", \"hovertext\": [\"CHN\"], \"legendgroup\": \"country=CHN\", \"locations\": [\"CHN\"], \"marker\": {\"color\": \"#B6E880\", \"size\": [27], \"sizemode\": \"area\", \"sizeref\": 3.64}, \"name\": \"country=CHN\", \"showlegend\": true, \"type\": \"scattergeo\"}, {\"geo\": \"geo\", \"hoverlabel\": {\"namelength\": 0}, \"hovertemplate\": \"<b>%{hovertext}</b><br><br>country=%{location}<br>count=%{marker.size}\", \"hovertext\": [\"BRA\"], \"legendgroup\": \"country=BRA\", \"locations\": [\"BRA\"], \"marker\": {\"color\": \"#FF97FF\", \"size\": [25], \"sizemode\": \"area\", \"sizeref\": 3.64}, \"name\": \"country=BRA\", \"showlegend\": true, \"type\": \"scattergeo\"}, {\"geo\": \"geo\", \"hoverlabel\": {\"namelength\": 0}, \"hovertemplate\": \"<b>%{hovertext}</b><br><br>country=%{location}<br>count=%{marker.size}\", \"hovertext\": [\"NGA\"], \"legendgroup\": \"country=NGA\", \"locations\": [\"NGA\"], \"marker\": {\"color\": \"#FECB52\", \"size\": [18], \"sizemode\": \"area\", \"sizeref\": 3.64}, \"name\": \"country=NGA\", \"showlegend\": true, \"type\": \"scattergeo\"}, {\"geo\": \"geo\", \"hoverlabel\": {\"namelength\": 0}, \"hovertemplate\": \"<b>%{hovertext}</b><br><br>country=%{location}<br>count=%{marker.size}\", \"hovertext\": [\"PAK\"], \"legendgroup\": \"country=PAK\", \"locations\": [\"PAK\"], \"marker\": {\"color\": \"#636efa\", \"size\": [16], \"sizemode\": \"area\", \"sizeref\": 3.64}, \"name\": \"country=PAK\", \"showlegend\": true, \"type\": \"scattergeo\"}, {\"geo\": \"geo\", \"hoverlabel\": {\"namelength\": 0}, \"hovertemplate\": \"<b>%{hovertext}</b><br><br>country=%{location}<br>count=%{marker.size}\", \"hovertext\": [\"ZAF\"], \"legendgroup\": \"country=ZAF\", \"locations\": [\"ZAF\"], \"marker\": {\"color\": \"#EF553B\", \"size\": [13], \"sizemode\": \"area\", \"sizeref\": 3.64}, \"name\": \"country=ZAF\", \"showlegend\": true, \"type\": \"scattergeo\"}, {\"geo\": \"geo\", \"hoverlabel\": {\"namelength\": 0}, \"hovertemplate\": \"<b>%{hovertext}</b><br><br>country=%{location}<br>count=%{marker.size}\", \"hovertext\": [\"IRL\"], \"legendgroup\": \"country=IRL\", \"locations\": [\"IRL\"], \"marker\": {\"color\": \"#00cc96\", \"size\": [13], \"sizemode\": \"area\", \"sizeref\": 3.64}, \"name\": \"country=IRL\", \"showlegend\": true, \"type\": \"scattergeo\"}, {\"geo\": \"geo\", \"hoverlabel\": {\"namelength\": 0}, \"hovertemplate\": \"<b>%{hovertext}</b><br><br>country=%{location}<br>count=%{marker.size}\", \"hovertext\": [\"COL\"], \"legendgroup\": \"country=COL\", \"locations\": [\"COL\"], \"marker\": {\"color\": \"#ab63fa\", \"size\": [11], \"sizemode\": \"area\", \"sizeref\": 3.64}, \"name\": \"country=COL\", \"showlegend\": true, \"type\": \"scattergeo\"}, {\"geo\": \"geo\", \"hoverlabel\": {\"namelength\": 0}, \"hovertemplate\": \"<b>%{hovertext}</b><br><br>country=%{location}<br>count=%{marker.size}\", \"hovertext\": [\"MYS\"], \"legendgroup\": \"country=MYS\", \"locations\": [\"MYS\"], \"marker\": {\"color\": \"#FFA15A\", \"size\": [10], \"sizemode\": \"area\", \"sizeref\": 3.64}, \"name\": \"country=MYS\", \"showlegend\": true, \"type\": \"scattergeo\"}, {\"geo\": \"geo\", \"hoverlabel\": {\"namelength\": 0}, \"hovertemplate\": \"<b>%{hovertext}</b><br><br>country=%{location}<br>count=%{marker.size}\", \"hovertext\": [\"DNK\"], \"legendgroup\": \"country=DNK\", \"locations\": [\"DNK\"], \"marker\": {\"color\": \"#19d3f3\", \"size\": [10], \"sizemode\": \"area\", \"sizeref\": 3.64}, \"name\": \"country=DNK\", \"showlegend\": true, \"type\": \"scattergeo\"}, {\"geo\": \"geo\", \"hoverlabel\": {\"namelength\": 0}, \"hovertemplate\": \"<b>%{hovertext}</b><br><br>country=%{location}<br>count=%{marker.size}\", \"hovertext\": [\"CHL\"], \"legendgroup\": \"country=CHL\", \"locations\": [\"CHL\"], \"marker\": {\"color\": \"#FF6692\", \"size\": [9], \"sizemode\": \"area\", \"sizeref\": 3.64}, \"name\": \"country=CHL\", \"showlegend\": true, \"type\": \"scattergeo\"}, {\"geo\": \"geo\", \"hoverlabel\": {\"namelength\": 0}, \"hovertemplate\": \"<b>%{hovertext}</b><br><br>country=%{location}<br>count=%{marker.size}\", \"hovertext\": [\"ISR\"], \"legendgroup\": \"country=ISR\", \"locations\": [\"ISR\"], \"marker\": {\"color\": \"#B6E880\", \"size\": [9], \"sizemode\": \"area\", \"sizeref\": 3.64}, \"name\": \"country=ISR\", \"showlegend\": true, \"type\": \"scattergeo\"}, {\"geo\": \"geo\", \"hoverlabel\": {\"namelength\": 0}, \"hovertemplate\": \"<b>%{hovertext}</b><br><br>country=%{location}<br>count=%{marker.size}\", \"hovertext\": [\"ARE\"], \"legendgroup\": \"country=ARE\", \"locations\": [\"ARE\"], \"marker\": {\"color\": \"#FF97FF\", \"size\": [9], \"sizemode\": \"area\", \"sizeref\": 3.64}, \"name\": \"country=ARE\", \"showlegend\": true, \"type\": \"scattergeo\"}, {\"geo\": \"geo\", \"hoverlabel\": {\"namelength\": 0}, \"hovertemplate\": \"<b>%{hovertext}</b><br><br>country=%{location}<br>count=%{marker.size}\", \"hovertext\": [\"NZL\"], \"legendgroup\": \"country=NZL\", \"locations\": [\"NZL\"], \"marker\": {\"color\": \"#FECB52\", \"size\": [8], \"sizemode\": \"area\", \"sizeref\": 3.64}, \"name\": \"country=NZL\", \"showlegend\": true, \"type\": \"scattergeo\"}, {\"geo\": \"geo\", \"hoverlabel\": {\"namelength\": 0}, \"hovertemplate\": \"<b>%{hovertext}</b><br><br>country=%{location}<br>count=%{marker.size}\", \"hovertext\": [\"POL\"], \"legendgroup\": \"country=POL\", \"locations\": [\"POL\"], \"marker\": {\"color\": \"#636efa\", \"size\": [8], \"sizemode\": \"area\", \"sizeref\": 3.64}, \"name\": \"country=POL\", \"showlegend\": true, \"type\": \"scattergeo\"}, {\"geo\": \"geo\", \"hoverlabel\": {\"namelength\": 0}, \"hovertemplate\": \"<b>%{hovertext}</b><br><br>country=%{location}<br>count=%{marker.size}\", \"hovertext\": [\"NLD\"], \"legendgroup\": \"country=NLD\", \"locations\": [\"NLD\"], \"marker\": {\"color\": \"#EF553B\", \"size\": [8], \"sizemode\": \"area\", \"sizeref\": 3.64}, \"name\": \"country=NLD\", \"showlegend\": true, \"type\": \"scattergeo\"}, {\"geo\": \"geo\", \"hoverlabel\": {\"namelength\": 0}, \"hovertemplate\": \"<b>%{hovertext}</b><br><br>country=%{location}<br>count=%{marker.size}\", \"hovertext\": [\"SGP\"], \"legendgroup\": \"country=SGP\", \"locations\": [\"SGP\"], \"marker\": {\"color\": \"#00cc96\", \"size\": [7], \"sizemode\": \"area\", \"sizeref\": 3.64}, \"name\": \"country=SGP\", \"showlegend\": true, \"type\": \"scattergeo\"}, {\"geo\": \"geo\", \"hoverlabel\": {\"namelength\": 0}, \"hovertemplate\": \"<b>%{hovertext}</b><br><br>country=%{location}<br>count=%{marker.size}\", \"hovertext\": [\"ROU\"], \"legendgroup\": \"country=ROU\", \"locations\": [\"ROU\"], \"marker\": {\"color\": \"#ab63fa\", \"size\": [7], \"sizemode\": \"area\", \"sizeref\": 3.64}, \"name\": \"country=ROU\", \"showlegend\": true, \"type\": \"scattergeo\"}, {\"geo\": \"geo\", \"hoverlabel\": {\"namelength\": 0}, \"hovertemplate\": \"<b>%{hovertext}</b><br><br>country=%{location}<br>count=%{marker.size}\", \"hovertext\": [\"SWE\"], \"legendgroup\": \"country=SWE\", \"locations\": [\"SWE\"], \"marker\": {\"color\": \"#FFA15A\", \"size\": [7], \"sizemode\": \"area\", \"sizeref\": 3.64}, \"name\": \"country=SWE\", \"showlegend\": true, \"type\": \"scattergeo\"}, {\"geo\": \"geo\", \"hoverlabel\": {\"namelength\": 0}, \"hovertemplate\": \"<b>%{hovertext}</b><br><br>country=%{location}<br>count=%{marker.size}\", \"hovertext\": [\"BEL\"], \"legendgroup\": \"country=BEL\", \"locations\": [\"BEL\"], \"marker\": {\"color\": \"#19d3f3\", \"size\": [6], \"sizemode\": \"area\", \"sizeref\": 3.64}, \"name\": \"country=BEL\", \"showlegend\": true, \"type\": \"scattergeo\"}, {\"geo\": \"geo\", \"hoverlabel\": {\"namelength\": 0}, \"hovertemplate\": \"<b>%{hovertext}</b><br><br>country=%{location}<br>count=%{marker.size}\", \"hovertext\": [\"NOR\"], \"legendgroup\": \"country=NOR\", \"locations\": [\"NOR\"], \"marker\": {\"color\": \"#FF6692\", \"size\": [6], \"sizemode\": \"area\", \"sizeref\": 3.64}, \"name\": \"country=NOR\", \"showlegend\": true, \"type\": \"scattergeo\"}, {\"geo\": \"geo\", \"hoverlabel\": {\"namelength\": 0}, \"hovertemplate\": \"<b>%{hovertext}</b><br><br>country=%{location}<br>count=%{marker.size}\", \"hovertext\": [\"TWN\"], \"legendgroup\": \"country=TWN\", \"locations\": [\"TWN\"], \"marker\": {\"color\": \"#B6E880\", \"size\": [6], \"sizemode\": \"area\", \"sizeref\": 3.64}, \"name\": \"country=TWN\", \"showlegend\": true, \"type\": \"scattergeo\"}, {\"geo\": \"geo\", \"hoverlabel\": {\"namelength\": 0}, \"hovertemplate\": \"<b>%{hovertext}</b><br><br>country=%{location}<br>count=%{marker.size}\", \"hovertext\": [\"PER\"], \"legendgroup\": \"country=PER\", \"locations\": [\"PER\"], \"marker\": {\"color\": \"#FF97FF\", \"size\": [6], \"sizemode\": \"area\", \"sizeref\": 3.64}, \"name\": \"country=PER\", \"showlegend\": true, \"type\": \"scattergeo\"}, {\"geo\": \"geo\", \"hoverlabel\": {\"namelength\": 0}, \"hovertemplate\": \"<b>%{hovertext}</b><br><br>country=%{location}<br>count=%{marker.size}\", \"hovertext\": [\"FIN\"], \"legendgroup\": \"country=FIN\", \"locations\": [\"FIN\"], \"marker\": {\"color\": \"#FECB52\", \"size\": [5], \"sizemode\": \"area\", \"sizeref\": 3.64}, \"name\": \"country=FIN\", \"showlegend\": true, \"type\": \"scattergeo\"}, {\"geo\": \"geo\", \"hoverlabel\": {\"namelength\": 0}, \"hovertemplate\": \"<b>%{hovertext}</b><br><br>country=%{location}<br>count=%{marker.size}\", \"hovertext\": [\"CHE\"], \"legendgroup\": \"country=CHE\", \"locations\": [\"CHE\"], \"marker\": {\"color\": \"#636efa\", \"size\": [5], \"sizemode\": \"area\", \"sizeref\": 3.64}, \"name\": \"country=CHE\", \"showlegend\": true, \"type\": \"scattergeo\"}, {\"geo\": \"geo\", \"hoverlabel\": {\"namelength\": 0}, \"hovertemplate\": \"<b>%{hovertext}</b><br><br>country=%{location}<br>count=%{marker.size}\", \"hovertext\": [\"URY\"], \"legendgroup\": \"country=URY\", \"locations\": [\"URY\"], \"marker\": {\"color\": \"#EF553B\", \"size\": [5], \"sizemode\": \"area\", \"sizeref\": 3.64}, \"name\": \"country=URY\", \"showlegend\": true, \"type\": \"scattergeo\"}, {\"geo\": \"geo\", \"hoverlabel\": {\"namelength\": 0}, \"hovertemplate\": \"<b>%{hovertext}</b><br><br>country=%{location}<br>count=%{marker.size}\", \"hovertext\": [\"BGR\"], \"legendgroup\": \"country=BGR\", \"locations\": [\"BGR\"], \"marker\": {\"color\": \"#00cc96\", \"size\": [4], \"sizemode\": \"area\", \"sizeref\": 3.64}, \"name\": \"country=BGR\", \"showlegend\": true, \"type\": \"scattergeo\"}, {\"geo\": \"geo\", \"hoverlabel\": {\"namelength\": 0}, \"hovertemplate\": \"<b>%{hovertext}</b><br><br>country=%{location}<br>count=%{marker.size}\", \"hovertext\": [\"SAU\"], \"legendgroup\": \"country=SAU\", \"locations\": [\"SAU\"], \"marker\": {\"color\": \"#ab63fa\", \"size\": [3], \"sizemode\": \"area\", \"sizeref\": 3.64}, \"name\": \"country=SAU\", \"showlegend\": true, \"type\": \"scattergeo\"}, {\"geo\": \"geo\", \"hoverlabel\": {\"namelength\": 0}, \"hovertemplate\": \"<b>%{hovertext}</b><br><br>country=%{location}<br>count=%{marker.size}\", \"hovertext\": [\"AUT\"], \"legendgroup\": \"country=AUT\", \"locations\": [\"AUT\"], \"marker\": {\"color\": \"#FFA15A\", \"size\": [3], \"sizemode\": \"area\", \"sizeref\": 3.64}, \"name\": \"country=AUT\", \"showlegend\": true, \"type\": \"scattergeo\"}, {\"geo\": \"geo\", \"hoverlabel\": {\"namelength\": 0}, \"hovertemplate\": \"<b>%{hovertext}</b><br><br>country=%{location}<br>count=%{marker.size}\", \"hovertext\": [\"HUN\"], \"legendgroup\": \"country=HUN\", \"locations\": [\"HUN\"], \"marker\": {\"color\": \"#19d3f3\", \"size\": [3], \"sizemode\": \"area\", \"sizeref\": 3.64}, \"name\": \"country=HUN\", \"showlegend\": true, \"type\": \"scattergeo\"}, {\"geo\": \"geo\", \"hoverlabel\": {\"namelength\": 0}, \"hovertemplate\": \"<b>%{hovertext}</b><br><br>country=%{location}<br>count=%{marker.size}\", \"hovertext\": [\"GHA\"], \"legendgroup\": \"country=GHA\", \"locations\": [\"GHA\"], \"marker\": {\"color\": \"#FF6692\", \"size\": [2], \"sizemode\": \"area\", \"sizeref\": 3.64}, \"name\": \"country=GHA\", \"showlegend\": true, \"type\": \"scattergeo\"}, {\"geo\": \"geo\", \"hoverlabel\": {\"namelength\": 0}, \"hovertemplate\": \"<b>%{hovertext}</b><br><br>country=%{location}<br>count=%{marker.size}\", \"hovertext\": [\"GEO\"], \"legendgroup\": \"country=GEO\", \"locations\": [\"GEO\"], \"marker\": {\"color\": \"#B6E880\", \"size\": [2], \"sizemode\": \"area\", \"sizeref\": 3.64}, \"name\": \"country=GEO\", \"showlegend\": true, \"type\": \"scattergeo\"}, {\"geo\": \"geo\", \"hoverlabel\": {\"namelength\": 0}, \"hovertemplate\": \"<b>%{hovertext}</b><br><br>country=%{location}<br>count=%{marker.size}\", \"hovertext\": [\"SVN\"], \"legendgroup\": \"country=SVN\", \"locations\": [\"SVN\"], \"marker\": {\"color\": \"#FF97FF\", \"size\": [2], \"sizemode\": \"area\", \"sizeref\": 3.64}, \"name\": \"country=SVN\", \"showlegend\": true, \"type\": \"scattergeo\"}, {\"geo\": \"geo\", \"hoverlabel\": {\"namelength\": 0}, \"hovertemplate\": \"<b>%{hovertext}</b><br><br>country=%{location}<br>count=%{marker.size}\", \"hovertext\": [\"KHM\"], \"legendgroup\": \"country=KHM\", \"locations\": [\"KHM\"], \"marker\": {\"color\": \"#FECB52\", \"size\": [2], \"sizemode\": \"area\", \"sizeref\": 3.64}, \"name\": \"country=KHM\", \"showlegend\": true, \"type\": \"scattergeo\"}, {\"geo\": \"geo\", \"hoverlabel\": {\"namelength\": 0}, \"hovertemplate\": \"<b>%{hovertext}</b><br><br>country=%{location}<br>count=%{marker.size}\", \"hovertext\": [\"LBN\"], \"legendgroup\": \"country=LBN\", \"locations\": [\"LBN\"], \"marker\": {\"color\": \"#636efa\", \"size\": [2], \"sizemode\": \"area\", \"sizeref\": 3.64}, \"name\": \"country=LBN\", \"showlegend\": true, \"type\": \"scattergeo\"}, {\"geo\": \"geo\", \"hoverlabel\": {\"namelength\": 0}, \"hovertemplate\": \"<b>%{hovertext}</b><br><br>country=%{location}<br>count=%{marker.size}\", \"hovertext\": [\"BGD\"], \"legendgroup\": \"country=BGD\", \"locations\": [\"BGD\"], \"marker\": {\"color\": \"#EF553B\", \"size\": [1], \"sizemode\": \"area\", \"sizeref\": 3.64}, \"name\": \"country=BGD\", \"showlegend\": true, \"type\": \"scattergeo\"}, {\"geo\": \"geo\", \"hoverlabel\": {\"namelength\": 0}, \"hovertemplate\": \"<b>%{hovertext}</b><br><br>country=%{location}<br>count=%{marker.size}\", \"hovertext\": [\"HRV\"], \"legendgroup\": \"country=HRV\", \"locations\": [\"HRV\"], \"marker\": {\"color\": \"#00cc96\", \"size\": [1], \"sizemode\": \"area\", \"sizeref\": 3.64}, \"name\": \"country=HRV\", \"showlegend\": true, \"type\": \"scattergeo\"}, {\"geo\": \"geo\", \"hoverlabel\": {\"namelength\": 0}, \"hovertemplate\": \"<b>%{hovertext}</b><br><br>country=%{location}<br>count=%{marker.size}\", \"hovertext\": [\"IRQ\"], \"legendgroup\": \"country=IRQ\", \"locations\": [\"IRQ\"], \"marker\": {\"color\": \"#ab63fa\", \"size\": [1], \"sizemode\": \"area\", \"sizeref\": 3.64}, \"name\": \"country=IRQ\", \"showlegend\": true, \"type\": \"scattergeo\"}, {\"geo\": \"geo\", \"hoverlabel\": {\"namelength\": 0}, \"hovertemplate\": \"<b>%{hovertext}</b><br><br>country=%{location}<br>count=%{marker.size}\", \"hovertext\": [\"PRY\"], \"legendgroup\": \"country=PRY\", \"locations\": [\"PRY\"], \"marker\": {\"color\": \"#FFA15A\", \"size\": [1], \"sizemode\": \"area\", \"sizeref\": 3.64}, \"name\": \"country=PRY\", \"showlegend\": true, \"type\": \"scattergeo\"}, {\"geo\": \"geo\", \"hoverlabel\": {\"namelength\": 0}, \"hovertemplate\": \"<b>%{hovertext}</b><br><br>country=%{location}<br>count=%{marker.size}\", \"hovertext\": [\"JAM\"], \"legendgroup\": \"country=JAM\", \"locations\": [\"JAM\"], \"marker\": {\"color\": \"#19d3f3\", \"size\": [1], \"sizemode\": \"area\", \"sizeref\": 3.64}, \"name\": \"country=JAM\", \"showlegend\": true, \"type\": \"scattergeo\"}, {\"geo\": \"geo\", \"hoverlabel\": {\"namelength\": 0}, \"hovertemplate\": \"<b>%{hovertext}</b><br><br>country=%{location}<br>count=%{marker.size}\", \"hovertext\": [\"SRB\"], \"legendgroup\": \"country=SRB\", \"locations\": [\"SRB\"], \"marker\": {\"color\": \"#FF6692\", \"size\": [1], \"sizemode\": \"area\", \"sizeref\": 3.64}, \"name\": \"country=SRB\", \"showlegend\": true, \"type\": \"scattergeo\"}, {\"geo\": \"geo\", \"hoverlabel\": {\"namelength\": 0}, \"hovertemplate\": \"<b>%{hovertext}</b><br><br>country=%{location}<br>count=%{marker.size}\", \"hovertext\": [\"KEN\"], \"legendgroup\": \"country=KEN\", \"locations\": [\"KEN\"], \"marker\": {\"color\": \"#B6E880\", \"size\": [1], \"sizemode\": \"area\", \"sizeref\": 3.64}, \"name\": \"country=KEN\", \"showlegend\": true, \"type\": \"scattergeo\"}, {\"geo\": \"geo\", \"hoverlabel\": {\"namelength\": 0}, \"hovertemplate\": \"<b>%{hovertext}</b><br><br>country=%{location}<br>count=%{marker.size}\", \"hovertext\": [\"QAT\"], \"legendgroup\": \"country=QAT\", \"locations\": [\"QAT\"], \"marker\": {\"color\": \"#FF97FF\", \"size\": [1], \"sizemode\": \"area\", \"sizeref\": 3.64}, \"name\": \"country=QAT\", \"showlegend\": true, \"type\": \"scattergeo\"}, {\"geo\": \"geo\", \"hoverlabel\": {\"namelength\": 0}, \"hovertemplate\": \"<b>%{hovertext}</b><br><br>country=%{location}<br>count=%{marker.size}\", \"hovertext\": [\"PRT\"], \"legendgroup\": \"country=PRT\", \"locations\": [\"PRT\"], \"marker\": {\"color\": \"#FECB52\", \"size\": [1], \"sizemode\": \"area\", \"sizeref\": 3.64}, \"name\": \"country=PRT\", \"showlegend\": true, \"type\": \"scattergeo\"}, {\"geo\": \"geo\", \"hoverlabel\": {\"namelength\": 0}, \"hovertemplate\": \"<b>%{hovertext}</b><br><br>country=%{location}<br>count=%{marker.size}\", \"hovertext\": [\"ISL\"], \"legendgroup\": \"country=ISL\", \"locations\": [\"ISL\"], \"marker\": {\"color\": \"#636efa\", \"size\": [1], \"sizemode\": \"area\", \"sizeref\": 3.64}, \"name\": \"country=ISL\", \"showlegend\": true, \"type\": \"scattergeo\"}, {\"geo\": \"geo\", \"hoverlabel\": {\"namelength\": 0}, \"hovertemplate\": \"<b>%{hovertext}</b><br><br>country=%{location}<br>count=%{marker.size}\", \"hovertext\": [\"KWT\"], \"legendgroup\": \"country=KWT\", \"locations\": [\"KWT\"], \"marker\": {\"color\": \"#EF553B\", \"size\": [1], \"sizemode\": \"area\", \"sizeref\": 3.64}, \"name\": \"country=KWT\", \"showlegend\": true, \"type\": \"scattergeo\"}, {\"geo\": \"geo\", \"hoverlabel\": {\"namelength\": 0}, \"hovertemplate\": \"<b>%{hovertext}</b><br><br>country=%{location}<br>count=%{marker.size}\", \"hovertext\": [\"GRC\"], \"legendgroup\": \"country=GRC\", \"locations\": [\"GRC\"], \"marker\": {\"color\": \"#00cc96\", \"size\": [1], \"sizemode\": \"area\", \"sizeref\": 3.64}, \"name\": \"country=GRC\", \"showlegend\": true, \"type\": \"scattergeo\"}],\n",
              "                        {\"geo\": {\"center\": {}, \"domain\": {\"x\": [0.0, 1.0], \"y\": [0.0, 1.0]}, \"projection\": {\"type\": \"natural earth\"}}, \"legend\": {\"itemsizing\": \"constant\", \"tracegroupgap\": 0}, \"margin\": {\"t\": 60}, \"template\": {\"data\": {\"bar\": [{\"error_x\": {\"color\": \"#2a3f5f\"}, \"error_y\": {\"color\": \"#2a3f5f\"}, \"marker\": {\"line\": {\"color\": \"#E5ECF6\", \"width\": 0.5}}, \"type\": \"bar\"}], \"barpolar\": [{\"marker\": {\"line\": {\"color\": \"#E5ECF6\", \"width\": 0.5}}, \"type\": \"barpolar\"}], \"carpet\": [{\"aaxis\": {\"endlinecolor\": \"#2a3f5f\", \"gridcolor\": \"white\", \"linecolor\": \"white\", \"minorgridcolor\": \"white\", \"startlinecolor\": \"#2a3f5f\"}, \"baxis\": {\"endlinecolor\": \"#2a3f5f\", \"gridcolor\": \"white\", \"linecolor\": \"white\", \"minorgridcolor\": \"white\", \"startlinecolor\": \"#2a3f5f\"}, \"type\": \"carpet\"}], \"choropleth\": [{\"colorbar\": {\"outlinewidth\": 0, \"ticks\": \"\"}, \"type\": \"choropleth\"}], \"contour\": [{\"colorbar\": {\"outlinewidth\": 0, \"ticks\": \"\"}, \"colorscale\": [[0.0, \"#0d0887\"], [0.1111111111111111, \"#46039f\"], [0.2222222222222222, \"#7201a8\"], [0.3333333333333333, \"#9c179e\"], [0.4444444444444444, \"#bd3786\"], [0.5555555555555556, \"#d8576b\"], [0.6666666666666666, \"#ed7953\"], [0.7777777777777778, \"#fb9f3a\"], [0.8888888888888888, \"#fdca26\"], [1.0, \"#f0f921\"]], \"type\": \"contour\"}], \"contourcarpet\": [{\"colorbar\": {\"outlinewidth\": 0, \"ticks\": \"\"}, \"type\": \"contourcarpet\"}], \"heatmap\": [{\"colorbar\": {\"outlinewidth\": 0, \"ticks\": \"\"}, \"colorscale\": [[0.0, \"#0d0887\"], [0.1111111111111111, \"#46039f\"], [0.2222222222222222, \"#7201a8\"], [0.3333333333333333, \"#9c179e\"], [0.4444444444444444, \"#bd3786\"], [0.5555555555555556, \"#d8576b\"], [0.6666666666666666, \"#ed7953\"], [0.7777777777777778, \"#fb9f3a\"], [0.8888888888888888, \"#fdca26\"], [1.0, \"#f0f921\"]], \"type\": \"heatmap\"}], \"heatmapgl\": [{\"colorbar\": {\"outlinewidth\": 0, \"ticks\": \"\"}, \"colorscale\": [[0.0, \"#0d0887\"], [0.1111111111111111, \"#46039f\"], [0.2222222222222222, \"#7201a8\"], [0.3333333333333333, \"#9c179e\"], [0.4444444444444444, \"#bd3786\"], [0.5555555555555556, \"#d8576b\"], [0.6666666666666666, \"#ed7953\"], [0.7777777777777778, \"#fb9f3a\"], [0.8888888888888888, \"#fdca26\"], [1.0, \"#f0f921\"]], \"type\": \"heatmapgl\"}], \"histogram\": [{\"marker\": {\"colorbar\": {\"outlinewidth\": 0, \"ticks\": \"\"}}, \"type\": \"histogram\"}], \"histogram2d\": [{\"colorbar\": {\"outlinewidth\": 0, \"ticks\": \"\"}, \"colorscale\": [[0.0, \"#0d0887\"], [0.1111111111111111, \"#46039f\"], [0.2222222222222222, \"#7201a8\"], [0.3333333333333333, \"#9c179e\"], [0.4444444444444444, \"#bd3786\"], [0.5555555555555556, \"#d8576b\"], [0.6666666666666666, \"#ed7953\"], [0.7777777777777778, \"#fb9f3a\"], [0.8888888888888888, \"#fdca26\"], [1.0, \"#f0f921\"]], \"type\": \"histogram2d\"}], \"histogram2dcontour\": [{\"colorbar\": {\"outlinewidth\": 0, \"ticks\": \"\"}, \"colorscale\": [[0.0, \"#0d0887\"], [0.1111111111111111, \"#46039f\"], [0.2222222222222222, \"#7201a8\"], [0.3333333333333333, \"#9c179e\"], [0.4444444444444444, \"#bd3786\"], [0.5555555555555556, \"#d8576b\"], [0.6666666666666666, \"#ed7953\"], [0.7777777777777778, \"#fb9f3a\"], [0.8888888888888888, \"#fdca26\"], [1.0, \"#f0f921\"]], \"type\": \"histogram2dcontour\"}], \"mesh3d\": [{\"colorbar\": {\"outlinewidth\": 0, \"ticks\": \"\"}, \"type\": \"mesh3d\"}], \"parcoords\": [{\"line\": {\"colorbar\": {\"outlinewidth\": 0, \"ticks\": \"\"}}, \"type\": \"parcoords\"}], \"pie\": [{\"automargin\": true, \"type\": \"pie\"}], \"scatter\": [{\"marker\": {\"colorbar\": {\"outlinewidth\": 0, \"ticks\": \"\"}}, \"type\": \"scatter\"}], \"scatter3d\": [{\"line\": {\"colorbar\": {\"outlinewidth\": 0, \"ticks\": \"\"}}, \"marker\": {\"colorbar\": {\"outlinewidth\": 0, \"ticks\": \"\"}}, \"type\": \"scatter3d\"}], \"scattercarpet\": [{\"marker\": {\"colorbar\": {\"outlinewidth\": 0, \"ticks\": \"\"}}, \"type\": \"scattercarpet\"}], \"scattergeo\": [{\"marker\": {\"colorbar\": {\"outlinewidth\": 0, \"ticks\": \"\"}}, \"type\": \"scattergeo\"}], \"scattergl\": [{\"marker\": {\"colorbar\": {\"outlinewidth\": 0, \"ticks\": \"\"}}, \"type\": \"scattergl\"}], \"scattermapbox\": [{\"marker\": {\"colorbar\": {\"outlinewidth\": 0, \"ticks\": \"\"}}, \"type\": \"scattermapbox\"}], \"scatterpolar\": [{\"marker\": {\"colorbar\": {\"outlinewidth\": 0, \"ticks\": \"\"}}, \"type\": \"scatterpolar\"}], \"scatterpolargl\": [{\"marker\": {\"colorbar\": {\"outlinewidth\": 0, \"ticks\": \"\"}}, \"type\": \"scatterpolargl\"}], \"scatterternary\": [{\"marker\": {\"colorbar\": {\"outlinewidth\": 0, \"ticks\": \"\"}}, \"type\": \"scatterternary\"}], \"surface\": [{\"colorbar\": {\"outlinewidth\": 0, \"ticks\": \"\"}, \"colorscale\": [[0.0, \"#0d0887\"], [0.1111111111111111, \"#46039f\"], [0.2222222222222222, \"#7201a8\"], [0.3333333333333333, \"#9c179e\"], [0.4444444444444444, \"#bd3786\"], [0.5555555555555556, \"#d8576b\"], [0.6666666666666666, \"#ed7953\"], [0.7777777777777778, \"#fb9f3a\"], [0.8888888888888888, \"#fdca26\"], [1.0, \"#f0f921\"]], \"type\": \"surface\"}], \"table\": [{\"cells\": {\"fill\": {\"color\": \"#EBF0F8\"}, \"line\": {\"color\": \"white\"}}, \"header\": {\"fill\": {\"color\": \"#C8D4E3\"}, \"line\": {\"color\": \"white\"}}, \"type\": \"table\"}]}, \"layout\": {\"annotationdefaults\": {\"arrowcolor\": \"#2a3f5f\", \"arrowhead\": 0, \"arrowwidth\": 1}, \"coloraxis\": {\"colorbar\": {\"outlinewidth\": 0, \"ticks\": \"\"}}, \"colorscale\": {\"diverging\": [[0, \"#8e0152\"], [0.1, \"#c51b7d\"], [0.2, \"#de77ae\"], [0.3, \"#f1b6da\"], [0.4, \"#fde0ef\"], [0.5, \"#f7f7f7\"], [0.6, \"#e6f5d0\"], [0.7, \"#b8e186\"], [0.8, \"#7fbc41\"], [0.9, \"#4d9221\"], [1, \"#276419\"]], \"sequential\": [[0.0, \"#0d0887\"], [0.1111111111111111, \"#46039f\"], [0.2222222222222222, \"#7201a8\"], [0.3333333333333333, \"#9c179e\"], [0.4444444444444444, \"#bd3786\"], [0.5555555555555556, \"#d8576b\"], [0.6666666666666666, \"#ed7953\"], [0.7777777777777778, \"#fb9f3a\"], [0.8888888888888888, \"#fdca26\"], [1.0, \"#f0f921\"]], \"sequentialminus\": [[0.0, \"#0d0887\"], [0.1111111111111111, \"#46039f\"], [0.2222222222222222, \"#7201a8\"], [0.3333333333333333, \"#9c179e\"], [0.4444444444444444, \"#bd3786\"], [0.5555555555555556, \"#d8576b\"], [0.6666666666666666, \"#ed7953\"], [0.7777777777777778, \"#fb9f3a\"], [0.8888888888888888, \"#fdca26\"], [1.0, \"#f0f921\"]]}, \"colorway\": [\"#636efa\", \"#EF553B\", \"#00cc96\", \"#ab63fa\", \"#FFA15A\", \"#19d3f3\", \"#FF6692\", \"#B6E880\", \"#FF97FF\", \"#FECB52\"], \"font\": {\"color\": \"#2a3f5f\"}, \"geo\": {\"bgcolor\": \"white\", \"lakecolor\": \"white\", \"landcolor\": \"#E5ECF6\", \"showlakes\": true, \"showland\": true, \"subunitcolor\": \"white\"}, \"hoverlabel\": {\"align\": \"left\"}, \"hovermode\": \"closest\", \"mapbox\": {\"style\": \"light\"}, \"paper_bgcolor\": \"white\", \"plot_bgcolor\": \"#E5ECF6\", \"polar\": {\"angularaxis\": {\"gridcolor\": \"white\", \"linecolor\": \"white\", \"ticks\": \"\"}, \"bgcolor\": \"#E5ECF6\", \"radialaxis\": {\"gridcolor\": \"white\", \"linecolor\": \"white\", \"ticks\": \"\"}}, \"scene\": {\"xaxis\": {\"backgroundcolor\": \"#E5ECF6\", \"gridcolor\": \"white\", \"gridwidth\": 2, \"linecolor\": \"white\", \"showbackground\": true, \"ticks\": \"\", \"zerolinecolor\": \"white\"}, \"yaxis\": {\"backgroundcolor\": \"#E5ECF6\", \"gridcolor\": \"white\", \"gridwidth\": 2, \"linecolor\": \"white\", \"showbackground\": true, \"ticks\": \"\", \"zerolinecolor\": \"white\"}, \"zaxis\": {\"backgroundcolor\": \"#E5ECF6\", \"gridcolor\": \"white\", \"gridwidth\": 2, \"linecolor\": \"white\", \"showbackground\": true, \"ticks\": \"\", \"zerolinecolor\": \"white\"}}, \"shapedefaults\": {\"line\": {\"color\": \"#2a3f5f\"}}, \"ternary\": {\"aaxis\": {\"gridcolor\": \"white\", \"linecolor\": \"white\", \"ticks\": \"\"}, \"baxis\": {\"gridcolor\": \"white\", \"linecolor\": \"white\", \"ticks\": \"\"}, \"bgcolor\": \"#E5ECF6\", \"caxis\": {\"gridcolor\": \"white\", \"linecolor\": \"white\", \"ticks\": \"\"}}, \"title\": {\"x\": 0.05}, \"xaxis\": {\"automargin\": true, \"gridcolor\": \"white\", \"linecolor\": \"white\", \"ticks\": \"\", \"title\": {\"standoff\": 15}, \"zerolinecolor\": \"white\", \"zerolinewidth\": 2}, \"yaxis\": {\"automargin\": true, \"gridcolor\": \"white\", \"linecolor\": \"white\", \"ticks\": \"\", \"title\": {\"standoff\": 15}, \"zerolinecolor\": \"white\", \"zerolinewidth\": 2}}}},\n",
              "                        {\"responsive\": true}\n",
              "                    ).then(function(){\n",
              "                            \n",
              "var gd = document.getElementById('08ab542a-32e9-440e-a562-6e6719c10097');\n",
              "var x = new MutationObserver(function (mutations, observer) {{\n",
              "        var display = window.getComputedStyle(gd).display;\n",
              "        if (!display || display === 'none') {{\n",
              "            console.log([gd, 'removed!']);\n",
              "            Plotly.purge(gd);\n",
              "            observer.disconnect();\n",
              "        }}\n",
              "}});\n",
              "\n",
              "// Listen for the removal of the full notebook cells\n",
              "var notebookContainer = gd.closest('#notebook-container');\n",
              "if (notebookContainer) {{\n",
              "    x.observe(notebookContainer, {childList: true});\n",
              "}}\n",
              "\n",
              "// Listen for the clearing of the current output cell\n",
              "var outputEl = gd.closest('.output');\n",
              "if (outputEl) {{\n",
              "    x.observe(outputEl, {childList: true});\n",
              "}}\n",
              "\n",
              "                        })\n",
              "                };\n",
              "                \n",
              "            </script>\n",
              "        </div>\n",
              "</body>\n",
              "</html>"
            ]
          },
          "metadata": {
            "tags": []
          }
        }
      ]
    },
    {
      "cell_type": "code",
      "metadata": {
        "id": "1kCPEx30MNXr",
        "colab": {
          "base_uri": "https://localhost:8080/"
        },
        "outputId": "3f8ae70e-b693-4f34-c2d2-ea4848c9e222"
      },
      "source": [
        "yeardata=df['Year'].dropna()\n",
        "yeardata "
      ],
      "execution_count": 39,
      "outputs": [
        {
          "output_type": "execute_result",
          "data": {
            "text/plain": [
              "0       1913\n",
              "1       1915\n",
              "2       1915\n",
              "3       1918\n",
              "4       1922\n",
              "        ... \n",
              "3483    2020\n",
              "3484    2020\n",
              "3485    2020\n",
              "3486    2020\n",
              "3487    2020\n",
              "Name: Year, Length: 3488, dtype: int64"
            ]
          },
          "metadata": {
            "tags": []
          },
          "execution_count": 39
        }
      ]
    },
    {
      "cell_type": "code",
      "metadata": {
        "colab": {
          "base_uri": "https://localhost:8080/"
        },
        "id": "gujvyExPPfdz",
        "outputId": "f62bcb32-c18e-42a7-b430-47f7bba14a34"
      },
      "source": [
        "yeardata.unique()"
      ],
      "execution_count": 40,
      "outputs": [
        {
          "output_type": "execute_result",
          "data": {
            "text/plain": [
              "array([1913, 1915, 1918, 1922, 1923, 1929, 1930, 1931, 1932, 1933, 1934,\n",
              "       1935, 1936, 1937, 1938, 1939, 1940, 1941, 1942, 1943, 1944, 1945,\n",
              "       1946, 1947, 1948, 1949, 1950, 1951, 1952, 1953, 1954, 1955, 1956,\n",
              "       1957, 1958, 1959, 1960, 1961, 1962, 1963, 1964, 1965, 1966, 1967,\n",
              "       1968, 1969, 1970, 1971, 1972, 1973, 1974, 1975, 1976, 1977, 1978,\n",
              "       1979, 1980, 1981, 1982, 1983, 1984, 1985, 1986, 1987, 1988, 1989,\n",
              "       1990, 1991, 1992, 1993, 1994, 1995, 1996, 1997, 1998, 1999, 2000,\n",
              "       2001, 2002, 2003, 2004, 2005, 2006, 2007, 2008, 2009, 2010, 2011,\n",
              "       2012, 2013, 2014, 2015, 2016, 2017, 2018, 2019, 2020])"
            ]
          },
          "metadata": {
            "tags": []
          },
          "execution_count": 40
        }
      ]
    },
    {
      "cell_type": "code",
      "metadata": {
        "colab": {
          "base_uri": "https://localhost:8080/",
          "height": 369
        },
        "id": "Y80CYp9MPsx2",
        "outputId": "17d00620-f924-4242-a901-6c89c10db907"
      },
      "source": [
        "sns.barplot(yeardata.value_counts()[yeardata.value_counts()>150].index, yeardata.value_counts()[yeardata.value_counts()>150].values)"
      ],
      "execution_count": 41,
      "outputs": [
        {
          "output_type": "stream",
          "text": [
            "/usr/local/lib/python3.7/dist-packages/seaborn/_decorators.py:43: FutureWarning:\n",
            "\n",
            "Pass the following variables as keyword args: x, y. From version 0.12, the only valid positional argument will be `data`, and passing other arguments without an explicit keyword will result in an error or misinterpretation.\n",
            "\n"
          ],
          "name": "stderr"
        },
        {
          "output_type": "execute_result",
          "data": {
            "text/plain": [
              "<matplotlib.axes._subplots.AxesSubplot at 0x7f2335d87810>"
            ]
          },
          "metadata": {
            "tags": []
          },
          "execution_count": 41
        },
        {
          "output_type": "display_data",
          "data": {
            "image/png": "[encoded data removed]",
            "text/plain": [
              "<Figure size 432x288 with 1 Axes>"
            ]
          },
          "metadata": {
            "tags": [],
            "needs_background": "light"
          }
        }
      ]
    }
  ]
}