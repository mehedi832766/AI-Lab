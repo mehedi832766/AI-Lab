{
  "cells": [
    {
      "cell_type": "markdown",
      "metadata": {
        "id": "view-in-github",
        "colab_type": "text"
      },
      "source": [
        "<a href=\"https://colab.research.google.com/github/mehedi832766/AI-Lab/blob/main/Main_code.ipynb\" target=\"_parent\"><img src=\"https://colab.research.google.com/assets/colab-badge.svg\" alt=\"Open In Colab\"/></a>"
      ]
    },
    {
      "cell_type": "markdown",
      "source": [
        "#pre-requisite"
      ],
      "metadata": {
        "id": "cnlllm2nhGJe"
      }
    },
    {
      "cell_type": "code",
      "execution_count": null,
      "metadata": {
        "colab": {
          "base_uri": "https://localhost:8080/"
        },
        "id": "NkwPWznWC7YA",
        "outputId": "c21917ee-93fa-4b46-df0c-0125d42898f8"
      },
      "outputs": [
        {
          "output_type": "stream",
          "name": "stdout",
          "text": [
            "Mounted at /content/drive\n"
          ]
        }
      ],
      "source": [
        "from google.colab import drive\n",
        "drive.mount('/content/drive')"
      ]
    },
    {
      "cell_type": "code",
      "execution_count": null,
      "metadata": {
        "colab": {
          "base_uri": "https://localhost:8080/"
        },
        "id": "1sCanjcRt98Q",
        "outputId": "d7fca7ce-b3b4-4480-bf10-60d951aa6021"
      },
      "outputs": [
        {
          "output_type": "stream",
          "name": "stdout",
          "text": [
            "Tue Feb 28 18:37:34 2023       \n",
            "+-----------------------------------------------------------------------------+\n",
            "| NVIDIA-SMI 525.85.12    Driver Version: 525.85.12    CUDA Version: 12.0     |\n",
            "|-------------------------------+----------------------+----------------------+\n",
            "| GPU  Name        Persistence-M| Bus-Id        Disp.A | Volatile Uncorr. ECC |\n",
            "| Fan  Temp  Perf  Pwr:Usage/Cap|         Memory-Usage | GPU-Util  Compute M. |\n",
            "|                               |                      |               MIG M. |\n",
            "|===============================+======================+======================|\n",
            "|   0  Tesla T4            Off  | 00000000:00:04.0 Off |                    0 |\n",
            "| N/A   66C    P0    29W /  70W |      0MiB / 15360MiB |      0%      Default |\n",
            "|                               |                      |                  N/A |\n",
            "+-------------------------------+----------------------+----------------------+\n",
            "                                                                               \n",
            "+-----------------------------------------------------------------------------+\n",
            "| Processes:                                                                  |\n",
            "|  GPU   GI   CI        PID   Type   Process name                  GPU Memory |\n",
            "|        ID   ID                                                   Usage      |\n",
            "|=============================================================================|\n",
            "|  No running processes found                                                 |\n",
            "+-----------------------------------------------------------------------------+\n"
          ]
        }
      ],
      "source": [
        "!nvidia-smi"
      ]
    },
    {
      "cell_type": "code",
      "execution_count": null,
      "metadata": {
        "id": "655YJ3o5KJSM"
      },
      "outputs": [],
      "source": [
        "# pip install split-folders"
      ]
    },
    {
      "cell_type": "code",
      "execution_count": null,
      "metadata": {
        "id": "14tSdq9Zo5ry"
      },
      "outputs": [],
      "source": [
        "# import splitfolders"
      ]
    },
    {
      "cell_type": "code",
      "execution_count": null,
      "metadata": {
        "id": "SVat5t96pHe3"
      },
      "outputs": [],
      "source": [
        "# input_folder = '/content/drive/MyDrive/Thesis/Main_Sign_Data'"
      ]
    },
    {
      "cell_type": "code",
      "execution_count": null,
      "metadata": {
        "id": "MzJBRBhFpW34"
      },
      "outputs": [],
      "source": [
        "# splitfolders.ratio(input_folder, output=\"/content/drive/MyDrive/Thesis/Split_data\",\n",
        "                  #  seed=42,ratio=(.7,.2,.1))"
      ]
    },
    {
      "cell_type": "code",
      "execution_count": null,
      "metadata": {
        "id": "lbWp0LRIqICC"
      },
      "outputs": [],
      "source": [
        "from tensorflow.keras.layers import Input, Lambda, Dense, Flatten\n",
        "\n",
        "from tensorflow.keras.layers import Convolution2D\n",
        "from tensorflow.keras.layers import MaxPooling2D\n",
        "from tensorflow.keras.models import Model\n",
        "from tensorflow.keras.applications.resnet50 import ResNet50\n",
        "from tensorflow.keras.applications.vgg16 import VGG16\n",
        "from tensorflow.keras.applications.vgg19 import VGG19\n",
        "from tensorflow.keras.preprocessing import image\n",
        "from tensorflow.keras.preprocessing.image import ImageDataGenerator,load_img\n",
        "from tensorflow.keras.models import Sequential\n",
        "from tensorflow.keras.layers import Dropout\n",
        "from tensorflow.keras.layers import BatchNormalization\n",
        "import numpy as np\n",
        "import pandas as pd\n",
        "from glob import glob\n",
        "from tensorflow.keras.models import load_model\n",
        "import matplotlib.pyplot as plt"
      ]
    },
    {
      "cell_type": "code",
      "execution_count": null,
      "metadata": {
        "id": "2apX092vGMKb"
      },
      "outputs": [],
      "source": [
        "# re-size all the images to this\n",
        "IMAGE_SIZE = [224, 224]\n",
        "\n",
        "train_path = '/content/drive/MyDrive/Thesis/Split_data3.0/train'\n",
        "valid_path = '/content/drive/MyDrive/Thesis/Split_data3.0/val'\n",
        "test_path='/content/drive/MyDrive/Thesis/Split_data3.0/test'\n"
      ]
    },
    {
      "cell_type": "code",
      "execution_count": null,
      "metadata": {
        "id": "L7ksbsOnvnKf"
      },
      "outputs": [],
      "source": [
        "  # useful for getting number of output classes\n",
        "folders = sorted(glob('/content/drive/MyDrive/Thesis/Split_data3.0/train/*'))"
      ]
    },
    {
      "cell_type": "code",
      "execution_count": null,
      "metadata": {
        "id": "TDdyKD5zxq45"
      },
      "outputs": [],
      "source": [
        "folders"
      ]
    },
    {
      "cell_type": "code",
      "execution_count": null,
      "metadata": {
        "colab": {
          "base_uri": "https://localhost:8080/"
        },
        "id": "pMF98xfQx_CR",
        "outputId": "cae530a2-5d69-43f3-fea5-080187f5aeec"
      },
      "outputs": [
        {
          "output_type": "execute_result",
          "data": {
            "text/plain": [
              "39"
            ]
          },
          "metadata": {},
          "execution_count": 11
        }
      ],
      "source": [
        "len(folders)"
      ]
    },
    {
      "cell_type": "code",
      "execution_count": null,
      "metadata": {
        "id": "aycKWEeOyWRO"
      },
      "outputs": [],
      "source": [
        "# Use the Image Data Generator to import the images from the dataset\n",
        "from tensorflow.keras.preprocessing.image import ImageDataGenerator\n",
        "\n",
        "train_datagen = ImageDataGenerator(rescale = 1./255,\n",
        "                                   shear_range = 0.2,\n",
        "                                   zoom_range = 0.2,\n",
        "                                   horizontal_flip = True)\n",
        "\n",
        "val_datagen = ImageDataGenerator(rescale = 1./255)"
      ]
    },
    {
      "cell_type": "code",
      "execution_count": null,
      "metadata": {
        "colab": {
          "base_uri": "https://localhost:8080/"
        },
        "id": "oakTp-7OyZKW",
        "outputId": "60fffd03-92c6-41a5-fd98-9e726210e6e3"
      },
      "outputs": [
        {
          "output_type": "stream",
          "name": "stdout",
          "text": [
            "Found 1343 images belonging to 39 classes.\n"
          ]
        }
      ],
      "source": [
        "# Make sure you provide the same target size as initialied for the image size\n",
        "training_set = train_datagen.flow_from_directory(train_path,\n",
        "                                                 target_size = (224, 224),\n",
        "                                                 batch_size = 32,\n",
        "                                                 class_mode = 'categorical')"
      ]
    },
    {
      "cell_type": "code",
      "source": [
        "len(training_set)"
      ],
      "metadata": {
        "colab": {
          "base_uri": "https://localhost:8080/"
        },
        "id": "BeIrK_IFSONQ",
        "outputId": "6341d6fe-e97d-427c-8241-a64368595e05"
      },
      "execution_count": null,
      "outputs": [
        {
          "output_type": "execute_result",
          "data": {
            "text/plain": [
              "42"
            ]
          },
          "metadata": {},
          "execution_count": 46
        }
      ]
    },
    {
      "cell_type": "code",
      "execution_count": null,
      "metadata": {
        "colab": {
          "base_uri": "https://localhost:8080/"
        },
        "id": "bX3UtIM_yrKJ",
        "outputId": "aea26ed0-8e53-41ce-e131-b524d1ce5732"
      },
      "outputs": [
        {
          "output_type": "stream",
          "name": "stdout",
          "text": [
            "Found 224 images belonging to 39 classes.\n"
          ]
        }
      ],
      "source": [
        "val_set = val_datagen.flow_from_directory(valid_path,\n",
        "                                            target_size = (224, 224),\n",
        "                                            batch_size = 32,\n",
        "                                            class_mode = 'categorical')"
      ]
    },
    {
      "cell_type": "code",
      "source": [
        "len(val_set)"
      ],
      "metadata": {
        "colab": {
          "base_uri": "https://localhost:8080/"
        },
        "id": "7Qs3aw-lfyxV",
        "outputId": "016e0634-8a35-44d5-fe1f-c1e11d330b93"
      },
      "execution_count": null,
      "outputs": [
        {
          "output_type": "execute_result",
          "data": {
            "text/plain": [
              "7"
            ]
          },
          "metadata": {},
          "execution_count": 48
        }
      ]
    },
    {
      "cell_type": "code",
      "execution_count": null,
      "metadata": {
        "id": "iHvUVEoLQTAR"
      },
      "outputs": [],
      "source": [
        "test_datagen = ImageDataGenerator(rescale = 1./255)\n"
      ]
    },
    {
      "cell_type": "code",
      "execution_count": null,
      "metadata": {
        "id": "upJ_Tb56RMUR",
        "colab": {
          "base_uri": "https://localhost:8080/"
        },
        "outputId": "a4b42338-936f-4c29-ed6f-1ed4a8a705b8"
      },
      "outputs": [
        {
          "output_type": "stream",
          "name": "stdout",
          "text": [
            "Found 372 images belonging to 39 classes.\n"
          ]
        }
      ],
      "source": [
        "test_set = test_datagen.flow_from_directory(test_path,\n",
        "                                            target_size = (224, 224),\n",
        "                                            batch_size = 224,\n",
        "                                            class_mode = 'categorical')\n"
      ]
    },
    {
      "cell_type": "code",
      "source": [
        "images, labels = next(test_set)\n",
        "print(images.shape)\n",
        "print(labels.shape)\n",
        "type(images)"
      ],
      "metadata": {
        "colab": {
          "base_uri": "https://localhost:8080/"
        },
        "id": "DFkXHJBtl2LI",
        "outputId": "aca7d7ee-0807-48bc-cda0-fa132520a052"
      },
      "execution_count": null,
      "outputs": [
        {
          "output_type": "stream",
          "name": "stdout",
          "text": [
            "(224, 224, 224, 3)\n",
            "(224, 39)\n"
          ]
        },
        {
          "output_type": "execute_result",
          "data": {
            "text/plain": [
              "numpy.ndarray"
            ]
          },
          "metadata": {},
          "execution_count": 93
        }
      ]
    },
    {
      "cell_type": "code",
      "source": [
        "len(np.unique(np.argmax(labels,axis=1)))"
      ],
      "metadata": {
        "colab": {
          "base_uri": "https://localhost:8080/"
        },
        "id": "u-aZ3KfajuWk",
        "outputId": "31dc0966-36bd-4f6a-d6ad-1eb877a484b9"
      },
      "execution_count": null,
      "outputs": [
        {
          "output_type": "execute_result",
          "data": {
            "text/plain": [
              "39"
            ]
          },
          "metadata": {},
          "execution_count": 105
        }
      ]
    },
    {
      "cell_type": "code",
      "source": [
        "len(images)"
      ],
      "metadata": {
        "colab": {
          "base_uri": "https://localhost:8080/"
        },
        "id": "iRZP5QsSkV-V",
        "outputId": "22c0d4c5-5836-417e-bc61-4a7295b63cab"
      },
      "execution_count": null,
      "outputs": [
        {
          "output_type": "execute_result",
          "data": {
            "text/plain": [
              "1"
            ]
          },
          "metadata": {},
          "execution_count": 72
        }
      ]
    },
    {
      "cell_type": "code",
      "source": [
        "class_dict = training_set.class_indices\n",
        "print(class_dict)"
      ],
      "metadata": {
        "colab": {
          "base_uri": "https://localhost:8080/"
        },
        "id": "3bDb8Cohs70O",
        "outputId": "40be4941-d680-422f-ed7a-fc5a3f42baec"
      },
      "execution_count": null,
      "outputs": [
        {
          "output_type": "stream",
          "name": "stdout",
          "text": [
            "{'01. KA': 0, '02. KHA': 1, '03. GA': 2, '04. GHA': 3, '05. CHA': 4, '06. SCHA': 5, '07. JA': 6, '08. JHA': 7, '09. TA': 8, '10. THA': 9, '11. DA': 10, '12. DHA': 11, '13. TO': 12, '14. THO': 13, '15. DO': 14, '16. DHO': 15, '17. NA': 16, '18. PA': 17, '19. PHA': 18, '20. BA': 19, '21. BHA': 20, '22. MA': 21, '23. YA': 22, '24. RA': 23, '25. LA': 24, '26. SA': 25, '27. HA': 26, '28. RHA': 27, '29. UN': 28, '30. BI': 29, '@1. A': 30, '@2. AA': 31, '@3. E': 32, '@4. U': 33, '@5. Y': 34, '@6. O': 35, 'joint': 36, 'space': 37, 'stop': 38}\n"
          ]
        }
      ]
    },
    {
      "cell_type": "code",
      "source": [
        "li = list(class_dict.keys())\n",
        "print(li)"
      ],
      "metadata": {
        "colab": {
          "base_uri": "https://localhost:8080/"
        },
        "id": "w9kWdu91yBx_",
        "outputId": "f3087b42-d96a-4bf5-8353-5ba51399faba"
      },
      "execution_count": null,
      "outputs": [
        {
          "output_type": "stream",
          "name": "stdout",
          "text": [
            "['01. KA', '02. KHA', '03. GA', '04. GHA', '05. CHA', '06. SCHA', '07. JA', '08. JHA', '09. TA', '10. THA', '11. DA', '12. DHA', '13. TO', '14. THO', '15. DO', '16. DHO', '17. NA', '18. PA', '19. PHA', '20. BA', '21. BHA', '22. MA', '23. YA', '24. RA', '25. LA', '26. SA', '27. HA', '28. RHA', '29. UN', '30. BI', '@1. A', '@2. AA', '@3. E', '@4. U', '@5. Y', '@6. O', 'joint', 'space', 'stop']\n"
          ]
        }
      ]
    },
    {
      "cell_type": "code",
      "source": [
        "len(li)"
      ],
      "metadata": {
        "colab": {
          "base_uri": "https://localhost:8080/"
        },
        "id": "ej1VAhkOi6DL",
        "outputId": "c20c4049-aa57-41c5-f0b3-4d7502b7308f"
      },
      "execution_count": null,
      "outputs": [
        {
          "output_type": "execute_result",
          "data": {
            "text/plain": [
              "39"
            ]
          },
          "metadata": {},
          "execution_count": 67
        }
      ]
    },
    {
      "cell_type": "markdown",
      "source": [
        "#**VGG16**"
      ],
      "metadata": {
        "id": "y64c4BMByvsl"
      }
    },
    {
      "cell_type": "code",
      "source": [
        "# Import the VGG16 library as shown below and add preprocessing layer to the front of VGG\n",
        "# Here we will be using imagenet weights\n",
        "\n",
        "vgg16 = VGG16(input_shape=IMAGE_SIZE + [3], weights='imagenet', include_top=False)"
      ],
      "metadata": {
        "id": "RYLgOf0eznah"
      },
      "execution_count": null,
      "outputs": []
    },
    {
      "cell_type": "code",
      "source": [
        "# don't train existing weights\n",
        "for layer in vgg16.layers:\n",
        "    layer.trainable = False"
      ],
      "metadata": {
        "id": "fCOrSWlfznai"
      },
      "execution_count": null,
      "outputs": []
    },
    {
      "cell_type": "code",
      "source": [
        "vx = Flatten()(vgg16.output)"
      ],
      "metadata": {
        "id": "hXz0FYhYznai"
      },
      "execution_count": null,
      "outputs": []
    },
    {
      "cell_type": "code",
      "source": [
        "v_prediction = Dense(len(folders), activation='softmax')(vx)\n",
        "\n",
        "# create a model object\n",
        "v_model = Model(inputs=vgg16.input, outputs=v_prediction)"
      ],
      "metadata": {
        "id": "CHajQ9a4znak"
      },
      "execution_count": null,
      "outputs": []
    },
    {
      "cell_type": "code",
      "source": [
        "# view the structure of the model\n",
        "v_model.summary()"
      ],
      "metadata": {
        "colab": {
          "base_uri": "https://localhost:8080/"
        },
        "outputId": "a47c63b8-d442-492f-f853-00e501378de9",
        "id": "CNvSA9K_znak"
      },
      "execution_count": null,
      "outputs": [
        {
          "output_type": "stream",
          "name": "stdout",
          "text": [
            "Model: \"model\"\n",
            "_________________________________________________________________\n",
            " Layer (type)                Output Shape              Param #   \n",
            "=================================================================\n",
            " input_1 (InputLayer)        [(None, 224, 224, 3)]     0         \n",
            "                                                                 \n",
            " block1_conv1 (Conv2D)       (None, 224, 224, 64)      1792      \n",
            "                                                                 \n",
            " block1_conv2 (Conv2D)       (None, 224, 224, 64)      36928     \n",
            "                                                                 \n",
            " block1_pool (MaxPooling2D)  (None, 112, 112, 64)      0         \n",
            "                                                                 \n",
            " block2_conv1 (Conv2D)       (None, 112, 112, 128)     73856     \n",
            "                                                                 \n",
            " block2_conv2 (Conv2D)       (None, 112, 112, 128)     147584    \n",
            "                                                                 \n",
            " block2_pool (MaxPooling2D)  (None, 56, 56, 128)       0         \n",
            "                                                                 \n",
            " block3_conv1 (Conv2D)       (None, 56, 56, 256)       295168    \n",
            "                                                                 \n",
            " block3_conv2 (Conv2D)       (None, 56, 56, 256)       590080    \n",
            "                                                                 \n",
            " block3_conv3 (Conv2D)       (None, 56, 56, 256)       590080    \n",
            "                                                                 \n",
            " block3_pool (MaxPooling2D)  (None, 28, 28, 256)       0         \n",
            "                                                                 \n",
            " block4_conv1 (Conv2D)       (None, 28, 28, 512)       1180160   \n",
            "                                                                 \n",
            " block4_conv2 (Conv2D)       (None, 28, 28, 512)       2359808   \n",
            "                                                                 \n",
            " block4_conv3 (Conv2D)       (None, 28, 28, 512)       2359808   \n",
            "                                                                 \n",
            " block4_pool (MaxPooling2D)  (None, 14, 14, 512)       0         \n",
            "                                                                 \n",
            " block5_conv1 (Conv2D)       (None, 14, 14, 512)       2359808   \n",
            "                                                                 \n",
            " block5_conv2 (Conv2D)       (None, 14, 14, 512)       2359808   \n",
            "                                                                 \n",
            " block5_conv3 (Conv2D)       (None, 14, 14, 512)       2359808   \n",
            "                                                                 \n",
            " block5_pool (MaxPooling2D)  (None, 7, 7, 512)         0         \n",
            "                                                                 \n",
            " flatten (Flatten)           (None, 25088)             0         \n",
            "                                                                 \n",
            " dense (Dense)               (None, 39)                978471    \n",
            "                                                                 \n",
            "=================================================================\n",
            "Total params: 15,693,159\n",
            "Trainable params: 978,471\n",
            "Non-trainable params: 14,714,688\n",
            "_________________________________________________________________\n"
          ]
        }
      ]
    },
    {
      "cell_type": "code",
      "source": [
        "from keras import layers\n",
        "for i, layer in enumerate(v_model.layers):\n",
        "   print(i, layer.name)"
      ],
      "metadata": {
        "colab": {
          "base_uri": "https://localhost:8080/"
        },
        "id": "qo2P97PYofx6",
        "outputId": "e08a3f67-4d2f-47d8-b8af-5f8453eee819"
      },
      "execution_count": null,
      "outputs": [
        {
          "output_type": "stream",
          "name": "stdout",
          "text": [
            "0 input_1\n",
            "1 block1_conv1\n",
            "2 block1_conv2\n",
            "3 block1_pool\n",
            "4 block2_conv1\n",
            "5 block2_conv2\n",
            "6 block2_pool\n",
            "7 block3_conv1\n",
            "8 block3_conv2\n",
            "9 block3_conv3\n",
            "10 block3_pool\n",
            "11 block4_conv1\n",
            "12 block4_conv2\n",
            "13 block4_conv3\n",
            "14 block4_pool\n",
            "15 block5_conv1\n",
            "16 block5_conv2\n",
            "17 block5_conv3\n",
            "18 block5_pool\n",
            "19 flatten\n",
            "20 dense\n"
          ]
        }
      ]
    },
    {
      "cell_type": "code",
      "source": [
        "# tell the model what cost and optimization method to use\n",
        "v_model.compile(\n",
        "  loss='categorical_crossentropy',\n",
        "  optimizer='adam',\n",
        "  metrics=['accuracy']\n",
        ")"
      ],
      "metadata": {
        "id": "oCcWlf9Pznak"
      },
      "execution_count": null,
      "outputs": []
    },
    {
      "cell_type": "code",
      "source": [
        "# checkpoint\n",
        "from keras.callbacks import ModelCheckpoint,EarlyStopping,CSVLogger\n",
        "# r_weightpath = \"/content/drive/MyDrive/Thesis/weights/checkpoint/res_best_weights-{epoch:02d}-{val_accuracy:.2f}.hdf5\"\n",
        "v_weightpath = \"/content/drive/MyDrive/Thesis/Augmented/Models/Weights/VGG16/v16_best_weights_280223_sparse.hdf5\"\n",
        "checkpoint = ModelCheckpoint(v_weightpath, monitor='val_accuracy', verbose=1, save_best_only=True, save_weights_only=True, mode='max')\n",
        "# checkpoint = ModelCheckpoint(r_weightpath, monitor='val_accuracy', verbose=1, save_best_only=True,  mode='max')\n",
        "\n",
        "early_stop=EarlyStopping(monitor='val_loss',patience=10,verbose=1)\n",
        "\n",
        "log_csv=CSVLogger('/content/drive/MyDrive/Thesis/Augmented/Models/Logs/VGG16/v16_logs_280223_sparse.csv',separator=',',append=False)\n",
        "\n",
        "callbacks_list = [checkpoint,log_csv]\n",
        "\n",
        "# fit the model\n",
        "# Run the cell. It will take some time to execute\n",
        "v = v_model.fit(\n",
        "  training_set,\n",
        "  validation_data=val_set,\n",
        "  epochs=20,\n",
        "  steps_per_epoch=len(training_set),\n",
        "  validation_steps=len(val_set),\n",
        "  callbacks=callbacks_list\n",
        ")\n",
        "\n",
        "v_model.save('/content/drive/MyDrive/Thesis/Augmented/Models/model_vgg16_280223_sparse.h5')"
      ],
      "metadata": {
        "id": "86xWMgguznak"
      },
      "execution_count": null,
      "outputs": []
    },
    {
      "cell_type": "code",
      "source": [
        "# plot the loss\n",
        "plt.plot(v.history['loss'], label='train loss')\n",
        "plt.plot(v.history['val_loss'], label='test loss')\n",
        "plt.legend()\n",
        "plt.show()\n",
        "plt.savefig('/content/drive/MyDrive/Thesis/Augmented/Models/Fig/VGG16/vLossVal_loss_280323')\n",
        "\n",
        "# plot the accuracy\n",
        "plt.plot(v.history['accuracy'], label='train acc')\n",
        "plt.plot(v.history['val_accuracy'], label='test acc')\n",
        "plt.legend()\n",
        "plt.show()\n",
        "plt.savefig('/content/drive/MyDrive/Thesis/Augmented/Models/Fig/VGG16/vAccVal_acc_280323')"
      ],
      "metadata": {
        "id": "frfRmqp1znal",
        "colab": {
          "base_uri": "https://localhost:8080/",
          "height": 530
        },
        "outputId": "a87eebc4-af41-40c1-acbc-79c7b250cdb0"
      },
      "execution_count": null,
      "outputs": [
        {
          "output_type": "display_data",
          "data": {
            "text/plain": [
              "<Figure size 432x288 with 1 Axes>"
            ],
            "image/png": "[encoded data removed]"
          },
          "metadata": {
            "needs_background": "light"
          }
        },
        {
          "output_type": "display_data",
          "data": {
            "text/plain": [
              "<Figure size 432x288 with 1 Axes>"
            ],
            "image/png": "[encoded data removed]"
          },
          "metadata": {
            "needs_background": "light"
          }
        },
        {
          "output_type": "display_data",
          "data": {
            "text/plain": [
              "<Figure size 432x288 with 0 Axes>"
            ]
          },
          "metadata": {}
        }
      ]
    },
    {
      "cell_type": "code",
      "source": [
        "from tensorflow.keras.models import load_model\n",
        "model=load_model('/content/drive/MyDrive/Thesis/Augmented/Models/model_vgg16_280223.h5')"
      ],
      "metadata": {
        "id": "EximojAnznam"
      },
      "execution_count": null,
      "outputs": []
    },
    {
      "cell_type": "code",
      "source": [
        "from sklearn.metrics import classification_report\n"
      ],
      "metadata": {
        "id": "H6IoiypUznam"
      },
      "execution_count": null,
      "outputs": []
    },
    {
      "cell_type": "code",
      "source": [
        "len(images)"
      ],
      "metadata": {
        "colab": {
          "base_uri": "https://localhost:8080/"
        },
        "id": "To3UmOx8j9Y1",
        "outputId": "4d86314b-e061-4ef0-e0ce-c4cf95c3d536"
      },
      "execution_count": null,
      "outputs": [
        {
          "output_type": "execute_result",
          "data": {
            "text/plain": [
              "32"
            ]
          },
          "metadata": {},
          "execution_count": 69
        }
      ]
    },
    {
      "cell_type": "code",
      "source": [
        "labels.shape"
      ],
      "metadata": {
        "colab": {
          "base_uri": "https://localhost:8080/"
        },
        "id": "5rsewA0hxbjk",
        "outputId": "1a12d3af-e6a3-481f-a691-6ecc7ee62e49"
      },
      "execution_count": null,
      "outputs": [
        {
          "output_type": "execute_result",
          "data": {
            "text/plain": [
              "(224, 39)"
            ]
          },
          "metadata": {},
          "execution_count": 116
        }
      ]
    },
    {
      "cell_type": "code",
      "source": [
        "ypred = model.predict(images)\n",
        "pred=np.argmax(ypred, axis=1)\n",
        "ground = np.argmax(labels,axis=1)\n",
        "print(classification_report(ground,pred))"
      ],
      "metadata": {
        "colab": {
          "base_uri": "https://localhost:8080/"
        },
        "outputId": "71e69f6a-837b-45d7-9c4e-9fc9561a3cfb",
        "id": "q21p7cjvznam"
      },
      "execution_count": null,
      "outputs": [
        {
          "output_type": "stream",
          "name": "stdout",
          "text": [
            "7/7 [==============================] - 1s 132ms/step\n",
            "              precision    recall  f1-score   support\n",
            "\n",
            "           0       0.33      0.25      0.29         4\n",
            "           1       0.40      0.40      0.40         5\n",
            "           2       0.50      0.60      0.55         5\n",
            "           3       0.00      0.00      0.00         4\n",
            "           4       1.00      0.80      0.89         5\n",
            "           5       0.43      0.60      0.50         5\n",
            "           6       1.00      0.75      0.86         4\n",
            "           7       0.67      0.40      0.50         5\n",
            "           8       0.83      0.83      0.83         6\n",
            "           9       0.40      0.67      0.50         3\n",
            "          10       0.50      0.25      0.33         4\n",
            "          11       0.00      0.00      0.00         4\n",
            "          12       0.25      0.50      0.33         6\n",
            "          13       0.50      0.29      0.36         7\n",
            "          14       0.21      0.50      0.30         6\n",
            "          15       0.83      0.62      0.71         8\n",
            "          16       0.33      0.57      0.42         7\n",
            "          17       1.00      0.50      0.67         8\n",
            "          18       0.71      0.83      0.77         6\n",
            "          19       0.27      0.67      0.38         6\n",
            "          20       0.14      1.00      0.25         1\n",
            "          21       0.40      0.25      0.31         8\n",
            "          22       0.60      0.38      0.46         8\n",
            "          23       0.17      0.20      0.18         5\n",
            "          24       1.00      0.25      0.40         8\n",
            "          25       0.83      0.71      0.77         7\n",
            "          26       0.57      0.44      0.50         9\n",
            "          27       0.60      0.50      0.55         6\n",
            "          28       0.36      0.62      0.45         8\n",
            "          29       0.33      0.25      0.29         4\n",
            "          30       1.00      0.40      0.57         5\n",
            "          31       0.43      0.50      0.46         6\n",
            "          32       1.00      1.00      1.00         5\n",
            "          33       0.57      0.57      0.57         7\n",
            "          34       0.50      0.14      0.22         7\n",
            "          35       0.50      0.29      0.36         7\n",
            "          36       1.00      1.00      1.00         6\n",
            "          37       0.86      1.00      0.92         6\n",
            "          38       1.00      1.00      1.00         3\n",
            "\n",
            "    accuracy                           0.51       224\n",
            "   macro avg       0.57      0.53      0.51       224\n",
            "weighted avg       0.59      0.51      0.52       224\n",
            "\n"
          ]
        },
        {
          "output_type": "stream",
          "name": "stderr",
          "text": [
            "/usr/local/lib/python3.8/dist-packages/sklearn/metrics/_classification.py:1318: UndefinedMetricWarning: Precision and F-score are ill-defined and being set to 0.0 in labels with no predicted samples. Use `zero_division` parameter to control this behavior.\n",
            "  _warn_prf(average, modifier, msg_start, len(result))\n",
            "/usr/local/lib/python3.8/dist-packages/sklearn/metrics/_classification.py:1318: UndefinedMetricWarning: Precision and F-score are ill-defined and being set to 0.0 in labels with no predicted samples. Use `zero_division` parameter to control this behavior.\n",
            "  _warn_prf(average, modifier, msg_start, len(result))\n",
            "/usr/local/lib/python3.8/dist-packages/sklearn/metrics/_classification.py:1318: UndefinedMetricWarning: Precision and F-score are ill-defined and being set to 0.0 in labels with no predicted samples. Use `zero_division` parameter to control this behavior.\n",
            "  _warn_prf(average, modifier, msg_start, len(result))\n"
          ]
        }
      ]
    },
    {
      "cell_type": "code",
      "source": [
        "cr=classification_report(ground,pred, output_dict=True)\n",
        "v6_cr = pd.DataFrame(cr).transpose()"
      ],
      "metadata": {
        "id": "90X0BsA07SF7",
        "colab": {
          "base_uri": "https://localhost:8080/"
        },
        "outputId": "31b12471-4efc-44ae-eee0-1025c4bf4631"
      },
      "execution_count": null,
      "outputs": [
        {
          "output_type": "stream",
          "name": "stderr",
          "text": [
            "/usr/local/lib/python3.8/dist-packages/sklearn/metrics/_classification.py:1318: UndefinedMetricWarning: Precision and F-score are ill-defined and being set to 0.0 in labels with no predicted samples. Use `zero_division` parameter to control this behavior.\n",
            "  _warn_prf(average, modifier, msg_start, len(result))\n",
            "/usr/local/lib/python3.8/dist-packages/sklearn/metrics/_classification.py:1318: UndefinedMetricWarning: Precision and F-score are ill-defined and being set to 0.0 in labels with no predicted samples. Use `zero_division` parameter to control this behavior.\n",
            "  _warn_prf(average, modifier, msg_start, len(result))\n",
            "/usr/local/lib/python3.8/dist-packages/sklearn/metrics/_classification.py:1318: UndefinedMetricWarning: Precision and F-score are ill-defined and being set to 0.0 in labels with no predicted samples. Use `zero_division` parameter to control this behavior.\n",
            "  _warn_prf(average, modifier, msg_start, len(result))\n"
          ]
        }
      ]
    },
    {
      "cell_type": "code",
      "source": [
        "v6_rep=v6_cr.iloc[39:42,:]\n",
        "v6_rep"
      ],
      "metadata": {
        "colab": {
          "base_uri": "https://localhost:8080/",
          "height": 143
        },
        "outputId": "91324da9-c1ba-40c2-a5e0-6c1e0925b340",
        "id": "JI2nsjup7SF9"
      },
      "execution_count": null,
      "outputs": [
        {
          "output_type": "execute_result",
          "data": {
            "text/plain": [
              "              precision    recall  f1-score     support\n",
              "accuracy       0.513393  0.513393  0.513393    0.513393\n",
              "macro avg      0.565018  0.526689  0.509291  224.000000\n",
              "weighted avg   0.585438  0.513393  0.515774  224.000000"
            ],
            "text/html": [
              "\n",
              "  <div id=\"df-c37833a8-cf1e-47ba-81e1-4be0ce05b699\">\n",
              "    <div class=\"colab-df-container\">\n",
              "      <div>\n",
              "<style scoped>\n",
              "    .dataframe tbody tr th:only-of-type {\n",
              "        vertical-align: middle;\n",
              "    }\n",
              "\n",
              "    .dataframe tbody tr th {\n",
              "        vertical-align: top;\n",
              "    }\n",
              "\n",
              "    .dataframe thead th {\n",
              "        text-align: right;\n",
              "    }\n",
              "</style>\n",
              "<table border=\"1\" class=\"dataframe\">\n",
              "  <thead>\n",
              "    <tr style=\"text-align: right;\">\n",
              "      <th></th>\n",
              "      <th>precision</th>\n",
              "      <th>recall</th>\n",
              "      <th>f1-score</th>\n",
              "      <th>support</th>\n",
              "    </tr>\n",
              "  </thead>\n",
              "  <tbody>\n",
              "    <tr>\n",
              "      <th>accuracy</th>\n",
              "      <td>0.513393</td>\n",
              "      <td>0.513393</td>\n",
              "      <td>0.513393</td>\n",
              "      <td>0.513393</td>\n",
              "    </tr>\n",
              "    <tr>\n",
              "      <th>macro avg</th>\n",
              "      <td>0.565018</td>\n",
              "      <td>0.526689</td>\n",
              "      <td>0.509291</td>\n",
              "      <td>224.000000</td>\n",
              "    </tr>\n",
              "    <tr>\n",
              "      <th>weighted avg</th>\n",
              "      <td>0.585438</td>\n",
              "      <td>0.513393</td>\n",
              "      <td>0.515774</td>\n",
              "      <td>224.000000</td>\n",
              "    </tr>\n",
              "  </tbody>\n",
              "</table>\n",
              "</div>\n",
              "      <button class=\"colab-df-convert\" onclick=\"convertToInteractive('df-c37833a8-cf1e-47ba-81e1-4be0ce05b699')\"\n",
              "              title=\"Convert this dataframe to an interactive table.\"\n",
              "              style=\"display:none;\">\n",
              "        \n",
              "  <svg xmlns=\"http://www.w3.org/2000/svg\" height=\"24px\"viewBox=\"0 0 24 24\"\n",
              "       width=\"24px\">\n",
              "    <path d=\"M0 0h24v24H0V0z\" fill=\"none\"/>\n",
              "    <path d=\"M18.56 5.44l.94 2.06.94-2.06 2.06-.94-2.06-.94-.94-2.06-.94 2.06-2.06.94zm-11 1L8.5 8.5l.94-2.06 2.06-.94-2.06-.94L8.5 2.5l-.94 2.06-2.06.94zm10 10l.94 2.06.94-2.06 2.06-.94-2.06-.94-.94-2.06-.94 2.06-2.06.94z\"/><path d=\"M17.41 7.96l-1.37-1.37c-.4-.4-.92-.59-1.43-.59-.52 0-1.04.2-1.43.59L10.3 9.45l-7.72 7.72c-.78.78-.78 2.05 0 2.83L4 21.41c.39.39.9.59 1.41.59.51 0 1.02-.2 1.41-.59l7.78-7.78 2.81-2.81c.8-.78.8-2.07 0-2.86zM5.41 20L4 18.59l7.72-7.72 1.47 1.35L5.41 20z\"/>\n",
              "  </svg>\n",
              "      </button>\n",
              "      \n",
              "  <style>\n",
              "    .colab-df-container {\n",
              "      display:flex;\n",
              "      flex-wrap:wrap;\n",
              "      gap: 12px;\n",
              "    }\n",
              "\n",
              "    .colab-df-convert {\n",
              "      background-color: #E8F0FE;\n",
              "      border: none;\n",
              "      border-radius: 50%;\n",
              "      cursor: pointer;\n",
              "      display: none;\n",
              "      fill: #1967D2;\n",
              "      height: 32px;\n",
              "      padding: 0 0 0 0;\n",
              "      width: 32px;\n",
              "    }\n",
              "\n",
              "    .colab-df-convert:hover {\n",
              "      background-color: #E2EBFA;\n",
              "      box-shadow: 0px 1px 2px rgba(60, 64, 67, 0.3), 0px 1px 3px 1px rgba(60, 64, 67, 0.15);\n",
              "      fill: #174EA6;\n",
              "    }\n",
              "\n",
              "    [theme=dark] .colab-df-convert {\n",
              "      background-color: #3B4455;\n",
              "      fill: #D2E3FC;\n",
              "    }\n",
              "\n",
              "    [theme=dark] .colab-df-convert:hover {\n",
              "      background-color: #434B5C;\n",
              "      box-shadow: 0px 1px 3px 1px rgba(0, 0, 0, 0.15);\n",
              "      filter: drop-shadow(0px 1px 2px rgba(0, 0, 0, 0.3));\n",
              "      fill: #FFFFFF;\n",
              "    }\n",
              "  </style>\n",
              "\n",
              "      <script>\n",
              "        const buttonEl =\n",
              "          document.querySelector('#df-c37833a8-cf1e-47ba-81e1-4be0ce05b699 button.colab-df-convert');\n",
              "        buttonEl.style.display =\n",
              "          google.colab.kernel.accessAllowed ? 'block' : 'none';\n",
              "\n",
              "        async function convertToInteractive(key) {\n",
              "          const element = document.querySelector('#df-c37833a8-cf1e-47ba-81e1-4be0ce05b699');\n",
              "          const dataTable =\n",
              "            await google.colab.kernel.invokeFunction('convertToInteractive',\n",
              "                                                     [key], {});\n",
              "          if (!dataTable) return;\n",
              "\n",
              "          const docLinkHtml = 'Like what you see? Visit the ' +\n",
              "            '<a target=\"_blank\" href=https://colab.research.google.com/notebooks/data_table.ipynb>data table notebook</a>'\n",
              "            + ' to learn more about interactive tables.';\n",
              "          element.innerHTML = '';\n",
              "          dataTable['output_type'] = 'display_data';\n",
              "          await google.colab.output.renderOutput(dataTable, element);\n",
              "          const docLink = document.createElement('div');\n",
              "          docLink.innerHTML = docLinkHtml;\n",
              "          element.appendChild(docLink);\n",
              "        }\n",
              "      </script>\n",
              "    </div>\n",
              "  </div>\n",
              "  "
            ]
          },
          "metadata": {},
          "execution_count": 111
        }
      ]
    },
    {
      "cell_type": "code",
      "source": [
        "v6_cr=v6_cr.iloc[0:39,:]"
      ],
      "metadata": {
        "id": "WZMWL0kQ7SF-"
      },
      "execution_count": null,
      "outputs": []
    },
    {
      "cell_type": "code",
      "source": [
        "v6_cr['class']=li"
      ],
      "metadata": {
        "id": "Q4OW5lYq7SF-"
      },
      "execution_count": null,
      "outputs": []
    },
    {
      "cell_type": "code",
      "source": [
        "print(v6_cr)"
      ],
      "metadata": {
        "colab": {
          "base_uri": "https://localhost:8080/"
        },
        "id": "x9cP3m517SGB",
        "outputId": "cec5a841-8cea-43bd-c338-ec7145ef0a2d"
      },
      "execution_count": null,
      "outputs": [
        {
          "output_type": "stream",
          "name": "stdout",
          "text": [
            "    precision    recall  f1-score  support     class\n",
            "0    0.333333  0.250000  0.285714      4.0    01. KA\n",
            "1    0.400000  0.400000  0.400000      5.0   02. KHA\n",
            "2    0.500000  0.600000  0.545455      5.0    03. GA\n",
            "3    0.000000  0.000000  0.000000      4.0   04. GHA\n",
            "4    1.000000  0.800000  0.888889      5.0   05. CHA\n",
            "5    0.428571  0.600000  0.500000      5.0  06. SCHA\n",
            "6    1.000000  0.750000  0.857143      4.0    07. JA\n",
            "7    0.666667  0.400000  0.500000      5.0   08. JHA\n",
            "8    0.833333  0.833333  0.833333      6.0    09. TA\n",
            "9    0.400000  0.666667  0.500000      3.0   10. THA\n",
            "10   0.500000  0.250000  0.333333      4.0    11. DA\n",
            "11   0.000000  0.000000  0.000000      4.0   12. DHA\n",
            "12   0.250000  0.500000  0.333333      6.0    13. TO\n",
            "13   0.500000  0.285714  0.363636      7.0   14. THO\n",
            "14   0.214286  0.500000  0.300000      6.0    15. DO\n",
            "15   0.833333  0.625000  0.714286      8.0   16. DHO\n",
            "16   0.333333  0.571429  0.421053      7.0    17. NA\n",
            "17   1.000000  0.500000  0.666667      8.0    18. PA\n",
            "18   0.714286  0.833333  0.769231      6.0   19. PHA\n",
            "19   0.266667  0.666667  0.380952      6.0    20. BA\n",
            "20   0.142857  1.000000  0.250000      1.0   21. BHA\n",
            "21   0.400000  0.250000  0.307692      8.0    22. MA\n",
            "22   0.600000  0.375000  0.461538      8.0    23. YA\n",
            "23   0.166667  0.200000  0.181818      5.0    24. RA\n",
            "24   1.000000  0.250000  0.400000      8.0    25. LA\n",
            "25   0.833333  0.714286  0.769231      7.0    26. SA\n",
            "26   0.571429  0.444444  0.500000      9.0    27. HA\n",
            "27   0.600000  0.500000  0.545455      6.0   28. RHA\n",
            "28   0.357143  0.625000  0.454545      8.0    29. UN\n",
            "29   0.333333  0.250000  0.285714      4.0    30. BI\n",
            "30   1.000000  0.400000  0.571429      5.0     @1. A\n",
            "31   0.428571  0.500000  0.461538      6.0    @2. AA\n",
            "32   1.000000  1.000000  1.000000      5.0     @3. E\n",
            "33   0.571429  0.571429  0.571429      7.0     @4. U\n",
            "34   0.500000  0.142857  0.222222      7.0     @5. Y\n",
            "35   0.500000  0.285714  0.363636      7.0     @6. O\n",
            "36   1.000000  1.000000  1.000000      6.0     joint\n",
            "37   0.857143  1.000000  0.923077      6.0     space\n",
            "38   1.000000  1.000000  1.000000      3.0      stop\n"
          ]
        }
      ]
    },
    {
      "cell_type": "code",
      "source": [
        "from sklearn.metrics import precision_recall_fscore_support\n",
        "res = []\n",
        "for l in range(39):\n",
        "    prec,recall,_,_ = precision_recall_fscore_support(np.array(ground)==l,\n",
        "                                                      np.array(pred)==l,\n",
        "                                                      pos_label=True,average=None)\n",
        "    res.append([li[l],recall[0],recall[1]])"
      ],
      "metadata": {
        "id": "ch0Yv7YU7SGB",
        "colab": {
          "base_uri": "https://localhost:8080/"
        },
        "outputId": "f4acf3c2-71e5-467e-dff0-0060e12b0b1b"
      },
      "execution_count": null,
      "outputs": [
        {
          "output_type": "stream",
          "name": "stderr",
          "text": [
            "/usr/local/lib/python3.8/dist-packages/sklearn/metrics/_classification.py:1318: UndefinedMetricWarning: Precision and F-score are ill-defined and being set to 0.0 in labels with no predicted samples. Use `zero_division` parameter to control this behavior.\n",
            "  _warn_prf(average, modifier, msg_start, len(result))\n"
          ]
        }
      ]
    },
    {
      "cell_type": "code",
      "source": [
        "specicifity=pd.DataFrame(res,columns = ['class','sensitivity','specificity'])"
      ],
      "metadata": {
        "id": "MLeHhI277SGD"
      },
      "execution_count": null,
      "outputs": []
    },
    {
      "cell_type": "code",
      "source": [
        "print(specicifity)"
      ],
      "metadata": {
        "colab": {
          "base_uri": "https://localhost:8080/"
        },
        "id": "gjiwIap97SGE",
        "outputId": "47222c3b-9046-48f9-e2be-32bae143a9e3"
      },
      "execution_count": null,
      "outputs": [
        {
          "output_type": "stream",
          "name": "stdout",
          "text": [
            "       class  sensitivity  specificity\n",
            "0     01. KA     0.990909     0.250000\n",
            "1    02. KHA     0.986301     0.400000\n",
            "2     03. GA     0.986301     0.600000\n",
            "3    04. GHA     1.000000     0.000000\n",
            "4    05. CHA     1.000000     0.800000\n",
            "5   06. SCHA     0.981735     0.600000\n",
            "6     07. JA     1.000000     0.750000\n",
            "7    08. JHA     0.995434     0.400000\n",
            "8     09. TA     0.995413     0.833333\n",
            "9    10. THA     0.986425     0.666667\n",
            "10    11. DA     0.995455     0.250000\n",
            "11   12. DHA     0.986364     0.000000\n",
            "12    13. TO     0.958716     0.500000\n",
            "13   14. THO     0.990783     0.285714\n",
            "14    15. DO     0.949541     0.500000\n",
            "15   16. DHO     0.995370     0.625000\n",
            "16    17. NA     0.963134     0.571429\n",
            "17    18. PA     1.000000     0.500000\n",
            "18   19. PHA     0.990826     0.833333\n",
            "19    20. BA     0.949541     0.666667\n",
            "20   21. BHA     0.973094     1.000000\n",
            "21    22. MA     0.986111     0.250000\n",
            "22    23. YA     0.990741     0.375000\n",
            "23    24. RA     0.977169     0.200000\n",
            "24    25. LA     1.000000     0.250000\n",
            "25    26. SA     0.995392     0.714286\n",
            "26    27. HA     0.986047     0.444444\n",
            "27   28. RHA     0.990826     0.500000\n",
            "28    29. UN     0.958333     0.625000\n",
            "29    30. BI     0.990909     0.250000\n",
            "30     @1. A     1.000000     0.400000\n",
            "31    @2. AA     0.981651     0.500000\n",
            "32     @3. E     1.000000     1.000000\n",
            "33     @4. U     0.986175     0.571429\n",
            "34     @5. Y     0.995392     0.142857\n",
            "35     @6. O     0.990783     0.285714\n",
            "36     joint     1.000000     1.000000\n",
            "37     space     0.995413     1.000000\n",
            "38      stop     1.000000     1.000000\n"
          ]
        }
      ]
    },
    {
      "cell_type": "code",
      "source": [
        "v6_matrix=pd.merge(specicifity, v6_cr, on ='class')"
      ],
      "metadata": {
        "id": "K9h9sxRr7SGE"
      },
      "execution_count": null,
      "outputs": []
    },
    {
      "cell_type": "code",
      "source": [
        "# result = pd.concat([specicifity,resnet_cr], axis=1,ignore_index=True )\n",
        "v6_matrix"
      ],
      "metadata": {
        "colab": {
          "base_uri": "https://localhost:8080/",
          "height": 1000
        },
        "id": "QS6Jaemr7SGF",
        "outputId": "c29fd824-229e-4599-a743-376bff90e895"
      },
      "execution_count": null,
      "outputs": [
        {
          "output_type": "execute_result",
          "data": {
            "text/plain": [
              "       class  sensitivity  specificity  precision    recall  f1-score  support\n",
              "0     01. KA     0.990909     0.250000   0.333333  0.250000  0.285714      4.0\n",
              "1    02. KHA     0.986301     0.400000   0.400000  0.400000  0.400000      5.0\n",
              "2     03. GA     0.986301     0.600000   0.500000  0.600000  0.545455      5.0\n",
              "3    04. GHA     1.000000     0.000000   0.000000  0.000000  0.000000      4.0\n",
              "4    05. CHA     1.000000     0.800000   1.000000  0.800000  0.888889      5.0\n",
              "5   06. SCHA     0.981735     0.600000   0.428571  0.600000  0.500000      5.0\n",
              "6     07. JA     1.000000     0.750000   1.000000  0.750000  0.857143      4.0\n",
              "7    08. JHA     0.995434     0.400000   0.666667  0.400000  0.500000      5.0\n",
              "8     09. TA     0.995413     0.833333   0.833333  0.833333  0.833333      6.0\n",
              "9    10. THA     0.986425     0.666667   0.400000  0.666667  0.500000      3.0\n",
              "10    11. DA     0.995455     0.250000   0.500000  0.250000  0.333333      4.0\n",
              "11   12. DHA     0.986364     0.000000   0.000000  0.000000  0.000000      4.0\n",
              "12    13. TO     0.958716     0.500000   0.250000  0.500000  0.333333      6.0\n",
              "13   14. THO     0.990783     0.285714   0.500000  0.285714  0.363636      7.0\n",
              "14    15. DO     0.949541     0.500000   0.214286  0.500000  0.300000      6.0\n",
              "15   16. DHO     0.995370     0.625000   0.833333  0.625000  0.714286      8.0\n",
              "16    17. NA     0.963134     0.571429   0.333333  0.571429  0.421053      7.0\n",
              "17    18. PA     1.000000     0.500000   1.000000  0.500000  0.666667      8.0\n",
              "18   19. PHA     0.990826     0.833333   0.714286  0.833333  0.769231      6.0\n",
              "19    20. BA     0.949541     0.666667   0.266667  0.666667  0.380952      6.0\n",
              "20   21. BHA     0.973094     1.000000   0.142857  1.000000  0.250000      1.0\n",
              "21    22. MA     0.986111     0.250000   0.400000  0.250000  0.307692      8.0\n",
              "22    23. YA     0.990741     0.375000   0.600000  0.375000  0.461538      8.0\n",
              "23    24. RA     0.977169     0.200000   0.166667  0.200000  0.181818      5.0\n",
              "24    25. LA     1.000000     0.250000   1.000000  0.250000  0.400000      8.0\n",
              "25    26. SA     0.995392     0.714286   0.833333  0.714286  0.769231      7.0\n",
              "26    27. HA     0.986047     0.444444   0.571429  0.444444  0.500000      9.0\n",
              "27   28. RHA     0.990826     0.500000   0.600000  0.500000  0.545455      6.0\n",
              "28    29. UN     0.958333     0.625000   0.357143  0.625000  0.454545      8.0\n",
              "29    30. BI     0.990909     0.250000   0.333333  0.250000  0.285714      4.0\n",
              "30     @1. A     1.000000     0.400000   1.000000  0.400000  0.571429      5.0\n",
              "31    @2. AA     0.981651     0.500000   0.428571  0.500000  0.461538      6.0\n",
              "32     @3. E     1.000000     1.000000   1.000000  1.000000  1.000000      5.0\n",
              "33     @4. U     0.986175     0.571429   0.571429  0.571429  0.571429      7.0\n",
              "34     @5. Y     0.995392     0.142857   0.500000  0.142857  0.222222      7.0\n",
              "35     @6. O     0.990783     0.285714   0.500000  0.285714  0.363636      7.0\n",
              "36     joint     1.000000     1.000000   1.000000  1.000000  1.000000      6.0\n",
              "37     space     0.995413     1.000000   0.857143  1.000000  0.923077      6.0\n",
              "38      stop     1.000000     1.000000   1.000000  1.000000  1.000000      3.0"
            ],
            "text/html": [
              "\n",
              "  <div id=\"df-aca86186-44c7-4548-be9a-23722479791a\">\n",
              "    <div class=\"colab-df-container\">\n",
              "      <div>\n",
              "<style scoped>\n",
              "    .dataframe tbody tr th:only-of-type {\n",
              "        vertical-align: middle;\n",
              "    }\n",
              "\n",
              "    .dataframe tbody tr th {\n",
              "        vertical-align: top;\n",
              "    }\n",
              "\n",
              "    .dataframe thead th {\n",
              "        text-align: right;\n",
              "    }\n",
              "</style>\n",
              "<table border=\"1\" class=\"dataframe\">\n",
              "  <thead>\n",
              "    <tr style=\"text-align: right;\">\n",
              "      <th></th>\n",
              "      <th>class</th>\n",
              "      <th>sensitivity</th>\n",
              "      <th>specificity</th>\n",
              "      <th>precision</th>\n",
              "      <th>recall</th>\n",
              "      <th>f1-score</th>\n",
              "      <th>support</th>\n",
              "    </tr>\n",
              "  </thead>\n",
              "  <tbody>\n",
              "    <tr>\n",
              "      <th>0</th>\n",
              "      <td>01. KA</td>\n",
              "      <td>0.990909</td>\n",
              "      <td>0.250000</td>\n",
              "      <td>0.333333</td>\n",
              "      <td>0.250000</td>\n",
              "      <td>0.285714</td>\n",
              "      <td>4.0</td>\n",
              "    </tr>\n",
              "    <tr>\n",
              "      <th>1</th>\n",
              "      <td>02. KHA</td>\n",
              "      <td>0.986301</td>\n",
              "      <td>0.400000</td>\n",
              "      <td>0.400000</td>\n",
              "      <td>0.400000</td>\n",
              "      <td>0.400000</td>\n",
              "      <td>5.0</td>\n",
              "    </tr>\n",
              "    <tr>\n",
              "      <th>2</th>\n",
              "      <td>03. GA</td>\n",
              "      <td>0.986301</td>\n",
              "      <td>0.600000</td>\n",
              "      <td>0.500000</td>\n",
              "      <td>0.600000</td>\n",
              "      <td>0.545455</td>\n",
              "      <td>5.0</td>\n",
              "    </tr>\n",
              "    <tr>\n",
              "      <th>3</th>\n",
              "      <td>04. GHA</td>\n",
              "      <td>1.000000</td>\n",
              "      <td>0.000000</td>\n",
              "      <td>0.000000</td>\n",
              "      <td>0.000000</td>\n",
              "      <td>0.000000</td>\n",
              "      <td>4.0</td>\n",
              "    </tr>\n",
              "    <tr>\n",
              "      <th>4</th>\n",
              "      <td>05. CHA</td>\n",
              "      <td>1.000000</td>\n",
              "      <td>0.800000</td>\n",
              "      <td>1.000000</td>\n",
              "      <td>0.800000</td>\n",
              "      <td>0.888889</td>\n",
              "      <td>5.0</td>\n",
              "    </tr>\n",
              "    <tr>\n",
              "      <th>5</th>\n",
              "      <td>06. SCHA</td>\n",
              "      <td>0.981735</td>\n",
              "      <td>0.600000</td>\n",
              "      <td>0.428571</td>\n",
              "      <td>0.600000</td>\n",
              "      <td>0.500000</td>\n",
              "      <td>5.0</td>\n",
              "    </tr>\n",
              "    <tr>\n",
              "      <th>6</th>\n",
              "      <td>07. JA</td>\n",
              "      <td>1.000000</td>\n",
              "      <td>0.750000</td>\n",
              "      <td>1.000000</td>\n",
              "      <td>0.750000</td>\n",
              "      <td>0.857143</td>\n",
              "      <td>4.0</td>\n",
              "    </tr>\n",
              "    <tr>\n",
              "      <th>7</th>\n",
              "      <td>08. JHA</td>\n",
              "      <td>0.995434</td>\n",
              "      <td>0.400000</td>\n",
              "      <td>0.666667</td>\n",
              "      <td>0.400000</td>\n",
              "      <td>0.500000</td>\n",
              "      <td>5.0</td>\n",
              "    </tr>\n",
              "    <tr>\n",
              "      <th>8</th>\n",
              "      <td>09. TA</td>\n",
              "      <td>0.995413</td>\n",
              "      <td>0.833333</td>\n",
              "      <td>0.833333</td>\n",
              "      <td>0.833333</td>\n",
              "      <td>0.833333</td>\n",
              "      <td>6.0</td>\n",
              "    </tr>\n",
              "    <tr>\n",
              "      <th>9</th>\n",
              "      <td>10. THA</td>\n",
              "      <td>0.986425</td>\n",
              "      <td>0.666667</td>\n",
              "      <td>0.400000</td>\n",
              "      <td>0.666667</td>\n",
              "      <td>0.500000</td>\n",
              "      <td>3.0</td>\n",
              "    </tr>\n",
              "    <tr>\n",
              "      <th>10</th>\n",
              "      <td>11. DA</td>\n",
              "      <td>0.995455</td>\n",
              "      <td>0.250000</td>\n",
              "      <td>0.500000</td>\n",
              "      <td>0.250000</td>\n",
              "      <td>0.333333</td>\n",
              "      <td>4.0</td>\n",
              "    </tr>\n",
              "    <tr>\n",
              "      <th>11</th>\n",
              "      <td>12. DHA</td>\n",
              "      <td>0.986364</td>\n",
              "      <td>0.000000</td>\n",
              "      <td>0.000000</td>\n",
              "      <td>0.000000</td>\n",
              "      <td>0.000000</td>\n",
              "      <td>4.0</td>\n",
              "    </tr>\n",
              "    <tr>\n",
              "      <th>12</th>\n",
              "      <td>13. TO</td>\n",
              "      <td>0.958716</td>\n",
              "      <td>0.500000</td>\n",
              "      <td>0.250000</td>\n",
              "      <td>0.500000</td>\n",
              "      <td>0.333333</td>\n",
              "      <td>6.0</td>\n",
              "    </tr>\n",
              "    <tr>\n",
              "      <th>13</th>\n",
              "      <td>14. THO</td>\n",
              "      <td>0.990783</td>\n",
              "      <td>0.285714</td>\n",
              "      <td>0.500000</td>\n",
              "      <td>0.285714</td>\n",
              "      <td>0.363636</td>\n",
              "      <td>7.0</td>\n",
              "    </tr>\n",
              "    <tr>\n",
              "      <th>14</th>\n",
              "      <td>15. DO</td>\n",
              "      <td>0.949541</td>\n",
              "      <td>0.500000</td>\n",
              "      <td>0.214286</td>\n",
              "      <td>0.500000</td>\n",
              "      <td>0.300000</td>\n",
              "      <td>6.0</td>\n",
              "    </tr>\n",
              "    <tr>\n",
              "      <th>15</th>\n",
              "      <td>16. DHO</td>\n",
              "      <td>0.995370</td>\n",
              "      <td>0.625000</td>\n",
              "      <td>0.833333</td>\n",
              "      <td>0.625000</td>\n",
              "      <td>0.714286</td>\n",
              "      <td>8.0</td>\n",
              "    </tr>\n",
              "    <tr>\n",
              "      <th>16</th>\n",
              "      <td>17. NA</td>\n",
              "      <td>0.963134</td>\n",
              "      <td>0.571429</td>\n",
              "      <td>0.333333</td>\n",
              "      <td>0.571429</td>\n",
              "      <td>0.421053</td>\n",
              "      <td>7.0</td>\n",
              "    </tr>\n",
              "    <tr>\n",
              "      <th>17</th>\n",
              "      <td>18. PA</td>\n",
              "      <td>1.000000</td>\n",
              "      <td>0.500000</td>\n",
              "      <td>1.000000</td>\n",
              "      <td>0.500000</td>\n",
              "      <td>0.666667</td>\n",
              "      <td>8.0</td>\n",
              "    </tr>\n",
              "    <tr>\n",
              "      <th>18</th>\n",
              "      <td>19. PHA</td>\n",
              "      <td>0.990826</td>\n",
              "      <td>0.833333</td>\n",
              "      <td>0.714286</td>\n",
              "      <td>0.833333</td>\n",
              "      <td>0.769231</td>\n",
              "      <td>6.0</td>\n",
              "    </tr>\n",
              "    <tr>\n",
              "      <th>19</th>\n",
              "      <td>20. BA</td>\n",
              "      <td>0.949541</td>\n",
              "      <td>0.666667</td>\n",
              "      <td>0.266667</td>\n",
              "      <td>0.666667</td>\n",
              "      <td>0.380952</td>\n",
              "      <td>6.0</td>\n",
              "    </tr>\n",
              "    <tr>\n",
              "      <th>20</th>\n",
              "      <td>21. BHA</td>\n",
              "      <td>0.973094</td>\n",
              "      <td>1.000000</td>\n",
              "      <td>0.142857</td>\n",
              "      <td>1.000000</td>\n",
              "      <td>0.250000</td>\n",
              "      <td>1.0</td>\n",
              "    </tr>\n",
              "    <tr>\n",
              "      <th>21</th>\n",
              "      <td>22. MA</td>\n",
              "      <td>0.986111</td>\n",
              "      <td>0.250000</td>\n",
              "      <td>0.400000</td>\n",
              "      <td>0.250000</td>\n",
              "      <td>0.307692</td>\n",
              "      <td>8.0</td>\n",
              "    </tr>\n",
              "    <tr>\n",
              "      <th>22</th>\n",
              "      <td>23. YA</td>\n",
              "      <td>0.990741</td>\n",
              "      <td>0.375000</td>\n",
              "      <td>0.600000</td>\n",
              "      <td>0.375000</td>\n",
              "      <td>0.461538</td>\n",
              "      <td>8.0</td>\n",
              "    </tr>\n",
              "    <tr>\n",
              "      <th>23</th>\n",
              "      <td>24. RA</td>\n",
              "      <td>0.977169</td>\n",
              "      <td>0.200000</td>\n",
              "      <td>0.166667</td>\n",
              "      <td>0.200000</td>\n",
              "      <td>0.181818</td>\n",
              "      <td>5.0</td>\n",
              "    </tr>\n",
              "    <tr>\n",
              "      <th>24</th>\n",
              "      <td>25. LA</td>\n",
              "      <td>1.000000</td>\n",
              "      <td>0.250000</td>\n",
              "      <td>1.000000</td>\n",
              "      <td>0.250000</td>\n",
              "      <td>0.400000</td>\n",
              "      <td>8.0</td>\n",
              "    </tr>\n",
              "    <tr>\n",
              "      <th>25</th>\n",
              "      <td>26. SA</td>\n",
              "      <td>0.995392</td>\n",
              "      <td>0.714286</td>\n",
              "      <td>0.833333</td>\n",
              "      <td>0.714286</td>\n",
              "      <td>0.769231</td>\n",
              "      <td>7.0</td>\n",
              "    </tr>\n",
              "    <tr>\n",
              "      <th>26</th>\n",
              "      <td>27. HA</td>\n",
              "      <td>0.986047</td>\n",
              "      <td>0.444444</td>\n",
              "      <td>0.571429</td>\n",
              "      <td>0.444444</td>\n",
              "      <td>0.500000</td>\n",
              "      <td>9.0</td>\n",
              "    </tr>\n",
              "    <tr>\n",
              "      <th>27</th>\n",
              "      <td>28. RHA</td>\n",
              "      <td>0.990826</td>\n",
              "      <td>0.500000</td>\n",
              "      <td>0.600000</td>\n",
              "      <td>0.500000</td>\n",
              "      <td>0.545455</td>\n",
              "      <td>6.0</td>\n",
              "    </tr>\n",
              "    <tr>\n",
              "      <th>28</th>\n",
              "      <td>29. UN</td>\n",
              "      <td>0.958333</td>\n",
              "      <td>0.625000</td>\n",
              "      <td>0.357143</td>\n",
              "      <td>0.625000</td>\n",
              "      <td>0.454545</td>\n",
              "      <td>8.0</td>\n",
              "    </tr>\n",
              "    <tr>\n",
              "      <th>29</th>\n",
              "      <td>30. BI</td>\n",
              "      <td>0.990909</td>\n",
              "      <td>0.250000</td>\n",
              "      <td>0.333333</td>\n",
              "      <td>0.250000</td>\n",
              "      <td>0.285714</td>\n",
              "      <td>4.0</td>\n",
              "    </tr>\n",
              "    <tr>\n",
              "      <th>30</th>\n",
              "      <td>@1. A</td>\n",
              "      <td>1.000000</td>\n",
              "      <td>0.400000</td>\n",
              "      <td>1.000000</td>\n",
              "      <td>0.400000</td>\n",
              "      <td>0.571429</td>\n",
              "      <td>5.0</td>\n",
              "    </tr>\n",
              "    <tr>\n",
              "      <th>31</th>\n",
              "      <td>@2. AA</td>\n",
              "      <td>0.981651</td>\n",
              "      <td>0.500000</td>\n",
              "      <td>0.428571</td>\n",
              "      <td>0.500000</td>\n",
              "      <td>0.461538</td>\n",
              "      <td>6.0</td>\n",
              "    </tr>\n",
              "    <tr>\n",
              "      <th>32</th>\n",
              "      <td>@3. E</td>\n",
              "      <td>1.000000</td>\n",
              "      <td>1.000000</td>\n",
              "      <td>1.000000</td>\n",
              "      <td>1.000000</td>\n",
              "      <td>1.000000</td>\n",
              "      <td>5.0</td>\n",
              "    </tr>\n",
              "    <tr>\n",
              "      <th>33</th>\n",
              "      <td>@4. U</td>\n",
              "      <td>0.986175</td>\n",
              "      <td>0.571429</td>\n",
              "      <td>0.571429</td>\n",
              "      <td>0.571429</td>\n",
              "      <td>0.571429</td>\n",
              "      <td>7.0</td>\n",
              "    </tr>\n",
              "    <tr>\n",
              "      <th>34</th>\n",
              "      <td>@5. Y</td>\n",
              "      <td>0.995392</td>\n",
              "      <td>0.142857</td>\n",
              "      <td>0.500000</td>\n",
              "      <td>0.142857</td>\n",
              "      <td>0.222222</td>\n",
              "      <td>7.0</td>\n",
              "    </tr>\n",
              "    <tr>\n",
              "      <th>35</th>\n",
              "      <td>@6. O</td>\n",
              "      <td>0.990783</td>\n",
              "      <td>0.285714</td>\n",
              "      <td>0.500000</td>\n",
              "      <td>0.285714</td>\n",
              "      <td>0.363636</td>\n",
              "      <td>7.0</td>\n",
              "    </tr>\n",
              "    <tr>\n",
              "      <th>36</th>\n",
              "      <td>joint</td>\n",
              "      <td>1.000000</td>\n",
              "      <td>1.000000</td>\n",
              "      <td>1.000000</td>\n",
              "      <td>1.000000</td>\n",
              "      <td>1.000000</td>\n",
              "      <td>6.0</td>\n",
              "    </tr>\n",
              "    <tr>\n",
              "      <th>37</th>\n",
              "      <td>space</td>\n",
              "      <td>0.995413</td>\n",
              "      <td>1.000000</td>\n",
              "      <td>0.857143</td>\n",
              "      <td>1.000000</td>\n",
              "      <td>0.923077</td>\n",
              "      <td>6.0</td>\n",
              "    </tr>\n",
              "    <tr>\n",
              "      <th>38</th>\n",
              "      <td>stop</td>\n",
              "      <td>1.000000</td>\n",
              "      <td>1.000000</td>\n",
              "      <td>1.000000</td>\n",
              "      <td>1.000000</td>\n",
              "      <td>1.000000</td>\n",
              "      <td>3.0</td>\n",
              "    </tr>\n",
              "  </tbody>\n",
              "</table>\n",
              "</div>\n",
              "      <button class=\"colab-df-convert\" onclick=\"convertToInteractive('df-aca86186-44c7-4548-be9a-23722479791a')\"\n",
              "              title=\"Convert this dataframe to an interactive table.\"\n",
              "              style=\"display:none;\">\n",
              "        \n",
              "  <svg xmlns=\"http://www.w3.org/2000/svg\" height=\"24px\"viewBox=\"0 0 24 24\"\n",
              "       width=\"24px\">\n",
              "    <path d=\"M0 0h24v24H0V0z\" fill=\"none\"/>\n",
              "    <path d=\"M18.56 5.44l.94 2.06.94-2.06 2.06-.94-2.06-.94-.94-2.06-.94 2.06-2.06.94zm-11 1L8.5 8.5l.94-2.06 2.06-.94-2.06-.94L8.5 2.5l-.94 2.06-2.06.94zm10 10l.94 2.06.94-2.06 2.06-.94-2.06-.94-.94-2.06-.94 2.06-2.06.94z\"/><path d=\"M17.41 7.96l-1.37-1.37c-.4-.4-.92-.59-1.43-.59-.52 0-1.04.2-1.43.59L10.3 9.45l-7.72 7.72c-.78.78-.78 2.05 0 2.83L4 21.41c.39.39.9.59 1.41.59.51 0 1.02-.2 1.41-.59l7.78-7.78 2.81-2.81c.8-.78.8-2.07 0-2.86zM5.41 20L4 18.59l7.72-7.72 1.47 1.35L5.41 20z\"/>\n",
              "  </svg>\n",
              "      </button>\n",
              "      \n",
              "  <style>\n",
              "    .colab-df-container {\n",
              "      display:flex;\n",
              "      flex-wrap:wrap;\n",
              "      gap: 12px;\n",
              "    }\n",
              "\n",
              "    .colab-df-convert {\n",
              "      background-color: #E8F0FE;\n",
              "      border: none;\n",
              "      border-radius: 50%;\n",
              "      cursor: pointer;\n",
              "      display: none;\n",
              "      fill: #1967D2;\n",
              "      height: 32px;\n",
              "      padding: 0 0 0 0;\n",
              "      width: 32px;\n",
              "    }\n",
              "\n",
              "    .colab-df-convert:hover {\n",
              "      background-color: #E2EBFA;\n",
              "      box-shadow: 0px 1px 2px rgba(60, 64, 67, 0.3), 0px 1px 3px 1px rgba(60, 64, 67, 0.15);\n",
              "      fill: #174EA6;\n",
              "    }\n",
              "\n",
              "    [theme=dark] .colab-df-convert {\n",
              "      background-color: #3B4455;\n",
              "      fill: #D2E3FC;\n",
              "    }\n",
              "\n",
              "    [theme=dark] .colab-df-convert:hover {\n",
              "      background-color: #434B5C;\n",
              "      box-shadow: 0px 1px 3px 1px rgba(0, 0, 0, 0.15);\n",
              "      filter: drop-shadow(0px 1px 2px rgba(0, 0, 0, 0.3));\n",
              "      fill: #FFFFFF;\n",
              "    }\n",
              "  </style>\n",
              "\n",
              "      <script>\n",
              "        const buttonEl =\n",
              "          document.querySelector('#df-aca86186-44c7-4548-be9a-23722479791a button.colab-df-convert');\n",
              "        buttonEl.style.display =\n",
              "          google.colab.kernel.accessAllowed ? 'block' : 'none';\n",
              "\n",
              "        async function convertToInteractive(key) {\n",
              "          const element = document.querySelector('#df-aca86186-44c7-4548-be9a-23722479791a');\n",
              "          const dataTable =\n",
              "            await google.colab.kernel.invokeFunction('convertToInteractive',\n",
              "                                                     [key], {});\n",
              "          if (!dataTable) return;\n",
              "\n",
              "          const docLinkHtml = 'Like what you see? Visit the ' +\n",
              "            '<a target=\"_blank\" href=https://colab.research.google.com/notebooks/data_table.ipynb>data table notebook</a>'\n",
              "            + ' to learn more about interactive tables.';\n",
              "          element.innerHTML = '';\n",
              "          dataTable['output_type'] = 'display_data';\n",
              "          await google.colab.output.renderOutput(dataTable, element);\n",
              "          const docLink = document.createElement('div');\n",
              "          docLink.innerHTML = docLinkHtml;\n",
              "          element.appendChild(docLink);\n",
              "        }\n",
              "      </script>\n",
              "    </div>\n",
              "  </div>\n",
              "  "
            ]
          },
          "metadata": {},
          "execution_count": 123
        }
      ]
    },
    {
      "cell_type": "code",
      "source": [
        "v6_matrix.to_csv('/content/drive/MyDrive/Thesis/Augmented/Reports/vgg16_classification_report.csv')\n"
      ],
      "metadata": {
        "id": "NIOElbzB7SGF"
      },
      "execution_count": null,
      "outputs": []
    },
    {
      "cell_type": "code",
      "source": [
        "v6_rep.to_csv('/content/drive/MyDrive/Thesis/Augmented/Reports/vgg16_acc_report.csv')"
      ],
      "metadata": {
        "id": "eHGjSpeL7SGG"
      },
      "execution_count": null,
      "outputs": []
    },
    {
      "cell_type": "markdown",
      "source": [
        "#Resnet50"
      ],
      "metadata": {
        "id": "QrQMW6KeUW6T"
      }
    },
    {
      "cell_type": "code",
      "execution_count": null,
      "metadata": {
        "id": "v9QVG_ZZKINF",
        "colab": {
          "base_uri": "https://localhost:8080/"
        },
        "outputId": "304fecf2-2a8d-4c9d-a2df-c227f452b419"
      },
      "outputs": [
        {
          "output_type": "stream",
          "name": "stdout",
          "text": [
            "Downloading data from https://storage.googleapis.com/tensorflow/keras-applications/resnet/resnet50_weights_tf_dim_ordering_tf_kernels_notop.h5\n",
            "94765736/94765736 [==============================] - 5s 0us/step\n"
          ]
        }
      ],
      "source": [
        "# Import the VGG16 library as shown below and add preprocessing layer to the front of VGG\n",
        "# Here we will be using imagenet weights\n",
        "\n",
        "resnet50 = ResNet50(input_shape=IMAGE_SIZE + [3], weights='imagenet', include_top=False)"
      ]
    },
    {
      "cell_type": "code",
      "execution_count": null,
      "metadata": {
        "id": "qqys9evAvXzK"
      },
      "outputs": [],
      "source": [
        "# don't train existing weights\n",
        "for layer in resnet50.layers:\n",
        "    layer.trainable = False"
      ]
    },
    {
      "cell_type": "code",
      "execution_count": null,
      "metadata": {
        "id": "2Evr1mdIxtL4"
      },
      "outputs": [],
      "source": [
        "rx = Flatten()(resnet50.output)"
      ]
    },
    {
      "cell_type": "code",
      "execution_count": null,
      "metadata": {
        "id": "BlS7WxIhyBFg"
      },
      "outputs": [],
      "source": [
        "r_prediction = Dense(len(folders), activation='softmax')(rx)\n",
        "\n",
        "# create a model object\n",
        "r_model = Model(inputs=resnet50.input, outputs=r_prediction)"
      ]
    },
    {
      "cell_type": "code",
      "execution_count": null,
      "metadata": {
        "colab": {
          "base_uri": "https://localhost:8080/"
        },
        "id": "6yviNTJryDXR",
        "outputId": "be340a4b-bfa2-4081-e3c7-422f656bcb1c"
      },
      "outputs": [
        {
          "output_type": "stream",
          "name": "stdout",
          "text": [
            "Model: \"model\"\n",
            "__________________________________________________________________________________________________\n",
            " Layer (type)                   Output Shape         Param #     Connected to                     \n",
            "==================================================================================================\n",
            " input_1 (InputLayer)           [(None, 224, 224, 3  0           []                               \n",
            "                                )]                                                                \n",
            "                                                                                                  \n",
            " conv1_pad (ZeroPadding2D)      (None, 230, 230, 3)  0           ['input_1[0][0]']                \n",
            "                                                                                                  \n",
            " conv1_conv (Conv2D)            (None, 112, 112, 64  9472        ['conv1_pad[0][0]']              \n",
            "                                )                                                                 \n",
            "                                                                                                  \n",
            " conv1_bn (BatchNormalization)  (None, 112, 112, 64  256         ['conv1_conv[0][0]']             \n",
            "                                )                                                                 \n",
            "                                                                                                  \n",
            " conv1_relu (Activation)        (None, 112, 112, 64  0           ['conv1_bn[0][0]']               \n",
            "                                )                                                                 \n",
            "                                                                                                  \n",
            " pool1_pad (ZeroPadding2D)      (None, 114, 114, 64  0           ['conv1_relu[0][0]']             \n",
            "                                )                                                                 \n",
            "                                                                                                  \n",
            " pool1_pool (MaxPooling2D)      (None, 56, 56, 64)   0           ['pool1_pad[0][0]']              \n",
            "                                                                                                  \n",
            " conv2_block1_1_conv (Conv2D)   (None, 56, 56, 64)   4160        ['pool1_pool[0][0]']             \n",
            "                                                                                                  \n",
            " conv2_block1_1_bn (BatchNormal  (None, 56, 56, 64)  256         ['conv2_block1_1_conv[0][0]']    \n",
            " ization)                                                                                         \n",
            "                                                                                                  \n",
            " conv2_block1_1_relu (Activatio  (None, 56, 56, 64)  0           ['conv2_block1_1_bn[0][0]']      \n",
            " n)                                                                                               \n",
            "                                                                                                  \n",
            " conv2_block1_2_conv (Conv2D)   (None, 56, 56, 64)   36928       ['conv2_block1_1_relu[0][0]']    \n",
            "                                                                                                  \n",
            " conv2_block1_2_bn (BatchNormal  (None, 56, 56, 64)  256         ['conv2_block1_2_conv[0][0]']    \n",
            " ization)                                                                                         \n",
            "                                                                                                  \n",
            " conv2_block1_2_relu (Activatio  (None, 56, 56, 64)  0           ['conv2_block1_2_bn[0][0]']      \n",
            " n)                                                                                               \n",
            "                                                                                                  \n",
            " conv2_block1_0_conv (Conv2D)   (None, 56, 56, 256)  16640       ['pool1_pool[0][0]']             \n",
            "                                                                                                  \n",
            " conv2_block1_3_conv (Conv2D)   (None, 56, 56, 256)  16640       ['conv2_block1_2_relu[0][0]']    \n",
            "                                                                                                  \n",
            " conv2_block1_0_bn (BatchNormal  (None, 56, 56, 256)  1024       ['conv2_block1_0_conv[0][0]']    \n",
            " ization)                                                                                         \n",
            "                                                                                                  \n",
            " conv2_block1_3_bn (BatchNormal  (None, 56, 56, 256)  1024       ['conv2_block1_3_conv[0][0]']    \n",
            " ization)                                                                                         \n",
            "                                                                                                  \n",
            " conv2_block1_add (Add)         (None, 56, 56, 256)  0           ['conv2_block1_0_bn[0][0]',      \n",
            "                                                                  'conv2_block1_3_bn[0][0]']      \n",
            "                                                                                                  \n",
            " conv2_block1_out (Activation)  (None, 56, 56, 256)  0           ['conv2_block1_add[0][0]']       \n",
            "                                                                                                  \n",
            " conv2_block2_1_conv (Conv2D)   (None, 56, 56, 64)   16448       ['conv2_block1_out[0][0]']       \n",
            "                                                                                                  \n",
            " conv2_block2_1_bn (BatchNormal  (None, 56, 56, 64)  256         ['conv2_block2_1_conv[0][0]']    \n",
            " ization)                                                                                         \n",
            "                                                                                                  \n",
            " conv2_block2_1_relu (Activatio  (None, 56, 56, 64)  0           ['conv2_block2_1_bn[0][0]']      \n",
            " n)                                                                                               \n",
            "                                                                                                  \n",
            " conv2_block2_2_conv (Conv2D)   (None, 56, 56, 64)   36928       ['conv2_block2_1_relu[0][0]']    \n",
            "                                                                                                  \n",
            " conv2_block2_2_bn (BatchNormal  (None, 56, 56, 64)  256         ['conv2_block2_2_conv[0][0]']    \n",
            " ization)                                                                                         \n",
            "                                                                                                  \n",
            " conv2_block2_2_relu (Activatio  (None, 56, 56, 64)  0           ['conv2_block2_2_bn[0][0]']      \n",
            " n)                                                                                               \n",
            "                                                                                                  \n",
            " conv2_block2_3_conv (Conv2D)   (None, 56, 56, 256)  16640       ['conv2_block2_2_relu[0][0]']    \n",
            "                                                                                                  \n",
            " conv2_block2_3_bn (BatchNormal  (None, 56, 56, 256)  1024       ['conv2_block2_3_conv[0][0]']    \n",
            " ization)                                                                                         \n",
            "                                                                                                  \n",
            " conv2_block2_add (Add)         (None, 56, 56, 256)  0           ['conv2_block1_out[0][0]',       \n",
            "                                                                  'conv2_block2_3_bn[0][0]']      \n",
            "                                                                                                  \n",
            " conv2_block2_out (Activation)  (None, 56, 56, 256)  0           ['conv2_block2_add[0][0]']       \n",
            "                                                                                                  \n",
            " conv2_block3_1_conv (Conv2D)   (None, 56, 56, 64)   16448       ['conv2_block2_out[0][0]']       \n",
            "                                                                                                  \n",
            " conv2_block3_1_bn (BatchNormal  (None, 56, 56, 64)  256         ['conv2_block3_1_conv[0][0]']    \n",
            " ization)                                                                                         \n",
            "                                                                                                  \n",
            " conv2_block3_1_relu (Activatio  (None, 56, 56, 64)  0           ['conv2_block3_1_bn[0][0]']      \n",
            " n)                                                                                               \n",
            "                                                                                                  \n",
            " conv2_block3_2_conv (Conv2D)   (None, 56, 56, 64)   36928       ['conv2_block3_1_relu[0][0]']    \n",
            "                                                                                                  \n",
            " conv2_block3_2_bn (BatchNormal  (None, 56, 56, 64)  256         ['conv2_block3_2_conv[0][0]']    \n",
            " ization)                                                                                         \n",
            "                                                                                                  \n",
            " conv2_block3_2_relu (Activatio  (None, 56, 56, 64)  0           ['conv2_block3_2_bn[0][0]']      \n",
            " n)                                                                                               \n",
            "                                                                                                  \n",
            " conv2_block3_3_conv (Conv2D)   (None, 56, 56, 256)  16640       ['conv2_block3_2_relu[0][0]']    \n",
            "                                                                                                  \n",
            " conv2_block3_3_bn (BatchNormal  (None, 56, 56, 256)  1024       ['conv2_block3_3_conv[0][0]']    \n",
            " ization)                                                                                         \n",
            "                                                                                                  \n",
            " conv2_block3_add (Add)         (None, 56, 56, 256)  0           ['conv2_block2_out[0][0]',       \n",
            "                                                                  'conv2_block3_3_bn[0][0]']      \n",
            "                                                                                                  \n",
            " conv2_block3_out (Activation)  (None, 56, 56, 256)  0           ['conv2_block3_add[0][0]']       \n",
            "                                                                                                  \n",
            " conv3_block1_1_conv (Conv2D)   (None, 28, 28, 128)  32896       ['conv2_block3_out[0][0]']       \n",
            "                                                                                                  \n",
            " conv3_block1_1_bn (BatchNormal  (None, 28, 28, 128)  512        ['conv3_block1_1_conv[0][0]']    \n",
            " ization)                                                                                         \n",
            "                                                                                                  \n",
            " conv3_block1_1_relu (Activatio  (None, 28, 28, 128)  0          ['conv3_block1_1_bn[0][0]']      \n",
            " n)                                                                                               \n",
            "                                                                                                  \n",
            " conv3_block1_2_conv (Conv2D)   (None, 28, 28, 128)  147584      ['conv3_block1_1_relu[0][0]']    \n",
            "                                                                                                  \n",
            " conv3_block1_2_bn (BatchNormal  (None, 28, 28, 128)  512        ['conv3_block1_2_conv[0][0]']    \n",
            " ization)                                                                                         \n",
            "                                                                                                  \n",
            " conv3_block1_2_relu (Activatio  (None, 28, 28, 128)  0          ['conv3_block1_2_bn[0][0]']      \n",
            " n)                                                                                               \n",
            "                                                                                                  \n",
            " conv3_block1_0_conv (Conv2D)   (None, 28, 28, 512)  131584      ['conv2_block3_out[0][0]']       \n",
            "                                                                                                  \n",
            " conv3_block1_3_conv (Conv2D)   (None, 28, 28, 512)  66048       ['conv3_block1_2_relu[0][0]']    \n",
            "                                                                                                  \n",
            " conv3_block1_0_bn (BatchNormal  (None, 28, 28, 512)  2048       ['conv3_block1_0_conv[0][0]']    \n",
            " ization)                                                                                         \n",
            "                                                                                                  \n",
            " conv3_block1_3_bn (BatchNormal  (None, 28, 28, 512)  2048       ['conv3_block1_3_conv[0][0]']    \n",
            " ization)                                                                                         \n",
            "                                                                                                  \n",
            " conv3_block1_add (Add)         (None, 28, 28, 512)  0           ['conv3_block1_0_bn[0][0]',      \n",
            "                                                                  'conv3_block1_3_bn[0][0]']      \n",
            "                                                                                                  \n",
            " conv3_block1_out (Activation)  (None, 28, 28, 512)  0           ['conv3_block1_add[0][0]']       \n",
            "                                                                                                  \n",
            " conv3_block2_1_conv (Conv2D)   (None, 28, 28, 128)  65664       ['conv3_block1_out[0][0]']       \n",
            "                                                                                                  \n",
            " conv3_block2_1_bn (BatchNormal  (None, 28, 28, 128)  512        ['conv3_block2_1_conv[0][0]']    \n",
            " ization)                                                                                         \n",
            "                                                                                                  \n",
            " conv3_block2_1_relu (Activatio  (None, 28, 28, 128)  0          ['conv3_block2_1_bn[0][0]']      \n",
            " n)                                                                                               \n",
            "                                                                                                  \n",
            " conv3_block2_2_conv (Conv2D)   (None, 28, 28, 128)  147584      ['conv3_block2_1_relu[0][0]']    \n",
            "                                                                                                  \n",
            " conv3_block2_2_bn (BatchNormal  (None, 28, 28, 128)  512        ['conv3_block2_2_conv[0][0]']    \n",
            " ization)                                                                                         \n",
            "                                                                                                  \n",
            " conv3_block2_2_relu (Activatio  (None, 28, 28, 128)  0          ['conv3_block2_2_bn[0][0]']      \n",
            " n)                                                                                               \n",
            "                                                                                                  \n",
            " conv3_block2_3_conv (Conv2D)   (None, 28, 28, 512)  66048       ['conv3_block2_2_relu[0][0]']    \n",
            "                                                                                                  \n",
            " conv3_block2_3_bn (BatchNormal  (None, 28, 28, 512)  2048       ['conv3_block2_3_conv[0][0]']    \n",
            " ization)                                                                                         \n",
            "                                                                                                  \n",
            " conv3_block2_add (Add)         (None, 28, 28, 512)  0           ['conv3_block1_out[0][0]',       \n",
            "                                                                  'conv3_block2_3_bn[0][0]']      \n",
            "                                                                                                  \n",
            " conv3_block2_out (Activation)  (None, 28, 28, 512)  0           ['conv3_block2_add[0][0]']       \n",
            "                                                                                                  \n",
            " conv3_block3_1_conv (Conv2D)   (None, 28, 28, 128)  65664       ['conv3_block2_out[0][0]']       \n",
            "                                                                                                  \n",
            " conv3_block3_1_bn (BatchNormal  (None, 28, 28, 128)  512        ['conv3_block3_1_conv[0][0]']    \n",
            " ization)                                                                                         \n",
            "                                                                                                  \n",
            " conv3_block3_1_relu (Activatio  (None, 28, 28, 128)  0          ['conv3_block3_1_bn[0][0]']      \n",
            " n)                                                                                               \n",
            "                                                                                                  \n",
            " conv3_block3_2_conv (Conv2D)   (None, 28, 28, 128)  147584      ['conv3_block3_1_relu[0][0]']    \n",
            "                                                                                                  \n",
            " conv3_block3_2_bn (BatchNormal  (None, 28, 28, 128)  512        ['conv3_block3_2_conv[0][0]']    \n",
            " ization)                                                                                         \n",
            "                                                                                                  \n",
            " conv3_block3_2_relu (Activatio  (None, 28, 28, 128)  0          ['conv3_block3_2_bn[0][0]']      \n",
            " n)                                                                                               \n",
            "                                                                                                  \n",
            " conv3_block3_3_conv (Conv2D)   (None, 28, 28, 512)  66048       ['conv3_block3_2_relu[0][0]']    \n",
            "                                                                                                  \n",
            " conv3_block3_3_bn (BatchNormal  (None, 28, 28, 512)  2048       ['conv3_block3_3_conv[0][0]']    \n",
            " ization)                                                                                         \n",
            "                                                                                                  \n",
            " conv3_block3_add (Add)         (None, 28, 28, 512)  0           ['conv3_block2_out[0][0]',       \n",
            "                                                                  'conv3_block3_3_bn[0][0]']      \n",
            "                                                                                                  \n",
            " conv3_block3_out (Activation)  (None, 28, 28, 512)  0           ['conv3_block3_add[0][0]']       \n",
            "                                                                                                  \n",
            " conv3_block4_1_conv (Conv2D)   (None, 28, 28, 128)  65664       ['conv3_block3_out[0][0]']       \n",
            "                                                                                                  \n",
            " conv3_block4_1_bn (BatchNormal  (None, 28, 28, 128)  512        ['conv3_block4_1_conv[0][0]']    \n",
            " ization)                                                                                         \n",
            "                                                                                                  \n",
            " conv3_block4_1_relu (Activatio  (None, 28, 28, 128)  0          ['conv3_block4_1_bn[0][0]']      \n",
            " n)                                                                                               \n",
            "                                                                                                  \n",
            " conv3_block4_2_conv (Conv2D)   (None, 28, 28, 128)  147584      ['conv3_block4_1_relu[0][0]']    \n",
            "                                                                                                  \n",
            " conv3_block4_2_bn (BatchNormal  (None, 28, 28, 128)  512        ['conv3_block4_2_conv[0][0]']    \n",
            " ization)                                                                                         \n",
            "                                                                                                  \n",
            " conv3_block4_2_relu (Activatio  (None, 28, 28, 128)  0          ['conv3_block4_2_bn[0][0]']      \n",
            " n)                                                                                               \n",
            "                                                                                                  \n",
            " conv3_block4_3_conv (Conv2D)   (None, 28, 28, 512)  66048       ['conv3_block4_2_relu[0][0]']    \n",
            "                                                                                                  \n",
            " conv3_block4_3_bn (BatchNormal  (None, 28, 28, 512)  2048       ['conv3_block4_3_conv[0][0]']    \n",
            " ization)                                                                                         \n",
            "                                                                                                  \n",
            " conv3_block4_add (Add)         (None, 28, 28, 512)  0           ['conv3_block3_out[0][0]',       \n",
            "                                                                  'conv3_block4_3_bn[0][0]']      \n",
            "                                                                                                  \n",
            " conv3_block4_out (Activation)  (None, 28, 28, 512)  0           ['conv3_block4_add[0][0]']       \n",
            "                                                                                                  \n",
            " conv4_block1_1_conv (Conv2D)   (None, 14, 14, 256)  131328      ['conv3_block4_out[0][0]']       \n",
            "                                                                                                  \n",
            " conv4_block1_1_bn (BatchNormal  (None, 14, 14, 256)  1024       ['conv4_block1_1_conv[0][0]']    \n",
            " ization)                                                                                         \n",
            "                                                                                                  \n",
            " conv4_block1_1_relu (Activatio  (None, 14, 14, 256)  0          ['conv4_block1_1_bn[0][0]']      \n",
            " n)                                                                                               \n",
            "                                                                                                  \n",
            " conv4_block1_2_conv (Conv2D)   (None, 14, 14, 256)  590080      ['conv4_block1_1_relu[0][0]']    \n",
            "                                                                                                  \n",
            " conv4_block1_2_bn (BatchNormal  (None, 14, 14, 256)  1024       ['conv4_block1_2_conv[0][0]']    \n",
            " ization)                                                                                         \n",
            "                                                                                                  \n",
            " conv4_block1_2_relu (Activatio  (None, 14, 14, 256)  0          ['conv4_block1_2_bn[0][0]']      \n",
            " n)                                                                                               \n",
            "                                                                                                  \n",
            " conv4_block1_0_conv (Conv2D)   (None, 14, 14, 1024  525312      ['conv3_block4_out[0][0]']       \n",
            "                                )                                                                 \n",
            "                                                                                                  \n",
            " conv4_block1_3_conv (Conv2D)   (None, 14, 14, 1024  263168      ['conv4_block1_2_relu[0][0]']    \n",
            "                                )                                                                 \n",
            "                                                                                                  \n",
            " conv4_block1_0_bn (BatchNormal  (None, 14, 14, 1024  4096       ['conv4_block1_0_conv[0][0]']    \n",
            " ization)                       )                                                                 \n",
            "                                                                                                  \n",
            " conv4_block1_3_bn (BatchNormal  (None, 14, 14, 1024  4096       ['conv4_block1_3_conv[0][0]']    \n",
            " ization)                       )                                                                 \n",
            "                                                                                                  \n",
            " conv4_block1_add (Add)         (None, 14, 14, 1024  0           ['conv4_block1_0_bn[0][0]',      \n",
            "                                )                                 'conv4_block1_3_bn[0][0]']      \n",
            "                                                                                                  \n",
            " conv4_block1_out (Activation)  (None, 14, 14, 1024  0           ['conv4_block1_add[0][0]']       \n",
            "                                )                                                                 \n",
            "                                                                                                  \n",
            " conv4_block2_1_conv (Conv2D)   (None, 14, 14, 256)  262400      ['conv4_block1_out[0][0]']       \n",
            "                                                                                                  \n",
            " conv4_block2_1_bn (BatchNormal  (None, 14, 14, 256)  1024       ['conv4_block2_1_conv[0][0]']    \n",
            " ization)                                                                                         \n",
            "                                                                                                  \n",
            " conv4_block2_1_relu (Activatio  (None, 14, 14, 256)  0          ['conv4_block2_1_bn[0][0]']      \n",
            " n)                                                                                               \n",
            "                                                                                                  \n",
            " conv4_block2_2_conv (Conv2D)   (None, 14, 14, 256)  590080      ['conv4_block2_1_relu[0][0]']    \n",
            "                                                                                                  \n",
            " conv4_block2_2_bn (BatchNormal  (None, 14, 14, 256)  1024       ['conv4_block2_2_conv[0][0]']    \n",
            " ization)                                                                                         \n",
            "                                                                                                  \n",
            " conv4_block2_2_relu (Activatio  (None, 14, 14, 256)  0          ['conv4_block2_2_bn[0][0]']      \n",
            " n)                                                                                               \n",
            "                                                                                                  \n",
            " conv4_block2_3_conv (Conv2D)   (None, 14, 14, 1024  263168      ['conv4_block2_2_relu[0][0]']    \n",
            "                                )                                                                 \n",
            "                                                                                                  \n",
            " conv4_block2_3_bn (BatchNormal  (None, 14, 14, 1024  4096       ['conv4_block2_3_conv[0][0]']    \n",
            " ization)                       )                                                                 \n",
            "                                                                                                  \n",
            " conv4_block2_add (Add)         (None, 14, 14, 1024  0           ['conv4_block1_out[0][0]',       \n",
            "                                )                                 'conv4_block2_3_bn[0][0]']      \n",
            "                                                                                                  \n",
            " conv4_block2_out (Activation)  (None, 14, 14, 1024  0           ['conv4_block2_add[0][0]']       \n",
            "                                )                                                                 \n",
            "                                                                                                  \n",
            " conv4_block3_1_conv (Conv2D)   (None, 14, 14, 256)  262400      ['conv4_block2_out[0][0]']       \n",
            "                                                                                                  \n",
            " conv4_block3_1_bn (BatchNormal  (None, 14, 14, 256)  1024       ['conv4_block3_1_conv[0][0]']    \n",
            " ization)                                                                                         \n",
            "                                                                                                  \n",
            " conv4_block3_1_relu (Activatio  (None, 14, 14, 256)  0          ['conv4_block3_1_bn[0][0]']      \n",
            " n)                                                                                               \n",
            "                                                                                                  \n",
            " conv4_block3_2_conv (Conv2D)   (None, 14, 14, 256)  590080      ['conv4_block3_1_relu[0][0]']    \n",
            "                                                                                                  \n",
            " conv4_block3_2_bn (BatchNormal  (None, 14, 14, 256)  1024       ['conv4_block3_2_conv[0][0]']    \n",
            " ization)                                                                                         \n",
            "                                                                                                  \n",
            " conv4_block3_2_relu (Activatio  (None, 14, 14, 256)  0          ['conv4_block3_2_bn[0][0]']      \n",
            " n)                                                                                               \n",
            "                                                                                                  \n",
            " conv4_block3_3_conv (Conv2D)   (None, 14, 14, 1024  263168      ['conv4_block3_2_relu[0][0]']    \n",
            "                                )                                                                 \n",
            "                                                                                                  \n",
            " conv4_block3_3_bn (BatchNormal  (None, 14, 14, 1024  4096       ['conv4_block3_3_conv[0][0]']    \n",
            " ization)                       )                                                                 \n",
            "                                                                                                  \n",
            " conv4_block3_add (Add)         (None, 14, 14, 1024  0           ['conv4_block2_out[0][0]',       \n",
            "                                )                                 'conv4_block3_3_bn[0][0]']      \n",
            "                                                                                                  \n",
            " conv4_block3_out (Activation)  (None, 14, 14, 1024  0           ['conv4_block3_add[0][0]']       \n",
            "                                )                                                                 \n",
            "                                                                                                  \n",
            " conv4_block4_1_conv (Conv2D)   (None, 14, 14, 256)  262400      ['conv4_block3_out[0][0]']       \n",
            "                                                                                                  \n",
            " conv4_block4_1_bn (BatchNormal  (None, 14, 14, 256)  1024       ['conv4_block4_1_conv[0][0]']    \n",
            " ization)                                                                                         \n",
            "                                                                                                  \n",
            " conv4_block4_1_relu (Activatio  (None, 14, 14, 256)  0          ['conv4_block4_1_bn[0][0]']      \n",
            " n)                                                                                               \n",
            "                                                                                                  \n",
            " conv4_block4_2_conv (Conv2D)   (None, 14, 14, 256)  590080      ['conv4_block4_1_relu[0][0]']    \n",
            "                                                                                                  \n",
            " conv4_block4_2_bn (BatchNormal  (None, 14, 14, 256)  1024       ['conv4_block4_2_conv[0][0]']    \n",
            " ization)                                                                                         \n",
            "                                                                                                  \n",
            " conv4_block4_2_relu (Activatio  (None, 14, 14, 256)  0          ['conv4_block4_2_bn[0][0]']      \n",
            " n)                                                                                               \n",
            "                                                                                                  \n",
            " conv4_block4_3_conv (Conv2D)   (None, 14, 14, 1024  263168      ['conv4_block4_2_relu[0][0]']    \n",
            "                                )                                                                 \n",
            "                                                                                                  \n",
            " conv4_block4_3_bn (BatchNormal  (None, 14, 14, 1024  4096       ['conv4_block4_3_conv[0][0]']    \n",
            " ization)                       )                                                                 \n",
            "                                                                                                  \n",
            " conv4_block4_add (Add)         (None, 14, 14, 1024  0           ['conv4_block3_out[0][0]',       \n",
            "                                )                                 'conv4_block4_3_bn[0][0]']      \n",
            "                                                                                                  \n",
            " conv4_block4_out (Activation)  (None, 14, 14, 1024  0           ['conv4_block4_add[0][0]']       \n",
            "                                )                                                                 \n",
            "                                                                                                  \n",
            " conv4_block5_1_conv (Conv2D)   (None, 14, 14, 256)  262400      ['conv4_block4_out[0][0]']       \n",
            "                                                                                                  \n",
            " conv4_block5_1_bn (BatchNormal  (None, 14, 14, 256)  1024       ['conv4_block5_1_conv[0][0]']    \n",
            " ization)                                                                                         \n",
            "                                                                                                  \n",
            " conv4_block5_1_relu (Activatio  (None, 14, 14, 256)  0          ['conv4_block5_1_bn[0][0]']      \n",
            " n)                                                                                               \n",
            "                                                                                                  \n",
            " conv4_block5_2_conv (Conv2D)   (None, 14, 14, 256)  590080      ['conv4_block5_1_relu[0][0]']    \n",
            "                                                                                                  \n",
            " conv4_block5_2_bn (BatchNormal  (None, 14, 14, 256)  1024       ['conv4_block5_2_conv[0][0]']    \n",
            " ization)                                                                                         \n",
            "                                                                                                  \n",
            " conv4_block5_2_relu (Activatio  (None, 14, 14, 256)  0          ['conv4_block5_2_bn[0][0]']      \n",
            " n)                                                                                               \n",
            "                                                                                                  \n",
            " conv4_block5_3_conv (Conv2D)   (None, 14, 14, 1024  263168      ['conv4_block5_2_relu[0][0]']    \n",
            "                                )                                                                 \n",
            "                                                                                                  \n",
            " conv4_block5_3_bn (BatchNormal  (None, 14, 14, 1024  4096       ['conv4_block5_3_conv[0][0]']    \n",
            " ization)                       )                                                                 \n",
            "                                                                                                  \n",
            " conv4_block5_add (Add)         (None, 14, 14, 1024  0           ['conv4_block4_out[0][0]',       \n",
            "                                )                                 'conv4_block5_3_bn[0][0]']      \n",
            "                                                                                                  \n",
            " conv4_block5_out (Activation)  (None, 14, 14, 1024  0           ['conv4_block5_add[0][0]']       \n",
            "                                )                                                                 \n",
            "                                                                                                  \n",
            " conv4_block6_1_conv (Conv2D)   (None, 14, 14, 256)  262400      ['conv4_block5_out[0][0]']       \n",
            "                                                                                                  \n",
            " conv4_block6_1_bn (BatchNormal  (None, 14, 14, 256)  1024       ['conv4_block6_1_conv[0][0]']    \n",
            " ization)                                                                                         \n",
            "                                                                                                  \n",
            " conv4_block6_1_relu (Activatio  (None, 14, 14, 256)  0          ['conv4_block6_1_bn[0][0]']      \n",
            " n)                                                                                               \n",
            "                                                                                                  \n",
            " conv4_block6_2_conv (Conv2D)   (None, 14, 14, 256)  590080      ['conv4_block6_1_relu[0][0]']    \n",
            "                                                                                                  \n",
            " conv4_block6_2_bn (BatchNormal  (None, 14, 14, 256)  1024       ['conv4_block6_2_conv[0][0]']    \n",
            " ization)                                                                                         \n",
            "                                                                                                  \n",
            " conv4_block6_2_relu (Activatio  (None, 14, 14, 256)  0          ['conv4_block6_2_bn[0][0]']      \n",
            " n)                                                                                               \n",
            "                                                                                                  \n",
            " conv4_block6_3_conv (Conv2D)   (None, 14, 14, 1024  263168      ['conv4_block6_2_relu[0][0]']    \n",
            "                                )                                                                 \n",
            "                                                                                                  \n",
            " conv4_block6_3_bn (BatchNormal  (None, 14, 14, 1024  4096       ['conv4_block6_3_conv[0][0]']    \n",
            " ization)                       )                                                                 \n",
            "                                                                                                  \n",
            " conv4_block6_add (Add)         (None, 14, 14, 1024  0           ['conv4_block5_out[0][0]',       \n",
            "                                )                                 'conv4_block6_3_bn[0][0]']      \n",
            "                                                                                                  \n",
            " conv4_block6_out (Activation)  (None, 14, 14, 1024  0           ['conv4_block6_add[0][0]']       \n",
            "                                )                                                                 \n",
            "                                                                                                  \n",
            " conv5_block1_1_conv (Conv2D)   (None, 7, 7, 512)    524800      ['conv4_block6_out[0][0]']       \n",
            "                                                                                                  \n",
            " conv5_block1_1_bn (BatchNormal  (None, 7, 7, 512)   2048        ['conv5_block1_1_conv[0][0]']    \n",
            " ization)                                                                                         \n",
            "                                                                                                  \n",
            " conv5_block1_1_relu (Activatio  (None, 7, 7, 512)   0           ['conv5_block1_1_bn[0][0]']      \n",
            " n)                                                                                               \n",
            "                                                                                                  \n",
            " conv5_block1_2_conv (Conv2D)   (None, 7, 7, 512)    2359808     ['conv5_block1_1_relu[0][0]']    \n",
            "                                                                                                  \n",
            " conv5_block1_2_bn (BatchNormal  (None, 7, 7, 512)   2048        ['conv5_block1_2_conv[0][0]']    \n",
            " ization)                                                                                         \n",
            "                                                                                                  \n",
            " conv5_block1_2_relu (Activatio  (None, 7, 7, 512)   0           ['conv5_block1_2_bn[0][0]']      \n",
            " n)                                                                                               \n",
            "                                                                                                  \n",
            " conv5_block1_0_conv (Conv2D)   (None, 7, 7, 2048)   2099200     ['conv4_block6_out[0][0]']       \n",
            "                                                                                                  \n",
            " conv5_block1_3_conv (Conv2D)   (None, 7, 7, 2048)   1050624     ['conv5_block1_2_relu[0][0]']    \n",
            "                                                                                                  \n",
            " conv5_block1_0_bn (BatchNormal  (None, 7, 7, 2048)  8192        ['conv5_block1_0_conv[0][0]']    \n",
            " ization)                                                                                         \n",
            "                                                                                                  \n",
            " conv5_block1_3_bn (BatchNormal  (None, 7, 7, 2048)  8192        ['conv5_block1_3_conv[0][0]']    \n",
            " ization)                                                                                         \n",
            "                                                                                                  \n",
            " conv5_block1_add (Add)         (None, 7, 7, 2048)   0           ['conv5_block1_0_bn[0][0]',      \n",
            "                                                                  'conv5_block1_3_bn[0][0]']      \n",
            "                                                                                                  \n",
            " conv5_block1_out (Activation)  (None, 7, 7, 2048)   0           ['conv5_block1_add[0][0]']       \n",
            "                                                                                                  \n",
            " conv5_block2_1_conv (Conv2D)   (None, 7, 7, 512)    1049088     ['conv5_block1_out[0][0]']       \n",
            "                                                                                                  \n",
            " conv5_block2_1_bn (BatchNormal  (None, 7, 7, 512)   2048        ['conv5_block2_1_conv[0][0]']    \n",
            " ization)                                                                                         \n",
            "                                                                                                  \n",
            " conv5_block2_1_relu (Activatio  (None, 7, 7, 512)   0           ['conv5_block2_1_bn[0][0]']      \n",
            " n)                                                                                               \n",
            "                                                                                                  \n",
            " conv5_block2_2_conv (Conv2D)   (None, 7, 7, 512)    2359808     ['conv5_block2_1_relu[0][0]']    \n",
            "                                                                                                  \n",
            " conv5_block2_2_bn (BatchNormal  (None, 7, 7, 512)   2048        ['conv5_block2_2_conv[0][0]']    \n",
            " ization)                                                                                         \n",
            "                                                                                                  \n",
            " conv5_block2_2_relu (Activatio  (None, 7, 7, 512)   0           ['conv5_block2_2_bn[0][0]']      \n",
            " n)                                                                                               \n",
            "                                                                                                  \n",
            " conv5_block2_3_conv (Conv2D)   (None, 7, 7, 2048)   1050624     ['conv5_block2_2_relu[0][0]']    \n",
            "                                                                                                  \n",
            " conv5_block2_3_bn (BatchNormal  (None, 7, 7, 2048)  8192        ['conv5_block2_3_conv[0][0]']    \n",
            " ization)                                                                                         \n",
            "                                                                                                  \n",
            " conv5_block2_add (Add)         (None, 7, 7, 2048)   0           ['conv5_block1_out[0][0]',       \n",
            "                                                                  'conv5_block2_3_bn[0][0]']      \n",
            "                                                                                                  \n",
            " conv5_block2_out (Activation)  (None, 7, 7, 2048)   0           ['conv5_block2_add[0][0]']       \n",
            "                                                                                                  \n",
            " conv5_block3_1_conv (Conv2D)   (None, 7, 7, 512)    1049088     ['conv5_block2_out[0][0]']       \n",
            "                                                                                                  \n",
            " conv5_block3_1_bn (BatchNormal  (None, 7, 7, 512)   2048        ['conv5_block3_1_conv[0][0]']    \n",
            " ization)                                                                                         \n",
            "                                                                                                  \n",
            " conv5_block3_1_relu (Activatio  (None, 7, 7, 512)   0           ['conv5_block3_1_bn[0][0]']      \n",
            " n)                                                                                               \n",
            "                                                                                                  \n",
            " conv5_block3_2_conv (Conv2D)   (None, 7, 7, 512)    2359808     ['conv5_block3_1_relu[0][0]']    \n",
            "                                                                                                  \n",
            " conv5_block3_2_bn (BatchNormal  (None, 7, 7, 512)   2048        ['conv5_block3_2_conv[0][0]']    \n",
            " ization)                                                                                         \n",
            "                                                                                                  \n",
            " conv5_block3_2_relu (Activatio  (None, 7, 7, 512)   0           ['conv5_block3_2_bn[0][0]']      \n",
            " n)                                                                                               \n",
            "                                                                                                  \n",
            " conv5_block3_3_conv (Conv2D)   (None, 7, 7, 2048)   1050624     ['conv5_block3_2_relu[0][0]']    \n",
            "                                                                                                  \n",
            " conv5_block3_3_bn (BatchNormal  (None, 7, 7, 2048)  8192        ['conv5_block3_3_conv[0][0]']    \n",
            " ization)                                                                                         \n",
            "                                                                                                  \n",
            " conv5_block3_add (Add)         (None, 7, 7, 2048)   0           ['conv5_block2_out[0][0]',       \n",
            "                                                                  'conv5_block3_3_bn[0][0]']      \n",
            "                                                                                                  \n",
            " conv5_block3_out (Activation)  (None, 7, 7, 2048)   0           ['conv5_block3_add[0][0]']       \n",
            "                                                                                                  \n",
            " flatten (Flatten)              (None, 100352)       0           ['conv5_block3_out[0][0]']       \n",
            "                                                                                                  \n",
            " dense (Dense)                  (None, 39)           3913767     ['flatten[0][0]']                \n",
            "                                                                                                  \n",
            "==================================================================================================\n",
            "Total params: 27,501,479\n",
            "Trainable params: 3,913,767\n",
            "Non-trainable params: 23,587,712\n",
            "__________________________________________________________________________________________________\n"
          ]
        }
      ],
      "source": [
        "# view the structure of the model\n",
        "r_model.summary()"
      ]
    },
    {
      "cell_type": "code",
      "execution_count": null,
      "metadata": {
        "id": "7lVvUhojyH_Y"
      },
      "outputs": [],
      "source": [
        "# tell the model what cost and optimization method to use\n",
        "# model.compile(\n",
        "#   loss='categorical_crossentropy',\n",
        "#   optimizer='adam',\n",
        "#   metrics=['accuracy']\n",
        "# )\n",
        "\n",
        "\n",
        "r_model.compile(optimizer='adam',\n",
        "              loss='categorical_crossentropy',\n",
        "              metrics=['accuracy'])"
      ]
    },
    {
      "cell_type": "code",
      "execution_count": null,
      "metadata": {
        "id": "MdAmNknUytaw"
      },
      "outputs": [],
      "source": [
        "# checkpoint\n",
        "from keras.callbacks import ModelCheckpoint,EarlyStopping,CSVLogger\n",
        "# r_weightpath = \"/content/drive/MyDrive/Thesis/weights/checkpoint/res_best_weights-{epoch:02d}-{val_accuracy:.2f}.hdf5\"\n",
        "r_weightpath = \"/content/drive/MyDrive/Thesis/model/resnet50/res_best_weights.hdf5\"\n",
        "checkpoint = ModelCheckpoint(r_weightpath, monitor='val_accuracy', verbose=1, save_best_only=True, save_weights_only=True, mode='max')\n",
        "# checkpoint = ModelCheckpoint(r_weightpath, monitor='val_accuracy', verbose=1, save_best_only=True,  mode='max')\n",
        "\n",
        "early_stop=EarlyStopping(monitor='val_loss',patience=10,verbose=1)\n",
        "\n",
        "log_csv=CSVLogger('/content/drive/MyDrive/Thesis/model/resnet50/logs.csv',separator=',',append=False)\n",
        "\n",
        "callbacks_list = [checkpoint,early_stop,log_csv]\n",
        "\n",
        "# fit the model\n",
        "# Run the cell. It will take some time to execute\n",
        "r = r_model.fit(\n",
        "  training_set,\n",
        "  validation_data=val_set,\n",
        "  epochs=50,\n",
        "  steps_per_epoch=len(training_set),\n",
        "  validation_steps=len(val_set),\n",
        "  callbacks=callbacks_list\n",
        ")"
      ]
    },
    {
      "cell_type": "code",
      "execution_count": null,
      "metadata": {
        "id": "pLbfCyAizPmI"
      },
      "outputs": [],
      "source": [
        "# save it as a h5 file\n",
        "r_model.save('/content/drive/MyDrive/Thesis/model/resnet50/resnet.h5')"
      ]
    },
    {
      "cell_type": "code",
      "execution_count": null,
      "metadata": {
        "id": "n-MZBR7-zJlQ"
      },
      "outputs": [],
      "source": [
        "import matplotlib.pyplot as plt"
      ]
    },
    {
      "cell_type": "code",
      "execution_count": null,
      "metadata": {
        "id": "JMRV9tI6zMyA",
        "colab": {
          "base_uri": "https://localhost:8080/",
          "height": 562
        },
        "outputId": "5e16b405-d84c-4c28-a251-da504432f981"
      },
      "outputs": [
        {
          "output_type": "display_data",
          "data": {
            "text/plain": [
              "<Figure size 432x288 with 1 Axes>"
            ],
            "image/png": "[encoded data removed]"
          },
          "metadata": {
            "needs_background": "light"
          }
        },
        {
          "output_type": "display_data",
          "data": {
            "text/plain": [
              "<Figure size 432x288 with 1 Axes>"
            ],
            "image/png": "[encoded data removed]"
          },
          "metadata": {
            "needs_background": "light"
          }
        },
        {
          "output_type": "display_data",
          "data": {
            "text/plain": [
              "<Figure size 432x288 with 0 Axes>"
            ]
          },
          "metadata": {}
        }
      ],
      "source": [
        "# plot the loss\n",
        "plt.plot(r.history['loss'], label='train loss')\n",
        "plt.plot(r.history['val_loss'], label='val loss')\n",
        "plt.xlabel('Epochs')\n",
        "plt.ylabel('Loss')\n",
        "plt.legend()\n",
        "plt.show()\n",
        "plt.savefig('/content/drive/MyDrive/Thesis/model/resnet50/LossVal_loss')\n",
        "\n",
        "# plot the accuracy\n",
        "plt.plot(r.history['accuracy'], label='train acc')\n",
        "plt.plot(r.history['val_accuracy'], label='val acc')\n",
        "plt.xlabel('Epochs')\n",
        "plt.ylabel('Accuracy')\n",
        "plt.legend()\n",
        "plt.show()\n",
        "plt.savefig('/content/drive/MyDrive/Thesis/model/resnet50/AccVal_acc')"
      ]
    },
    {
      "cell_type": "code",
      "execution_count": null,
      "metadata": {
        "id": "JUIBMLDKT0JQ",
        "colab": {
          "base_uri": "https://localhost:8080/"
        },
        "outputId": "5ae77ce6-90e1-4b01-8f46-428e4a6286bf"
      },
      "outputs": [
        {
          "output_type": "execute_result",
          "data": {
            "text/plain": [
              "array([[0., 0., 0., ..., 0., 0., 0.],\n",
              "       [0., 0., 0., ..., 0., 0., 0.],\n",
              "       [0., 0., 0., ..., 1., 0., 0.],\n",
              "       ...,\n",
              "       [0., 0., 0., ..., 1., 0., 0.],\n",
              "       [0., 0., 0., ..., 0., 0., 0.],\n",
              "       [0., 0., 0., ..., 0., 0., 0.]], dtype=float32)"
            ]
          },
          "metadata": {},
          "execution_count": 34
        }
      ],
      "source": [
        "labels"
      ]
    },
    {
      "cell_type": "code",
      "execution_count": null,
      "metadata": {
        "id": "6814LKP_R-xn"
      },
      "outputs": [],
      "source": [
        "model=load_model('/content/drive/MyDrive/Thesis/model/resnet50/resnet.h5')"
      ]
    },
    {
      "cell_type": "code",
      "execution_count": null,
      "metadata": {
        "id": "6OE0tdet_4Dp"
      },
      "outputs": [],
      "source": [
        "from sklearn.metrics import classification_report\n"
      ]
    },
    {
      "cell_type": "code",
      "execution_count": null,
      "metadata": {
        "id": "5aeSL3oHTryc",
        "colab": {
          "base_uri": "https://localhost:8080/"
        },
        "outputId": "afa9f205-f105-402e-ec38-51a08119b324"
      },
      "outputs": [
        {
          "output_type": "stream",
          "name": "stdout",
          "text": [
            "7/7 [==============================] - 1s 98ms/step\n",
            "              precision    recall  f1-score   support\n",
            "\n",
            "           0       0.06      0.20      0.09         5\n",
            "           1       0.00      0.00      0.00         5\n",
            "           2       0.00      0.00      0.00         6\n",
            "           3       0.00      0.00      0.00         4\n",
            "           4       0.17      0.33      0.22         3\n",
            "           5       0.25      0.14      0.18         7\n",
            "           6       0.00      0.00      0.00         5\n",
            "           7       0.00      0.00      0.00         6\n",
            "           8       1.00      0.17      0.29         6\n",
            "           9       1.00      0.33      0.50         3\n",
            "          10       0.00      0.00      0.00         3\n",
            "          11       0.00      0.00      0.00         6\n",
            "          12       0.00      0.00      0.00         5\n",
            "          13       0.00      0.00      0.00         7\n",
            "          14       0.00      0.00      0.00         8\n",
            "          15       0.00      0.00      0.00         7\n",
            "          16       0.00      0.00      0.00         7\n",
            "          17       0.00      0.00      0.00         6\n",
            "          18       1.00      0.29      0.44         7\n",
            "          19       0.12      0.14      0.13         7\n",
            "          20       0.17      0.43      0.24         7\n",
            "          21       0.07      0.44      0.12         9\n",
            "          22       0.00      0.00      0.00         6\n",
            "          23       0.00      0.00      0.00         8\n",
            "          24       0.00      0.00      0.00         5\n",
            "          25       1.00      0.25      0.40         8\n",
            "          26       0.00      0.00      0.00         5\n",
            "          27       0.12      0.71      0.21         7\n",
            "          28       0.67      0.40      0.50         5\n",
            "          29       0.00      0.00      0.00         4\n",
            "          30       0.00      0.00      0.00         6\n",
            "          31       0.00      0.00      0.00         5\n",
            "          32       0.00      0.00      0.00         6\n",
            "          33       0.00      0.00      0.00         5\n",
            "          34       0.00      0.00      0.00         5\n",
            "          35       0.00      0.00      0.00         4\n",
            "          36       0.30      0.75      0.43         4\n",
            "          37       0.30      0.60      0.40         5\n",
            "          38       0.75      0.43      0.55         7\n",
            "\n",
            "    accuracy                           0.15       224\n",
            "   macro avg       0.18      0.14      0.12       224\n",
            "weighted avg       0.18      0.15      0.12       224\n",
            "\n"
          ]
        },
        {
          "output_type": "stream",
          "name": "stderr",
          "text": [
            "/usr/local/lib/python3.8/dist-packages/sklearn/metrics/_classification.py:1318: UndefinedMetricWarning: Precision and F-score are ill-defined and being set to 0.0 in labels with no predicted samples. Use `zero_division` parameter to control this behavior.\n",
            "  _warn_prf(average, modifier, msg_start, len(result))\n",
            "/usr/local/lib/python3.8/dist-packages/sklearn/metrics/_classification.py:1318: UndefinedMetricWarning: Precision and F-score are ill-defined and being set to 0.0 in labels with no predicted samples. Use `zero_division` parameter to control this behavior.\n",
            "  _warn_prf(average, modifier, msg_start, len(result))\n",
            "/usr/local/lib/python3.8/dist-packages/sklearn/metrics/_classification.py:1318: UndefinedMetricWarning: Precision and F-score are ill-defined and being set to 0.0 in labels with no predicted samples. Use `zero_division` parameter to control this behavior.\n",
            "  _warn_prf(average, modifier, msg_start, len(result))\n"
          ]
        }
      ],
      "source": [
        "ypred = model.predict(images)\n",
        "pred=np.argmax(ypred, axis=1)\n",
        "ground = np.argmax(labels,axis=1)\n",
        "print(classification_report(ground,pred))"
      ]
    },
    {
      "cell_type": "code",
      "source": [
        "cr=classification_report(ground,pred, output_dict=True)\n",
        "resnet_cr = pd.DataFrame(cr).transpose()"
      ],
      "metadata": {
        "colab": {
          "base_uri": "https://localhost:8080/"
        },
        "id": "tiP0kqqKqoYV",
        "outputId": "7b3a98fc-0b65-47e0-a282-9fb259fd1fdf"
      },
      "execution_count": null,
      "outputs": [
        {
          "output_type": "stream",
          "name": "stderr",
          "text": [
            "/usr/local/lib/python3.8/dist-packages/sklearn/metrics/_classification.py:1318: UndefinedMetricWarning: Precision and F-score are ill-defined and being set to 0.0 in labels with no predicted samples. Use `zero_division` parameter to control this behavior.\n",
            "  _warn_prf(average, modifier, msg_start, len(result))\n",
            "/usr/local/lib/python3.8/dist-packages/sklearn/metrics/_classification.py:1318: UndefinedMetricWarning: Precision and F-score are ill-defined and being set to 0.0 in labels with no predicted samples. Use `zero_division` parameter to control this behavior.\n",
            "  _warn_prf(average, modifier, msg_start, len(result))\n",
            "/usr/local/lib/python3.8/dist-packages/sklearn/metrics/_classification.py:1318: UndefinedMetricWarning: Precision and F-score are ill-defined and being set to 0.0 in labels with no predicted samples. Use `zero_division` parameter to control this behavior.\n",
            "  _warn_prf(average, modifier, msg_start, len(result))\n"
          ]
        }
      ]
    },
    {
      "cell_type": "code",
      "source": [
        "resnet_rep=resnet_cr.iloc[39:42,:]\n",
        "resnet_rep"
      ],
      "metadata": {
        "colab": {
          "base_uri": "https://localhost:8080/",
          "height": 143
        },
        "id": "h6CU20rD2DGn",
        "outputId": "04230002-1a8a-4892-b218-c66c130217f0"
      },
      "execution_count": null,
      "outputs": [
        {
          "output_type": "execute_result",
          "data": {
            "text/plain": [
              "              precision    recall  f1-score     support\n",
              "accuracy       0.147321  0.147321  0.147321    0.147321\n",
              "macro avg      0.178839  0.144119  0.120518  224.000000\n",
              "weighted avg   0.184569  0.147321  0.120974  224.000000"
            ],
            "text/html": [
              "\n",
              "  <div id=\"df-6eec1400-867d-4ef7-af17-7c93a9b3f3fc\">\n",
              "    <div class=\"colab-df-container\">\n",
              "      <div>\n",
              "<style scoped>\n",
              "    .dataframe tbody tr th:only-of-type {\n",
              "        vertical-align: middle;\n",
              "    }\n",
              "\n",
              "    .dataframe tbody tr th {\n",
              "        vertical-align: top;\n",
              "    }\n",
              "\n",
              "    .dataframe thead th {\n",
              "        text-align: right;\n",
              "    }\n",
              "</style>\n",
              "<table border=\"1\" class=\"dataframe\">\n",
              "  <thead>\n",
              "    <tr style=\"text-align: right;\">\n",
              "      <th></th>\n",
              "      <th>precision</th>\n",
              "      <th>recall</th>\n",
              "      <th>f1-score</th>\n",
              "      <th>support</th>\n",
              "    </tr>\n",
              "  </thead>\n",
              "  <tbody>\n",
              "    <tr>\n",
              "      <th>accuracy</th>\n",
              "      <td>0.147321</td>\n",
              "      <td>0.147321</td>\n",
              "      <td>0.147321</td>\n",
              "      <td>0.147321</td>\n",
              "    </tr>\n",
              "    <tr>\n",
              "      <th>macro avg</th>\n",
              "      <td>0.178839</td>\n",
              "      <td>0.144119</td>\n",
              "      <td>0.120518</td>\n",
              "      <td>224.000000</td>\n",
              "    </tr>\n",
              "    <tr>\n",
              "      <th>weighted avg</th>\n",
              "      <td>0.184569</td>\n",
              "      <td>0.147321</td>\n",
              "      <td>0.120974</td>\n",
              "      <td>224.000000</td>\n",
              "    </tr>\n",
              "  </tbody>\n",
              "</table>\n",
              "</div>\n",
              "      <button class=\"colab-df-convert\" onclick=\"convertToInteractive('df-6eec1400-867d-4ef7-af17-7c93a9b3f3fc')\"\n",
              "              title=\"Convert this dataframe to an interactive table.\"\n",
              "              style=\"display:none;\">\n",
              "        \n",
              "  <svg xmlns=\"http://www.w3.org/2000/svg\" height=\"24px\"viewBox=\"0 0 24 24\"\n",
              "       width=\"24px\">\n",
              "    <path d=\"M0 0h24v24H0V0z\" fill=\"none\"/>\n",
              "    <path d=\"M18.56 5.44l.94 2.06.94-2.06 2.06-.94-2.06-.94-.94-2.06-.94 2.06-2.06.94zm-11 1L8.5 8.5l.94-2.06 2.06-.94-2.06-.94L8.5 2.5l-.94 2.06-2.06.94zm10 10l.94 2.06.94-2.06 2.06-.94-2.06-.94-.94-2.06-.94 2.06-2.06.94z\"/><path d=\"M17.41 7.96l-1.37-1.37c-.4-.4-.92-.59-1.43-.59-.52 0-1.04.2-1.43.59L10.3 9.45l-7.72 7.72c-.78.78-.78 2.05 0 2.83L4 21.41c.39.39.9.59 1.41.59.51 0 1.02-.2 1.41-.59l7.78-7.78 2.81-2.81c.8-.78.8-2.07 0-2.86zM5.41 20L4 18.59l7.72-7.72 1.47 1.35L5.41 20z\"/>\n",
              "  </svg>\n",
              "      </button>\n",
              "      \n",
              "  <style>\n",
              "    .colab-df-container {\n",
              "      display:flex;\n",
              "      flex-wrap:wrap;\n",
              "      gap: 12px;\n",
              "    }\n",
              "\n",
              "    .colab-df-convert {\n",
              "      background-color: #E8F0FE;\n",
              "      border: none;\n",
              "      border-radius: 50%;\n",
              "      cursor: pointer;\n",
              "      display: none;\n",
              "      fill: #1967D2;\n",
              "      height: 32px;\n",
              "      padding: 0 0 0 0;\n",
              "      width: 32px;\n",
              "    }\n",
              "\n",
              "    .colab-df-convert:hover {\n",
              "      background-color: #E2EBFA;\n",
              "      box-shadow: 0px 1px 2px rgba(60, 64, 67, 0.3), 0px 1px 3px 1px rgba(60, 64, 67, 0.15);\n",
              "      fill: #174EA6;\n",
              "    }\n",
              "\n",
              "    [theme=dark] .colab-df-convert {\n",
              "      background-color: #3B4455;\n",
              "      fill: #D2E3FC;\n",
              "    }\n",
              "\n",
              "    [theme=dark] .colab-df-convert:hover {\n",
              "      background-color: #434B5C;\n",
              "      box-shadow: 0px 1px 3px 1px rgba(0, 0, 0, 0.15);\n",
              "      filter: drop-shadow(0px 1px 2px rgba(0, 0, 0, 0.3));\n",
              "      fill: #FFFFFF;\n",
              "    }\n",
              "  </style>\n",
              "\n",
              "      <script>\n",
              "        const buttonEl =\n",
              "          document.querySelector('#df-6eec1400-867d-4ef7-af17-7c93a9b3f3fc button.colab-df-convert');\n",
              "        buttonEl.style.display =\n",
              "          google.colab.kernel.accessAllowed ? 'block' : 'none';\n",
              "\n",
              "        async function convertToInteractive(key) {\n",
              "          const element = document.querySelector('#df-6eec1400-867d-4ef7-af17-7c93a9b3f3fc');\n",
              "          const dataTable =\n",
              "            await google.colab.kernel.invokeFunction('convertToInteractive',\n",
              "                                                     [key], {});\n",
              "          if (!dataTable) return;\n",
              "\n",
              "          const docLinkHtml = 'Like what you see? Visit the ' +\n",
              "            '<a target=\"_blank\" href=https://colab.research.google.com/notebooks/data_table.ipynb>data table notebook</a>'\n",
              "            + ' to learn more about interactive tables.';\n",
              "          element.innerHTML = '';\n",
              "          dataTable['output_type'] = 'display_data';\n",
              "          await google.colab.output.renderOutput(dataTable, element);\n",
              "          const docLink = document.createElement('div');\n",
              "          docLink.innerHTML = docLinkHtml;\n",
              "          element.appendChild(docLink);\n",
              "        }\n",
              "      </script>\n",
              "    </div>\n",
              "  </div>\n",
              "  "
            ]
          },
          "metadata": {},
          "execution_count": 115
        }
      ]
    },
    {
      "cell_type": "code",
      "source": [
        "resnet_cr=resnet_cr.iloc[0:39,:]"
      ],
      "metadata": {
        "id": "zr7lunHLru4P"
      },
      "execution_count": null,
      "outputs": []
    },
    {
      "cell_type": "code",
      "source": [
        "resnet_cr['class']=li"
      ],
      "metadata": {
        "colab": {
          "base_uri": "https://localhost:8080/"
        },
        "id": "MYeWbppf0YH_",
        "outputId": "5ae695dc-431f-4a93-8df6-f280197651a9"
      },
      "execution_count": null,
      "outputs": [
        {
          "output_type": "stream",
          "name": "stderr",
          "text": [
            "<ipython-input-117-9b906796ddf7>:1: SettingWithCopyWarning: \n",
            "A value is trying to be set on a copy of a slice from a DataFrame.\n",
            "Try using .loc[row_indexer,col_indexer] = value instead\n",
            "\n",
            "See the caveats in the documentation: https://pandas.pydata.org/pandas-docs/stable/user_guide/indexing.html#returning-a-view-versus-a-copy\n",
            "  resnet_cr['class']=li\n"
          ]
        }
      ]
    },
    {
      "cell_type": "code",
      "source": [
        "print(resnet_cr)"
      ],
      "metadata": {
        "id": "cnpJ9mtJvtTF"
      },
      "execution_count": null,
      "outputs": []
    },
    {
      "cell_type": "code",
      "source": [
        "from sklearn.metrics import precision_recall_fscore_support\n",
        "res = []\n",
        "for l in range(39):\n",
        "    prec,recall,_,_ = precision_recall_fscore_support(np.array(ground)==l,\n",
        "                                                      np.array(pred)==l,\n",
        "                                                      pos_label=True,average=None)\n",
        "    res.append([li[l],recall[0],recall[1]])"
      ],
      "metadata": {
        "id": "whXsgMycGE8H"
      },
      "execution_count": null,
      "outputs": []
    },
    {
      "cell_type": "code",
      "source": [
        "import pandas as pd"
      ],
      "metadata": {
        "id": "cyd_p2JVGIY9"
      },
      "execution_count": null,
      "outputs": []
    },
    {
      "cell_type": "code",
      "source": [
        "specicifity=pd.DataFrame(res,columns = ['class','sensitivity','specificity'])"
      ],
      "metadata": {
        "id": "rQ2YFRj_GJ7u"
      },
      "execution_count": null,
      "outputs": []
    },
    {
      "cell_type": "code",
      "source": [
        "print(specicifity)"
      ],
      "metadata": {
        "id": "zCCG3m2SGMmO"
      },
      "execution_count": null,
      "outputs": []
    },
    {
      "cell_type": "code",
      "source": [
        "resnet_matrix=pd.merge(specicifity, resnet_cr, on ='class')"
      ],
      "metadata": {
        "id": "1AV1zrnXzKqG"
      },
      "execution_count": null,
      "outputs": []
    },
    {
      "cell_type": "code",
      "source": [
        "# result = pd.concat([specicifity,resnet_cr], axis=1,ignore_index=True )\n",
        "resnet_matrix"
      ],
      "metadata": {
        "id": "cbrW4e2ps5v_"
      },
      "execution_count": null,
      "outputs": []
    },
    {
      "cell_type": "code",
      "source": [
        "resnet_matrix.to_csv('/content/drive/MyDrive/Thesis/model/resnet50/classification_report.csv')\n"
      ],
      "metadata": {
        "id": "GzD4Kg-3tmDx"
      },
      "execution_count": null,
      "outputs": []
    },
    {
      "cell_type": "code",
      "source": [
        "resnet_rep.to_csv('/content/drive/MyDrive/Thesis/model/resnet50/acc_report.csv')"
      ],
      "metadata": {
        "id": "HaUM52524ZMQ"
      },
      "execution_count": null,
      "outputs": []
    },
    {
      "cell_type": "markdown",
      "source": [
        "#VGG19\n"
      ],
      "metadata": {
        "id": "Kz7_8nQG-edf"
      }
    },
    {
      "cell_type": "code",
      "source": [
        "# Import the VGG16 library as shown below and add preprocessing layer to the front of VGG\n",
        "# Here we will be using imagenet weights\n",
        "\n",
        "vgg19 = VGG19(input_shape=IMAGE_SIZE + [3], weights='imagenet', include_top=False)"
      ],
      "metadata": {
        "colab": {
          "base_uri": "https://localhost:8080/"
        },
        "outputId": "d11f6178-b728-4b97-c1dd-00483bdcb898",
        "id": "Zx49xMLv_Rlc"
      },
      "execution_count": null,
      "outputs": [
        {
          "output_type": "stream",
          "name": "stdout",
          "text": [
            "Downloading data from https://storage.googleapis.com/tensorflow/keras-applications/vgg19/vgg19_weights_tf_dim_ordering_tf_kernels_notop.h5\n",
            "80134624/80134624 [==============================] - 5s 0us/step\n"
          ]
        }
      ]
    },
    {
      "cell_type": "code",
      "source": [
        "# don't train existing weights\n",
        "for layer in vgg19.layers:\n",
        "    layer.trainable = False"
      ],
      "metadata": {
        "id": "-JIuGUYt_Rlx"
      },
      "execution_count": null,
      "outputs": []
    },
    {
      "cell_type": "code",
      "source": [
        "v9x = Flatten()(vgg19.output)"
      ],
      "metadata": {
        "id": "N2mpA3vk_Rlx"
      },
      "execution_count": null,
      "outputs": []
    },
    {
      "cell_type": "code",
      "source": [
        "v9_prediction = Dense(len(folders), activation='softmax')(v9x)\n",
        "\n",
        "# create a model object\n",
        "v9_model = Model(inputs=vgg19.input, outputs=v9_prediction)"
      ],
      "metadata": {
        "id": "qfyWInrJ_Rlx"
      },
      "execution_count": null,
      "outputs": []
    },
    {
      "cell_type": "code",
      "source": [
        "# view the structure of the model\n",
        "v9_model.summary()"
      ],
      "metadata": {
        "colab": {
          "base_uri": "https://localhost:8080/"
        },
        "outputId": "153ae5ee-25d0-4b32-ed76-cc2cf3b1867c",
        "id": "TN2GsEnQ_Rly"
      },
      "execution_count": null,
      "outputs": [
        {
          "output_type": "stream",
          "name": "stdout",
          "text": [
            "Model: \"model_2\"\n",
            "_________________________________________________________________\n",
            " Layer (type)                Output Shape              Param #   \n",
            "=================================================================\n",
            " input_3 (InputLayer)        [(None, 224, 224, 3)]     0         \n",
            "                                                                 \n",
            " block1_conv1 (Conv2D)       (None, 224, 224, 64)      1792      \n",
            "                                                                 \n",
            " block1_conv2 (Conv2D)       (None, 224, 224, 64)      36928     \n",
            "                                                                 \n",
            " block1_pool (MaxPooling2D)  (None, 112, 112, 64)      0         \n",
            "                                                                 \n",
            " block2_conv1 (Conv2D)       (None, 112, 112, 128)     73856     \n",
            "                                                                 \n",
            " block2_conv2 (Conv2D)       (None, 112, 112, 128)     147584    \n",
            "                                                                 \n",
            " block2_pool (MaxPooling2D)  (None, 56, 56, 128)       0         \n",
            "                                                                 \n",
            " block3_conv1 (Conv2D)       (None, 56, 56, 256)       295168    \n",
            "                                                                 \n",
            " block3_conv2 (Conv2D)       (None, 56, 56, 256)       590080    \n",
            "                                                                 \n",
            " block3_conv3 (Conv2D)       (None, 56, 56, 256)       590080    \n",
            "                                                                 \n",
            " block3_conv4 (Conv2D)       (None, 56, 56, 256)       590080    \n",
            "                                                                 \n",
            " block3_pool (MaxPooling2D)  (None, 28, 28, 256)       0         \n",
            "                                                                 \n",
            " block4_conv1 (Conv2D)       (None, 28, 28, 512)       1180160   \n",
            "                                                                 \n",
            " block4_conv2 (Conv2D)       (None, 28, 28, 512)       2359808   \n",
            "                                                                 \n",
            " block4_conv3 (Conv2D)       (None, 28, 28, 512)       2359808   \n",
            "                                                                 \n",
            " block4_conv4 (Conv2D)       (None, 28, 28, 512)       2359808   \n",
            "                                                                 \n",
            " block4_pool (MaxPooling2D)  (None, 14, 14, 512)       0         \n",
            "                                                                 \n",
            " block5_conv1 (Conv2D)       (None, 14, 14, 512)       2359808   \n",
            "                                                                 \n",
            " block5_conv2 (Conv2D)       (None, 14, 14, 512)       2359808   \n",
            "                                                                 \n",
            " block5_conv3 (Conv2D)       (None, 14, 14, 512)       2359808   \n",
            "                                                                 \n",
            " block5_conv4 (Conv2D)       (None, 14, 14, 512)       2359808   \n",
            "                                                                 \n",
            " block5_pool (MaxPooling2D)  (None, 7, 7, 512)         0         \n",
            "                                                                 \n",
            " flatten_2 (Flatten)         (None, 25088)             0         \n",
            "                                                                 \n",
            " dense_2 (Dense)             (None, 39)                978471    \n",
            "                                                                 \n",
            "=================================================================\n",
            "Total params: 21,002,855\n",
            "Trainable params: 978,471\n",
            "Non-trainable params: 20,024,384\n",
            "_________________________________________________________________\n"
          ]
        }
      ]
    },
    {
      "cell_type": "code",
      "source": [
        "# tell the model what cost and optimization method to use\n",
        "v9_model.compile(\n",
        "  loss='categorical_crossentropy',\n",
        "  optimizer='adam',\n",
        "  metrics=['accuracy']\n",
        ")"
      ],
      "metadata": {
        "id": "WfsZmYL6_Rly"
      },
      "execution_count": null,
      "outputs": []
    },
    {
      "cell_type": "code",
      "source": [
        "# checkpoint\n",
        "from keras.callbacks import ModelCheckpoint,EarlyStopping,CSVLogger\n",
        "# r_weightpath = \"/content/drive/MyDrive/Thesis/weights/checkpoint/res_best_weights-{epoch:02d}-{val_accuracy:.2f}.hdf5\"\n",
        "v9_weightpath = \"/content/drive/MyDrive/Thesis/model/vgg19/v19_best_weights.hdf5\"\n",
        "checkpoint = ModelCheckpoint(v9_weightpath, monitor='val_accuracy', verbose=1, save_best_only=True, save_weights_only=True, mode='max')\n",
        "# checkpoint = ModelCheckpoint(r_weightpath, monitor='val_accuracy', verbose=1, save_best_only=True,  mode='max')\n",
        "\n",
        "early_stop=EarlyStopping(monitor='val_loss',patience=10,verbose=1)\n",
        "\n",
        "log_csv=CSVLogger('/content/drive/MyDrive/Thesis/model/vgg19/v19_logs.csv',separator=',',append=False)\n",
        "\n",
        "callbacks_list = [checkpoint,early_stop,log_csv]\n",
        "\n",
        "# fit the model\n",
        "# Run the cell. It will take some time to execute\n",
        "v9 = v9_model.fit(\n",
        "  training_set,\n",
        "  validation_data=val_set,\n",
        "  epochs=20,\n",
        "  steps_per_epoch=len(training_set),\n",
        "  validation_steps=len(val_set),\n",
        "  callbacks=callbacks_list\n",
        ")\n",
        "\n",
        "v9_model.save('/content/drive/MyDrive/Thesis/model/vgg19/model_vgg19.h5')"
      ],
      "metadata": {
        "id": "Gp8bd2Ib_Rly"
      },
      "execution_count": null,
      "outputs": []
    },
    {
      "cell_type": "code",
      "source": [
        "# plot the loss\n",
        "plt.plot(v9.history['loss'], label='train loss')\n",
        "plt.plot(v9.history['val_loss'], label='val loss')\n",
        "plt.legend()\n",
        "plt.show()\n",
        "plt.savefig('/content/drive/MyDrive/Thesis/model/vgg19/vLossVal_loss')\n",
        "\n",
        "# plot the accuracy\n",
        "plt.plot(v9.history['accuracy'], label='train acc')\n",
        "plt.plot(v9.history['val_accuracy'], label='val acc')\n",
        "plt.legend()\n",
        "plt.show()\n",
        "plt.savefig('/content/drive/MyDrive/Thesis/model/vgg19/vAccVal_acc')"
      ],
      "metadata": {
        "colab": {
          "base_uri": "https://localhost:8080/",
          "height": 530
        },
        "id": "IAruD5AJ_Rlz",
        "outputId": "fd49b971-12b8-45e9-f22e-ae11bcc8a00c"
      },
      "execution_count": null,
      "outputs": [
        {
          "output_type": "display_data",
          "data": {
            "text/plain": [
              "<Figure size 432x288 with 1 Axes>"
            ],
            "image/png": "[encoded data removed]"
          },
          "metadata": {
            "needs_background": "light"
          }
        },
        {
          "output_type": "display_data",
          "data": {
            "text/plain": [
              "<Figure size 432x288 with 1 Axes>"
            ],
            "image/png": "[encoded data removed]"
          },
          "metadata": {
            "needs_background": "light"
          }
        },
        {
          "output_type": "display_data",
          "data": {
            "text/plain": [
              "<Figure size 432x288 with 0 Axes>"
            ]
          },
          "metadata": {}
        }
      ]
    },
    {
      "cell_type": "code",
      "source": [
        "from tensorflow.keras.models import load_model\n",
        "model=load_model('/content/drive/MyDrive/Thesis/model/vgg19/model_vgg19.h5')"
      ],
      "metadata": {
        "id": "5aAC64oi_Rlz"
      },
      "execution_count": null,
      "outputs": []
    },
    {
      "cell_type": "code",
      "source": [
        "from sklearn.metrics import classification_report\n"
      ],
      "metadata": {
        "id": "pshiiEXB_Rlz"
      },
      "execution_count": null,
      "outputs": []
    },
    {
      "cell_type": "code",
      "source": [
        "ypred = model.predict(images)\n",
        "pred=np.argmax(ypred, axis=1)\n",
        "ground = np.argmax(labels,axis=1)\n",
        "print(classification_report(ground,pred))"
      ],
      "metadata": {
        "colab": {
          "base_uri": "https://localhost:8080/"
        },
        "outputId": "5373b693-18ad-4f41-9994-90195529af58",
        "id": "83E5JqRd_Rlz"
      },
      "execution_count": null,
      "outputs": [
        {
          "output_type": "stream",
          "name": "stdout",
          "text": [
            "7/7 [==============================] - 1s 195ms/step\n",
            "              precision    recall  f1-score   support\n",
            "\n",
            "           0       0.33      0.20      0.25         5\n",
            "           1       0.75      0.60      0.67         5\n",
            "           2       0.62      0.83      0.71         6\n",
            "           3       0.25      0.50      0.33         4\n",
            "           4       0.75      1.00      0.86         3\n",
            "           5       0.50      0.14      0.22         7\n",
            "           6       0.83      1.00      0.91         5\n",
            "           7       1.00      0.17      0.29         6\n",
            "           8       1.00      0.67      0.80         6\n",
            "           9       0.75      1.00      0.86         3\n",
            "          10       0.00      0.00      0.00         3\n",
            "          11       0.18      0.33      0.24         6\n",
            "          12       0.40      0.40      0.40         5\n",
            "          13       0.60      0.43      0.50         7\n",
            "          14       0.33      0.25      0.29         8\n",
            "          15       1.00      0.43      0.60         7\n",
            "          16       0.38      0.43      0.40         7\n",
            "          17       0.67      0.67      0.67         6\n",
            "          18       0.71      0.71      0.71         7\n",
            "          19       0.40      0.57      0.47         7\n",
            "          20       0.42      0.71      0.53         7\n",
            "          21       0.30      0.67      0.41         9\n",
            "          22       0.57      0.67      0.62         6\n",
            "          23       0.83      0.62      0.71         8\n",
            "          24       0.50      0.20      0.29         5\n",
            "          25       1.00      0.38      0.55         8\n",
            "          26       0.50      0.40      0.44         5\n",
            "          27       0.50      0.71      0.59         7\n",
            "          28       0.50      0.80      0.62         5\n",
            "          29       0.40      0.50      0.44         4\n",
            "          30       0.83      0.83      0.83         6\n",
            "          31       1.00      0.20      0.33         5\n",
            "          32       1.00      0.83      0.91         6\n",
            "          33       0.50      0.20      0.29         5\n",
            "          34       0.20      0.20      0.20         5\n",
            "          35       0.17      0.25      0.20         4\n",
            "          36       1.00      1.00      1.00         4\n",
            "          37       1.00      1.00      1.00         5\n",
            "          38       1.00      1.00      1.00         7\n",
            "\n",
            "    accuracy                           0.55       224\n",
            "   macro avg       0.61      0.55      0.54       224\n",
            "weighted avg       0.62      0.55      0.54       224\n",
            "\n"
          ]
        }
      ]
    },
    {
      "cell_type": "code",
      "source": [
        "cr=classification_report(ground,pred, output_dict=True)\n",
        "v9_cr = pd.DataFrame(cr).transpose()"
      ],
      "metadata": {
        "id": "x8iaF-Ra_Rl0"
      },
      "execution_count": null,
      "outputs": []
    },
    {
      "cell_type": "code",
      "source": [
        "v9_rep=v9_cr.iloc[39:42,:]\n",
        "v9_rep"
      ],
      "metadata": {
        "colab": {
          "base_uri": "https://localhost:8080/",
          "height": 143
        },
        "outputId": "4c5badc3-b6d4-4470-c72c-97783138a1fd",
        "id": "6FmuYVPx_Rl1"
      },
      "execution_count": null,
      "outputs": [
        {
          "output_type": "execute_result",
          "data": {
            "text/plain": [
              "              precision    recall  f1-score     support\n",
              "accuracy       0.549107  0.549107  0.549107    0.549107\n",
              "macro avg      0.607287  0.551526  0.541617  224.000000\n",
              "weighted avg   0.616940  0.549107  0.542873  224.000000"
            ],
            "text/html": [
              "\n",
              "  <div id=\"df-1468d32e-f7d4-40a1-9d6c-3e6795b07a42\">\n",
              "    <div class=\"colab-df-container\">\n",
              "      <div>\n",
              "<style scoped>\n",
              "    .dataframe tbody tr th:only-of-type {\n",
              "        vertical-align: middle;\n",
              "    }\n",
              "\n",
              "    .dataframe tbody tr th {\n",
              "        vertical-align: top;\n",
              "    }\n",
              "\n",
              "    .dataframe thead th {\n",
              "        text-align: right;\n",
              "    }\n",
              "</style>\n",
              "<table border=\"1\" class=\"dataframe\">\n",
              "  <thead>\n",
              "    <tr style=\"text-align: right;\">\n",
              "      <th></th>\n",
              "      <th>precision</th>\n",
              "      <th>recall</th>\n",
              "      <th>f1-score</th>\n",
              "      <th>support</th>\n",
              "    </tr>\n",
              "  </thead>\n",
              "  <tbody>\n",
              "    <tr>\n",
              "      <th>accuracy</th>\n",
              "      <td>0.549107</td>\n",
              "      <td>0.549107</td>\n",
              "      <td>0.549107</td>\n",
              "      <td>0.549107</td>\n",
              "    </tr>\n",
              "    <tr>\n",
              "      <th>macro avg</th>\n",
              "      <td>0.607287</td>\n",
              "      <td>0.551526</td>\n",
              "      <td>0.541617</td>\n",
              "      <td>224.000000</td>\n",
              "    </tr>\n",
              "    <tr>\n",
              "      <th>weighted avg</th>\n",
              "      <td>0.616940</td>\n",
              "      <td>0.549107</td>\n",
              "      <td>0.542873</td>\n",
              "      <td>224.000000</td>\n",
              "    </tr>\n",
              "  </tbody>\n",
              "</table>\n",
              "</div>\n",
              "      <button class=\"colab-df-convert\" onclick=\"convertToInteractive('df-1468d32e-f7d4-40a1-9d6c-3e6795b07a42')\"\n",
              "              title=\"Convert this dataframe to an interactive table.\"\n",
              "              style=\"display:none;\">\n",
              "        \n",
              "  <svg xmlns=\"http://www.w3.org/2000/svg\" height=\"24px\"viewBox=\"0 0 24 24\"\n",
              "       width=\"24px\">\n",
              "    <path d=\"M0 0h24v24H0V0z\" fill=\"none\"/>\n",
              "    <path d=\"M18.56 5.44l.94 2.06.94-2.06 2.06-.94-2.06-.94-.94-2.06-.94 2.06-2.06.94zm-11 1L8.5 8.5l.94-2.06 2.06-.94-2.06-.94L8.5 2.5l-.94 2.06-2.06.94zm10 10l.94 2.06.94-2.06 2.06-.94-2.06-.94-.94-2.06-.94 2.06-2.06.94z\"/><path d=\"M17.41 7.96l-1.37-1.37c-.4-.4-.92-.59-1.43-.59-.52 0-1.04.2-1.43.59L10.3 9.45l-7.72 7.72c-.78.78-.78 2.05 0 2.83L4 21.41c.39.39.9.59 1.41.59.51 0 1.02-.2 1.41-.59l7.78-7.78 2.81-2.81c.8-.78.8-2.07 0-2.86zM5.41 20L4 18.59l7.72-7.72 1.47 1.35L5.41 20z\"/>\n",
              "  </svg>\n",
              "      </button>\n",
              "      \n",
              "  <style>\n",
              "    .colab-df-container {\n",
              "      display:flex;\n",
              "      flex-wrap:wrap;\n",
              "      gap: 12px;\n",
              "    }\n",
              "\n",
              "    .colab-df-convert {\n",
              "      background-color: #E8F0FE;\n",
              "      border: none;\n",
              "      border-radius: 50%;\n",
              "      cursor: pointer;\n",
              "      display: none;\n",
              "      fill: #1967D2;\n",
              "      height: 32px;\n",
              "      padding: 0 0 0 0;\n",
              "      width: 32px;\n",
              "    }\n",
              "\n",
              "    .colab-df-convert:hover {\n",
              "      background-color: #E2EBFA;\n",
              "      box-shadow: 0px 1px 2px rgba(60, 64, 67, 0.3), 0px 1px 3px 1px rgba(60, 64, 67, 0.15);\n",
              "      fill: #174EA6;\n",
              "    }\n",
              "\n",
              "    [theme=dark] .colab-df-convert {\n",
              "      background-color: #3B4455;\n",
              "      fill: #D2E3FC;\n",
              "    }\n",
              "\n",
              "    [theme=dark] .colab-df-convert:hover {\n",
              "      background-color: #434B5C;\n",
              "      box-shadow: 0px 1px 3px 1px rgba(0, 0, 0, 0.15);\n",
              "      filter: drop-shadow(0px 1px 2px rgba(0, 0, 0, 0.3));\n",
              "      fill: #FFFFFF;\n",
              "    }\n",
              "  </style>\n",
              "\n",
              "      <script>\n",
              "        const buttonEl =\n",
              "          document.querySelector('#df-1468d32e-f7d4-40a1-9d6c-3e6795b07a42 button.colab-df-convert');\n",
              "        buttonEl.style.display =\n",
              "          google.colab.kernel.accessAllowed ? 'block' : 'none';\n",
              "\n",
              "        async function convertToInteractive(key) {\n",
              "          const element = document.querySelector('#df-1468d32e-f7d4-40a1-9d6c-3e6795b07a42');\n",
              "          const dataTable =\n",
              "            await google.colab.kernel.invokeFunction('convertToInteractive',\n",
              "                                                     [key], {});\n",
              "          if (!dataTable) return;\n",
              "\n",
              "          const docLinkHtml = 'Like what you see? Visit the ' +\n",
              "            '<a target=\"_blank\" href=https://colab.research.google.com/notebooks/data_table.ipynb>data table notebook</a>'\n",
              "            + ' to learn more about interactive tables.';\n",
              "          element.innerHTML = '';\n",
              "          dataTable['output_type'] = 'display_data';\n",
              "          await google.colab.output.renderOutput(dataTable, element);\n",
              "          const docLink = document.createElement('div');\n",
              "          docLink.innerHTML = docLinkHtml;\n",
              "          element.appendChild(docLink);\n",
              "        }\n",
              "      </script>\n",
              "    </div>\n",
              "  </div>\n",
              "  "
            ]
          },
          "metadata": {},
          "execution_count": 169
        }
      ]
    },
    {
      "cell_type": "code",
      "source": [
        "v9_cr=v9_cr.iloc[0:39,:]"
      ],
      "metadata": {
        "id": "Y71HOsy-_Rl1"
      },
      "execution_count": null,
      "outputs": []
    },
    {
      "cell_type": "code",
      "source": [
        "v9_cr['class']=li"
      ],
      "metadata": {
        "id": "rIzRNpFI_Rl2"
      },
      "execution_count": null,
      "outputs": []
    },
    {
      "cell_type": "code",
      "source": [
        "print(v9_cr)"
      ],
      "metadata": {
        "colab": {
          "base_uri": "https://localhost:8080/"
        },
        "id": "6YYQ_WVF_Rl2",
        "outputId": "f8929c9c-5514-4c25-a03e-8f54709ab55c"
      },
      "execution_count": null,
      "outputs": [
        {
          "output_type": "stream",
          "name": "stdout",
          "text": [
            "    precision    recall  f1-score  support     class\n",
            "0    0.333333  0.200000  0.250000      5.0    01. KA\n",
            "1    0.750000  0.600000  0.666667      5.0   02. KHA\n",
            "2    0.625000  0.833333  0.714286      6.0    03. GA\n",
            "3    0.250000  0.500000  0.333333      4.0   04. GHA\n",
            "4    0.750000  1.000000  0.857143      3.0   05. CHA\n",
            "5    0.500000  0.142857  0.222222      7.0  06. SCHA\n",
            "6    0.833333  1.000000  0.909091      5.0    07. JA\n",
            "7    1.000000  0.166667  0.285714      6.0   08. JHA\n",
            "8    1.000000  0.666667  0.800000      6.0    09. TA\n",
            "9    0.750000  1.000000  0.857143      3.0   10. THA\n",
            "10   0.000000  0.000000  0.000000      3.0    11. DA\n",
            "11   0.181818  0.333333  0.235294      6.0   12. DHA\n",
            "12   0.400000  0.400000  0.400000      5.0    13. TO\n",
            "13   0.600000  0.428571  0.500000      7.0   14. THO\n",
            "14   0.333333  0.250000  0.285714      8.0    15. DO\n",
            "15   1.000000  0.428571  0.600000      7.0   16. DHO\n",
            "16   0.375000  0.428571  0.400000      7.0    17. NA\n",
            "17   0.666667  0.666667  0.666667      6.0    18. PA\n",
            "18   0.714286  0.714286  0.714286      7.0   19. PHA\n",
            "19   0.400000  0.571429  0.470588      7.0    20. BA\n",
            "20   0.416667  0.714286  0.526316      7.0   21. BHA\n",
            "21   0.300000  0.666667  0.413793      9.0    22. MA\n",
            "22   0.571429  0.666667  0.615385      6.0    23. YA\n",
            "23   0.833333  0.625000  0.714286      8.0    24. RA\n",
            "24   0.500000  0.200000  0.285714      5.0    25. LA\n",
            "25   1.000000  0.375000  0.545455      8.0    26. SA\n",
            "26   0.500000  0.400000  0.444444      5.0    27. HA\n",
            "27   0.500000  0.714286  0.588235      7.0   28. RHA\n",
            "28   0.500000  0.800000  0.615385      5.0    29. UN\n",
            "29   0.400000  0.500000  0.444444      4.0    30. BI\n",
            "30   0.833333  0.833333  0.833333      6.0     @1. A\n",
            "31   1.000000  0.200000  0.333333      5.0    @2. AA\n",
            "32   1.000000  0.833333  0.909091      6.0     @3. E\n",
            "33   0.500000  0.200000  0.285714      5.0     @4. U\n",
            "34   0.200000  0.200000  0.200000      5.0     @5. Y\n",
            "35   0.166667  0.250000  0.200000      4.0     @6. O\n",
            "36   1.000000  1.000000  1.000000      4.0     joint\n",
            "37   1.000000  1.000000  1.000000      5.0     space\n",
            "38   1.000000  1.000000  1.000000      7.0      stop\n"
          ]
        }
      ]
    },
    {
      "cell_type": "code",
      "source": [
        "from sklearn.metrics import precision_recall_fscore_support\n",
        "res = []\n",
        "for l in range(39):\n",
        "    prec,recall,_,_ = precision_recall_fscore_support(np.array(ground)==l,\n",
        "                                                      np.array(pred)==l,\n",
        "                                                      pos_label=True,average=None)\n",
        "    res.append([li[l],recall[0],recall[1]])"
      ],
      "metadata": {
        "id": "4zU6dBBw_Rl2"
      },
      "execution_count": null,
      "outputs": []
    },
    {
      "cell_type": "code",
      "source": [
        "specicifity=pd.DataFrame(res,columns = ['class','sensitivity','specificity'])"
      ],
      "metadata": {
        "id": "QhBHjlug_Rl3"
      },
      "execution_count": null,
      "outputs": []
    },
    {
      "cell_type": "code",
      "source": [
        "print(specicifity)"
      ],
      "metadata": {
        "colab": {
          "base_uri": "https://localhost:8080/"
        },
        "id": "FZFUQR-r_Rl4",
        "outputId": "b5d9b0cf-ff58-4d28-e570-41eb8d53ba9e"
      },
      "execution_count": null,
      "outputs": [
        {
          "output_type": "stream",
          "name": "stdout",
          "text": [
            "       class  sensitivity  specificity\n",
            "0     01. KA     0.990868     0.200000\n",
            "1    02. KHA     0.995434     0.600000\n",
            "2     03. GA     0.986239     0.833333\n",
            "3    04. GHA     0.972727     0.500000\n",
            "4    05. CHA     0.995475     1.000000\n",
            "5   06. SCHA     0.995392     0.142857\n",
            "6     07. JA     0.995434     1.000000\n",
            "7    08. JHA     1.000000     0.166667\n",
            "8     09. TA     1.000000     0.666667\n",
            "9    10. THA     0.995475     1.000000\n",
            "10    11. DA     0.995475     0.000000\n",
            "11   12. DHA     0.958716     0.333333\n",
            "12    13. TO     0.986301     0.400000\n",
            "13   14. THO     0.990783     0.428571\n",
            "14    15. DO     0.981481     0.250000\n",
            "15   16. DHO     1.000000     0.428571\n",
            "16    17. NA     0.976959     0.428571\n",
            "17    18. PA     0.990826     0.666667\n",
            "18   19. PHA     0.990783     0.714286\n",
            "19    20. BA     0.972350     0.571429\n",
            "20   21. BHA     0.967742     0.714286\n",
            "21    22. MA     0.934884     0.666667\n",
            "22    23. YA     0.986239     0.666667\n",
            "23    24. RA     0.995370     0.625000\n",
            "24    25. LA     0.995434     0.200000\n",
            "25    26. SA     1.000000     0.375000\n",
            "26    27. HA     0.990868     0.400000\n",
            "27   28. RHA     0.976959     0.714286\n",
            "28    29. UN     0.981735     0.800000\n",
            "29    30. BI     0.986364     0.500000\n",
            "30     @1. A     0.995413     0.833333\n",
            "31    @2. AA     1.000000     0.200000\n",
            "32     @3. E     1.000000     0.833333\n",
            "33     @4. U     0.995434     0.200000\n",
            "34     @5. Y     0.981735     0.200000\n",
            "35     @6. O     0.977273     0.250000\n",
            "36     joint     1.000000     1.000000\n",
            "37     space     1.000000     1.000000\n",
            "38      stop     1.000000     1.000000\n"
          ]
        }
      ]
    },
    {
      "cell_type": "code",
      "source": [
        "v9_matrix=pd.merge(specicifity, v9_cr, on ='class')"
      ],
      "metadata": {
        "id": "SdF0RoiF_Rl4"
      },
      "execution_count": null,
      "outputs": []
    },
    {
      "cell_type": "code",
      "source": [
        "# result = pd.concat([specicifity,resnet_cr], axis=1,ignore_index=True )\n",
        "v9_matrix"
      ],
      "metadata": {
        "colab": {
          "base_uri": "https://localhost:8080/",
          "height": 1000
        },
        "id": "I6xPHrwZ_Rl4",
        "outputId": "7df64a24-81f2-44d8-fbd7-94e674cee533"
      },
      "execution_count": null,
      "outputs": [
        {
          "output_type": "execute_result",
          "data": {
            "text/plain": [
              "       class  sensitivity  specificity  precision    recall  f1-score  support\n",
              "0     01. KA     0.990868     0.200000   0.333333  0.200000  0.250000      5.0\n",
              "1    02. KHA     0.995434     0.600000   0.750000  0.600000  0.666667      5.0\n",
              "2     03. GA     0.986239     0.833333   0.625000  0.833333  0.714286      6.0\n",
              "3    04. GHA     0.972727     0.500000   0.250000  0.500000  0.333333      4.0\n",
              "4    05. CHA     0.995475     1.000000   0.750000  1.000000  0.857143      3.0\n",
              "5   06. SCHA     0.995392     0.142857   0.500000  0.142857  0.222222      7.0\n",
              "6     07. JA     0.995434     1.000000   0.833333  1.000000  0.909091      5.0\n",
              "7    08. JHA     1.000000     0.166667   1.000000  0.166667  0.285714      6.0\n",
              "8     09. TA     1.000000     0.666667   1.000000  0.666667  0.800000      6.0\n",
              "9    10. THA     0.995475     1.000000   0.750000  1.000000  0.857143      3.0\n",
              "10    11. DA     0.995475     0.000000   0.000000  0.000000  0.000000      3.0\n",
              "11   12. DHA     0.958716     0.333333   0.181818  0.333333  0.235294      6.0\n",
              "12    13. TO     0.986301     0.400000   0.400000  0.400000  0.400000      5.0\n",
              "13   14. THO     0.990783     0.428571   0.600000  0.428571  0.500000      7.0\n",
              "14    15. DO     0.981481     0.250000   0.333333  0.250000  0.285714      8.0\n",
              "15   16. DHO     1.000000     0.428571   1.000000  0.428571  0.600000      7.0\n",
              "16    17. NA     0.976959     0.428571   0.375000  0.428571  0.400000      7.0\n",
              "17    18. PA     0.990826     0.666667   0.666667  0.666667  0.666667      6.0\n",
              "18   19. PHA     0.990783     0.714286   0.714286  0.714286  0.714286      7.0\n",
              "19    20. BA     0.972350     0.571429   0.400000  0.571429  0.470588      7.0\n",
              "20   21. BHA     0.967742     0.714286   0.416667  0.714286  0.526316      7.0\n",
              "21    22. MA     0.934884     0.666667   0.300000  0.666667  0.413793      9.0\n",
              "22    23. YA     0.986239     0.666667   0.571429  0.666667  0.615385      6.0\n",
              "23    24. RA     0.995370     0.625000   0.833333  0.625000  0.714286      8.0\n",
              "24    25. LA     0.995434     0.200000   0.500000  0.200000  0.285714      5.0\n",
              "25    26. SA     1.000000     0.375000   1.000000  0.375000  0.545455      8.0\n",
              "26    27. HA     0.990868     0.400000   0.500000  0.400000  0.444444      5.0\n",
              "27   28. RHA     0.976959     0.714286   0.500000  0.714286  0.588235      7.0\n",
              "28    29. UN     0.981735     0.800000   0.500000  0.800000  0.615385      5.0\n",
              "29    30. BI     0.986364     0.500000   0.400000  0.500000  0.444444      4.0\n",
              "30     @1. A     0.995413     0.833333   0.833333  0.833333  0.833333      6.0\n",
              "31    @2. AA     1.000000     0.200000   1.000000  0.200000  0.333333      5.0\n",
              "32     @3. E     1.000000     0.833333   1.000000  0.833333  0.909091      6.0\n",
              "33     @4. U     0.995434     0.200000   0.500000  0.200000  0.285714      5.0\n",
              "34     @5. Y     0.981735     0.200000   0.200000  0.200000  0.200000      5.0\n",
              "35     @6. O     0.977273     0.250000   0.166667  0.250000  0.200000      4.0\n",
              "36     joint     1.000000     1.000000   1.000000  1.000000  1.000000      4.0\n",
              "37     space     1.000000     1.000000   1.000000  1.000000  1.000000      5.0\n",
              "38      stop     1.000000     1.000000   1.000000  1.000000  1.000000      7.0"
            ],
            "text/html": [
              "\n",
              "  <div id=\"df-4493914d-32f6-40f1-9e79-54182b157e43\">\n",
              "    <div class=\"colab-df-container\">\n",
              "      <div>\n",
              "<style scoped>\n",
              "    .dataframe tbody tr th:only-of-type {\n",
              "        vertical-align: middle;\n",
              "    }\n",
              "\n",
              "    .dataframe tbody tr th {\n",
              "        vertical-align: top;\n",
              "    }\n",
              "\n",
              "    .dataframe thead th {\n",
              "        text-align: right;\n",
              "    }\n",
              "</style>\n",
              "<table border=\"1\" class=\"dataframe\">\n",
              "  <thead>\n",
              "    <tr style=\"text-align: right;\">\n",
              "      <th></th>\n",
              "      <th>class</th>\n",
              "      <th>sensitivity</th>\n",
              "      <th>specificity</th>\n",
              "      <th>precision</th>\n",
              "      <th>recall</th>\n",
              "      <th>f1-score</th>\n",
              "      <th>support</th>\n",
              "    </tr>\n",
              "  </thead>\n",
              "  <tbody>\n",
              "    <tr>\n",
              "      <th>0</th>\n",
              "      <td>01. KA</td>\n",
              "      <td>0.990868</td>\n",
              "      <td>0.200000</td>\n",
              "      <td>0.333333</td>\n",
              "      <td>0.200000</td>\n",
              "      <td>0.250000</td>\n",
              "      <td>5.0</td>\n",
              "    </tr>\n",
              "    <tr>\n",
              "      <th>1</th>\n",
              "      <td>02. KHA</td>\n",
              "      <td>0.995434</td>\n",
              "      <td>0.600000</td>\n",
              "      <td>0.750000</td>\n",
              "      <td>0.600000</td>\n",
              "      <td>0.666667</td>\n",
              "      <td>5.0</td>\n",
              "    </tr>\n",
              "    <tr>\n",
              "      <th>2</th>\n",
              "      <td>03. GA</td>\n",
              "      <td>0.986239</td>\n",
              "      <td>0.833333</td>\n",
              "      <td>0.625000</td>\n",
              "      <td>0.833333</td>\n",
              "      <td>0.714286</td>\n",
              "      <td>6.0</td>\n",
              "    </tr>\n",
              "    <tr>\n",
              "      <th>3</th>\n",
              "      <td>04. GHA</td>\n",
              "      <td>0.972727</td>\n",
              "      <td>0.500000</td>\n",
              "      <td>0.250000</td>\n",
              "      <td>0.500000</td>\n",
              "      <td>0.333333</td>\n",
              "      <td>4.0</td>\n",
              "    </tr>\n",
              "    <tr>\n",
              "      <th>4</th>\n",
              "      <td>05. CHA</td>\n",
              "      <td>0.995475</td>\n",
              "      <td>1.000000</td>\n",
              "      <td>0.750000</td>\n",
              "      <td>1.000000</td>\n",
              "      <td>0.857143</td>\n",
              "      <td>3.0</td>\n",
              "    </tr>\n",
              "    <tr>\n",
              "      <th>5</th>\n",
              "      <td>06. SCHA</td>\n",
              "      <td>0.995392</td>\n",
              "      <td>0.142857</td>\n",
              "      <td>0.500000</td>\n",
              "      <td>0.142857</td>\n",
              "      <td>0.222222</td>\n",
              "      <td>7.0</td>\n",
              "    </tr>\n",
              "    <tr>\n",
              "      <th>6</th>\n",
              "      <td>07. JA</td>\n",
              "      <td>0.995434</td>\n",
              "      <td>1.000000</td>\n",
              "      <td>0.833333</td>\n",
              "      <td>1.000000</td>\n",
              "      <td>0.909091</td>\n",
              "      <td>5.0</td>\n",
              "    </tr>\n",
              "    <tr>\n",
              "      <th>7</th>\n",
              "      <td>08. JHA</td>\n",
              "      <td>1.000000</td>\n",
              "      <td>0.166667</td>\n",
              "      <td>1.000000</td>\n",
              "      <td>0.166667</td>\n",
              "      <td>0.285714</td>\n",
              "      <td>6.0</td>\n",
              "    </tr>\n",
              "    <tr>\n",
              "      <th>8</th>\n",
              "      <td>09. TA</td>\n",
              "      <td>1.000000</td>\n",
              "      <td>0.666667</td>\n",
              "      <td>1.000000</td>\n",
              "      <td>0.666667</td>\n",
              "      <td>0.800000</td>\n",
              "      <td>6.0</td>\n",
              "    </tr>\n",
              "    <tr>\n",
              "      <th>9</th>\n",
              "      <td>10. THA</td>\n",
              "      <td>0.995475</td>\n",
              "      <td>1.000000</td>\n",
              "      <td>0.750000</td>\n",
              "      <td>1.000000</td>\n",
              "      <td>0.857143</td>\n",
              "      <td>3.0</td>\n",
              "    </tr>\n",
              "    <tr>\n",
              "      <th>10</th>\n",
              "      <td>11. DA</td>\n",
              "      <td>0.995475</td>\n",
              "      <td>0.000000</td>\n",
              "      <td>0.000000</td>\n",
              "      <td>0.000000</td>\n",
              "      <td>0.000000</td>\n",
              "      <td>3.0</td>\n",
              "    </tr>\n",
              "    <tr>\n",
              "      <th>11</th>\n",
              "      <td>12. DHA</td>\n",
              "      <td>0.958716</td>\n",
              "      <td>0.333333</td>\n",
              "      <td>0.181818</td>\n",
              "      <td>0.333333</td>\n",
              "      <td>0.235294</td>\n",
              "      <td>6.0</td>\n",
              "    </tr>\n",
              "    <tr>\n",
              "      <th>12</th>\n",
              "      <td>13. TO</td>\n",
              "      <td>0.986301</td>\n",
              "      <td>0.400000</td>\n",
              "      <td>0.400000</td>\n",
              "      <td>0.400000</td>\n",
              "      <td>0.400000</td>\n",
              "      <td>5.0</td>\n",
              "    </tr>\n",
              "    <tr>\n",
              "      <th>13</th>\n",
              "      <td>14. THO</td>\n",
              "      <td>0.990783</td>\n",
              "      <td>0.428571</td>\n",
              "      <td>0.600000</td>\n",
              "      <td>0.428571</td>\n",
              "      <td>0.500000</td>\n",
              "      <td>7.0</td>\n",
              "    </tr>\n",
              "    <tr>\n",
              "      <th>14</th>\n",
              "      <td>15. DO</td>\n",
              "      <td>0.981481</td>\n",
              "      <td>0.250000</td>\n",
              "      <td>0.333333</td>\n",
              "      <td>0.250000</td>\n",
              "      <td>0.285714</td>\n",
              "      <td>8.0</td>\n",
              "    </tr>\n",
              "    <tr>\n",
              "      <th>15</th>\n",
              "      <td>16. DHO</td>\n",
              "      <td>1.000000</td>\n",
              "      <td>0.428571</td>\n",
              "      <td>1.000000</td>\n",
              "      <td>0.428571</td>\n",
              "      <td>0.600000</td>\n",
              "      <td>7.0</td>\n",
              "    </tr>\n",
              "    <tr>\n",
              "      <th>16</th>\n",
              "      <td>17. NA</td>\n",
              "      <td>0.976959</td>\n",
              "      <td>0.428571</td>\n",
              "      <td>0.375000</td>\n",
              "      <td>0.428571</td>\n",
              "      <td>0.400000</td>\n",
              "      <td>7.0</td>\n",
              "    </tr>\n",
              "    <tr>\n",
              "      <th>17</th>\n",
              "      <td>18. PA</td>\n",
              "      <td>0.990826</td>\n",
              "      <td>0.666667</td>\n",
              "      <td>0.666667</td>\n",
              "      <td>0.666667</td>\n",
              "      <td>0.666667</td>\n",
              "      <td>6.0</td>\n",
              "    </tr>\n",
              "    <tr>\n",
              "      <th>18</th>\n",
              "      <td>19. PHA</td>\n",
              "      <td>0.990783</td>\n",
              "      <td>0.714286</td>\n",
              "      <td>0.714286</td>\n",
              "      <td>0.714286</td>\n",
              "      <td>0.714286</td>\n",
              "      <td>7.0</td>\n",
              "    </tr>\n",
              "    <tr>\n",
              "      <th>19</th>\n",
              "      <td>20. BA</td>\n",
              "      <td>0.972350</td>\n",
              "      <td>0.571429</td>\n",
              "      <td>0.400000</td>\n",
              "      <td>0.571429</td>\n",
              "      <td>0.470588</td>\n",
              "      <td>7.0</td>\n",
              "    </tr>\n",
              "    <tr>\n",
              "      <th>20</th>\n",
              "      <td>21. BHA</td>\n",
              "      <td>0.967742</td>\n",
              "      <td>0.714286</td>\n",
              "      <td>0.416667</td>\n",
              "      <td>0.714286</td>\n",
              "      <td>0.526316</td>\n",
              "      <td>7.0</td>\n",
              "    </tr>\n",
              "    <tr>\n",
              "      <th>21</th>\n",
              "      <td>22. MA</td>\n",
              "      <td>0.934884</td>\n",
              "      <td>0.666667</td>\n",
              "      <td>0.300000</td>\n",
              "      <td>0.666667</td>\n",
              "      <td>0.413793</td>\n",
              "      <td>9.0</td>\n",
              "    </tr>\n",
              "    <tr>\n",
              "      <th>22</th>\n",
              "      <td>23. YA</td>\n",
              "      <td>0.986239</td>\n",
              "      <td>0.666667</td>\n",
              "      <td>0.571429</td>\n",
              "      <td>0.666667</td>\n",
              "      <td>0.615385</td>\n",
              "      <td>6.0</td>\n",
              "    </tr>\n",
              "    <tr>\n",
              "      <th>23</th>\n",
              "      <td>24. RA</td>\n",
              "      <td>0.995370</td>\n",
              "      <td>0.625000</td>\n",
              "      <td>0.833333</td>\n",
              "      <td>0.625000</td>\n",
              "      <td>0.714286</td>\n",
              "      <td>8.0</td>\n",
              "    </tr>\n",
              "    <tr>\n",
              "      <th>24</th>\n",
              "      <td>25. LA</td>\n",
              "      <td>0.995434</td>\n",
              "      <td>0.200000</td>\n",
              "      <td>0.500000</td>\n",
              "      <td>0.200000</td>\n",
              "      <td>0.285714</td>\n",
              "      <td>5.0</td>\n",
              "    </tr>\n",
              "    <tr>\n",
              "      <th>25</th>\n",
              "      <td>26. SA</td>\n",
              "      <td>1.000000</td>\n",
              "      <td>0.375000</td>\n",
              "      <td>1.000000</td>\n",
              "      <td>0.375000</td>\n",
              "      <td>0.545455</td>\n",
              "      <td>8.0</td>\n",
              "    </tr>\n",
              "    <tr>\n",
              "      <th>26</th>\n",
              "      <td>27. HA</td>\n",
              "      <td>0.990868</td>\n",
              "      <td>0.400000</td>\n",
              "      <td>0.500000</td>\n",
              "      <td>0.400000</td>\n",
              "      <td>0.444444</td>\n",
              "      <td>5.0</td>\n",
              "    </tr>\n",
              "    <tr>\n",
              "      <th>27</th>\n",
              "      <td>28. RHA</td>\n",
              "      <td>0.976959</td>\n",
              "      <td>0.714286</td>\n",
              "      <td>0.500000</td>\n",
              "      <td>0.714286</td>\n",
              "      <td>0.588235</td>\n",
              "      <td>7.0</td>\n",
              "    </tr>\n",
              "    <tr>\n",
              "      <th>28</th>\n",
              "      <td>29. UN</td>\n",
              "      <td>0.981735</td>\n",
              "      <td>0.800000</td>\n",
              "      <td>0.500000</td>\n",
              "      <td>0.800000</td>\n",
              "      <td>0.615385</td>\n",
              "      <td>5.0</td>\n",
              "    </tr>\n",
              "    <tr>\n",
              "      <th>29</th>\n",
              "      <td>30. BI</td>\n",
              "      <td>0.986364</td>\n",
              "      <td>0.500000</td>\n",
              "      <td>0.400000</td>\n",
              "      <td>0.500000</td>\n",
              "      <td>0.444444</td>\n",
              "      <td>4.0</td>\n",
              "    </tr>\n",
              "    <tr>\n",
              "      <th>30</th>\n",
              "      <td>@1. A</td>\n",
              "      <td>0.995413</td>\n",
              "      <td>0.833333</td>\n",
              "      <td>0.833333</td>\n",
              "      <td>0.833333</td>\n",
              "      <td>0.833333</td>\n",
              "      <td>6.0</td>\n",
              "    </tr>\n",
              "    <tr>\n",
              "      <th>31</th>\n",
              "      <td>@2. AA</td>\n",
              "      <td>1.000000</td>\n",
              "      <td>0.200000</td>\n",
              "      <td>1.000000</td>\n",
              "      <td>0.200000</td>\n",
              "      <td>0.333333</td>\n",
              "      <td>5.0</td>\n",
              "    </tr>\n",
              "    <tr>\n",
              "      <th>32</th>\n",
              "      <td>@3. E</td>\n",
              "      <td>1.000000</td>\n",
              "      <td>0.833333</td>\n",
              "      <td>1.000000</td>\n",
              "      <td>0.833333</td>\n",
              "      <td>0.909091</td>\n",
              "      <td>6.0</td>\n",
              "    </tr>\n",
              "    <tr>\n",
              "      <th>33</th>\n",
              "      <td>@4. U</td>\n",
              "      <td>0.995434</td>\n",
              "      <td>0.200000</td>\n",
              "      <td>0.500000</td>\n",
              "      <td>0.200000</td>\n",
              "      <td>0.285714</td>\n",
              "      <td>5.0</td>\n",
              "    </tr>\n",
              "    <tr>\n",
              "      <th>34</th>\n",
              "      <td>@5. Y</td>\n",
              "      <td>0.981735</td>\n",
              "      <td>0.200000</td>\n",
              "      <td>0.200000</td>\n",
              "      <td>0.200000</td>\n",
              "      <td>0.200000</td>\n",
              "      <td>5.0</td>\n",
              "    </tr>\n",
              "    <tr>\n",
              "      <th>35</th>\n",
              "      <td>@6. O</td>\n",
              "      <td>0.977273</td>\n",
              "      <td>0.250000</td>\n",
              "      <td>0.166667</td>\n",
              "      <td>0.250000</td>\n",
              "      <td>0.200000</td>\n",
              "      <td>4.0</td>\n",
              "    </tr>\n",
              "    <tr>\n",
              "      <th>36</th>\n",
              "      <td>joint</td>\n",
              "      <td>1.000000</td>\n",
              "      <td>1.000000</td>\n",
              "      <td>1.000000</td>\n",
              "      <td>1.000000</td>\n",
              "      <td>1.000000</td>\n",
              "      <td>4.0</td>\n",
              "    </tr>\n",
              "    <tr>\n",
              "      <th>37</th>\n",
              "      <td>space</td>\n",
              "      <td>1.000000</td>\n",
              "      <td>1.000000</td>\n",
              "      <td>1.000000</td>\n",
              "      <td>1.000000</td>\n",
              "      <td>1.000000</td>\n",
              "      <td>5.0</td>\n",
              "    </tr>\n",
              "    <tr>\n",
              "      <th>38</th>\n",
              "      <td>stop</td>\n",
              "      <td>1.000000</td>\n",
              "      <td>1.000000</td>\n",
              "      <td>1.000000</td>\n",
              "      <td>1.000000</td>\n",
              "      <td>1.000000</td>\n",
              "      <td>7.0</td>\n",
              "    </tr>\n",
              "  </tbody>\n",
              "</table>\n",
              "</div>\n",
              "      <button class=\"colab-df-convert\" onclick=\"convertToInteractive('df-4493914d-32f6-40f1-9e79-54182b157e43')\"\n",
              "              title=\"Convert this dataframe to an interactive table.\"\n",
              "              style=\"display:none;\">\n",
              "        \n",
              "  <svg xmlns=\"http://www.w3.org/2000/svg\" height=\"24px\"viewBox=\"0 0 24 24\"\n",
              "       width=\"24px\">\n",
              "    <path d=\"M0 0h24v24H0V0z\" fill=\"none\"/>\n",
              "    <path d=\"M18.56 5.44l.94 2.06.94-2.06 2.06-.94-2.06-.94-.94-2.06-.94 2.06-2.06.94zm-11 1L8.5 8.5l.94-2.06 2.06-.94-2.06-.94L8.5 2.5l-.94 2.06-2.06.94zm10 10l.94 2.06.94-2.06 2.06-.94-2.06-.94-.94-2.06-.94 2.06-2.06.94z\"/><path d=\"M17.41 7.96l-1.37-1.37c-.4-.4-.92-.59-1.43-.59-.52 0-1.04.2-1.43.59L10.3 9.45l-7.72 7.72c-.78.78-.78 2.05 0 2.83L4 21.41c.39.39.9.59 1.41.59.51 0 1.02-.2 1.41-.59l7.78-7.78 2.81-2.81c.8-.78.8-2.07 0-2.86zM5.41 20L4 18.59l7.72-7.72 1.47 1.35L5.41 20z\"/>\n",
              "  </svg>\n",
              "      </button>\n",
              "      \n",
              "  <style>\n",
              "    .colab-df-container {\n",
              "      display:flex;\n",
              "      flex-wrap:wrap;\n",
              "      gap: 12px;\n",
              "    }\n",
              "\n",
              "    .colab-df-convert {\n",
              "      background-color: #E8F0FE;\n",
              "      border: none;\n",
              "      border-radius: 50%;\n",
              "      cursor: pointer;\n",
              "      display: none;\n",
              "      fill: #1967D2;\n",
              "      height: 32px;\n",
              "      padding: 0 0 0 0;\n",
              "      width: 32px;\n",
              "    }\n",
              "\n",
              "    .colab-df-convert:hover {\n",
              "      background-color: #E2EBFA;\n",
              "      box-shadow: 0px 1px 2px rgba(60, 64, 67, 0.3), 0px 1px 3px 1px rgba(60, 64, 67, 0.15);\n",
              "      fill: #174EA6;\n",
              "    }\n",
              "\n",
              "    [theme=dark] .colab-df-convert {\n",
              "      background-color: #3B4455;\n",
              "      fill: #D2E3FC;\n",
              "    }\n",
              "\n",
              "    [theme=dark] .colab-df-convert:hover {\n",
              "      background-color: #434B5C;\n",
              "      box-shadow: 0px 1px 3px 1px rgba(0, 0, 0, 0.15);\n",
              "      filter: drop-shadow(0px 1px 2px rgba(0, 0, 0, 0.3));\n",
              "      fill: #FFFFFF;\n",
              "    }\n",
              "  </style>\n",
              "\n",
              "      <script>\n",
              "        const buttonEl =\n",
              "          document.querySelector('#df-4493914d-32f6-40f1-9e79-54182b157e43 button.colab-df-convert');\n",
              "        buttonEl.style.display =\n",
              "          google.colab.kernel.accessAllowed ? 'block' : 'none';\n",
              "\n",
              "        async function convertToInteractive(key) {\n",
              "          const element = document.querySelector('#df-4493914d-32f6-40f1-9e79-54182b157e43');\n",
              "          const dataTable =\n",
              "            await google.colab.kernel.invokeFunction('convertToInteractive',\n",
              "                                                     [key], {});\n",
              "          if (!dataTable) return;\n",
              "\n",
              "          const docLinkHtml = 'Like what you see? Visit the ' +\n",
              "            '<a target=\"_blank\" href=https://colab.research.google.com/notebooks/data_table.ipynb>data table notebook</a>'\n",
              "            + ' to learn more about interactive tables.';\n",
              "          element.innerHTML = '';\n",
              "          dataTable['output_type'] = 'display_data';\n",
              "          await google.colab.output.renderOutput(dataTable, element);\n",
              "          const docLink = document.createElement('div');\n",
              "          docLink.innerHTML = docLinkHtml;\n",
              "          element.appendChild(docLink);\n",
              "        }\n",
              "      </script>\n",
              "    </div>\n",
              "  </div>\n",
              "  "
            ]
          },
          "metadata": {},
          "execution_count": 177
        }
      ]
    },
    {
      "cell_type": "code",
      "source": [
        "v9_matrix.to_csv('/content/drive/MyDrive/Thesis/model/vgg19/classification_report.csv')\n"
      ],
      "metadata": {
        "id": "NkR6iNOT_Rl4"
      },
      "execution_count": null,
      "outputs": []
    },
    {
      "cell_type": "code",
      "source": [
        "v9_rep.to_csv('/content/drive/MyDrive/Thesis/model/vgg19/acc_report.csv')"
      ],
      "metadata": {
        "id": "NRmhr5cR_Rl5"
      },
      "execution_count": null,
      "outputs": []
    },
    {
      "cell_type": "markdown",
      "source": [
        "\n",
        "#**Alexnet**"
      ],
      "metadata": {
        "id": "rg3q7pciWepN"
      }
    },
    {
      "cell_type": "code",
      "execution_count": null,
      "metadata": {
        "id": "7F2zlgW5QZCF"
      },
      "outputs": [],
      "source": [
        "# Use the Image Data Generator to import the images from the dataset\n",
        "from tensorflow.keras.preprocessing.image import ImageDataGenerator\n",
        "\n",
        "train_datagen = ImageDataGenerator(rescale = 1./255,\n",
        "                                   shear_range = 0.2,\n",
        "                                   zoom_range = 0.2,\n",
        "                                   horizontal_flip = True)\n",
        "\n",
        "val_datagen = ImageDataGenerator(rescale = 1./255)"
      ]
    },
    {
      "cell_type": "code",
      "execution_count": null,
      "metadata": {
        "colab": {
          "base_uri": "https://localhost:8080/"
        },
        "outputId": "f8853368-cd43-419c-8fa0-f97f8c531baa",
        "id": "JoGFo1WNQZCI"
      },
      "outputs": [
        {
          "output_type": "stream",
          "name": "stdout",
          "text": [
            "Found 1343 images belonging to 39 classes.\n"
          ]
        }
      ],
      "source": [
        "# Make sure you provide the same target size as initialied for the image size\n",
        "training_set = train_datagen.flow_from_directory(train_path,\n",
        "                                                 target_size = (227, 227),\n",
        "                                                 batch_size = 80,\n",
        "                                                 class_mode = 'categorical')"
      ]
    },
    {
      "cell_type": "code",
      "source": [
        "len(training_set)"
      ],
      "metadata": {
        "colab": {
          "base_uri": "https://localhost:8080/"
        },
        "outputId": "6a080cf5-74f5-426a-c4bc-16c8443f781c",
        "id": "UcAyIUpyQZCK"
      },
      "execution_count": null,
      "outputs": [
        {
          "output_type": "execute_result",
          "data": {
            "text/plain": [
              "17"
            ]
          },
          "metadata": {},
          "execution_count": 182
        }
      ]
    },
    {
      "cell_type": "code",
      "execution_count": null,
      "metadata": {
        "colab": {
          "base_uri": "https://localhost:8080/"
        },
        "outputId": "4b9ad841-b5b1-4dfd-e0b4-94c4d7aaa668",
        "id": "FLi43vU_QZCL"
      },
      "outputs": [
        {
          "output_type": "stream",
          "name": "stdout",
          "text": [
            "Found 224 images belonging to 39 classes.\n"
          ]
        }
      ],
      "source": [
        "val_set = val_datagen.flow_from_directory(valid_path,\n",
        "                                            target_size = (227, 227),\n",
        "                                            batch_size = 32,\n",
        "                                            class_mode = 'categorical')"
      ]
    },
    {
      "cell_type": "code",
      "source": [
        "len(val_set)"
      ],
      "metadata": {
        "colab": {
          "base_uri": "https://localhost:8080/"
        },
        "outputId": "c72a38f3-675a-4687-a357-6050db173e28",
        "id": "KlXlly-PQZCM"
      },
      "execution_count": null,
      "outputs": [
        {
          "output_type": "execute_result",
          "data": {
            "text/plain": [
              "7"
            ]
          },
          "metadata": {},
          "execution_count": 184
        }
      ]
    },
    {
      "cell_type": "code",
      "execution_count": null,
      "metadata": {
        "id": "e48HNJoEQZCN"
      },
      "outputs": [],
      "source": [
        "test_datagen = ImageDataGenerator(rescale = 1./255)\n"
      ]
    },
    {
      "cell_type": "code",
      "execution_count": null,
      "metadata": {
        "colab": {
          "base_uri": "https://localhost:8080/"
        },
        "outputId": "c98e894c-f6b0-482f-db18-b7e514a600dc",
        "id": "Qp5MyO_lQZCN"
      },
      "outputs": [
        {
          "output_type": "stream",
          "name": "stdout",
          "text": [
            "Found 372 images belonging to 39 classes.\n",
            "(60, 227, 227, 3)\n",
            "(60, 39)\n"
          ]
        },
        {
          "output_type": "execute_result",
          "data": {
            "text/plain": [
              "numpy.ndarray"
            ]
          },
          "metadata": {},
          "execution_count": 186
        }
      ],
      "source": [
        "test_set = test_datagen.flow_from_directory(test_path,\n",
        "                                            target_size = (227, 227),\n",
        "                                            batch_size = 60,\n",
        "                                            class_mode = 'categorical')\n",
        "images, labels = next(test_set)\n",
        "print(images.shape)\n",
        "print(labels.shape)\n",
        "type(images)"
      ]
    },
    {
      "metadata": {
        "trusted": true,
        "scrolled": true,
        "_uuid": "af2fad01907a8eed0474eccf1eb18f9fc1a03c55",
        "colab": {
          "base_uri": "https://localhost:8080/"
        },
        "id": "c6DpR9faGaWf",
        "outputId": "fbc1fd43-f88e-479d-bc53-ba3b553d4afe"
      },
      "cell_type": "code",
      "source": [
        "# Initializing the CNN\n",
        "classifier = Sequential()\n",
        "\n",
        "# Convolution Step 1\n",
        "classifier.add(Convolution2D(96, 11, strides = (4, 4), padding = 'valid', input_shape=(227, 227, 3), activation = 'relu'))\n",
        "\n",
        "# Max Pooling Step 1\n",
        "classifier.add(MaxPooling2D(pool_size = (2, 2), strides = (2, 2), padding = 'valid'))\n",
        "classifier.add(BatchNormalization())\n",
        "\n",
        "# Convolution Step 2\n",
        "classifier.add(Convolution2D(256, 11, strides = (1, 1), padding='valid', activation = 'relu'))\n",
        "\n",
        "# Max Pooling Step 2\n",
        "classifier.add(MaxPooling2D(pool_size = (2, 2), strides = (2, 2), padding='valid'))\n",
        "classifier.add(BatchNormalization())\n",
        "\n",
        "# Convolution Step 3\n",
        "classifier.add(Convolution2D(384, 3, strides = (1, 1), padding='valid', activation = 'relu'))\n",
        "classifier.add(BatchNormalization())\n",
        "\n",
        "# Convolution Step 4\n",
        "classifier.add(Convolution2D(384, 3, strides = (1, 1), padding='valid', activation = 'relu'))\n",
        "classifier.add(BatchNormalization())\n",
        "\n",
        "# Convolution Step 5\n",
        "classifier.add(Convolution2D(256, 3, strides=(1,1), padding='valid', activation = 'relu'))\n",
        "\n",
        "# Max Pooling Step 3\n",
        "classifier.add(MaxPooling2D(pool_size = (2, 2), strides = (2, 2), padding = 'valid'))\n",
        "classifier.add(BatchNormalization())\n",
        "\n",
        "# Flattening Step\n",
        "classifier.add(Flatten())\n",
        "\n",
        "# Full Connection Step\n",
        "classifier.add(Dense(units = 4096, activation = 'relu'))\n",
        "classifier.add(Dropout(0.4))\n",
        "classifier.add(BatchNormalization())\n",
        "classifier.add(Dense(units = 4096, activation = 'relu'))\n",
        "classifier.add(Dropout(0.4))\n",
        "classifier.add(BatchNormalization())\n",
        "classifier.add(Dense(units = 1000, activation = 'relu'))\n",
        "classifier.add(Dropout(0.2))\n",
        "classifier.add(BatchNormalization())\n",
        "classifier.add(Dense(units = 39, activation = 'softmax'))\n",
        "classifier.summary()"
      ],
      "execution_count": null,
      "outputs": [
        {
          "output_type": "stream",
          "name": "stdout",
          "text": [
            "Model: \"sequential\"\n",
            "_________________________________________________________________\n",
            " Layer (type)                Output Shape              Param #   \n",
            "=================================================================\n",
            " conv2d (Conv2D)             (None, 55, 55, 96)        34944     \n",
            "                                                                 \n",
            " max_pooling2d (MaxPooling2D  (None, 27, 27, 96)       0         \n",
            " )                                                               \n",
            "                                                                 \n",
            " batch_normalization (BatchN  (None, 27, 27, 96)       384       \n",
            " ormalization)                                                   \n",
            "                                                                 \n",
            " conv2d_1 (Conv2D)           (None, 17, 17, 256)       2973952   \n",
            "                                                                 \n",
            " max_pooling2d_1 (MaxPooling  (None, 8, 8, 256)        0         \n",
            " 2D)                                                             \n",
            "                                                                 \n",
            " batch_normalization_1 (Batc  (None, 8, 8, 256)        1024      \n",
            " hNormalization)                                                 \n",
            "                                                                 \n",
            " conv2d_2 (Conv2D)           (None, 6, 6, 384)         885120    \n",
            "                                                                 \n",
            " batch_normalization_2 (Batc  (None, 6, 6, 384)        1536      \n",
            " hNormalization)                                                 \n",
            "                                                                 \n",
            " conv2d_3 (Conv2D)           (None, 4, 4, 384)         1327488   \n",
            "                                                                 \n",
            " batch_normalization_3 (Batc  (None, 4, 4, 384)        1536      \n",
            " hNormalization)                                                 \n",
            "                                                                 \n",
            " conv2d_4 (Conv2D)           (None, 2, 2, 256)         884992    \n",
            "                                                                 \n",
            " max_pooling2d_2 (MaxPooling  (None, 1, 1, 256)        0         \n",
            " 2D)                                                             \n",
            "                                                                 \n",
            " batch_normalization_4 (Batc  (None, 1, 1, 256)        1024      \n",
            " hNormalization)                                                 \n",
            "                                                                 \n",
            " flatten_3 (Flatten)         (None, 256)               0         \n",
            "                                                                 \n",
            " dense_3 (Dense)             (None, 4096)              1052672   \n",
            "                                                                 \n",
            " dropout (Dropout)           (None, 4096)              0         \n",
            "                                                                 \n",
            " batch_normalization_5 (Batc  (None, 4096)             16384     \n",
            " hNormalization)                                                 \n",
            "                                                                 \n",
            " dense_4 (Dense)             (None, 4096)              16781312  \n",
            "                                                                 \n",
            " dropout_1 (Dropout)         (None, 4096)              0         \n",
            "                                                                 \n",
            " batch_normalization_6 (Batc  (None, 4096)             16384     \n",
            " hNormalization)                                                 \n",
            "                                                                 \n",
            " dense_5 (Dense)             (None, 1000)              4097000   \n",
            "                                                                 \n",
            " dropout_2 (Dropout)         (None, 1000)              0         \n",
            "                                                                 \n",
            " batch_normalization_7 (Batc  (None, 1000)             4000      \n",
            " hNormalization)                                                 \n",
            "                                                                 \n",
            " dense_6 (Dense)             (None, 39)                39039     \n",
            "                                                                 \n",
            "=================================================================\n",
            "Total params: 28,118,791\n",
            "Trainable params: 28,097,655\n",
            "Non-trainable params: 21,136\n",
            "_________________________________________________________________\n"
          ]
        }
      ]
    },
    {
      "metadata": {
        "_uuid": "5ffa474faf670f8c35cf60ce34cf50a713543fa8",
        "id": "VYPt4wmOGaWh"
      },
      "cell_type": "markdown",
      "source": [
        "**Loading Weights To The Model**"
      ]
    },
    {
      "metadata": {
        "trusted": true,
        "_uuid": "1c7d226d8c6f531024e4fd7c9c434cd136823926",
        "id": "yalz5__nGaWi"
      },
      "cell_type": "code",
      "source": [
        "# classifier.load_weights('/content/drive/MyDrive/Thesis/model_weights/model_vgg16_5pm_3.h5')"
      ],
      "execution_count": null,
      "outputs": []
    },
    {
      "metadata": {
        "_uuid": "08217a22b90fd2d7fca2307f93d9a17fd28433fa",
        "id": "9TkEdwBIGaWk"
      },
      "cell_type": "markdown",
      "source": [
        "**Fine Tuning By Freezing Some Layers Of Our Model**"
      ]
    },
    {
      "metadata": {
        "trusted": true,
        "scrolled": true,
        "_uuid": "9fddd94297d8e9ad341304b9fae2495cd9b79725",
        "colab": {
          "base_uri": "https://localhost:8080/"
        },
        "id": "3Izk026zGaWk",
        "outputId": "023b1b83-1a19-44a0-df5c-06698bde8e0c"
      },
      "cell_type": "code",
      "source": [
        "# let's visualize layer names and layer indices to see how many layers\n",
        "# we should freeze:\n",
        "from keras import layers\n",
        "for i, layer in enumerate(classifier.layers):\n",
        "   print(i, layer.name)"
      ],
      "execution_count": null,
      "outputs": [
        {
          "output_type": "stream",
          "name": "stdout",
          "text": [
            "0 conv2d\n",
            "1 max_pooling2d\n",
            "2 batch_normalization\n",
            "3 conv2d_1\n",
            "4 max_pooling2d_1\n",
            "5 batch_normalization_1\n",
            "6 conv2d_2\n",
            "7 batch_normalization_2\n",
            "8 conv2d_3\n",
            "9 batch_normalization_3\n",
            "10 conv2d_4\n",
            "11 max_pooling2d_2\n",
            "12 batch_normalization_4\n",
            "13 flatten_3\n",
            "14 dense_3\n",
            "15 dropout\n",
            "16 batch_normalization_5\n",
            "17 dense_4\n",
            "18 dropout_1\n",
            "19 batch_normalization_6\n",
            "20 dense_5\n",
            "21 dropout_2\n",
            "22 batch_normalization_7\n",
            "23 dense_6\n"
          ]
        }
      ]
    },
    {
      "metadata": {
        "trusted": true,
        "_uuid": "086c14cae8141a28e3092d0b9bef20ff30435d6b",
        "scrolled": true,
        "colab": {
          "base_uri": "https://localhost:8080/"
        },
        "id": "pLG3_1e2GaWl",
        "outputId": "c84734fe-4760-44a0-d8f9-e7b6ebf9b69c"
      },
      "cell_type": "code",
      "source": [
        "# we chose to train the top 2 conv blocks, i.e. we will freeze\n",
        "# the first 8 layers and unfreeze the rest:\n",
        "print(\"Freezed layers:\")\n",
        "for i, layer in enumerate(classifier.layers[:20]):\n",
        "    print(i, layer.name)\n",
        "    layer.trainable = True\n"
      ],
      "execution_count": null,
      "outputs": [
        {
          "output_type": "stream",
          "name": "stdout",
          "text": [
            "Freezed layers:\n",
            "0 conv2d\n",
            "1 max_pooling2d\n",
            "2 batch_normalization\n",
            "3 conv2d_1\n",
            "4 max_pooling2d_1\n",
            "5 batch_normalization_1\n",
            "6 conv2d_2\n",
            "7 batch_normalization_2\n",
            "8 conv2d_3\n",
            "9 batch_normalization_3\n",
            "10 conv2d_4\n",
            "11 max_pooling2d_2\n",
            "12 batch_normalization_4\n",
            "13 flatten_3\n",
            "14 dense_3\n",
            "15 dropout\n",
            "16 batch_normalization_5\n",
            "17 dense_4\n",
            "18 dropout_1\n",
            "19 batch_normalization_6\n"
          ]
        }
      ]
    },
    {
      "metadata": {
        "_uuid": "4f188a43baf34e7e3385ef3d85c08dac2dd95e5a",
        "id": "bKdNW_A9GaWl"
      },
      "cell_type": "markdown",
      "source": [
        "**Model Summary After Freezing**"
      ]
    },
    {
      "metadata": {
        "trusted": true,
        "scrolled": true,
        "_uuid": "1968e72ca3ad31e10e18a7f8c8628fe8a6e51591",
        "colab": {
          "base_uri": "https://localhost:8080/"
        },
        "id": "gFv1Gd4PGaWm",
        "outputId": "98e6f5be-8081-4707-bd77-7f4dce851e2b"
      },
      "cell_type": "code",
      "source": [
        "#trainable parameters decrease after freezing some bottom layers   \n",
        "classifier.summary()"
      ],
      "execution_count": null,
      "outputs": [
        {
          "output_type": "stream",
          "name": "stdout",
          "text": [
            "Model: \"sequential\"\n",
            "_________________________________________________________________\n",
            " Layer (type)                Output Shape              Param #   \n",
            "=================================================================\n",
            " conv2d (Conv2D)             (None, 55, 55, 96)        34944     \n",
            "                                                                 \n",
            " max_pooling2d (MaxPooling2D  (None, 27, 27, 96)       0         \n",
            " )                                                               \n",
            "                                                                 \n",
            " batch_normalization (BatchN  (None, 27, 27, 96)       384       \n",
            " ormalization)                                                   \n",
            "                                                                 \n",
            " conv2d_1 (Conv2D)           (None, 17, 17, 256)       2973952   \n",
            "                                                                 \n",
            " max_pooling2d_1 (MaxPooling  (None, 8, 8, 256)        0         \n",
            " 2D)                                                             \n",
            "                                                                 \n",
            " batch_normalization_1 (Batc  (None, 8, 8, 256)        1024      \n",
            " hNormalization)                                                 \n",
            "                                                                 \n",
            " conv2d_2 (Conv2D)           (None, 6, 6, 384)         885120    \n",
            "                                                                 \n",
            " batch_normalization_2 (Batc  (None, 6, 6, 384)        1536      \n",
            " hNormalization)                                                 \n",
            "                                                                 \n",
            " conv2d_3 (Conv2D)           (None, 4, 4, 384)         1327488   \n",
            "                                                                 \n",
            " batch_normalization_3 (Batc  (None, 4, 4, 384)        1536      \n",
            " hNormalization)                                                 \n",
            "                                                                 \n",
            " conv2d_4 (Conv2D)           (None, 2, 2, 256)         884992    \n",
            "                                                                 \n",
            " max_pooling2d_2 (MaxPooling  (None, 1, 1, 256)        0         \n",
            " 2D)                                                             \n",
            "                                                                 \n",
            " batch_normalization_4 (Batc  (None, 1, 1, 256)        1024      \n",
            " hNormalization)                                                 \n",
            "                                                                 \n",
            " flatten_3 (Flatten)         (None, 256)               0         \n",
            "                                                                 \n",
            " dense_3 (Dense)             (None, 4096)              1052672   \n",
            "                                                                 \n",
            " dropout (Dropout)           (None, 4096)              0         \n",
            "                                                                 \n",
            " batch_normalization_5 (Batc  (None, 4096)             16384     \n",
            " hNormalization)                                                 \n",
            "                                                                 \n",
            " dense_4 (Dense)             (None, 4096)              16781312  \n",
            "                                                                 \n",
            " dropout_1 (Dropout)         (None, 4096)              0         \n",
            "                                                                 \n",
            " batch_normalization_6 (Batc  (None, 4096)             16384     \n",
            " hNormalization)                                                 \n",
            "                                                                 \n",
            " dense_5 (Dense)             (None, 1000)              4097000   \n",
            "                                                                 \n",
            " dropout_2 (Dropout)         (None, 1000)              0         \n",
            "                                                                 \n",
            " batch_normalization_7 (Batc  (None, 1000)             4000      \n",
            " hNormalization)                                                 \n",
            "                                                                 \n",
            " dense_6 (Dense)             (None, 39)                39039     \n",
            "                                                                 \n",
            "=================================================================\n",
            "Total params: 28,118,791\n",
            "Trainable params: 28,097,655\n",
            "Non-trainable params: 21,136\n",
            "_________________________________________________________________\n"
          ]
        }
      ]
    },
    {
      "metadata": {
        "_uuid": "84979b7759e5b0b7b6df16b4e89973a599b828b0",
        "id": "buAdsQh9GaWm"
      },
      "cell_type": "markdown",
      "source": [
        "**Compiling the Model**"
      ]
    },
    {
      "metadata": {
        "trusted": true,
        "_uuid": "e948e04a3d87563a1f3b14ed27aefecca83f9c34",
        "id": "Vk-u0TSqGaWm"
      },
      "cell_type": "code",
      "source": [
        "from keras.optimizers.optimizer_v2 import adam\n",
        "# Compiling the Model\n",
        "from keras import optimizers\n",
        "classifier.compile(optimizer='adam',\n",
        "              loss='categorical_crossentropy',\n",
        "              metrics=['accuracy'])"
      ],
      "execution_count": null,
      "outputs": []
    },
    {
      "metadata": {
        "trusted": true,
        "_uuid": "232d2543395e74045d5181f51b75064c2683f2fb",
        "id": "zoWrG8z_GaWo",
        "colab": {
          "base_uri": "https://localhost:8080/"
        },
        "outputId": "d98ee780-a637-477f-b607-f0d5c05dcc4b"
      },
      "cell_type": "code",
      "source": [
        "# checkpoint\n",
        "from keras.callbacks import ModelCheckpoint,EarlyStopping,CSVLogger\n",
        "# r_weightpath = \"/content/drive/MyDrive/Thesis/weights/checkpoint/res_best_weights-{epoch:02d}-{val_accuracy:.2f}.hdf5\"\n",
        "v9_weightpath = \"/content/drive/MyDrive/Thesis/model/alexnet/alex_best_weights.hdf5\"\n",
        "checkpoint = ModelCheckpoint(v9_weightpath, monitor='val_accuracy', verbose=1, save_best_only=True, save_weights_only=True, mode='max')\n",
        "# checkpoint = ModelCheckpoint(r_weightpath, monitor='val_accuracy', verbose=1, save_best_only=True,  mode='max')\n",
        "\n",
        "early_stop=EarlyStopping(monitor='val_loss',patience=10,verbose=1)\n",
        "\n",
        "log_csv=CSVLogger('/content/drive/MyDrive/Thesis/model/alexnet/alex_logs.csv',separator=',',append=False)\n",
        "\n",
        "callbacks_list = [checkpoint,early_stop,log_csv]\n",
        "\n",
        "#fitting images to CNN\n",
        "history = classifier.fit_generator(training_set,\n",
        "                         steps_per_epoch=len(training_set),\n",
        "                         validation_data=val_set,\n",
        "                         epochs=25,\n",
        "                         validation_steps=len(val_set),\n",
        "                         callbacks=callbacks_list)\n",
        "#saving model\n",
        "filepath=\"/content/drive/MyDrive/Thesis/model/alexnet/AlexNetModel.h5\"\n",
        "classifier.save(filepath)"
      ],
      "execution_count": null,
      "outputs": [
        {
          "output_type": "stream",
          "name": "stderr",
          "text": [
            "<ipython-input-193-3ba99adb4363>:15: UserWarning: `Model.fit_generator` is deprecated and will be removed in a future version. Please use `Model.fit`, which supports generators.\n",
            "  history = classifier.fit_generator(training_set,\n"
          ]
        },
        {
          "output_type": "stream",
          "name": "stdout",
          "text": [
            "Epoch 1/25\n",
            "17/17 [==============================] - ETA: 0s - loss: 4.7578 - accuracy: 0.0365\n",
            "Epoch 1: val_accuracy improved from -inf to 0.02232, saving model to /content/drive/MyDrive/Thesis/model/alexnet/alex_best_weights.hdf5\n",
            "17/17 [==============================] - 67s 4s/step - loss: 4.7578 - accuracy: 0.0365 - val_loss: 55.6933 - val_accuracy: 0.0223\n",
            "Epoch 2/25\n",
            "17/17 [==============================] - ETA: 0s - loss: 4.3172 - accuracy: 0.0462\n",
            "Epoch 2: val_accuracy improved from 0.02232 to 0.02679, saving model to /content/drive/MyDrive/Thesis/model/alexnet/alex_best_weights.hdf5\n",
            "17/17 [==============================] - 64s 4s/step - loss: 4.3172 - accuracy: 0.0462 - val_loss: 59.4844 - val_accuracy: 0.0268\n",
            "Epoch 3/25\n",
            "17/17 [==============================] - ETA: 0s - loss: 3.9798 - accuracy: 0.0596\n",
            "Epoch 3: val_accuracy did not improve from 0.02679\n",
            "17/17 [==============================] - 61s 4s/step - loss: 3.9798 - accuracy: 0.0596 - val_loss: 37.5616 - val_accuracy: 0.0223\n",
            "Epoch 4/25\n",
            "17/17 [==============================] - ETA: 0s - loss: 3.8293 - accuracy: 0.0730\n",
            "Epoch 4: val_accuracy improved from 0.02679 to 0.03125, saving model to /content/drive/MyDrive/Thesis/model/alexnet/alex_best_weights.hdf5\n",
            "17/17 [==============================] - 65s 4s/step - loss: 3.8293 - accuracy: 0.0730 - val_loss: 13.2049 - val_accuracy: 0.0312\n",
            "Epoch 5/25\n",
            "17/17 [==============================] - ETA: 0s - loss: 3.6625 - accuracy: 0.0856\n",
            "Epoch 5: val_accuracy improved from 0.03125 to 0.03571, saving model to /content/drive/MyDrive/Thesis/model/alexnet/alex_best_weights.hdf5\n",
            "17/17 [==============================] - 63s 4s/step - loss: 3.6625 - accuracy: 0.0856 - val_loss: 9.2203 - val_accuracy: 0.0357\n",
            "Epoch 6/25\n",
            "17/17 [==============================] - ETA: 0s - loss: 3.5840 - accuracy: 0.0968\n",
            "Epoch 6: val_accuracy did not improve from 0.03571\n",
            "17/17 [==============================] - 61s 4s/step - loss: 3.5840 - accuracy: 0.0968 - val_loss: 5.4464 - val_accuracy: 0.0357\n",
            "Epoch 7/25\n",
            "17/17 [==============================] - ETA: 0s - loss: 3.4589 - accuracy: 0.1109\n",
            "Epoch 7: val_accuracy did not improve from 0.03571\n",
            "17/17 [==============================] - 60s 4s/step - loss: 3.4589 - accuracy: 0.1109 - val_loss: 4.4958 - val_accuracy: 0.0357\n",
            "Epoch 8/25\n",
            "17/17 [==============================] - ETA: 0s - loss: 3.4047 - accuracy: 0.1251\n",
            "Epoch 8: val_accuracy did not improve from 0.03571\n",
            "17/17 [==============================] - 61s 4s/step - loss: 3.4047 - accuracy: 0.1251 - val_loss: 4.5055 - val_accuracy: 0.0357\n",
            "Epoch 9/25\n",
            "17/17 [==============================] - ETA: 0s - loss: 3.2889 - accuracy: 0.1310\n",
            "Epoch 9: val_accuracy improved from 0.03571 to 0.05804, saving model to /content/drive/MyDrive/Thesis/model/alexnet/alex_best_weights.hdf5\n",
            "17/17 [==============================] - 65s 4s/step - loss: 3.2889 - accuracy: 0.1310 - val_loss: 4.0055 - val_accuracy: 0.0580\n",
            "Epoch 10/25\n",
            "17/17 [==============================] - ETA: 0s - loss: 3.1218 - accuracy: 0.1541\n",
            "Epoch 10: val_accuracy improved from 0.05804 to 0.08482, saving model to /content/drive/MyDrive/Thesis/model/alexnet/alex_best_weights.hdf5\n",
            "17/17 [==============================] - 63s 4s/step - loss: 3.1218 - accuracy: 0.1541 - val_loss: 3.9191 - val_accuracy: 0.0848\n",
            "Epoch 11/25\n",
            "17/17 [==============================] - ETA: 0s - loss: 3.0969 - accuracy: 0.1683\n",
            "Epoch 11: val_accuracy did not improve from 0.08482\n",
            "17/17 [==============================] - 61s 4s/step - loss: 3.0969 - accuracy: 0.1683 - val_loss: 3.9181 - val_accuracy: 0.0670\n",
            "Epoch 12/25\n",
            "17/17 [==============================] - ETA: 0s - loss: 3.0310 - accuracy: 0.1906\n",
            "Epoch 12: val_accuracy did not improve from 0.08482\n",
            "17/17 [==============================] - 60s 4s/step - loss: 3.0310 - accuracy: 0.1906 - val_loss: 3.6904 - val_accuracy: 0.0848\n",
            "Epoch 13/25\n",
            "17/17 [==============================] - ETA: 0s - loss: 2.8697 - accuracy: 0.2100\n",
            "Epoch 13: val_accuracy did not improve from 0.08482\n",
            "17/17 [==============================] - 61s 4s/step - loss: 2.8697 - accuracy: 0.2100 - val_loss: 4.1847 - val_accuracy: 0.0804\n",
            "Epoch 14/25\n",
            "17/17 [==============================] - ETA: 0s - loss: 2.8975 - accuracy: 0.1891\n",
            "Epoch 14: val_accuracy improved from 0.08482 to 0.10714, saving model to /content/drive/MyDrive/Thesis/model/alexnet/alex_best_weights.hdf5\n",
            "17/17 [==============================] - 65s 4s/step - loss: 2.8975 - accuracy: 0.1891 - val_loss: 4.0431 - val_accuracy: 0.1071\n",
            "Epoch 15/25\n",
            "17/17 [==============================] - ETA: 0s - loss: 2.7148 - accuracy: 0.2413\n",
            "Epoch 15: val_accuracy did not improve from 0.10714\n",
            "17/17 [==============================] - 60s 4s/step - loss: 2.7148 - accuracy: 0.2413 - val_loss: 5.1027 - val_accuracy: 0.0714\n",
            "Epoch 16/25\n",
            "17/17 [==============================] - ETA: 0s - loss: 2.6319 - accuracy: 0.2338\n",
            "Epoch 16: val_accuracy improved from 0.10714 to 0.11607, saving model to /content/drive/MyDrive/Thesis/model/alexnet/alex_best_weights.hdf5\n",
            "17/17 [==============================] - 62s 4s/step - loss: 2.6319 - accuracy: 0.2338 - val_loss: 4.3482 - val_accuracy: 0.1161\n",
            "Epoch 17/25\n",
            "17/17 [==============================] - ETA: 0s - loss: 2.5115 - accuracy: 0.2800\n",
            "Epoch 17: val_accuracy did not improve from 0.11607\n",
            "17/17 [==============================] - 61s 4s/step - loss: 2.5115 - accuracy: 0.2800 - val_loss: 4.3901 - val_accuracy: 0.0982\n",
            "Epoch 18/25\n",
            "17/17 [==============================] - ETA: 0s - loss: 2.4501 - accuracy: 0.2926\n",
            "Epoch 18: val_accuracy improved from 0.11607 to 0.16964, saving model to /content/drive/MyDrive/Thesis/model/alexnet/alex_best_weights.hdf5\n",
            "17/17 [==============================] - 62s 4s/step - loss: 2.4501 - accuracy: 0.2926 - val_loss: 3.4116 - val_accuracy: 0.1696\n",
            "Epoch 19/25\n",
            "17/17 [==============================] - ETA: 0s - loss: 2.3604 - accuracy: 0.3053\n",
            "Epoch 19: val_accuracy improved from 0.16964 to 0.19196, saving model to /content/drive/MyDrive/Thesis/model/alexnet/alex_best_weights.hdf5\n",
            "17/17 [==============================] - 65s 4s/step - loss: 2.3604 - accuracy: 0.3053 - val_loss: 3.3812 - val_accuracy: 0.1920\n",
            "Epoch 20/25\n",
            "17/17 [==============================] - ETA: 0s - loss: 2.2285 - accuracy: 0.3328\n",
            "Epoch 20: val_accuracy did not improve from 0.19196\n",
            "17/17 [==============================] - 61s 4s/step - loss: 2.2285 - accuracy: 0.3328 - val_loss: 3.3551 - val_accuracy: 0.1875\n",
            "Epoch 21/25\n",
            "17/17 [==============================] - ETA: 0s - loss: 2.1830 - accuracy: 0.3328\n",
            "Epoch 21: val_accuracy did not improve from 0.19196\n",
            "17/17 [==============================] - 61s 4s/step - loss: 2.1830 - accuracy: 0.3328 - val_loss: 3.5530 - val_accuracy: 0.1830\n",
            "Epoch 22/25\n",
            "17/17 [==============================] - ETA: 0s - loss: 2.1423 - accuracy: 0.3559\n",
            "Epoch 22: val_accuracy improved from 0.19196 to 0.20089, saving model to /content/drive/MyDrive/Thesis/model/alexnet/alex_best_weights.hdf5\n",
            "17/17 [==============================] - 62s 4s/step - loss: 2.1423 - accuracy: 0.3559 - val_loss: 3.6196 - val_accuracy: 0.2009\n",
            "Epoch 23/25\n",
            "17/17 [==============================] - ETA: 0s - loss: 2.0376 - accuracy: 0.3790\n",
            "Epoch 23: val_accuracy improved from 0.20089 to 0.23214, saving model to /content/drive/MyDrive/Thesis/model/alexnet/alex_best_weights.hdf5\n",
            "17/17 [==============================] - 63s 4s/step - loss: 2.0376 - accuracy: 0.3790 - val_loss: 3.3427 - val_accuracy: 0.2321\n",
            "Epoch 24/25\n",
            "17/17 [==============================] - ETA: 0s - loss: 1.9594 - accuracy: 0.3894\n",
            "Epoch 24: val_accuracy did not improve from 0.23214\n",
            "17/17 [==============================] - 61s 4s/step - loss: 1.9594 - accuracy: 0.3894 - val_loss: 3.4831 - val_accuracy: 0.2009\n",
            "Epoch 25/25\n",
            "17/17 [==============================] - ETA: 0s - loss: 1.8457 - accuracy: 0.4192\n",
            "Epoch 25: val_accuracy improved from 0.23214 to 0.25446, saving model to /content/drive/MyDrive/Thesis/model/alexnet/alex_best_weights.hdf5\n",
            "17/17 [==============================] - 65s 4s/step - loss: 1.8457 - accuracy: 0.4192 - val_loss: 3.6387 - val_accuracy: 0.2545\n"
          ]
        }
      ]
    },
    {
      "metadata": {
        "_uuid": "db1d7eecfff95a4ad80d96dee3ef45d4360486c9",
        "id": "bw9a7OaOGaWo"
      },
      "cell_type": "markdown",
      "source": [
        "**Visualising Training Progress**"
      ]
    },
    {
      "metadata": {
        "trusted": true,
        "_uuid": "9d4090ff76d659e769c6e9d5bde191b09302b098",
        "id": "Qo9lNdbAGaWo",
        "colab": {
          "base_uri": "https://localhost:8080/",
          "height": 585
        },
        "outputId": "d0213d71-1170-4280-b8b5-906603900d80"
      },
      "cell_type": "code",
      "source": [
        "#plotting training values\n",
        "import matplotlib.pyplot as plt\n",
        "import seaborn as sns\n",
        "sns.set()\n",
        "\n",
        "acc = history.history['accuracy']\n",
        "val_acc = history.history['val_accuracy']\n",
        "loss = history.history['loss']\n",
        "val_loss = history.history['val_loss']\n",
        "epochs = range(1, len(loss) + 1)\n",
        "\n",
        "#accuracy plot\n",
        "plt.plot(epochs, acc, color='green', label='Training Accuracy')\n",
        "plt.plot(epochs, val_acc, color='blue', label='Validation Accuracy')\n",
        "plt.title('Training and Validation Accuracy for Alexnet')\n",
        "plt.ylabel('Accuracy')\n",
        "plt.xlabel('Epoch')\n",
        "plt.legend()\n",
        "\n",
        "plt.figure()\n",
        "#loss plot\n",
        "plt.plot(epochs, loss, color='pink', label='Training Loss')\n",
        "plt.plot(epochs, val_loss, color='red', label='Validation Loss')\n",
        "plt.title('Training and Validation Loss for Alexnet')\n",
        "plt.xlabel('Epoch')\n",
        "plt.ylabel('Loss')\n",
        "plt.legend()\n",
        "\n",
        "plt.show()"
      ],
      "execution_count": null,
      "outputs": [
        {
          "output_type": "display_data",
          "data": {
            "text/plain": [
              "<Figure size 432x288 with 1 Axes>"
            ],
            "image/png": "[encoded data removed]"
          },
          "metadata": {}
        },
        {
          "output_type": "display_data",
          "data": {
            "text/plain": [
              "<Figure size 432x288 with 1 Axes>"
            ],
            "image/png": "[encoded data removed]"
          },
          "metadata": {}
        }
      ]
    },
    {
      "cell_type": "code",
      "source": [
        "from tensorflow.keras.models import load_model"
      ],
      "metadata": {
        "id": "c7EA9UEwbI_x"
      },
      "execution_count": null,
      "outputs": []
    },
    {
      "cell_type": "code",
      "source": [
        "model=load_model(\"/content/drive/MyDrive/Thesis/model/alexnet/AlexNetModel.h5\")"
      ],
      "metadata": {
        "id": "ohEbpViZUgZS"
      },
      "execution_count": null,
      "outputs": []
    },
    {
      "cell_type": "code",
      "source": [
        "from sklearn.metrics import classification_report,confusion_matrix"
      ],
      "metadata": {
        "id": "P2-mfE7DVM8O"
      },
      "execution_count": null,
      "outputs": []
    },
    {
      "cell_type": "code",
      "source": [
        "import numpy as np"
      ],
      "metadata": {
        "id": "WGGNfaox9Xtn"
      },
      "execution_count": null,
      "outputs": []
    },
    {
      "cell_type": "code",
      "source": [
        "len(ground)"
      ],
      "metadata": {
        "colab": {
          "base_uri": "https://localhost:8080/"
        },
        "id": "U45658YPbcJM",
        "outputId": "a51cf42b-13a1-46ac-c998-a426d67d5b4c"
      },
      "execution_count": null,
      "outputs": [
        {
          "output_type": "execute_result",
          "data": {
            "text/plain": [
              "60"
            ]
          },
          "metadata": {},
          "execution_count": 201
        }
      ]
    },
    {
      "cell_type": "code",
      "source": [
        "ypred = model.predict(images)\n",
        "pred=np.argmax(ypred, axis=1)\n",
        "ground = np.argmax(labels,axis=1)\n",
        "print(classification_report(ground,pred))"
      ],
      "metadata": {
        "colab": {
          "base_uri": "https://localhost:8080/"
        },
        "id": "1cZcldgPVOg3",
        "outputId": "5efdd82c-4255-488e-fbb7-77b17c03b395"
      },
      "execution_count": null,
      "outputs": [
        {
          "output_type": "stream",
          "name": "stdout",
          "text": [
            "2/2 [==============================] - 0s 15ms/step\n",
            "              precision    recall  f1-score   support\n",
            "\n",
            "           0       0.00      0.00      0.00         2\n",
            "           1       1.00      0.50      0.67         2\n",
            "           2       0.00      0.00      0.00         1\n",
            "           4       0.00      0.00      0.00         1\n",
            "           6       1.00      1.00      1.00         1\n",
            "           7       0.00      0.00      0.00         1\n",
            "           8       0.00      0.00      0.00         0\n",
            "           9       0.67      0.67      0.67         3\n",
            "          10       1.00      1.00      1.00         1\n",
            "          11       0.00      0.00      0.00         3\n",
            "          12       1.00      0.33      0.50         3\n",
            "          13       0.00      0.00      0.00         2\n",
            "          14       0.00      0.00      0.00         2\n",
            "          15       0.50      0.25      0.33         4\n",
            "          16       0.00      0.00      0.00         1\n",
            "          17       0.00      0.00      0.00         0\n",
            "          18       0.00      0.00      0.00         0\n",
            "          19       0.00      0.00      0.00         2\n",
            "          20       0.50      0.25      0.33         4\n",
            "          21       0.20      1.00      0.33         1\n",
            "          22       1.00      0.33      0.50         3\n",
            "          23       0.00      0.00      0.00         1\n",
            "          24       0.00      0.00      0.00         1\n",
            "          25       0.00      0.00      0.00         1\n",
            "          26       0.00      0.00      0.00         1\n",
            "          27       0.33      0.33      0.33         3\n",
            "          28       0.00      0.00      0.00         2\n",
            "          29       0.33      1.00      0.50         1\n",
            "          30       0.00      0.00      0.00         1\n",
            "          31       0.00      0.00      0.00         1\n",
            "          32       1.00      0.50      0.67         2\n",
            "          33       0.25      1.00      0.40         1\n",
            "          34       0.00      0.00      0.00         2\n",
            "          35       0.00      0.00      0.00         3\n",
            "          37       0.50      0.50      0.50         2\n",
            "          38       0.00      0.00      0.00         1\n",
            "\n",
            "    accuracy                           0.25        60\n",
            "   macro avg       0.26      0.24      0.21        60\n",
            "weighted avg       0.35      0.25      0.26        60\n",
            "\n"
          ]
        },
        {
          "output_type": "stream",
          "name": "stderr",
          "text": [
            "/usr/local/lib/python3.8/dist-packages/sklearn/metrics/_classification.py:1318: UndefinedMetricWarning: Precision and F-score are ill-defined and being set to 0.0 in labels with no predicted samples. Use `zero_division` parameter to control this behavior.\n",
            "  _warn_prf(average, modifier, msg_start, len(result))\n",
            "/usr/local/lib/python3.8/dist-packages/sklearn/metrics/_classification.py:1318: UndefinedMetricWarning: Recall and F-score are ill-defined and being set to 0.0 in labels with no true samples. Use `zero_division` parameter to control this behavior.\n",
            "  _warn_prf(average, modifier, msg_start, len(result))\n",
            "/usr/local/lib/python3.8/dist-packages/sklearn/metrics/_classification.py:1318: UndefinedMetricWarning: Precision and F-score are ill-defined and being set to 0.0 in labels with no predicted samples. Use `zero_division` parameter to control this behavior.\n",
            "  _warn_prf(average, modifier, msg_start, len(result))\n",
            "/usr/local/lib/python3.8/dist-packages/sklearn/metrics/_classification.py:1318: UndefinedMetricWarning: Recall and F-score are ill-defined and being set to 0.0 in labels with no true samples. Use `zero_division` parameter to control this behavior.\n",
            "  _warn_prf(average, modifier, msg_start, len(result))\n",
            "/usr/local/lib/python3.8/dist-packages/sklearn/metrics/_classification.py:1318: UndefinedMetricWarning: Precision and F-score are ill-defined and being set to 0.0 in labels with no predicted samples. Use `zero_division` parameter to control this behavior.\n",
            "  _warn_prf(average, modifier, msg_start, len(result))\n",
            "/usr/local/lib/python3.8/dist-packages/sklearn/metrics/_classification.py:1318: UndefinedMetricWarning: Recall and F-score are ill-defined and being set to 0.0 in labels with no true samples. Use `zero_division` parameter to control this behavior.\n",
            "  _warn_prf(average, modifier, msg_start, len(result))\n"
          ]
        }
      ]
    },
    {
      "cell_type": "code",
      "source": [
        "cr=classification_report(ground,pred, output_dict=True)\n",
        "a_cr = pd.DataFrame(cr).transpose()"
      ],
      "metadata": {
        "colab": {
          "base_uri": "https://localhost:8080/"
        },
        "id": "UdCCgw6oOnKd",
        "outputId": "baac85de-05fd-4cb6-98d1-a7d06d1e9974"
      },
      "execution_count": null,
      "outputs": [
        {
          "output_type": "stream",
          "name": "stderr",
          "text": [
            "/usr/local/lib/python3.8/dist-packages/sklearn/metrics/_classification.py:1318: UndefinedMetricWarning: Precision and F-score are ill-defined and being set to 0.0 in labels with no predicted samples. Use `zero_division` parameter to control this behavior.\n",
            "  _warn_prf(average, modifier, msg_start, len(result))\n",
            "/usr/local/lib/python3.8/dist-packages/sklearn/metrics/_classification.py:1318: UndefinedMetricWarning: Recall and F-score are ill-defined and being set to 0.0 in labels with no true samples. Use `zero_division` parameter to control this behavior.\n",
            "  _warn_prf(average, modifier, msg_start, len(result))\n",
            "/usr/local/lib/python3.8/dist-packages/sklearn/metrics/_classification.py:1318: UndefinedMetricWarning: Precision and F-score are ill-defined and being set to 0.0 in labels with no predicted samples. Use `zero_division` parameter to control this behavior.\n",
            "  _warn_prf(average, modifier, msg_start, len(result))\n",
            "/usr/local/lib/python3.8/dist-packages/sklearn/metrics/_classification.py:1318: UndefinedMetricWarning: Recall and F-score are ill-defined and being set to 0.0 in labels with no true samples. Use `zero_division` parameter to control this behavior.\n",
            "  _warn_prf(average, modifier, msg_start, len(result))\n",
            "/usr/local/lib/python3.8/dist-packages/sklearn/metrics/_classification.py:1318: UndefinedMetricWarning: Precision and F-score are ill-defined and being set to 0.0 in labels with no predicted samples. Use `zero_division` parameter to control this behavior.\n",
            "  _warn_prf(average, modifier, msg_start, len(result))\n",
            "/usr/local/lib/python3.8/dist-packages/sklearn/metrics/_classification.py:1318: UndefinedMetricWarning: Recall and F-score are ill-defined and being set to 0.0 in labels with no true samples. Use `zero_division` parameter to control this behavior.\n",
            "  _warn_prf(average, modifier, msg_start, len(result))\n"
          ]
        }
      ]
    },
    {
      "cell_type": "code",
      "source": [
        "a_rep=a_cr.iloc[36:39,:]\n",
        "a_rep"
      ],
      "metadata": {
        "colab": {
          "base_uri": "https://localhost:8080/",
          "height": 49
        },
        "outputId": "b3abeb8d-4796-4ead-f5cd-4613939c78d3",
        "id": "mvDnzvoxOnKd"
      },
      "execution_count": null,
      "outputs": [
        {
          "output_type": "execute_result",
          "data": {
            "text/plain": [
              "Empty DataFrame\n",
              "Columns: [precision, recall, f1-score, support, class]\n",
              "Index: []"
            ],
            "text/html": [
              "\n",
              "  <div id=\"df-96fe4932-cb4b-4b16-9e72-2787f3adcbc4\">\n",
              "    <div class=\"colab-df-container\">\n",
              "      <div>\n",
              "<style scoped>\n",
              "    .dataframe tbody tr th:only-of-type {\n",
              "        vertical-align: middle;\n",
              "    }\n",
              "\n",
              "    .dataframe tbody tr th {\n",
              "        vertical-align: top;\n",
              "    }\n",
              "\n",
              "    .dataframe thead th {\n",
              "        text-align: right;\n",
              "    }\n",
              "</style>\n",
              "<table border=\"1\" class=\"dataframe\">\n",
              "  <thead>\n",
              "    <tr style=\"text-align: right;\">\n",
              "      <th></th>\n",
              "      <th>precision</th>\n",
              "      <th>recall</th>\n",
              "      <th>f1-score</th>\n",
              "      <th>support</th>\n",
              "      <th>class</th>\n",
              "    </tr>\n",
              "  </thead>\n",
              "  <tbody>\n",
              "  </tbody>\n",
              "</table>\n",
              "</div>\n",
              "      <button class=\"colab-df-convert\" onclick=\"convertToInteractive('df-96fe4932-cb4b-4b16-9e72-2787f3adcbc4')\"\n",
              "              title=\"Convert this dataframe to an interactive table.\"\n",
              "              style=\"display:none;\">\n",
              "        \n",
              "  <svg xmlns=\"http://www.w3.org/2000/svg\" height=\"24px\"viewBox=\"0 0 24 24\"\n",
              "       width=\"24px\">\n",
              "    <path d=\"M0 0h24v24H0V0z\" fill=\"none\"/>\n",
              "    <path d=\"M18.56 5.44l.94 2.06.94-2.06 2.06-.94-2.06-.94-.94-2.06-.94 2.06-2.06.94zm-11 1L8.5 8.5l.94-2.06 2.06-.94-2.06-.94L8.5 2.5l-.94 2.06-2.06.94zm10 10l.94 2.06.94-2.06 2.06-.94-2.06-.94-.94-2.06-.94 2.06-2.06.94z\"/><path d=\"M17.41 7.96l-1.37-1.37c-.4-.4-.92-.59-1.43-.59-.52 0-1.04.2-1.43.59L10.3 9.45l-7.72 7.72c-.78.78-.78 2.05 0 2.83L4 21.41c.39.39.9.59 1.41.59.51 0 1.02-.2 1.41-.59l7.78-7.78 2.81-2.81c.8-.78.8-2.07 0-2.86zM5.41 20L4 18.59l7.72-7.72 1.47 1.35L5.41 20z\"/>\n",
              "  </svg>\n",
              "      </button>\n",
              "      \n",
              "  <style>\n",
              "    .colab-df-container {\n",
              "      display:flex;\n",
              "      flex-wrap:wrap;\n",
              "      gap: 12px;\n",
              "    }\n",
              "\n",
              "    .colab-df-convert {\n",
              "      background-color: #E8F0FE;\n",
              "      border: none;\n",
              "      border-radius: 50%;\n",
              "      cursor: pointer;\n",
              "      display: none;\n",
              "      fill: #1967D2;\n",
              "      height: 32px;\n",
              "      padding: 0 0 0 0;\n",
              "      width: 32px;\n",
              "    }\n",
              "\n",
              "    .colab-df-convert:hover {\n",
              "      background-color: #E2EBFA;\n",
              "      box-shadow: 0px 1px 2px rgba(60, 64, 67, 0.3), 0px 1px 3px 1px rgba(60, 64, 67, 0.15);\n",
              "      fill: #174EA6;\n",
              "    }\n",
              "\n",
              "    [theme=dark] .colab-df-convert {\n",
              "      background-color: #3B4455;\n",
              "      fill: #D2E3FC;\n",
              "    }\n",
              "\n",
              "    [theme=dark] .colab-df-convert:hover {\n",
              "      background-color: #434B5C;\n",
              "      box-shadow: 0px 1px 3px 1px rgba(0, 0, 0, 0.15);\n",
              "      filter: drop-shadow(0px 1px 2px rgba(0, 0, 0, 0.3));\n",
              "      fill: #FFFFFF;\n",
              "    }\n",
              "  </style>\n",
              "\n",
              "      <script>\n",
              "        const buttonEl =\n",
              "          document.querySelector('#df-96fe4932-cb4b-4b16-9e72-2787f3adcbc4 button.colab-df-convert');\n",
              "        buttonEl.style.display =\n",
              "          google.colab.kernel.accessAllowed ? 'block' : 'none';\n",
              "\n",
              "        async function convertToInteractive(key) {\n",
              "          const element = document.querySelector('#df-96fe4932-cb4b-4b16-9e72-2787f3adcbc4');\n",
              "          const dataTable =\n",
              "            await google.colab.kernel.invokeFunction('convertToInteractive',\n",
              "                                                     [key], {});\n",
              "          if (!dataTable) return;\n",
              "\n",
              "          const docLinkHtml = 'Like what you see? Visit the ' +\n",
              "            '<a target=\"_blank\" href=https://colab.research.google.com/notebooks/data_table.ipynb>data table notebook</a>'\n",
              "            + ' to learn more about interactive tables.';\n",
              "          element.innerHTML = '';\n",
              "          dataTable['output_type'] = 'display_data';\n",
              "          await google.colab.output.renderOutput(dataTable, element);\n",
              "          const docLink = document.createElement('div');\n",
              "          docLink.innerHTML = docLinkHtml;\n",
              "          element.appendChild(docLink);\n",
              "        }\n",
              "      </script>\n",
              "    </div>\n",
              "  </div>\n",
              "  "
            ]
          },
          "metadata": {},
          "execution_count": 209
        }
      ]
    },
    {
      "cell_type": "code",
      "source": [
        "a_cr=a_cr.iloc[0:36,:]"
      ],
      "metadata": {
        "id": "DA5QTtw1OnKd"
      },
      "execution_count": null,
      "outputs": []
    },
    {
      "cell_type": "code",
      "source": [
        "a_cr['class']=li"
      ],
      "metadata": {
        "colab": {
          "base_uri": "https://localhost:8080/",
          "height": 311
        },
        "id": "xWPz3e5jOnKe",
        "outputId": "8cd4f148-bfe1-4b74-80b9-e21ae71f8dc7"
      },
      "execution_count": null,
      "outputs": [
        {
          "output_type": "error",
          "ename": "ValueError",
          "evalue": "ignored",
          "traceback": [
            "\u001b[0;31m---------------------------------------------------------------------------\u001b[0m",
            "\u001b[0;31mValueError\u001b[0m                                Traceback (most recent call last)",
            "\u001b[0;32m<ipython-input-210-a83f2034d5ce>\u001b[0m in \u001b[0;36m<module>\u001b[0;34m\u001b[0m\n\u001b[0;32m----> 1\u001b[0;31m \u001b[0ma_cr\u001b[0m\u001b[0;34m[\u001b[0m\u001b[0;34m'class'\u001b[0m\u001b[0;34m]\u001b[0m\u001b[0;34m=\u001b[0m\u001b[0mli\u001b[0m\u001b[0;34m\u001b[0m\u001b[0;34m\u001b[0m\u001b[0m\n\u001b[0m",
            "\u001b[0;32m/usr/local/lib/python3.8/dist-packages/pandas/core/frame.py\u001b[0m in \u001b[0;36m__setitem__\u001b[0;34m(self, key, value)\u001b[0m\n\u001b[1;32m   3610\u001b[0m         \u001b[0;32melse\u001b[0m\u001b[0;34m:\u001b[0m\u001b[0;34m\u001b[0m\u001b[0;34m\u001b[0m\u001b[0m\n\u001b[1;32m   3611\u001b[0m             \u001b[0;31m# set column\u001b[0m\u001b[0;34m\u001b[0m\u001b[0;34m\u001b[0m\u001b[0;34m\u001b[0m\u001b[0m\n\u001b[0;32m-> 3612\u001b[0;31m             \u001b[0mself\u001b[0m\u001b[0;34m.\u001b[0m\u001b[0m_set_item\u001b[0m\u001b[0;34m(\u001b[0m\u001b[0mkey\u001b[0m\u001b[0;34m,\u001b[0m \u001b[0mvalue\u001b[0m\u001b[0;34m)\u001b[0m\u001b[0;34m\u001b[0m\u001b[0;34m\u001b[0m\u001b[0m\n\u001b[0m\u001b[1;32m   3613\u001b[0m \u001b[0;34m\u001b[0m\u001b[0m\n\u001b[1;32m   3614\u001b[0m     \u001b[0;32mdef\u001b[0m \u001b[0m_setitem_slice\u001b[0m\u001b[0;34m(\u001b[0m\u001b[0mself\u001b[0m\u001b[0;34m,\u001b[0m \u001b[0mkey\u001b[0m\u001b[0;34m:\u001b[0m \u001b[0mslice\u001b[0m\u001b[0;34m,\u001b[0m \u001b[0mvalue\u001b[0m\u001b[0;34m)\u001b[0m\u001b[0;34m:\u001b[0m\u001b[0;34m\u001b[0m\u001b[0;34m\u001b[0m\u001b[0m\n",
            "\u001b[0;32m/usr/local/lib/python3.8/dist-packages/pandas/core/frame.py\u001b[0m in \u001b[0;36m_set_item\u001b[0;34m(self, key, value)\u001b[0m\n\u001b[1;32m   3782\u001b[0m         \u001b[0mensure\u001b[0m \u001b[0mhomogeneity\u001b[0m\u001b[0;34m.\u001b[0m\u001b[0;34m\u001b[0m\u001b[0;34m\u001b[0m\u001b[0m\n\u001b[1;32m   3783\u001b[0m         \"\"\"\n\u001b[0;32m-> 3784\u001b[0;31m         \u001b[0mvalue\u001b[0m \u001b[0;34m=\u001b[0m \u001b[0mself\u001b[0m\u001b[0;34m.\u001b[0m\u001b[0m_sanitize_column\u001b[0m\u001b[0;34m(\u001b[0m\u001b[0mvalue\u001b[0m\u001b[0;34m)\u001b[0m\u001b[0;34m\u001b[0m\u001b[0;34m\u001b[0m\u001b[0m\n\u001b[0m\u001b[1;32m   3785\u001b[0m \u001b[0;34m\u001b[0m\u001b[0m\n\u001b[1;32m   3786\u001b[0m         if (\n",
            "\u001b[0;32m/usr/local/lib/python3.8/dist-packages/pandas/core/frame.py\u001b[0m in \u001b[0;36m_sanitize_column\u001b[0;34m(self, value)\u001b[0m\n\u001b[1;32m   4507\u001b[0m \u001b[0;34m\u001b[0m\u001b[0m\n\u001b[1;32m   4508\u001b[0m         \u001b[0;32mif\u001b[0m \u001b[0mis_list_like\u001b[0m\u001b[0;34m(\u001b[0m\u001b[0mvalue\u001b[0m\u001b[0;34m)\u001b[0m\u001b[0;34m:\u001b[0m\u001b[0;34m\u001b[0m\u001b[0;34m\u001b[0m\u001b[0m\n\u001b[0;32m-> 4509\u001b[0;31m             \u001b[0mcom\u001b[0m\u001b[0;34m.\u001b[0m\u001b[0mrequire_length_match\u001b[0m\u001b[0;34m(\u001b[0m\u001b[0mvalue\u001b[0m\u001b[0;34m,\u001b[0m \u001b[0mself\u001b[0m\u001b[0;34m.\u001b[0m\u001b[0mindex\u001b[0m\u001b[0;34m)\u001b[0m\u001b[0;34m\u001b[0m\u001b[0;34m\u001b[0m\u001b[0m\n\u001b[0m\u001b[1;32m   4510\u001b[0m         \u001b[0;32mreturn\u001b[0m \u001b[0msanitize_array\u001b[0m\u001b[0;34m(\u001b[0m\u001b[0mvalue\u001b[0m\u001b[0;34m,\u001b[0m \u001b[0mself\u001b[0m\u001b[0;34m.\u001b[0m\u001b[0mindex\u001b[0m\u001b[0;34m,\u001b[0m \u001b[0mcopy\u001b[0m\u001b[0;34m=\u001b[0m\u001b[0;32mTrue\u001b[0m\u001b[0;34m,\u001b[0m \u001b[0mallow_2d\u001b[0m\u001b[0;34m=\u001b[0m\u001b[0;32mTrue\u001b[0m\u001b[0;34m)\u001b[0m\u001b[0;34m\u001b[0m\u001b[0;34m\u001b[0m\u001b[0m\n\u001b[1;32m   4511\u001b[0m \u001b[0;34m\u001b[0m\u001b[0m\n",
            "\u001b[0;32m/usr/local/lib/python3.8/dist-packages/pandas/core/common.py\u001b[0m in \u001b[0;36mrequire_length_match\u001b[0;34m(data, index)\u001b[0m\n\u001b[1;32m    529\u001b[0m     \"\"\"\n\u001b[1;32m    530\u001b[0m     \u001b[0;32mif\u001b[0m \u001b[0mlen\u001b[0m\u001b[0;34m(\u001b[0m\u001b[0mdata\u001b[0m\u001b[0;34m)\u001b[0m \u001b[0;34m!=\u001b[0m \u001b[0mlen\u001b[0m\u001b[0;34m(\u001b[0m\u001b[0mindex\u001b[0m\u001b[0;34m)\u001b[0m\u001b[0;34m:\u001b[0m\u001b[0;34m\u001b[0m\u001b[0;34m\u001b[0m\u001b[0m\n\u001b[0;32m--> 531\u001b[0;31m         raise ValueError(\n\u001b[0m\u001b[1;32m    532\u001b[0m             \u001b[0;34m\"Length of values \"\u001b[0m\u001b[0;34m\u001b[0m\u001b[0;34m\u001b[0m\u001b[0m\n\u001b[1;32m    533\u001b[0m             \u001b[0;34mf\"({len(data)}) \"\u001b[0m\u001b[0;34m\u001b[0m\u001b[0;34m\u001b[0m\u001b[0m\n",
            "\u001b[0;31mValueError\u001b[0m: Length of values (39) does not match length of index (36)"
          ]
        }
      ]
    },
    {
      "cell_type": "code",
      "source": [
        "print(a_cr)"
      ],
      "metadata": {
        "colab": {
          "base_uri": "https://localhost:8080/"
        },
        "outputId": "e3f6f191-e092-4c87-96ea-f12d8c906a07",
        "id": "TKHvbhJZOnKe"
      },
      "execution_count": null,
      "outputs": [
        {
          "output_type": "stream",
          "name": "stdout",
          "text": [
            "              precision    recall  f1-score  support     class\n",
            "0              0.000000  0.000000  0.000000     2.00    01. KA\n",
            "1              1.000000  0.500000  0.666667     2.00   02. KHA\n",
            "2              0.000000  0.000000  0.000000     1.00    03. GA\n",
            "4              0.000000  0.000000  0.000000     1.00   04. GHA\n",
            "6              1.000000  1.000000  1.000000     1.00   05. CHA\n",
            "7              0.000000  0.000000  0.000000     1.00  06. SCHA\n",
            "8              0.000000  0.000000  0.000000     0.00    07. JA\n",
            "9              0.666667  0.666667  0.666667     3.00   08. JHA\n",
            "10             1.000000  1.000000  1.000000     1.00    09. TA\n",
            "11             0.000000  0.000000  0.000000     3.00   10. THA\n",
            "12             1.000000  0.333333  0.500000     3.00    11. DA\n",
            "13             0.000000  0.000000  0.000000     2.00   12. DHA\n",
            "14             0.000000  0.000000  0.000000     2.00    13. TO\n",
            "15             0.500000  0.250000  0.333333     4.00   14. THO\n",
            "16             0.000000  0.000000  0.000000     1.00    15. DO\n",
            "17             0.000000  0.000000  0.000000     0.00   16. DHO\n",
            "18             0.000000  0.000000  0.000000     0.00    17. NA\n",
            "19             0.000000  0.000000  0.000000     2.00    18. PA\n",
            "20             0.500000  0.250000  0.333333     4.00   19. PHA\n",
            "21             0.200000  1.000000  0.333333     1.00    20. BA\n",
            "22             1.000000  0.333333  0.500000     3.00   21. BHA\n",
            "23             0.000000  0.000000  0.000000     1.00    22. MA\n",
            "24             0.000000  0.000000  0.000000     1.00    23. YA\n",
            "25             0.000000  0.000000  0.000000     1.00    24. RA\n",
            "26             0.000000  0.000000  0.000000     1.00    25. LA\n",
            "27             0.333333  0.333333  0.333333     3.00    26. SA\n",
            "28             0.000000  0.000000  0.000000     2.00    27. HA\n",
            "29             0.333333  1.000000  0.500000     1.00   28. RHA\n",
            "30             0.000000  0.000000  0.000000     1.00    29. UN\n",
            "31             0.000000  0.000000  0.000000     1.00    30. BI\n",
            "32             1.000000  0.500000  0.666667     2.00     @1. A\n",
            "33             0.250000  1.000000  0.400000     1.00    @2. AA\n",
            "34             0.000000  0.000000  0.000000     2.00     @3. E\n",
            "35             0.000000  0.000000  0.000000     3.00     @4. U\n",
            "37             0.500000  0.500000  0.500000     2.00     @5. Y\n",
            "38             0.000000  0.000000  0.000000     1.00     @6. O\n",
            "accuracy       0.250000  0.250000  0.250000     0.25     joint\n",
            "macro avg      0.257870  0.240741  0.214815    60.00     space\n",
            "weighted avg   0.346389  0.250000  0.259444    60.00      stop\n"
          ]
        }
      ]
    },
    {
      "cell_type": "code",
      "source": [
        "from sklearn.metrics import precision_recall_fscore_support\n",
        "res = []\n",
        "for l in range(39):\n",
        "    prec,recall,_,_ = precision_recall_fscore_support(np.array(ground)==l,\n",
        "                                                      np.array(pred)==l,\n",
        "                                                      pos_label=True,average=None)\n",
        "    res.append([li[l],recall[0],recall[1]])"
      ],
      "metadata": {
        "id": "Zg70QRnUOnKe"
      },
      "execution_count": null,
      "outputs": []
    },
    {
      "cell_type": "code",
      "source": [
        "specicifity=pd.DataFrame(res,columns = ['class','sensitivity','specificity'])"
      ],
      "metadata": {
        "id": "zJmgi-eHOnKe"
      },
      "execution_count": null,
      "outputs": []
    },
    {
      "cell_type": "code",
      "source": [
        "print(specicifity)"
      ],
      "metadata": {
        "id": "Wcfz1lBPOnKe"
      },
      "execution_count": null,
      "outputs": []
    },
    {
      "cell_type": "code",
      "source": [
        "a_matrix=pd.merge(specicifity, a_cr, on ='class')"
      ],
      "metadata": {
        "id": "YVtap-DdOnKe"
      },
      "execution_count": null,
      "outputs": []
    },
    {
      "cell_type": "code",
      "source": [
        "# result = pd.concat([specicifity,resnet_cr], axis=1,ignore_index=True )\n",
        "a_matrix"
      ],
      "metadata": {
        "id": "wZg0NIJ-OnKf"
      },
      "execution_count": null,
      "outputs": []
    },
    {
      "cell_type": "code",
      "source": [
        "a_matrix.to_csv('/content/drive/MyDrive/Thesis/model/alexnet/classification_report.csv')\n"
      ],
      "metadata": {
        "id": "Og4sMteqOnKf"
      },
      "execution_count": null,
      "outputs": []
    },
    {
      "cell_type": "code",
      "source": [
        "a_rep.to_csv('/content/drive/MyDrive/Thesis/model/alexnet/acc_report.csv')"
      ],
      "metadata": {
        "id": "XDYoOdILOnKf"
      },
      "execution_count": null,
      "outputs": []
    },
    {
      "metadata": {
        "_uuid": "41ce7e2c92640cab238862be76bc215c5276e1b0",
        "id": "dE9g5GdKGaWp"
      },
      "cell_type": "markdown",
      "source": [
        "**Predicting New Test Image(s)**"
      ]
    },
    {
      "metadata": {
        "trusted": true,
        "_uuid": "d7555c94c00798f04c7bbc0d2ddc4e50e20c7d16",
        "id": "2gMWzziWGaWp"
      },
      "cell_type": "code",
      "source": [
        "# predicting an image\n",
        "from keras.preprocessing import image\n",
        "import numpy as np\n",
        "image_path = \"../input/new-plant-diseases-dataset/test/test/TomatoEarlyBlight1.JPG\"\n",
        "new_img = image.load_img(image_path, target_size=(224, 224))\n",
        "img = image.img_to_array(new_img)\n",
        "img = np.expand_dims(img, axis=0)\n",
        "img = img/255\n",
        "\n",
        "print(\"Following is our prediction:\")\n",
        "prediction = classifier.predict(img)\n",
        "# decode the results into a list of tuples (class, description, probability)\n",
        "# (one such list for each sample in the batch)\n",
        "d = prediction.flatten()\n",
        "j = d.max()\n",
        "for index,item in enumerate(d):\n",
        "    if item == j:\n",
        "        class_name = li[index]\n",
        "\n",
        "##Another way\n",
        "# img_class = classifier.predict_classes(img)\n",
        "# img_prob = classifier.predict_proba(img)\n",
        "# print(img_class ,img_prob )\n",
        "\n",
        "\n",
        "#ploting image with predicted class name        \n",
        "plt.figure(figsize = (4,4))\n",
        "plt.imshow(new_img)\n",
        "plt.axis('off')\n",
        "plt.title(class_name)\n",
        "plt.show()"
      ],
      "execution_count": null,
      "outputs": []
    },
    {
      "cell_type": "markdown",
      "source": [
        "#Overall"
      ],
      "metadata": {
        "id": "S16HSYFUrlvw"
      }
    },
    {
      "cell_type": "code",
      "source": [
        "res = pd.read_csv('/content/drive/MyDrive/Thesis/model/resnet50/logs.csv')\n",
        "v6= pd.read_csv('/content/drive/MyDrive/Thesis/model/vgg16/v16_logs.csv')\n",
        "v9=pd.read_csv('/content/drive/MyDrive/Thesis/model/vgg19/v19_logs.csv')"
      ],
      "metadata": {
        "id": "Yq2gWlmtrlX7"
      },
      "execution_count": null,
      "outputs": []
    },
    {
      "cell_type": "code",
      "source": [
        "res = res.iloc[:20,:]"
      ],
      "metadata": {
        "id": "WGxtQDzrwnM8"
      },
      "execution_count": null,
      "outputs": []
    },
    {
      "cell_type": "code",
      "source": [
        "import matplotlib.pyplot as plt\n",
        "import seaborn as sns\n",
        "sns.set()\n",
        "\n",
        "acc = res['accuracy']\n",
        "# val_acc = history.history['val_accuracy']\n",
        "# loss = history.history['loss']\n",
        "# val_loss = history.history['val_loss']\n",
        "epochs = range(1, len(res['loss']) + 1)\n",
        "\n",
        "#accuracy plot\n",
        "plt.plot(epochs, acc, color='green', label='Resnet')\n",
        "plt.plot(epochs, v6['accuracy'], color='red', label='VGG16')\n",
        "plt.plot(epochs, v9['accuracy'], color='blue', label='VGG19')\n",
        "# plt.plot(epochs, val_acc, color='blue', label='Validation Accuracy')\n",
        "plt.title('Training Accuracy Comparision')\n",
        "plt.ylabel('Accuracy')\n",
        "plt.xlabel('Epoch')\n",
        "plt.legend()\n",
        "\n",
        "# plt.figure()\n",
        "# #loss plot\n",
        "# plt.plot(epochs, loss, color='pink', label='Training Loss')\n",
        "# plt.plot(epochs, val_loss, color='red', label='Validation Loss')\n",
        "# plt.title('Training and Validation Loss for Alexnet')\n",
        "# plt.xlabel('Epoch')\n",
        "# plt.ylabel('Loss')\n",
        "# plt.legend()\n",
        "\n",
        "plt.show()"
      ],
      "metadata": {
        "colab": {
          "base_uri": "https://localhost:8080/",
          "height": 301
        },
        "id": "fXDvLih8uEn1",
        "outputId": "46c873fa-eea0-4fac-b672-2ffd152da851"
      },
      "execution_count": null,
      "outputs": [
        {
          "output_type": "display_data",
          "data": {
            "text/plain": [
              "<Figure size 432x288 with 1 Axes>"
            ],
            "image/png": "[encoded data removed]"
          },
          "metadata": {}
        }
      ]
    },
    {
      "cell_type": "code",
      "source": [
        "# acc = res['accuracy']\n",
        "# val_acc = history.history['val_accuracy']\n",
        "# loss = history.history['loss']\n",
        "# val_loss = history.history['val_loss']\n",
        "epochs = range(1, len(res['loss']) + 1)\n",
        "\n",
        "#accuracy plot\n",
        "plt.plot(epochs, res['val_accuracy'], color='green', label='Resnet')\n",
        "plt.plot(epochs, v6['val_accuracy'], color='red', label='VGG16')\n",
        "plt.plot(epochs, v9['val_accuracy'], color='blue', label='VGG19')\n",
        "# plt.plot(epochs, val_acc, color='blue', label='Validation Accuracy')\n",
        "plt.title('Validation Accuracy Comparision')\n",
        "plt.ylabel('Accuracy')\n",
        "plt.xlabel('Epoch')\n",
        "plt.legend()\n",
        "\n",
        "# plt.figure()\n",
        "# #loss plot\n",
        "# plt.plot(epochs, loss, color='pink', label='Training Loss')\n",
        "# plt.plot(epochs, val_loss, color='red', label='Validation Loss')\n",
        "# plt.title('Training and Validation Loss for Alexnet')\n",
        "# plt.xlabel('Epoch')\n",
        "# plt.ylabel('Loss')\n",
        "# plt.legend()\n",
        "\n",
        "plt.show()"
      ],
      "metadata": {
        "colab": {
          "base_uri": "https://localhost:8080/",
          "height": 301
        },
        "id": "ed8TU9vjxIUP",
        "outputId": "2843783f-1744-4119-bcc9-07af5fb8d664"
      },
      "execution_count": null,
      "outputs": [
        {
          "output_type": "display_data",
          "data": {
            "text/plain": [
              "<Figure size 432x288 with 1 Axes>"
            ],
            "image/png": "[encoded data removed]"
          },
          "metadata": {}
        }
      ]
    },
    {
      "cell_type": "code",
      "source": [
        "ra=pd.read_csv('/content/drive/MyDrive/Thesis/model/resnet50/acc_report.csv')\n",
        "v6a=pd.read_csv('/content/drive/MyDrive/Thesis/model/vgg16/acc_report.csv')\n",
        "v9a=pd.read_csv('/content/drive/MyDrive/Thesis/model/vgg19/acc_report.csv')"
      ],
      "metadata": {
        "id": "AbHEOiLMyS2g"
      },
      "execution_count": null,
      "outputs": []
    },
    {
      "cell_type": "code",
      "source": [
        "ra=ra.transpose()\n",
        "v6a=v6a\n",
        "v9a=v9a"
      ],
      "metadata": {
        "id": "KxRPRfzH0Fo-"
      },
      "execution_count": null,
      "outputs": []
    },
    {
      "cell_type": "code",
      "source": [
        "\n",
        "y=np.array([ra['f1-score'].iat[0],v6a['f1-score'].iat[0],v9a['f1-score'].iat[0]])\n",
        "x=np.array(['resnet','VGG16','VGG19'])\n",
        "\n",
        "plt.bar(x,y,color = \"green\")\n",
        "\n",
        "plt.title('Accuracy Comparision')\n",
        "plt.ylabel('Accuracy')\n",
        "plt.xlabel('Models')\n",
        "plt.legend()\n",
        "\n",
        "\n",
        "plt.show()"
      ],
      "metadata": {
        "colab": {
          "base_uri": "https://localhost:8080/",
          "height": 318
        },
        "id": "-3qgr2imyJIm",
        "outputId": "e89dcfd5-9630-4059-aa7a-cc2483da3929"
      },
      "execution_count": null,
      "outputs": [
        {
          "output_type": "stream",
          "name": "stderr",
          "text": [
            "WARNING:matplotlib.legend:No handles with labels found to put in legend.\n"
          ]
        },
        {
          "output_type": "display_data",
          "data": {
            "text/plain": [
              "<Figure size 432x288 with 1 Axes>"
            ],
            "image/png": "[encoded data removed]"
          },
          "metadata": {}
        }
      ]
    },
    {
      "cell_type": "code",
      "source": [
        "y = np.array([1343, 372, 224])\n",
        "labels = [\"Train Data\", \"Test Data\", \"Validation\"]\n",
        "plt.pie(y,labels=labels)\n",
        "plt.title('Data split')\n",
        "plt.show() "
      ],
      "metadata": {
        "colab": {
          "base_uri": "https://localhost:8080/",
          "height": 264
        },
        "id": "YpouFitdxWHh",
        "outputId": "c758ece3-0f7a-4cf1-c5f4-0386d165f173"
      },
      "execution_count": null,
      "outputs": [
        {
          "output_type": "display_data",
          "data": {
            "text/plain": [
              "<Figure size 432x288 with 1 Axes>"
            ],
            "image/png": "[encoded data removed]"
          },
          "metadata": {}
        }
      ]
    },
    {
      "cell_type": "code",
      "source": [
        "ra"
      ],
      "metadata": {
        "colab": {
          "base_uri": "https://localhost:8080/",
          "height": 143
        },
        "id": "SamYRQcbthYd",
        "outputId": "2a2bc60d-af02-4c9a-e8e1-75d880246ef6"
      },
      "execution_count": null,
      "outputs": [
        {
          "output_type": "execute_result",
          "data": {
            "text/plain": [
              "     Unnamed: 0  precision    recall  f1-score     support\n",
              "0      accuracy   0.147321  0.147321  0.147321    0.147321\n",
              "1     macro avg   0.178839  0.144119  0.120518  224.000000\n",
              "2  weighted avg   0.184569  0.147321  0.120974  224.000000"
            ],
            "text/html": [
              "\n",
              "  <div id=\"df-a6fc67bf-335f-463f-9297-392f3c506b0c\">\n",
              "    <div class=\"colab-df-container\">\n",
              "      <div>\n",
              "<style scoped>\n",
              "    .dataframe tbody tr th:only-of-type {\n",
              "        vertical-align: middle;\n",
              "    }\n",
              "\n",
              "    .dataframe tbody tr th {\n",
              "        vertical-align: top;\n",
              "    }\n",
              "\n",
              "    .dataframe thead th {\n",
              "        text-align: right;\n",
              "    }\n",
              "</style>\n",
              "<table border=\"1\" class=\"dataframe\">\n",
              "  <thead>\n",
              "    <tr style=\"text-align: right;\">\n",
              "      <th></th>\n",
              "      <th>Unnamed: 0</th>\n",
              "      <th>precision</th>\n",
              "      <th>recall</th>\n",
              "      <th>f1-score</th>\n",
              "      <th>support</th>\n",
              "    </tr>\n",
              "  </thead>\n",
              "  <tbody>\n",
              "    <tr>\n",
              "      <th>0</th>\n",
              "      <td>accuracy</td>\n",
              "      <td>0.147321</td>\n",
              "      <td>0.147321</td>\n",
              "      <td>0.147321</td>\n",
              "      <td>0.147321</td>\n",
              "    </tr>\n",
              "    <tr>\n",
              "      <th>1</th>\n",
              "      <td>macro avg</td>\n",
              "      <td>0.178839</td>\n",
              "      <td>0.144119</td>\n",
              "      <td>0.120518</td>\n",
              "      <td>224.000000</td>\n",
              "    </tr>\n",
              "    <tr>\n",
              "      <th>2</th>\n",
              "      <td>weighted avg</td>\n",
              "      <td>0.184569</td>\n",
              "      <td>0.147321</td>\n",
              "      <td>0.120974</td>\n",
              "      <td>224.000000</td>\n",
              "    </tr>\n",
              "  </tbody>\n",
              "</table>\n",
              "</div>\n",
              "      <button class=\"colab-df-convert\" onclick=\"convertToInteractive('df-a6fc67bf-335f-463f-9297-392f3c506b0c')\"\n",
              "              title=\"Convert this dataframe to an interactive table.\"\n",
              "              style=\"display:none;\">\n",
              "        \n",
              "  <svg xmlns=\"http://www.w3.org/2000/svg\" height=\"24px\"viewBox=\"0 0 24 24\"\n",
              "       width=\"24px\">\n",
              "    <path d=\"M0 0h24v24H0V0z\" fill=\"none\"/>\n",
              "    <path d=\"M18.56 5.44l.94 2.06.94-2.06 2.06-.94-2.06-.94-.94-2.06-.94 2.06-2.06.94zm-11 1L8.5 8.5l.94-2.06 2.06-.94-2.06-.94L8.5 2.5l-.94 2.06-2.06.94zm10 10l.94 2.06.94-2.06 2.06-.94-2.06-.94-.94-2.06-.94 2.06-2.06.94z\"/><path d=\"M17.41 7.96l-1.37-1.37c-.4-.4-.92-.59-1.43-.59-.52 0-1.04.2-1.43.59L10.3 9.45l-7.72 7.72c-.78.78-.78 2.05 0 2.83L4 21.41c.39.39.9.59 1.41.59.51 0 1.02-.2 1.41-.59l7.78-7.78 2.81-2.81c.8-.78.8-2.07 0-2.86zM5.41 20L4 18.59l7.72-7.72 1.47 1.35L5.41 20z\"/>\n",
              "  </svg>\n",
              "      </button>\n",
              "      \n",
              "  <style>\n",
              "    .colab-df-container {\n",
              "      display:flex;\n",
              "      flex-wrap:wrap;\n",
              "      gap: 12px;\n",
              "    }\n",
              "\n",
              "    .colab-df-convert {\n",
              "      background-color: #E8F0FE;\n",
              "      border: none;\n",
              "      border-radius: 50%;\n",
              "      cursor: pointer;\n",
              "      display: none;\n",
              "      fill: #1967D2;\n",
              "      height: 32px;\n",
              "      padding: 0 0 0 0;\n",
              "      width: 32px;\n",
              "    }\n",
              "\n",
              "    .colab-df-convert:hover {\n",
              "      background-color: #E2EBFA;\n",
              "      box-shadow: 0px 1px 2px rgba(60, 64, 67, 0.3), 0px 1px 3px 1px rgba(60, 64, 67, 0.15);\n",
              "      fill: #174EA6;\n",
              "    }\n",
              "\n",
              "    [theme=dark] .colab-df-convert {\n",
              "      background-color: #3B4455;\n",
              "      fill: #D2E3FC;\n",
              "    }\n",
              "\n",
              "    [theme=dark] .colab-df-convert:hover {\n",
              "      background-color: #434B5C;\n",
              "      box-shadow: 0px 1px 3px 1px rgba(0, 0, 0, 0.15);\n",
              "      filter: drop-shadow(0px 1px 2px rgba(0, 0, 0, 0.3));\n",
              "      fill: #FFFFFF;\n",
              "    }\n",
              "  </style>\n",
              "\n",
              "      <script>\n",
              "        const buttonEl =\n",
              "          document.querySelector('#df-a6fc67bf-335f-463f-9297-392f3c506b0c button.colab-df-convert');\n",
              "        buttonEl.style.display =\n",
              "          google.colab.kernel.accessAllowed ? 'block' : 'none';\n",
              "\n",
              "        async function convertToInteractive(key) {\n",
              "          const element = document.querySelector('#df-a6fc67bf-335f-463f-9297-392f3c506b0c');\n",
              "          const dataTable =\n",
              "            await google.colab.kernel.invokeFunction('convertToInteractive',\n",
              "                                                     [key], {});\n",
              "          if (!dataTable) return;\n",
              "\n",
              "          const docLinkHtml = 'Like what you see? Visit the ' +\n",
              "            '<a target=\"_blank\" href=https://colab.research.google.com/notebooks/data_table.ipynb>data table notebook</a>'\n",
              "            + ' to learn more about interactive tables.';\n",
              "          element.innerHTML = '';\n",
              "          dataTable['output_type'] = 'display_data';\n",
              "          await google.colab.output.renderOutput(dataTable, element);\n",
              "          const docLink = document.createElement('div');\n",
              "          docLink.innerHTML = docLinkHtml;\n",
              "          element.appendChild(docLink);\n",
              "        }\n",
              "      </script>\n",
              "    </div>\n",
              "  </div>\n",
              "  "
            ]
          },
          "metadata": {},
          "execution_count": 20
        }
      ]
    }
  ],
  "metadata": {
    "colab": {
      "provenance": [],
      "collapsed_sections": [
        "QrQMW6KeUW6T"
      ],
      "include_colab_link": true
    },
    "gpuClass": "standard",
    "kernelspec": {
      "display_name": "Python 3",
      "name": "python3"
    },
    "language_info": {
      "name": "python"
    },
    "accelerator": "GPU"
  },
  "nbformat": 4,
  "nbformat_minor": 0
}